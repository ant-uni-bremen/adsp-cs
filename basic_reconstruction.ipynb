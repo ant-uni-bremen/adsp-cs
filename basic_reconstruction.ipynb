{
 "cells": [
  {
   "cell_type": "markdown",
   "metadata": {
    "slideshow": {
     "slide_type": "-"
    }
   },
   "source": [
    "# Compressed Sensing Reconstruction\n",
    "## Introduction\n",
    "This notebook shows basic examples for compressed sensing reconstruction problems with different algorithms.\n",
    "\n",
    "## Basic reconstruction idea with norm relaxation\n",
    "\n",
    "Assum the basic $l_0$ minimzation problem from CS:\n",
    "\n",
    "$$\\min_{\\mathbf{x}\\in\\mathbb{R}}\\lVert \\mathbf{x} \\rVert_0\\quad\\mathrm{s.t.}\\quad \\lVert \\mathbf{y}-\\mathbf{A}\\mathbf{x}\\rVert_2< \\epsilon$$\n",
    "\n",
    "Then, we can relax the $l_0$ \"norm\" to another norm like the convex $l_1$ norm:\n",
    "\n",
    "$$\\min_{\\mathbf{x}\\in\\mathbb{R}}\\lVert \\mathbf{x} \\rVert_1\\quad\\mathrm{s.t.}\\quad \\lVert \\mathbf{y}-\\mathbf{A}\\mathbf{x}\\rVert_2 < \\epsilon$$\n",
    "\n",
    "In the noiseless case, the constraint simplifies to $\\mathbf{A}\\mathbf{x}=\\mathbf{y}$. Thus, the solution is at the intersection of the hyperplanes defined by the equation system and the scales unit sphere in the chosen norm. The following code illustrates this with a 2D example. Feasible $\\mathbf{x}$ that solve $\\mathbf{A}\\mathbf{x}=\\mathbf{y}$ are on the blue line. This line then touches the scaled unit sphere (green) of different norms at different points (red). Note, that it only leads to a sparse solution for the $l_1$ norm."
   ]
  },
  {
   "cell_type": "code",
   "execution_count": 1,
   "metadata": {
    "hide_input": false
   },
   "outputs": [],
   "source": [
    "%matplotlib widget\n",
    "import ipywidgets as widgets\n",
    "from ipywidgets import interact\n",
    "\n",
    "import matplotlib.pyplot as plt\n",
    "from matplotlib.patches import Circle, Rectangle\n",
    "\n",
    "import numpy.linalg as npl\n",
    "import numpy.random as npr\n",
    "import numpy as np\n",
    "\n",
    "from math import sqrt\n",
    "\n",
    "from pyprimal import CompressedSensing\n",
    "from pyprimal import Dantzig\n",
    "\n",
    "import fastmat as fm\n",
    "import fastmat.algorithms as fma\n",
    "\n",
    "import vampyre as vp\n",
    "\n",
    "def scale_plot_size(factor=1.5):\n",
    "    import matplotlib as mpl\n",
    "    default_dpi = mpl.rcParamsDefault['figure.dpi']\n",
    "    mpl.rcParams['figure.dpi'] = default_dpi*factor\n",
    "\n",
    "scale_plot_size(0.8)"
   ]
  },
  {
   "cell_type": "code",
   "execution_count": 2,
   "metadata": {
    "hide_input": false,
    "scrolled": false,
    "slideshow": {
     "slide_type": "-"
    }
   },
   "outputs": [
    {
     "data": {
      "application/vnd.jupyter.widget-view+json": {
       "model_id": "26f03f0084f84b0cb066607d3681754f",
       "version_major": 2,
       "version_minor": 0
      },
      "text/plain": [
       "Canvas(toolbar=Toolbar(toolitems=[('Home', 'Reset original view', 'home', 'home'), ('Back', 'Back to previous …"
      ]
     },
     "metadata": {},
     "output_type": "display_data"
    },
    {
     "data": {
      "application/vnd.jupyter.widget-view+json": {
       "model_id": "40386b41cd5545c087dc454ad48e60d6",
       "version_major": 2,
       "version_minor": 0
      },
      "text/plain": [
       "HBox(children=(Play(value=0, description='Press play', interval=50), IntSlider(value=0)))"
      ]
     },
     "metadata": {},
     "output_type": "display_data"
    }
   ],
   "source": [
    "fig0,axs0 = plt.subplots(1, 4, sharey=True)\n",
    "fig0.suptitle(\"Illustration of norm effects on the solution\")\n",
    "fig0.set_figwidth(12)\n",
    "fig0.set_figheight(3)\n",
    "#fig.set_tight_layout(True)\n",
    "fig0.canvas.toolbar_visible = False\n",
    "fig0.canvas.header_visible = False\n",
    "fig0.canvas.footer_visible = False\n",
    "fig0.canvas.resizable = False\n",
    "\n",
    "anno_list=[]\n",
    "lines_list=[]\n",
    "sp_space=[]\n",
    "\n",
    "title_list=('$l_0$ norm', '$l_1$ norm', '$l_2$ norm', '$l_\\infty$ norm')\n",
    "pnt_list=((0,0.5),(0,0.5),(1/5,2/5),(1/3,1/3))\n",
    "annos=('(0,0.5)','(0,0.5)','(1/5,2/5)','(1/3,1/3)')\n",
    "\n",
    "x1 = np.linspace(-1,1,10)\n",
    "\n",
    "sp_space.append(np.linspace(0.05,0.5,100))\n",
    "sp_space.append(np.linspace(0.05,0.5,100))\n",
    "sp_space.append(np.linspace(0.05,1/sqrt(5),100))\n",
    "sp_space.append(np.linspace(0.05,1/3,100))\n",
    "\n",
    "axs0[0].set_ylabel('$x_2$')\n",
    "zero_norm = axs0[0].plot([0,0],[0, 0],'g-',[0, 0],[0,0],'g-')\n",
    "\n",
    "for i in range(4):    \n",
    "    axs0[i].plot(x1,(1-x1)/2)\n",
    "    axs0[i].set_xlim((-1,1))\n",
    "    axs0[i].set_ylim((-1,1))\n",
    "    axs0[i].set_aspect('equal')\n",
    "    axs0[i].set_xlabel('$x_1$')\n",
    "    axs0[i].set_title(title_list[i])\n",
    "    axs0[i].grid(True)\n",
    "    \n",
    "    tx,ty=zip(pnt_list[i])\n",
    "    lines_list.append(axs0[i].plot(tx,ty,'rs'))\n",
    "    lines_list[i][0].set_marker(' ')\n",
    "\n",
    "    dp = tuple(map(sum, zip(pnt_list[i], (0.05,0.05))))\n",
    "    anno_list.append(axs0[i].annotate(annos[i],dp))\n",
    "    anno_list[i].set_visible(False)      \n",
    "\n",
    "def update_normfigure(change):\n",
    "    zero_norm[0].set_data([-sp_space[0][change.new], sp_space[0][change.new]],[0, 0])\n",
    "    zero_norm[1].set_data([0, 0],[-sp_space[0][change.new], sp_space[0][change.new]])\n",
    "    \n",
    "    blen=sqrt(sp_space[0][change.new]**2+sp_space[0][change.new]**2)\n",
    "    axs0[1].patches = []\n",
    "    axs0[1].add_patch(Rectangle((0,-sp_space[0][change.new]),blen,blen,45,color='g',alpha=0.1))\n",
    "    \n",
    "    axs0[2].patches = []\n",
    "    axs0[2].add_patch(Circle((0,0),sp_space[2][change.new],color='g',alpha=0.1))\n",
    "    \n",
    "    axs0[3].patches = []\n",
    "    axs0[3].add_patch(Rectangle((-sp_space[3][change.new],-sp_space[3][change.new]),2*sp_space[3][change.new],2*sp_space[3][change.new],0,color='g',alpha=0.1))   \n",
    "    \n",
    "    if change.new > 95:                      \n",
    "        for i in range(4):\n",
    "            lines_list[i][0].set_marker('s')\n",
    "            anno_list[i].set_visible(True)\n",
    "    else:\n",
    "        for i in range(4):\n",
    "            lines_list[i][0].set_marker(' ')\n",
    "            anno_list[i].set_visible(False)\n",
    "    \n",
    "fig0\n",
    "\n",
    "play = widgets.Play(\n",
    "    interval=50,\n",
    "    value=0,\n",
    "    min=0,\n",
    "    max=100,\n",
    "    step=1,\n",
    "    description=\"Press play\",\n",
    "    disabled=False\n",
    ")\n",
    "play.observe(update_normfigure, 'value')\n",
    "\n",
    "slider = widgets.IntSlider()\n",
    "widgets.jslink((play, 'value'), (slider, 'value'))\n",
    "widgets.HBox([play, slider])"
   ]
  },
  {
   "cell_type": "markdown",
   "metadata": {
    "hide_input": true
   },
   "source": [
    "## Reconstruction Example\n",
    "We now look at asimple example to showcase reconstruction algorithms. Here, we use a random Gaussian matrix of dimension $m\\times n$ to subsample and mix the sparse input $\\mathbf{x}$. The input is simply 5 non-zero elements set to 1 to make the illustration simple. You can change this easily to random numbers and play around with the parameters. To avoid hard to read plots, we only add a very small amount of noise $\\mathbf{n}$ to get the measurements $\\mathbf{y}."
   ]
  },
  {
   "cell_type": "code",
   "execution_count": 3,
   "metadata": {
    "hide_input": false
   },
   "outputs": [
    {
     "data": {
      "application/vnd.jupyter.widget-view+json": {
       "model_id": "d3b5c1c0e026459bb6d5114a54b95b21",
       "version_major": 2,
       "version_minor": 0
      },
      "text/plain": [
       "Canvas(toolbar=Toolbar(toolitems=[('Home', 'Reset original view', 'home', 'home'), ('Back', 'Back to previous …"
      ]
     },
     "metadata": {},
     "output_type": "display_data"
    },
    {
     "data": {
      "text/plain": [
       "Text(0.5, 1, '$\\\\mathbf{y}$')"
      ]
     },
     "execution_count": 3,
     "metadata": {},
     "output_type": "execute_result"
    }
   ],
   "source": [
    "# sample number\n",
    "m = 25 \n",
    "\n",
    "# sample dimension\n",
    "n = 100\n",
    "\n",
    "# sparsity\n",
    "K = 5\n",
    "\n",
    "# noise level\n",
    "snr = 30           # SNR in dB\n",
    "\n",
    "# define vector matrix shapes for consistency\n",
    "x_shape = (n,)   # Shape of x matrix\n",
    "y_shape = (m,)   # Shape of y matrix = shape of y matrix\n",
    "A_shape = (m,n)   # Shape of A matrix\n",
    "\n",
    "# create the ground truth\n",
    "x = np.zeros(n)\n",
    "\n",
    "# Change the commented lines if you want to have Gaussian non-zeros\n",
    "x[npr.choice(range(n), K, replace=0)] = 1 \n",
    "#x[npr.choice(range(n), K, replace=0)] = npr.randn(K)\n",
    "\n",
    "# Random subsampling matrix\n",
    "A = npr.normal(0,1/np.sqrt(m),A_shape)\n",
    "\n",
    "# Measurements without noise\n",
    "y0 = A.dot(x)\n",
    "\n",
    "## Generate Gaussian noise\n",
    "yvar = np.mean(np.abs(y0)**2)\n",
    "noise_var = yvar*np.power(10, -0.1*snr)\n",
    "noise = npr.normal(0,np.sqrt(noise_var), y_shape)\n",
    "\n",
    "# Add noise to measurements\n",
    "y = y0 + noise\n",
    "\n",
    "# Define fig1ure\n",
    "fig1, axs1 = plt.subplots(1,3)\n",
    "fig1.canvas.toolbar_visible = False\n",
    "fig1.canvas.header_visible = False\n",
    "fig1.canvas.footer_visible = False\n",
    "fig1.canvas.resizable = False\n",
    "fig1.set_figwidth(12)\n",
    "fig1.tight_layout()\n",
    "\n",
    "# Plot\n",
    "axs1[0].stem(x,use_line_collection=True)\n",
    "axs1[0].set_title('$\\mathbf{x}$')\n",
    "axs1[1].stem(np.dot(A,x),use_line_collection=True)\n",
    "axs1[1].set_title('$\\mathbf{A}\\mathbf{x}$')\n",
    "axs1[2].stem(y,use_line_collection=True)\n",
    "axs1[2].set_title('$\\mathbf{y}$')"
   ]
  },
  {
   "cell_type": "markdown",
   "metadata": {},
   "source": [
    "## Convex Relaxation\n",
    "First, we take a look at convex relaxation approaches with efficient solvers. The LASSO and Dantzig solvers are from the pacakge [Primal](https://github.com/ShenQianli/primal). The provided algorithms solve both problems for multiple $\\lambda$, which is illustrated in the following by an interactive figure. Just change the slider to see how the reconstruction result changes with the parameter.\n",
    "### BPDN / LASSO"
   ]
  },
  {
   "cell_type": "code",
   "execution_count": 4,
   "metadata": {
    "hide_input": false,
    "scrolled": false
   },
   "outputs": [
    {
     "data": {
      "application/vnd.jupyter.widget-view+json": {
       "model_id": "82901a15c3d14c74a6bef553653bb052",
       "version_major": 2,
       "version_minor": 0
      },
      "text/plain": [
       "Canvas(toolbar=Toolbar(toolitems=[('Home', 'Reset original view', 'home', 'home'), ('Back', 'Back to previous …"
      ]
     },
     "metadata": {},
     "output_type": "display_data"
    },
    {
     "data": {
      "application/vnd.jupyter.widget-view+json": {
       "model_id": "900cf4b30abe4f54b4d8d00aaa337b73",
       "version_major": 2,
       "version_minor": 0
      },
      "text/plain": [
       "interactive(children=(IntSlider(value=0, description='$\\\\lambda$-index', max=79), Output()), _dom_classes=('wi…"
      ]
     },
     "metadata": {},
     "output_type": "display_data"
    },
    {
     "data": {
      "text/plain": [
       "<function __main__.draw_result_bpdn(ind0)>"
      ]
     },
     "execution_count": 4,
     "metadata": {},
     "output_type": "execute_result"
    }
   ],
   "source": [
    "solver = CompressedSensing(A, y)\n",
    "solver.train()\n",
    "result = solver.coef()\n",
    "\n",
    "# Define figure\n",
    "fig2, axs2 = plt.subplots(1,2)\n",
    "fig2.canvas.toolbar_visible = False\n",
    "fig2.canvas.header_visible = False\n",
    "fig2.canvas.footer_visible = True\n",
    "fig2.canvas.resizable = False\n",
    "fig2.suptitle('Reconstruction with variable $\\lambda$')\n",
    "fig2.set_figwidth(12)\n",
    "\n",
    "# Plot\n",
    "axs2[0].stem(x,use_line_collection=True)\n",
    "for a in x.nonzero()[0]:\n",
    "    axs2[0].annotate(str(a),(a-1.5,1.012))\n",
    "axs2[1].set_title(\"$\\lambda=\" + str(result['lambda_list'][0]) + \"$\")\n",
    "\n",
    "def draw_result_bpdn(ind0):    \n",
    "    axs2[1].clear()\n",
    "    axs2[1].set_title(\"$\\lambda=\" + str(result['lambda_list'][ind0]) + \"$\")    \n",
    "    axs2[1].stem(result['theta_list'][ind0],use_line_collection=True)\n",
    "\n",
    "# Define function to interact with\n",
    "interact(draw_result_bpdn, ind0 = widgets.IntSlider(description='$\\lambda$-index',\n",
    "                                              value=0,\n",
    "                                              min=0,\n",
    "                                              max=len(result['theta_list'])-1,\n",
    "                                              step=1))"
   ]
  },
  {
   "cell_type": "markdown",
   "metadata": {
    "hide_input": true
   },
   "source": [
    "### Dantzig selector"
   ]
  },
  {
   "cell_type": "code",
   "execution_count": 5,
   "metadata": {
    "hide_input": false,
    "scrolled": false
   },
   "outputs": [
    {
     "data": {
      "application/vnd.jupyter.widget-view+json": {
       "model_id": "4a4d4747a76a4b6ebfb8eb4ac39cb748",
       "version_major": 2,
       "version_minor": 0
      },
      "text/plain": [
       "Canvas(toolbar=Toolbar(toolitems=[('Home', 'Reset original view', 'home', 'home'), ('Back', 'Back to previous …"
      ]
     },
     "metadata": {},
     "output_type": "display_data"
    },
    {
     "data": {
      "application/vnd.jupyter.widget-view+json": {
       "model_id": "31bb1b8f48a5409695492b67b91689e4",
       "version_major": 2,
       "version_minor": 0
      },
      "text/plain": [
       "interactive(children=(IntSlider(value=0, description='$\\\\lambda$-index', max=99), Output()), _dom_classes=('wi…"
      ]
     },
     "metadata": {},
     "output_type": "display_data"
    },
    {
     "data": {
      "text/plain": [
       "<function __main__.draw_result_dantzig(ind1)>"
      ]
     },
     "execution_count": 5,
     "metadata": {},
     "output_type": "execute_result"
    }
   ],
   "source": [
    "solver = Dantzig(A, y)\n",
    "solver.train()\n",
    "result = solver.coef()\n",
    "\n",
    "fig3, axs3 = plt.subplots(1,2)\n",
    "fig3.canvas.toolbar_visible = False\n",
    "fig3.canvas.header_visible = False\n",
    "fig3.canvas.footer_visible = True\n",
    "fig3.canvas.resizable = False\n",
    "fig3.suptitle('Reconstruction with variable $\\lambda$')\n",
    "fig3.set_figwidth(12)\n",
    "axs3[0].stem(x,use_line_collection=True)\n",
    "for a in x.nonzero()[0]:\n",
    "    axs3[0].annotate(str(a),(a-1.5,1.012))\n",
    "axs3[1].set_title(\"$\\lambda=\" + str(result['lambda_list'][0]) + \"$\")\n",
    "\n",
    "fig3\n",
    "\n",
    "def draw_result_dantzig(ind1):    \n",
    "    axs3[1].clear()\n",
    "    axs3[1].set_title(\"$\\lambda=\" + str(result['lambda_list'][ind1]) + \"$\")    \n",
    "    axs3[1].stem(result['theta_list'][ind1],use_line_collection=True)\n",
    "    \n",
    "interact(draw_result_dantzig, ind1 = widgets.IntSlider(description='$\\lambda$-index',\n",
    "                                              value=0,\n",
    "                                              min=0,\n",
    "                                              max=len(result['theta_list'])-1,\n",
    "                                              step=1))"
   ]
  },
  {
   "cell_type": "markdown",
   "metadata": {},
   "source": [
    "## Greedy Algorithms\n",
    "Again, we use the [fastmat](https://github.com/EMS-TU-Ilmenau/fastmat) package for OMP illustration. Now, the number of iterations determines the number of non-zeros entries in the solution directly. By changing the slider, you can vary the number of iterations / non-zeros and take a look at the reconstruction quality.\n",
    "### OMP"
   ]
  },
  {
   "cell_type": "code",
   "execution_count": 6,
   "metadata": {
    "hide_input": false,
    "scrolled": false
   },
   "outputs": [
    {
     "data": {
      "application/vnd.jupyter.widget-view+json": {
       "model_id": "1c89dca0faa44147b099a3ed23d404a9",
       "version_major": 2,
       "version_minor": 0
      },
      "text/plain": [
       "Canvas(toolbar=Toolbar(toolitems=[('Home', 'Reset original view', 'home', 'home'), ('Back', 'Back to previous …"
      ]
     },
     "metadata": {},
     "output_type": "display_data"
    },
    {
     "data": {
      "application/vnd.jupyter.widget-view+json": {
       "model_id": "399b7df392b443259be41b62d1091dbd",
       "version_major": 2,
       "version_minor": 0
      },
      "text/plain": [
       "interactive(children=(IntSlider(value=1, description='$K$', min=1), Output()), _dom_classes=('widget-interact'…"
      ]
     },
     "metadata": {},
     "output_type": "display_data"
    },
    {
     "data": {
      "text/plain": [
       "<function __main__.draw_result_omp(ind2)>"
      ]
     },
     "execution_count": 6,
     "metadata": {},
     "output_type": "execute_result"
    }
   ],
   "source": [
    "# reconstruct it\n",
    "A_fm=fm.Matrix(A)\n",
    "omp = fma.OMP(A_fm, numMaxSteps=1)\n",
    "x_tilde = omp.process(y)\n",
    "\n",
    "fig4, axs4 = plt.subplots(1,2)\n",
    "fig4.canvas.toolbar_visible = False\n",
    "fig4.canvas.header_visible = False\n",
    "fig4.canvas.footer_visible = True\n",
    "fig4.canvas.resizable = False\n",
    "fig4.suptitle('Reconstruction over different $\\\\alpha$')\n",
    "fig4.set_figwidth(12)\n",
    "axs4[0].stem(x,use_line_collection=True)\n",
    "for a in x.nonzero()[0]:\n",
    "    axs4[0].annotate(str(a),(a-1.5,1.012))\n",
    "axs4[1].set_title('$K='+str(K)+'$')\n",
    "\n",
    "fig4\n",
    "\n",
    "def draw_result_omp(ind2):    \n",
    "    axs4[1].clear()\n",
    "    axs4[1].set_title('$K=' + str(ind2) + '$')\n",
    "    omp = fma.OMP(A_fm, numMaxSteps=ind2)\n",
    "    x_tilde = omp.process(y)\n",
    "    axs4[1].stem(x_tilde,use_line_collection=True)\n",
    "        \n",
    "interact(draw_result_omp, ind2 = widgets.IntSlider(description='$K$',\n",
    "                                              value=1,\n",
    "                                              min=1,\n",
    "                                              max=n,\n",
    "                                              step=1))\n"
   ]
  },
  {
   "cell_type": "markdown",
   "metadata": {},
   "source": [
    "## Iterative Thresholding\n",
    "Next is the class of thresholding algorithms. Here, we use the package [fastmat](https://github.com/EMS-TU-Ilmenau/fastmat). The package also provides advanced Thresholding algorithms, but for the sake of illustration we just show the ISTA algorithm here. Comparable to the illustrations before, we now can play with the threshold of the soft thresholding function by moving the slider to observe the reconstructed vector.\n",
    "### Soft Thresholding (ISTA)"
   ]
  },
  {
   "cell_type": "code",
   "execution_count": 7,
   "metadata": {
    "hide_input": false
   },
   "outputs": [
    {
     "data": {
      "application/vnd.jupyter.widget-view+json": {
       "model_id": "efe502f3e5f043479384c06aa19dadf7",
       "version_major": 2,
       "version_minor": 0
      },
      "text/plain": [
       "Canvas(toolbar=Toolbar(toolitems=[('Home', 'Reset original view', 'home', 'home'), ('Back', 'Back to previous …"
      ]
     },
     "metadata": {},
     "output_type": "display_data"
    },
    {
     "data": {
      "application/vnd.jupyter.widget-view+json": {
       "model_id": "e09c27445d1e4e9ba7e9542a35410abb",
       "version_major": 2,
       "version_minor": 0
      },
      "text/plain": [
       "interactive(children=(FloatSlider(value=0.01, description='$\\\\alpha$', max=2.0, step=0.001), Output()), _dom_c…"
      ]
     },
     "metadata": {},
     "output_type": "display_data"
    },
    {
     "data": {
      "text/plain": [
       "<function __main__.draw_result_ista(ind3)>"
      ]
     },
     "execution_count": 7,
     "metadata": {},
     "output_type": "execute_result"
    }
   ],
   "source": [
    "A_fm=fm.Matrix(A)\n",
    "ista = fma.ISTA(A_fm, numLambda = 0.01, numMaxSteps = 1000)\n",
    "x_tilde = ista.process(y)\n",
    "\n",
    "fig5, axs5 = plt.subplots(1,2)\n",
    "fig5.canvas.toolbar_visible = False\n",
    "fig5.canvas.header_visible = False\n",
    "fig5.canvas.footer_visible = True\n",
    "fig5.canvas.resizable = False\n",
    "fig5.suptitle('Reconstruction over different $\\\\alpha$')\n",
    "fig5.set_figwidth(12)\n",
    "axs5[0].stem(x,use_line_collection=True)\n",
    "for a in x.nonzero()[0]:\n",
    "    axs5[0].annotate(str(a),(a-1.5,1.012))\n",
    "axs5[1].set_title('$\\\\alpha$')\n",
    "\n",
    "fig5\n",
    "\n",
    "def draw_result_ista(ind3):    \n",
    "    axs5[1].clear()\n",
    "    axs5[1].set_title('$\\\\alpha=' + str(ind3) + '$')\n",
    "    ista = fma.ISTA(A_fm, numLambda = ind3, numMaxSteps = 1000)\n",
    "    x_tilde = ista.process(y)\n",
    "    axs5[1].stem(x_tilde,use_line_collection=True)\n",
    "    \n",
    "interact(draw_result_ista, ind3 = widgets.FloatSlider(description='$\\\\alpha$',\n",
    "                                              value=0.01,\n",
    "                                              min=0,\n",
    "                                              max=2,\n",
    "                                              step=.001))\n",
    "\n"
   ]
  },
  {
   "cell_type": "markdown",
   "metadata": {
    "hide_input": true
   },
   "source": [
    "## Bayesian Approaches\n",
    "To show the AMP algorithm, we use the [Vampyre](https://github.com/GAMPTeam/vampyre) package that implements an advanced version of AMP called Generalized Approximate Message Passing (GAMP). For the purpose of this illustration, however, it is identical to AMP.\n",
    "\n",
    "To fit the probalistic model to the solver, we use a discrete prior with $P_0$ as $k/n$ to model the mean number of non-zero entries approximately.\n",
    "### Approximate Message Passing"
   ]
  },
  {
   "cell_type": "code",
   "execution_count": 8,
   "metadata": {
    "hide_input": false
   },
   "outputs": [
    {
     "name": "stdout",
     "output_type": "stream",
     "text": [
      "est0: Input (Mixture) shape: (100,)\n",
      "est1: Output (GaussEst) shape: (25,)\n"
     ]
    },
    {
     "data": {
      "application/vnd.jupyter.widget-view+json": {
       "model_id": "984e25cb75f44ed484fab20da1057cf1",
       "version_major": 2,
       "version_minor": 0
      },
      "text/plain": [
       "Canvas(toolbar=Toolbar(toolitems=[('Home', 'Reset original view', 'home', 'home'), ('Back', 'Back to previous …"
      ]
     },
     "metadata": {},
     "output_type": "display_data"
    },
    {
     "data": {
      "application/vnd.jupyter.widget-view+json": {
       "model_id": "f1381007f9a347a3bee99249c5a38a48",
       "version_major": 2,
       "version_minor": 0
      },
      "text/plain": [
       "interactive(children=(IntSlider(value=0, description='Iteration', max=19), Output()), _dom_classes=('widget-in…"
      ]
     },
     "metadata": {},
     "output_type": "display_data"
    },
    {
     "data": {
      "text/plain": [
       "<function __main__.draw_result_amp(ind4)>"
      ]
     },
     "execution_count": 8,
     "metadata": {},
     "output_type": "execute_result"
    }
   ],
   "source": [
    "# Define required parameters for the solver that are not used in the non-probablist data model\n",
    "x_mean_on = 0     # mean for the on components\n",
    "x_var_on = 1      # variance for the on components\n",
    "prob_on = K/n      # fraction of components that are *on*\n",
    "\n",
    "nit = 20  # number of iterations\n",
    "\n",
    "# define the priors to be mixed (Bernoulli + Gaussian)\n",
    "est0_off = vp.estim.DiscreteEst(0,1,x_shape)\n",
    "est0_on = vp.estim.GaussEst(x_mean_on, x_var_on,x_shape)\n",
    "                   \n",
    "# Define the mixed prior\n",
    "est_list = [est0_off, est0_on]\n",
    "pz0 = np.array([1-prob_on, prob_on])\n",
    "est0 = vp.estim.MixEst(est_list, w=pz0, name='Input')\n",
    "\n",
    "# We next define the operator A. In this case the operator is defined by a matrix so we use the MatrixLT class.\n",
    "Aop = vp.trans.MatrixLT(A,x_shape)\n",
    "\n",
    "# describe the likelihood function, p(y|z1). Since y=z1+w, we can describe this as a Gaussian estimator.\n",
    "est1  = vp.estim.GaussEst(y,noise_var,y_shape,name='Output')\n",
    "\n",
    "# Create the solver\n",
    "solver = vp.solver.Gamp(est0,est1,Aop,hist_list=['z0', 'zvar0'],nit=nit)\n",
    "solver.summary()\n",
    "solver.solve()\n",
    "x_hat=solver.z0\n",
    "x_history=solver.hist_dict['z0']\n",
    "\n",
    "fig6, axs6 = plt.subplots(1,2)\n",
    "fig6.canvas.toolbar_visible = False\n",
    "fig6.canvas.header_visible = False\n",
    "fig6.canvas.footer_visible = True\n",
    "fig6.canvas.resizable = False\n",
    "fig6.suptitle('Reconstruction over iterations')\n",
    "fig6.set_figwidth(12)\n",
    "axs6[0].stem(x,use_line_collection=True)\n",
    "for a in x.nonzero()[0]:\n",
    "    axs6[0].annotate(str(a),(a-1.5,1.012))\n",
    "axs6[1].set_title(\"$Iteration 0\")\n",
    "\n",
    "fig6\n",
    "\n",
    "def draw_result_amp(ind4):    \n",
    "    axs6[1].clear()\n",
    "    axs6[1].set_title(\"Iteration \" + str(ind4))\n",
    "    axs6[1].stem(x_history[ind4],use_line_collection=True)\n",
    "    \n",
    "interact(draw_result_amp, ind4 = widgets.IntSlider(description='Iteration',\n",
    "                                              value=0,\n",
    "                                              min=0,\n",
    "                                              max=len(x_history)-1,\n",
    "                                              step=1))"
   ]
  }
 ],
 "metadata": {
  "hide_input": false,
  "kernelspec": {
   "display_name": "Python 3",
   "language": "python",
   "name": "python3"
  },
  "language_info": {
   "codemirror_mode": {
    "name": "ipython",
    "version": 3
   },
   "file_extension": ".py",
   "mimetype": "text/x-python",
   "name": "python",
   "nbconvert_exporter": "python",
   "pygments_lexer": "ipython3",
   "version": "3.8.5"
  },
  "widgets": {
   "application/vnd.jupyter.widget-state+json": {
    "state": {
     "0102ee0e81324074bf5eb2c5ce494cb0": {
      "model_module": "@jupyter-widgets/base",
      "model_module_version": "1.2.0",
      "model_name": "LayoutModel",
      "state": {}
     },
     "01c4939bcead4ed4ada901d255921bb8": {
      "model_module": "@jupyter-widgets/base",
      "model_module_version": "1.2.0",
      "model_name": "LayoutModel",
      "state": {}
     },
     "02e912fb9dfd4234b5a1598253134a49": {
      "model_module": "@jupyter-widgets/base",
      "model_module_version": "1.2.0",
      "model_name": "LayoutModel",
      "state": {}
     },
     "03280290b9a34ee591887219241c800b": {
      "model_module": "@jupyter-widgets/controls",
      "model_module_version": "1.5.0",
      "model_name": "IntSliderModel",
      "state": {
       "layout": "IPY_MODEL_6cf613d08d9044168d6b8fa9d021878e",
       "style": "IPY_MODEL_f1018fa8f1514cdab8ae9c22153e6820"
      }
     },
     "03c40891f99a48b39cc6a204cdeac68f": {
      "model_module": "@jupyter-widgets/base",
      "model_module_version": "1.2.0",
      "model_name": "LayoutModel",
      "state": {}
     },
     "03ca68b5d81a4b008dcb4e21c862ef4f": {
      "model_module": "@jupyter-widgets/controls",
      "model_module_version": "1.5.0",
      "model_name": "SliderStyleModel",
      "state": {
       "description_width": ""
      }
     },
     "049f80c0404c4fad8a64e0fa12ba89ac": {
      "model_module": "@jupyter-widgets/base",
      "model_module_version": "1.2.0",
      "model_name": "LayoutModel",
      "state": {}
     },
     "04be72e429de41479816c84e1820c2c9": {
      "model_module": "@jupyter-widgets/base",
      "model_module_version": "1.2.0",
      "model_name": "LayoutModel",
      "state": {}
     },
     "04f4a018542f4c6b873c8072c6168553": {
      "model_module": "@jupyter-widgets/controls",
      "model_module_version": "1.5.0",
      "model_name": "SliderStyleModel",
      "state": {
       "description_width": ""
      }
     },
     "06bf25e3d08343c3a70c5680f516e846": {
      "model_module": "@jupyter-widgets/base",
      "model_module_version": "1.2.0",
      "model_name": "LayoutModel",
      "state": {}
     },
     "06e2c6cf6e734f1799ecc3bc96abfd43": {
      "model_module": "jupyter-matplotlib",
      "model_module_version": "^0.8.3",
      "model_name": "ToolbarModel",
      "state": {
       "layout": "IPY_MODEL_f6b86c4fdfbc452c86fcbaea1fc9fd3d",
       "toolitems": [
        [
         "Home",
         "Reset original view",
         "home",
         "home"
        ],
        [
         "Back",
         "Back to previous view",
         "arrow-left",
         "back"
        ],
        [
         "Forward",
         "Forward to next view",
         "arrow-right",
         "forward"
        ],
        [
         "Pan",
         "Pan axes with left mouse, zoom with right",
         "arrows",
         "pan"
        ],
        [
         "Zoom",
         "Zoom to rectangle",
         "square-o",
         "zoom"
        ],
        [
         "Download",
         "Download plot",
         "floppy-o",
         "save_figure"
        ]
       ]
      }
     },
     "08d76bbd7a964eb3bc6a70ac3aa87d2d": {
      "model_module": "@jupyter-widgets/controls",
      "model_module_version": "1.5.0",
      "model_name": "FloatSliderModel",
      "state": {
       "description": "$\\alpha$",
       "layout": "IPY_MODEL_8b7c5b80c980443cb9d029c009e7322d",
       "max": 2,
       "step": 0.001,
       "style": "IPY_MODEL_8bb18bbb41a54a8a9fb58f10119d4e20",
       "value": 0.01
      }
     },
     "0a71ce2e12a44ee5a6bb123944844ca7": {
      "model_module": "@jupyter-widgets/base",
      "model_module_version": "1.2.0",
      "model_name": "LayoutModel",
      "state": {}
     },
     "0a8ef4ab8ede49398a225f5fdd988c14": {
      "model_module": "jupyter-matplotlib",
      "model_module_version": "^0.8.3",
      "model_name": "ToolbarModel",
      "state": {
       "layout": "IPY_MODEL_bf4170d7d80144cd96d5ef4142c5a2c6",
       "toolitems": [
        [
         "Home",
         "Reset original view",
         "home",
         "home"
        ],
        [
         "Back",
         "Back to previous view",
         "arrow-left",
         "back"
        ],
        [
         "Forward",
         "Forward to next view",
         "arrow-right",
         "forward"
        ],
        [
         "Pan",
         "Pan axes with left mouse, zoom with right",
         "arrows",
         "pan"
        ],
        [
         "Zoom",
         "Zoom to rectangle",
         "square-o",
         "zoom"
        ],
        [
         "Download",
         "Download plot",
         "floppy-o",
         "save_figure"
        ]
       ]
      }
     },
     "0acccbcaa00143f89c4f64c1f9b770fe": {
      "model_module": "@jupyter-widgets/base",
      "model_module_version": "1.2.0",
      "model_name": "LayoutModel",
      "state": {}
     },
     "0b174c81deb74806a51091394593b632": {
      "model_module": "@jupyter-widgets/base",
      "model_module_version": "1.2.0",
      "model_name": "LayoutModel",
      "state": {}
     },
     "0bab5b6994814044a3a7c7ea258001d0": {
      "model_module": "@jupyter-widgets/controls",
      "model_module_version": "1.5.0",
      "model_name": "SliderStyleModel",
      "state": {
       "description_width": ""
      }
     },
     "0ceed97c675244d5985674a82597c199": {
      "model_module": "@jupyter-widgets/controls",
      "model_module_version": "1.5.0",
      "model_name": "IntSliderModel",
      "state": {
       "description": "$\\lambda$-index",
       "layout": "IPY_MODEL_0cff27deb4664328ba720be797730c72",
       "max": 58,
       "style": "IPY_MODEL_c8065b530ddd4127aaf7da9565740230"
      }
     },
     "0cff27deb4664328ba720be797730c72": {
      "model_module": "@jupyter-widgets/base",
      "model_module_version": "1.2.0",
      "model_name": "LayoutModel",
      "state": {}
     },
     "0e2a4f8f55ed456283432d3cf8ef518c": {
      "model_module": "@jupyter-widgets/base",
      "model_module_version": "1.2.0",
      "model_name": "LayoutModel",
      "state": {}
     },
     "0e37350c41fe46c7b22c6fe02969fbed": {
      "model_module": "@jupyter-widgets/controls",
      "model_module_version": "1.5.0",
      "model_name": "VBoxModel",
      "state": {
       "_dom_classes": [
        "widget-interact"
       ],
       "children": [
        "IPY_MODEL_5171f683be2d42acabb68b054f30a0f9",
        "IPY_MODEL_ed85a6b390624215890d177622654b96"
       ],
       "layout": "IPY_MODEL_3be3824fca6442d3bf03208217eb56ba"
      }
     },
     "0f24e530554a4e98aa8561e07e7b3107": {
      "model_module": "@jupyter-widgets/controls",
      "model_module_version": "1.5.0",
      "model_name": "VBoxModel",
      "state": {
       "_dom_classes": [
        "widget-interact"
       ],
       "children": [
        "IPY_MODEL_08d76bbd7a964eb3bc6a70ac3aa87d2d",
        "IPY_MODEL_92eef2dd382c4d6388a393f1cd8dc6c4"
       ],
       "layout": "IPY_MODEL_7322324fc44748ac8db7b811027abc2e"
      }
     },
     "0f4a645c3d3e4b4398c588d9c4ab78d2": {
      "model_module": "@jupyter-widgets/controls",
      "model_module_version": "1.5.0",
      "model_name": "HBoxModel",
      "state": {
       "children": [
        "IPY_MODEL_c773ed72c84f4651882ccd073f023dde",
        "IPY_MODEL_ba9662cc1a004c788bbdf95175212d9c"
       ],
       "layout": "IPY_MODEL_f66a6378c1984abd9da2b951a17c57c7"
      }
     },
     "0f6a02c89da942b384b7a24773c1f69b": {
      "model_module": "jupyter-matplotlib",
      "model_module_version": "^0.8.3",
      "model_name": "ToolbarModel",
      "state": {
       "layout": "IPY_MODEL_78d1033f13bc43a1a0d37955358e306c",
       "toolitems": [
        [
         "Home",
         "Reset original view",
         "home",
         "home"
        ],
        [
         "Back",
         "Back to previous view",
         "arrow-left",
         "back"
        ],
        [
         "Forward",
         "Forward to next view",
         "arrow-right",
         "forward"
        ],
        [
         "Pan",
         "Pan axes with left mouse, zoom with right",
         "arrows",
         "pan"
        ],
        [
         "Zoom",
         "Zoom to rectangle",
         "square-o",
         "zoom"
        ],
        [
         "Download",
         "Download plot",
         "floppy-o",
         "save_figure"
        ]
       ]
      }
     },
     "0f760ee552cd4d46b6581c9dbde3b265": {
      "model_module": "jupyter-matplotlib",
      "model_module_version": "^0.8.3",
      "model_name": "ToolbarModel",
      "state": {
       "layout": "IPY_MODEL_cd6e809cdd244c908f1db6e115b3ca5c",
       "toolitems": [
        [
         "Home",
         "Reset original view",
         "home",
         "home"
        ],
        [
         "Back",
         "Back to previous view",
         "arrow-left",
         "back"
        ],
        [
         "Forward",
         "Forward to next view",
         "arrow-right",
         "forward"
        ],
        [
         "Pan",
         "Pan axes with left mouse, zoom with right",
         "arrows",
         "pan"
        ],
        [
         "Zoom",
         "Zoom to rectangle",
         "square-o",
         "zoom"
        ],
        [
         "Download",
         "Download plot",
         "floppy-o",
         "save_figure"
        ]
       ]
      }
     },
     "0feabfee181f4c13894c876fceb02514": {
      "model_module": "@jupyter-widgets/base",
      "model_module_version": "1.2.0",
      "model_name": "LayoutModel",
      "state": {}
     },
     "10feead54fd9481a9145142c7610db18": {
      "model_module": "@jupyter-widgets/controls",
      "model_module_version": "1.5.0",
      "model_name": "SliderStyleModel",
      "state": {
       "description_width": ""
      }
     },
     "11023b51fa084d948f1c15123716defd": {
      "model_module": "@jupyter-widgets/base",
      "model_module_version": "1.2.0",
      "model_name": "LayoutModel",
      "state": {}
     },
     "115f19dd188d490d979555d4dc10de15": {
      "model_module": "@jupyter-widgets/base",
      "model_module_version": "1.2.0",
      "model_name": "LayoutModel",
      "state": {}
     },
     "12817a90bf2143c5a629a49a58209e33": {
      "model_module": "jupyter-matplotlib",
      "model_module_version": "^0.8.3",
      "model_name": "ToolbarModel",
      "state": {
       "layout": "IPY_MODEL_2f1e89c5a06846e1a1ce0e8fd757c229",
       "toolitems": [
        [
         "Home",
         "Reset original view",
         "home",
         "home"
        ],
        [
         "Back",
         "Back to previous view",
         "arrow-left",
         "back"
        ],
        [
         "Forward",
         "Forward to next view",
         "arrow-right",
         "forward"
        ],
        [
         "Pan",
         "Pan axes with left mouse, zoom with right",
         "arrows",
         "pan"
        ],
        [
         "Zoom",
         "Zoom to rectangle",
         "square-o",
         "zoom"
        ],
        [
         "Download",
         "Download plot",
         "floppy-o",
         "save_figure"
        ]
       ]
      }
     },
     "13364e3207bb4702a3b534a470785372": {
      "model_module": "@jupyter-widgets/controls",
      "model_module_version": "1.5.0",
      "model_name": "SliderStyleModel",
      "state": {
       "description_width": ""
      }
     },
     "1449089c02964275bf93c25dfad41601": {
      "model_module": "@jupyter-widgets/base",
      "model_module_version": "1.2.0",
      "model_name": "LayoutModel",
      "state": {}
     },
     "147efa7d514d4a74b586c6e939e37c24": {
      "model_module": "@jupyter-widgets/base",
      "model_module_version": "1.2.0",
      "model_name": "LayoutModel",
      "state": {}
     },
     "14a47414bb0043e8a749d4edf0dc40a4": {
      "model_module": "@jupyter-widgets/base",
      "model_module_version": "1.2.0",
      "model_name": "LayoutModel",
      "state": {}
     },
     "14f228c0bca34bba9281a31484fa33ef": {
      "model_module": "@jupyter-widgets/base",
      "model_module_version": "1.2.0",
      "model_name": "LayoutModel",
      "state": {}
     },
     "15ef8c388ea741cba3f96354e9020330": {
      "model_module": "jupyter-matplotlib",
      "model_module_version": "^0.8.3",
      "model_name": "ToolbarModel",
      "state": {
       "layout": "IPY_MODEL_7d2f22cb192c4366a566d2ded8ff1b96",
       "toolitems": [
        [
         "Home",
         "Reset original view",
         "home",
         "home"
        ],
        [
         "Back",
         "Back to previous view",
         "arrow-left",
         "back"
        ],
        [
         "Forward",
         "Forward to next view",
         "arrow-right",
         "forward"
        ],
        [
         "Pan",
         "Pan axes with left mouse, zoom with right",
         "arrows",
         "pan"
        ],
        [
         "Zoom",
         "Zoom to rectangle",
         "square-o",
         "zoom"
        ],
        [
         "Download",
         "Download plot",
         "floppy-o",
         "save_figure"
        ]
       ]
      }
     },
     "163601cf5e2d4eceaac63b17bc164daf": {
      "model_module": "@jupyter-widgets/controls",
      "model_module_version": "1.5.0",
      "model_name": "VBoxModel",
      "state": {
       "_dom_classes": [
        "widget-interact"
       ],
       "children": [
        "IPY_MODEL_d622f9902eee413f91106d7e2aff878e",
        "IPY_MODEL_6f2cec9af80a4529924d20876b2ededc"
       ],
       "layout": "IPY_MODEL_d69f3f97f5a442c5be204c96ef7e5969"
      }
     },
     "168538ccf7d64b6e896a3cf7b0187fd7": {
      "model_module": "@jupyter-widgets/controls",
      "model_module_version": "1.5.0",
      "model_name": "IntSliderModel",
      "state": {
       "description": "$K$",
       "layout": "IPY_MODEL_ed18d53088594d86a99b88dac8448ee2",
       "min": 1,
       "style": "IPY_MODEL_9c480fa6703849cda347829ce7a8c595",
       "value": 1
      }
     },
     "16b7153d70b344b89c1edd3ed82218d4": {
      "model_module": "jupyter-matplotlib",
      "model_module_version": "^0.8.3",
      "model_name": "ToolbarModel",
      "state": {
       "layout": "IPY_MODEL_fa286a0fa3d84ac7b95d93eb09f3729a",
       "toolitems": [
        [
         "Home",
         "Reset original view",
         "home",
         "home"
        ],
        [
         "Back",
         "Back to previous view",
         "arrow-left",
         "back"
        ],
        [
         "Forward",
         "Forward to next view",
         "arrow-right",
         "forward"
        ],
        [
         "Pan",
         "Pan axes with left mouse, zoom with right",
         "arrows",
         "pan"
        ],
        [
         "Zoom",
         "Zoom to rectangle",
         "square-o",
         "zoom"
        ],
        [
         "Download",
         "Download plot",
         "floppy-o",
         "save_figure"
        ]
       ]
      }
     },
     "1742f6f282444851b5b4b05c28d0755b": {
      "model_module": "@jupyter-widgets/base",
      "model_module_version": "1.2.0",
      "model_name": "LayoutModel",
      "state": {}
     },
     "1917365d4aa9473f85e156c8e7a41f84": {
      "model_module": "@jupyter-widgets/controls",
      "model_module_version": "1.5.0",
      "model_name": "IntSliderModel",
      "state": {
       "description": "Iteration",
       "layout": "IPY_MODEL_be35eb04727d455c8de0fb9b01bde5f0",
       "max": 19,
       "style": "IPY_MODEL_770a2de101924f50845382dfa099deec"
      }
     },
     "19a4712b2fd047b49275d227d4296d16": {
      "model_module": "@jupyter-widgets/output",
      "model_module_version": "1.0.0",
      "model_name": "OutputModel",
      "state": {
       "layout": "IPY_MODEL_1feeae6311a74ffe8cd8c5571d49f14a"
      }
     },
     "19dcf2dd05c44359beb9a82a2f36c5a2": {
      "model_module": "@jupyter-widgets/output",
      "model_module_version": "1.0.0",
      "model_name": "OutputModel",
      "state": {
       "layout": "IPY_MODEL_9374075d60a64106a271514322887be4"
      }
     },
     "1a4189a004684e6aa53947dafa44bbe1": {
      "model_module": "@jupyter-widgets/base",
      "model_module_version": "1.2.0",
      "model_name": "LayoutModel",
      "state": {}
     },
     "1a4c5e9be76a498fae4e33e3116c8cda": {
      "model_module": "jupyter-matplotlib",
      "model_module_version": "^0.8.3",
      "model_name": "ToolbarModel",
      "state": {
       "layout": "IPY_MODEL_9f7690f536c94c5bbbd9bdf545002ad5",
       "toolitems": [
        [
         "Home",
         "Reset original view",
         "home",
         "home"
        ],
        [
         "Back",
         "Back to previous view",
         "arrow-left",
         "back"
        ],
        [
         "Forward",
         "Forward to next view",
         "arrow-right",
         "forward"
        ],
        [
         "Pan",
         "Pan axes with left mouse, zoom with right",
         "arrows",
         "pan"
        ],
        [
         "Zoom",
         "Zoom to rectangle",
         "square-o",
         "zoom"
        ],
        [
         "Download",
         "Download plot",
         "floppy-o",
         "save_figure"
        ]
       ]
      }
     },
     "1ad512189d3f48cfaeb036297730796b": {
      "model_module": "@jupyter-widgets/output",
      "model_module_version": "1.0.0",
      "model_name": "OutputModel",
      "state": {
       "layout": "IPY_MODEL_31104de0b46d4210ba99e8253b27014a"
      }
     },
     "1ad66cf037834688a64561214e1fbf8e": {
      "model_module": "@jupyter-widgets/output",
      "model_module_version": "1.0.0",
      "model_name": "OutputModel",
      "state": {
       "layout": "IPY_MODEL_ccd18fd5bf624a9fb113dd81a69325ad"
      }
     },
     "1bf036420820452ba9fa4e9c9182de11": {
      "model_module": "@jupyter-widgets/base",
      "model_module_version": "1.2.0",
      "model_name": "LayoutModel",
      "state": {}
     },
     "1c89dca0faa44147b099a3ed23d404a9": {
      "model_module": "jupyter-matplotlib",
      "model_module_version": "^0.8.3",
      "model_name": "MPLCanvasModel",
      "state": {
       "_figure_label": "Figure 5",
       "_height": 384,
       "_image_mode": "diff",
       "_width": 960,
       "header_visible": false,
       "layout": "IPY_MODEL_e4f6b26afdac4365b8569f2586a7bb3f",
       "resizable": false,
       "toolbar": "IPY_MODEL_81fdbb0b3efa48d89692c18d1cfb88f6",
       "toolbar_position": "left",
       "toolbar_visible": false
      }
     },
     "1c918b7b06af4e8bb354f1092e07e7f9": {
      "model_module": "@jupyter-widgets/output",
      "model_module_version": "1.0.0",
      "model_name": "OutputModel",
      "state": {
       "layout": "IPY_MODEL_fccc038b34dd41068532d7f8643e9cad"
      }
     },
     "1c9a6a04c4284cda8bf78159390a414e": {
      "model_module": "@jupyter-widgets/base",
      "model_module_version": "1.2.0",
      "model_name": "LayoutModel",
      "state": {}
     },
     "1e313b6656734ad2a397f171d51fa97d": {
      "model_module": "jupyter-matplotlib",
      "model_module_version": "^0.8.3",
      "model_name": "ToolbarModel",
      "state": {
       "layout": "IPY_MODEL_b71ea2dec0bf4ac0a15f10f27023a542",
       "toolitems": [
        [
         "Home",
         "Reset original view",
         "home",
         "home"
        ],
        [
         "Back",
         "Back to previous view",
         "arrow-left",
         "back"
        ],
        [
         "Forward",
         "Forward to next view",
         "arrow-right",
         "forward"
        ],
        [
         "Pan",
         "Pan axes with left mouse, zoom with right",
         "arrows",
         "pan"
        ],
        [
         "Zoom",
         "Zoom to rectangle",
         "square-o",
         "zoom"
        ],
        [
         "Download",
         "Download plot",
         "floppy-o",
         "save_figure"
        ]
       ]
      }
     },
     "1e807d2635f94f898aae561793d09fa2": {
      "model_module": "@jupyter-widgets/base",
      "model_module_version": "1.2.0",
      "model_name": "LayoutModel",
      "state": {}
     },
     "1e80f21127e349a6ac782b403928b28d": {
      "model_module": "@jupyter-widgets/base",
      "model_module_version": "1.2.0",
      "model_name": "LayoutModel",
      "state": {}
     },
     "1fddbc0cefce44158885d7e3016ab5b6": {
      "model_module": "@jupyter-widgets/controls",
      "model_module_version": "1.5.0",
      "model_name": "HBoxModel",
      "state": {
       "children": [
        "IPY_MODEL_302b8b893c084488872ecfadc3b58bb5",
        "IPY_MODEL_4d8ab0f4df2c44a5a3c611e70f1672c9"
       ],
       "layout": "IPY_MODEL_a18123a9e5a24c6297df9055345a2e94"
      }
     },
     "1feeae6311a74ffe8cd8c5571d49f14a": {
      "model_module": "@jupyter-widgets/base",
      "model_module_version": "1.2.0",
      "model_name": "LayoutModel",
      "state": {}
     },
     "1ffb3f539c4243589d54b066cb304348": {
      "model_module": "@jupyter-widgets/controls",
      "model_module_version": "1.5.0",
      "model_name": "LinkModel",
      "state": {
       "source": [
        "IPY_MODEL_c773ed72c84f4651882ccd073f023dde",
        "value"
       ],
       "target": [
        "IPY_MODEL_ba9662cc1a004c788bbdf95175212d9c",
        "value"
       ]
      }
     },
     "209ad9054410410eb6e5db1564fab7f7": {
      "model_module": "@jupyter-widgets/base",
      "model_module_version": "1.2.0",
      "model_name": "LayoutModel",
      "state": {}
     },
     "2107e63c1cad40f1914fa681bfb20c43": {
      "model_module": "@jupyter-widgets/base",
      "model_module_version": "1.2.0",
      "model_name": "LayoutModel",
      "state": {}
     },
     "21683449f55a47cc8ed11b097dbc2661": {
      "model_module": "@jupyter-widgets/base",
      "model_module_version": "1.2.0",
      "model_name": "LayoutModel",
      "state": {}
     },
     "21954692bb744b4fa7a51ddb1620c687": {
      "model_module": "@jupyter-widgets/base",
      "model_module_version": "1.2.0",
      "model_name": "LayoutModel",
      "state": {}
     },
     "21d833d93e474f1a840e8aa766085486": {
      "model_module": "@jupyter-widgets/controls",
      "model_module_version": "1.5.0",
      "model_name": "FloatSliderModel",
      "state": {
       "description": "$\\alpha$",
       "layout": "IPY_MODEL_9f344526cec640e2b861f9882975b908",
       "max": 2,
       "step": 0.001,
       "style": "IPY_MODEL_7848bd11b880476c82613d173f62b11c"
      }
     },
     "22ec5e600e89470b966fe13dbb0661ef": {
      "model_module": "@jupyter-widgets/base",
      "model_module_version": "1.2.0",
      "model_name": "LayoutModel",
      "state": {}
     },
     "23960a6c88064751b5701927a0d7e982": {
      "model_module": "jupyter-matplotlib",
      "model_module_version": "^0.8.3",
      "model_name": "ToolbarModel",
      "state": {
       "layout": "IPY_MODEL_c51a9b1f5722450a816490c16a1d4c7d",
       "toolitems": [
        [
         "Home",
         "Reset original view",
         "home",
         "home"
        ],
        [
         "Back",
         "Back to previous view",
         "arrow-left",
         "back"
        ],
        [
         "Forward",
         "Forward to next view",
         "arrow-right",
         "forward"
        ],
        [
         "Pan",
         "Pan axes with left mouse, zoom with right",
         "arrows",
         "pan"
        ],
        [
         "Zoom",
         "Zoom to rectangle",
         "square-o",
         "zoom"
        ],
        [
         "Download",
         "Download plot",
         "floppy-o",
         "save_figure"
        ]
       ]
      }
     },
     "244c758bf6bb48528846b34155e86d15": {
      "model_module": "@jupyter-widgets/controls",
      "model_module_version": "1.5.0",
      "model_name": "VBoxModel",
      "state": {
       "_dom_classes": [
        "widget-interact"
       ],
       "children": [
        "IPY_MODEL_dfe343ebc09f4fae95445ed3a4003e46",
        "IPY_MODEL_2987469de4594c1d872987708b693de0"
       ],
       "layout": "IPY_MODEL_acb4c0a936cb462498e5655fdba8feec"
      }
     },
     "248e19eb524f4e4980b41b3c8a018cc2": {
      "model_module": "jupyter-matplotlib",
      "model_module_version": "^0.8.3",
      "model_name": "ToolbarModel",
      "state": {
       "layout": "IPY_MODEL_8d878b2b05d24f64902e9d85fca8e6ff",
       "toolitems": [
        [
         "Home",
         "Reset original view",
         "home",
         "home"
        ],
        [
         "Back",
         "Back to previous view",
         "arrow-left",
         "back"
        ],
        [
         "Forward",
         "Forward to next view",
         "arrow-right",
         "forward"
        ],
        [
         "Pan",
         "Pan axes with left mouse, zoom with right",
         "arrows",
         "pan"
        ],
        [
         "Zoom",
         "Zoom to rectangle",
         "square-o",
         "zoom"
        ],
        [
         "Download",
         "Download plot",
         "floppy-o",
         "save_figure"
        ]
       ]
      }
     },
     "262d306ea1fe4a709af0d7619646bf1e": {
      "model_module": "@jupyter-widgets/base",
      "model_module_version": "1.2.0",
      "model_name": "LayoutModel",
      "state": {}
     },
     "264c72adbaa54968b3f3c737175661f9": {
      "model_module": "@jupyter-widgets/base",
      "model_module_version": "1.2.0",
      "model_name": "LayoutModel",
      "state": {}
     },
     "26f03f0084f84b0cb066607d3681754f": {
      "model_module": "jupyter-matplotlib",
      "model_module_version": "^0.8.3",
      "model_name": "MPLCanvasModel",
      "state": {
       "_figure_label": "Figure 1",
       "_height": 240,
       "_width": 960,
       "footer_visible": false,
       "header_visible": false,
       "layout": "IPY_MODEL_b329f2b0a945454c9a94945c03393008",
       "resizable": false,
       "toolbar": "IPY_MODEL_b39bfcf5811a48fda968ea64a805d89d",
       "toolbar_position": "left",
       "toolbar_visible": false
      }
     },
     "27552a8e64ac4c50a34b042e9b92f31a": {
      "model_module": "jupyter-matplotlib",
      "model_module_version": "^0.8.3",
      "model_name": "ToolbarModel",
      "state": {
       "layout": "IPY_MODEL_7902d2457df340b38c01d51ecc680230",
       "toolitems": [
        [
         "Home",
         "Reset original view",
         "home",
         "home"
        ],
        [
         "Back",
         "Back to previous view",
         "arrow-left",
         "back"
        ],
        [
         "Forward",
         "Forward to next view",
         "arrow-right",
         "forward"
        ],
        [
         "Pan",
         "Pan axes with left mouse, zoom with right",
         "arrows",
         "pan"
        ],
        [
         "Zoom",
         "Zoom to rectangle",
         "square-o",
         "zoom"
        ],
        [
         "Download",
         "Download plot",
         "floppy-o",
         "save_figure"
        ]
       ]
      }
     },
     "27fbff6ef9b74d5fb5b72f9534dae166": {
      "model_module": "@jupyter-widgets/controls",
      "model_module_version": "1.5.0",
      "model_name": "SliderStyleModel",
      "state": {
       "description_width": ""
      }
     },
     "283db5c78a3d48b0a2df4cbc94b19d8b": {
      "model_module": "@jupyter-widgets/base",
      "model_module_version": "1.2.0",
      "model_name": "LayoutModel",
      "state": {}
     },
     "2879089360a34084a28169b7b8dd2aaf": {
      "model_module": "@jupyter-widgets/controls",
      "model_module_version": "1.5.0",
      "model_name": "LinkModel",
      "state": {
       "source": [
        "IPY_MODEL_d3aa47b9ec1a425c8c3120d650e4479f",
        "value"
       ],
       "target": [
        "IPY_MODEL_9afc250ae6514a188c06d0066b5e2aa4",
        "value"
       ]
      }
     },
     "289807f2f1864e12b709aa16c5a3e381": {
      "model_module": "jupyter-matplotlib",
      "model_module_version": "^0.8.3",
      "model_name": "ToolbarModel",
      "state": {
       "layout": "IPY_MODEL_3395ab8a71cd47409690ea1dd2d81216",
       "toolitems": [
        [
         "Home",
         "Reset original view",
         "home",
         "home"
        ],
        [
         "Back",
         "Back to previous view",
         "arrow-left",
         "back"
        ],
        [
         "Forward",
         "Forward to next view",
         "arrow-right",
         "forward"
        ],
        [
         "Pan",
         "Pan axes with left mouse, zoom with right",
         "arrows",
         "pan"
        ],
        [
         "Zoom",
         "Zoom to rectangle",
         "square-o",
         "zoom"
        ],
        [
         "Download",
         "Download plot",
         "floppy-o",
         "save_figure"
        ]
       ]
      }
     },
     "2916e80231e346539733ddd0588068db": {
      "model_module": "@jupyter-widgets/controls",
      "model_module_version": "1.5.0",
      "model_name": "SliderStyleModel",
      "state": {
       "description_width": ""
      }
     },
     "2931652701ac461fba32572123ca24d6": {
      "model_module": "@jupyter-widgets/controls",
      "model_module_version": "1.5.0",
      "model_name": "PlayModel",
      "state": {
       "description": "Press play",
       "interval": 50,
       "layout": "IPY_MODEL_d863d1b8ee774521bd40bc008f6d3682",
       "style": "IPY_MODEL_bfddc4f715f64cfda21407fe1a924d38"
      }
     },
     "2987469de4594c1d872987708b693de0": {
      "model_module": "@jupyter-widgets/output",
      "model_module_version": "1.0.0",
      "model_name": "OutputModel",
      "state": {
       "layout": "IPY_MODEL_d547103146cf40c6805bc3f5398bc51f",
       "outputs": [
        {
         "ename": "NameError",
         "evalue": "name 'ind' is not defined",
         "output_type": "error",
         "traceback": [
          "\u001b[0;31m---------------------------------------------------------------------------\u001b[0m",
          "\u001b[0;31mNameError\u001b[0m                                 Traceback (most recent call last)",
          "\u001b[0;32m~/.local/lib/python3.8/site-packages/ipywidgets/widgets/interaction.py\u001b[0m in \u001b[0;36mupdate\u001b[0;34m(self, *args)\u001b[0m\n\u001b[1;32m    254\u001b[0m                     \u001b[0mvalue\u001b[0m \u001b[0;34m=\u001b[0m \u001b[0mwidget\u001b[0m\u001b[0;34m.\u001b[0m\u001b[0mget_interact_value\u001b[0m\u001b[0;34m(\u001b[0m\u001b[0;34m)\u001b[0m\u001b[0;34m\u001b[0m\u001b[0;34m\u001b[0m\u001b[0m\n\u001b[1;32m    255\u001b[0m                     \u001b[0mself\u001b[0m\u001b[0;34m.\u001b[0m\u001b[0mkwargs\u001b[0m\u001b[0;34m[\u001b[0m\u001b[0mwidget\u001b[0m\u001b[0;34m.\u001b[0m\u001b[0m_kwarg\u001b[0m\u001b[0;34m]\u001b[0m \u001b[0;34m=\u001b[0m \u001b[0mvalue\u001b[0m\u001b[0;34m\u001b[0m\u001b[0;34m\u001b[0m\u001b[0m\n\u001b[0;32m--> 256\u001b[0;31m                 \u001b[0mself\u001b[0m\u001b[0;34m.\u001b[0m\u001b[0mresult\u001b[0m \u001b[0;34m=\u001b[0m \u001b[0mself\u001b[0m\u001b[0;34m.\u001b[0m\u001b[0mf\u001b[0m\u001b[0;34m(\u001b[0m\u001b[0;34m**\u001b[0m\u001b[0mself\u001b[0m\u001b[0;34m.\u001b[0m\u001b[0mkwargs\u001b[0m\u001b[0;34m)\u001b[0m\u001b[0;34m\u001b[0m\u001b[0;34m\u001b[0m\u001b[0m\n\u001b[0m\u001b[1;32m    257\u001b[0m                 \u001b[0mshow_inline_matplotlib_plots\u001b[0m\u001b[0;34m(\u001b[0m\u001b[0;34m)\u001b[0m\u001b[0;34m\u001b[0m\u001b[0;34m\u001b[0m\u001b[0m\n\u001b[1;32m    258\u001b[0m                 \u001b[0;32mif\u001b[0m \u001b[0mself\u001b[0m\u001b[0;34m.\u001b[0m\u001b[0mauto_display\u001b[0m \u001b[0;32mand\u001b[0m \u001b[0mself\u001b[0m\u001b[0;34m.\u001b[0m\u001b[0mresult\u001b[0m \u001b[0;32mis\u001b[0m \u001b[0;32mnot\u001b[0m \u001b[0;32mNone\u001b[0m\u001b[0;34m:\u001b[0m\u001b[0;34m\u001b[0m\u001b[0;34m\u001b[0m\u001b[0m\n",
          "\u001b[0;32m<ipython-input-9-385b7a3d3164>\u001b[0m in \u001b[0;36mdraw_result_bpdn\u001b[0;34m(ind0)\u001b[0m\n\u001b[1;32m     20\u001b[0m \u001b[0;32mdef\u001b[0m \u001b[0mdraw_result_bpdn\u001b[0m\u001b[0;34m(\u001b[0m\u001b[0mind0\u001b[0m\u001b[0;34m)\u001b[0m\u001b[0;34m:\u001b[0m\u001b[0;34m\u001b[0m\u001b[0;34m\u001b[0m\u001b[0m\n\u001b[1;32m     21\u001b[0m     \u001b[0maxs2\u001b[0m\u001b[0;34m[\u001b[0m\u001b[0;36m1\u001b[0m\u001b[0;34m]\u001b[0m\u001b[0;34m.\u001b[0m\u001b[0mclear\u001b[0m\u001b[0;34m(\u001b[0m\u001b[0;34m)\u001b[0m\u001b[0;34m\u001b[0m\u001b[0;34m\u001b[0m\u001b[0m\n\u001b[0;32m---> 22\u001b[0;31m     \u001b[0maxs2\u001b[0m\u001b[0;34m[\u001b[0m\u001b[0;36m1\u001b[0m\u001b[0;34m]\u001b[0m\u001b[0;34m.\u001b[0m\u001b[0mset_title\u001b[0m\u001b[0;34m(\u001b[0m\u001b[0;34m\"$\\lambda=\"\u001b[0m \u001b[0;34m+\u001b[0m \u001b[0mstr\u001b[0m\u001b[0;34m(\u001b[0m\u001b[0mresult\u001b[0m\u001b[0;34m[\u001b[0m\u001b[0;34m'lambda_list'\u001b[0m\u001b[0;34m]\u001b[0m\u001b[0;34m[\u001b[0m\u001b[0mind\u001b[0m\u001b[0;34m]\u001b[0m\u001b[0;34m)\u001b[0m \u001b[0;34m+\u001b[0m \u001b[0;34m\"$\"\u001b[0m\u001b[0;34m)\u001b[0m\u001b[0;34m\u001b[0m\u001b[0;34m\u001b[0m\u001b[0m\n\u001b[0m\u001b[1;32m     23\u001b[0m     \u001b[0maxs2\u001b[0m\u001b[0;34m[\u001b[0m\u001b[0;36m1\u001b[0m\u001b[0;34m]\u001b[0m\u001b[0;34m.\u001b[0m\u001b[0mstem\u001b[0m\u001b[0;34m(\u001b[0m\u001b[0mresult\u001b[0m\u001b[0;34m[\u001b[0m\u001b[0;34m'theta_list'\u001b[0m\u001b[0;34m]\u001b[0m\u001b[0;34m[\u001b[0m\u001b[0mind0\u001b[0m\u001b[0;34m]\u001b[0m\u001b[0;34m,\u001b[0m\u001b[0muse_line_collection\u001b[0m\u001b[0;34m=\u001b[0m\u001b[0;32mTrue\u001b[0m\u001b[0;34m)\u001b[0m\u001b[0;34m\u001b[0m\u001b[0;34m\u001b[0m\u001b[0m\n\u001b[1;32m     24\u001b[0m \u001b[0;34m\u001b[0m\u001b[0m\n",
          "\u001b[0;31mNameError\u001b[0m: name 'ind' is not defined"
         ]
        }
       ]
      }
     },
     "298fa62def8547ef980bfe508b8e7300": {
      "model_module": "@jupyter-widgets/controls",
      "model_module_version": "1.5.0",
      "model_name": "IntSliderModel",
      "state": {
       "description": "$K$",
       "layout": "IPY_MODEL_21683449f55a47cc8ed11b097dbc2661",
       "min": 1,
       "style": "IPY_MODEL_9a59bf7d0af24a7fa059c61a68312f13",
       "value": 1
      }
     },
     "2a521733f0064126bd389a100ffdeaa5": {
      "model_module": "@jupyter-widgets/controls",
      "model_module_version": "1.5.0",
      "model_name": "DescriptionStyleModel",
      "state": {
       "description_width": ""
      }
     },
     "2b5a711ee22a4bc497a0bb51fb1ecb3c": {
      "model_module": "@jupyter-widgets/base",
      "model_module_version": "1.2.0",
      "model_name": "LayoutModel",
      "state": {}
     },
     "2ba7e82289ed40d998029b7f47a9fb98": {
      "model_module": "@jupyter-widgets/base",
      "model_module_version": "1.2.0",
      "model_name": "LayoutModel",
      "state": {}
     },
     "2cf0c4aaf2614e67b28fdf3b72ced68d": {
      "model_module": "@jupyter-widgets/base",
      "model_module_version": "1.2.0",
      "model_name": "LayoutModel",
      "state": {}
     },
     "2cf6eba78e7e4965b3968c7555ccfd50": {
      "model_module": "@jupyter-widgets/controls",
      "model_module_version": "1.5.0",
      "model_name": "DescriptionStyleModel",
      "state": {
       "description_width": ""
      }
     },
     "2cfba3790d554233b69fca61546f311f": {
      "model_module": "@jupyter-widgets/base",
      "model_module_version": "1.2.0",
      "model_name": "LayoutModel",
      "state": {}
     },
     "2d4122bbbd064fc2a1473b774e7317ea": {
      "model_module": "jupyter-matplotlib",
      "model_module_version": "^0.8.3",
      "model_name": "ToolbarModel",
      "state": {
       "layout": "IPY_MODEL_63a011ba613e4b2bb76d5b7326f7966d",
       "toolitems": [
        [
         "Home",
         "Reset original view",
         "home",
         "home"
        ],
        [
         "Back",
         "Back to previous view",
         "arrow-left",
         "back"
        ],
        [
         "Forward",
         "Forward to next view",
         "arrow-right",
         "forward"
        ],
        [
         "Pan",
         "Pan axes with left mouse, zoom with right",
         "arrows",
         "pan"
        ],
        [
         "Zoom",
         "Zoom to rectangle",
         "square-o",
         "zoom"
        ],
        [
         "Download",
         "Download plot",
         "floppy-o",
         "save_figure"
        ]
       ]
      }
     },
     "2d596ecb15594782b6aabd6a2080d2d2": {
      "model_module": "@jupyter-widgets/output",
      "model_module_version": "1.0.0",
      "model_name": "OutputModel",
      "state": {
       "layout": "IPY_MODEL_2107e63c1cad40f1914fa681bfb20c43"
      }
     },
     "2d618b9d11b044b4bd6ef4e72d9da5ec": {
      "model_module": "@jupyter-widgets/base",
      "model_module_version": "1.2.0",
      "model_name": "LayoutModel",
      "state": {}
     },
     "2e93a7df70ab418e87de22e342a6cdeb": {
      "model_module": "@jupyter-widgets/output",
      "model_module_version": "1.0.0",
      "model_name": "OutputModel",
      "state": {
       "layout": "IPY_MODEL_cc1e806c251849278d1443a244c24e82"
      }
     },
     "2f1e89c5a06846e1a1ce0e8fd757c229": {
      "model_module": "@jupyter-widgets/base",
      "model_module_version": "1.2.0",
      "model_name": "LayoutModel",
      "state": {}
     },
     "2f421efb47e0405e8d84d6faeb7d1ef4": {
      "model_module": "@jupyter-widgets/controls",
      "model_module_version": "1.5.0",
      "model_name": "LinkModel",
      "state": {
       "source": [
        "IPY_MODEL_2931652701ac461fba32572123ca24d6",
        "value"
       ],
       "target": [
        "IPY_MODEL_5d9f43b313044df0855961b23e705858",
        "value"
       ]
      }
     },
     "30283e4f1f514290b0892064073de5ad": {
      "model_module": "@jupyter-widgets/base",
      "model_module_version": "1.2.0",
      "model_name": "LayoutModel",
      "state": {}
     },
     "302b8b893c084488872ecfadc3b58bb5": {
      "model_module": "@jupyter-widgets/controls",
      "model_module_version": "1.5.0",
      "model_name": "PlayModel",
      "state": {
       "description": "Press play",
       "interval": 50,
       "layout": "IPY_MODEL_dddb1f0ba13644cba968e0bad1526cef",
       "style": "IPY_MODEL_dfc3843684124aa08a52a2e8817f5823"
      }
     },
     "3063d81460e945ee8ace737dd174a172": {
      "model_module": "@jupyter-widgets/base",
      "model_module_version": "1.2.0",
      "model_name": "LayoutModel",
      "state": {}
     },
     "31104de0b46d4210ba99e8253b27014a": {
      "model_module": "@jupyter-widgets/base",
      "model_module_version": "1.2.0",
      "model_name": "LayoutModel",
      "state": {}
     },
     "318c0b450a704bb0899b22463d7718e9": {
      "model_module": "@jupyter-widgets/output",
      "model_module_version": "1.0.0",
      "model_name": "OutputModel",
      "state": {
       "layout": "IPY_MODEL_d65afa465f8c4066bb5d4fe96a684705"
      }
     },
     "31bb1b8f48a5409695492b67b91689e4": {
      "model_module": "@jupyter-widgets/controls",
      "model_module_version": "1.5.0",
      "model_name": "VBoxModel",
      "state": {
       "_dom_classes": [
        "widget-interact"
       ],
       "children": [
        "IPY_MODEL_56b474993c334ccc9b11ae76bee2863b",
        "IPY_MODEL_9704589173804804935c4c7cf903c505"
       ],
       "layout": "IPY_MODEL_513f0a42db9744a8b84e0e4b5e1536b5"
      }
     },
     "32b94f6bd3e94fb0958c93c19608b001": {
      "model_module": "@jupyter-widgets/output",
      "model_module_version": "1.0.0",
      "model_name": "OutputModel",
      "state": {
       "layout": "IPY_MODEL_14f228c0bca34bba9281a31484fa33ef"
      }
     },
     "336907a4089f4679ac608dc541be5e28": {
      "model_module": "@jupyter-widgets/base",
      "model_module_version": "1.2.0",
      "model_name": "LayoutModel",
      "state": {}
     },
     "3376173a4220420d8142b4935d562f2c": {
      "model_module": "jupyter-matplotlib",
      "model_module_version": "^0.8.3",
      "model_name": "ToolbarModel",
      "state": {
       "layout": "IPY_MODEL_a7b1e780ba8c403da4d5835180770f25",
       "toolitems": [
        [
         "Home",
         "Reset original view",
         "home",
         "home"
        ],
        [
         "Back",
         "Back to previous view",
         "arrow-left",
         "back"
        ],
        [
         "Forward",
         "Forward to next view",
         "arrow-right",
         "forward"
        ],
        [
         "Pan",
         "Pan axes with left mouse, zoom with right",
         "arrows",
         "pan"
        ],
        [
         "Zoom",
         "Zoom to rectangle",
         "square-o",
         "zoom"
        ],
        [
         "Download",
         "Download plot",
         "floppy-o",
         "save_figure"
        ]
       ]
      }
     },
     "3392ffbb0daf4ba08a5c9d364372e1e0": {
      "model_module": "@jupyter-widgets/output",
      "model_module_version": "1.0.0",
      "model_name": "OutputModel",
      "state": {
       "layout": "IPY_MODEL_919b84f71b394d39a3d957098a9884ff"
      }
     },
     "3395ab8a71cd47409690ea1dd2d81216": {
      "model_module": "@jupyter-widgets/base",
      "model_module_version": "1.2.0",
      "model_name": "LayoutModel",
      "state": {}
     },
     "33b7883cc4014bd895276efd0b5611aa": {
      "model_module": "@jupyter-widgets/controls",
      "model_module_version": "1.5.0",
      "model_name": "IntSliderModel",
      "state": {
       "description": "$\\lambda$-index",
       "layout": "IPY_MODEL_cf8b9d7f6eee4459a691b067ed32bae2",
       "max": 75,
       "style": "IPY_MODEL_6ac198a3274646b687377d23ecf7710a",
       "value": 74
      }
     },
     "340ac1e625bd4a67a3f743309a780c57": {
      "model_module": "@jupyter-widgets/base",
      "model_module_version": "1.2.0",
      "model_name": "LayoutModel",
      "state": {}
     },
     "348608d11c3642aa80b5d104cf770096": {
      "model_module": "@jupyter-widgets/controls",
      "model_module_version": "1.5.0",
      "model_name": "IntSliderModel",
      "state": {
       "description": "Iteration",
       "layout": "IPY_MODEL_8bb558e882264ad787cd1e4b4a7d37d2",
       "max": 19,
       "style": "IPY_MODEL_a4e62ebe35f64c4a850885dfc3fda9d2",
       "value": 13
      }
     },
     "35765bed2ad240a0b834d5fc3efe385c": {
      "model_module": "@jupyter-widgets/base",
      "model_module_version": "1.2.0",
      "model_name": "LayoutModel",
      "state": {}
     },
     "35b6c5a59ae244b7b63dafa8c99129f9": {
      "model_module": "@jupyter-widgets/controls",
      "model_module_version": "1.5.0",
      "model_name": "VBoxModel",
      "state": {
       "_dom_classes": [
        "widget-interact"
       ],
       "children": [
        "IPY_MODEL_c16b6c19ef0c416f8b239539255418db",
        "IPY_MODEL_e273643b7b4c42f9bf8245582cce9b13"
       ],
       "layout": "IPY_MODEL_8add272e2aa0456c8652af5d05baa6f0"
      }
     },
     "35dd0ad4849d41b2a391649e2cf7bc37": {
      "model_module": "@jupyter-widgets/controls",
      "model_module_version": "1.5.0",
      "model_name": "VBoxModel",
      "state": {
       "_dom_classes": [
        "widget-interact"
       ],
       "children": [
        "IPY_MODEL_674c05b6547a4c86bd4848ec999d5bfb",
        "IPY_MODEL_cfe2e95b4e604b6aa434db8e9d8c6c41"
       ],
       "layout": "IPY_MODEL_e48cedffcb0d4251953b61e1c6f5b595"
      }
     },
     "361733ad31aa483eb05528245f9b51c7": {
      "model_module": "@jupyter-widgets/output",
      "model_module_version": "1.0.0",
      "model_name": "OutputModel",
      "state": {
       "layout": "IPY_MODEL_f458d7cda84846bf872d25da515174bf"
      }
     },
     "366b90586f8b4c17b180479e65c45607": {
      "model_module": "jupyter-matplotlib",
      "model_module_version": "^0.8.3",
      "model_name": "ToolbarModel",
      "state": {
       "layout": "IPY_MODEL_6f39b3e746544db4af95f634e3b2c3de",
       "toolitems": [
        [
         "Home",
         "Reset original view",
         "home",
         "home"
        ],
        [
         "Back",
         "Back to previous view",
         "arrow-left",
         "back"
        ],
        [
         "Forward",
         "Forward to next view",
         "arrow-right",
         "forward"
        ],
        [
         "Pan",
         "Pan axes with left mouse, zoom with right",
         "arrows",
         "pan"
        ],
        [
         "Zoom",
         "Zoom to rectangle",
         "square-o",
         "zoom"
        ],
        [
         "Download",
         "Download plot",
         "floppy-o",
         "save_figure"
        ]
       ]
      }
     },
     "367b0da27ba04604a09f3783a5c0aeb3": {
      "model_module": "@jupyter-widgets/base",
      "model_module_version": "1.2.0",
      "model_name": "LayoutModel",
      "state": {}
     },
     "36ffbe31f0dd4a9c8bfe06abb08af4b2": {
      "model_module": "@jupyter-widgets/base",
      "model_module_version": "1.2.0",
      "model_name": "LayoutModel",
      "state": {}
     },
     "370a0fddcfea4574aeaf5257e3ec27f1": {
      "model_module": "@jupyter-widgets/base",
      "model_module_version": "1.2.0",
      "model_name": "LayoutModel",
      "state": {}
     },
     "37a5f6b71fd0400f9d562e82f6c4beb7": {
      "model_module": "@jupyter-widgets/output",
      "model_module_version": "1.0.0",
      "model_name": "OutputModel",
      "state": {
       "layout": "IPY_MODEL_5cf8b01d42eb405fa884866fb57183ba"
      }
     },
     "37d319d79bc340ef855da7cd9857f791": {
      "model_module": "@jupyter-widgets/output",
      "model_module_version": "1.0.0",
      "model_name": "OutputModel",
      "state": {
       "layout": "IPY_MODEL_7b2506debf1e4f838cd89ed6790b718c"
      }
     },
     "38add6b4752f47e2a8ff8e4c357ddbd7": {
      "model_module": "@jupyter-widgets/base",
      "model_module_version": "1.2.0",
      "model_name": "LayoutModel",
      "state": {}
     },
     "399b7df392b443259be41b62d1091dbd": {
      "model_module": "@jupyter-widgets/controls",
      "model_module_version": "1.5.0",
      "model_name": "VBoxModel",
      "state": {
       "_dom_classes": [
        "widget-interact"
       ],
       "children": [
        "IPY_MODEL_c2335099e6344b47b461ce96829e14d9",
        "IPY_MODEL_79e1db0af44e4fbcacd6abc8bcb7d418"
       ],
       "layout": "IPY_MODEL_444b3c4ffc8740a498035761e8be09ba"
      }
     },
     "3b19032547e241399365cd9592e2d070": {
      "model_module": "@jupyter-widgets/base",
      "model_module_version": "1.2.0",
      "model_name": "LayoutModel",
      "state": {}
     },
     "3b7983d4755348ceafae9553c1f9629a": {
      "model_module": "@jupyter-widgets/base",
      "model_module_version": "1.2.0",
      "model_name": "LayoutModel",
      "state": {}
     },
     "3be3824fca6442d3bf03208217eb56ba": {
      "model_module": "@jupyter-widgets/base",
      "model_module_version": "1.2.0",
      "model_name": "LayoutModel",
      "state": {}
     },
     "3cb98f7921214ed78ceb55a6c724ebb6": {
      "model_module": "@jupyter-widgets/base",
      "model_module_version": "1.2.0",
      "model_name": "LayoutModel",
      "state": {}
     },
     "3cc7fbe01dc043afa2e2cbea26b03a87": {
      "model_module": "@jupyter-widgets/base",
      "model_module_version": "1.2.0",
      "model_name": "LayoutModel",
      "state": {}
     },
     "3cf0a8a4a305476b9f995727d5b65937": {
      "model_module": "@jupyter-widgets/controls",
      "model_module_version": "1.5.0",
      "model_name": "VBoxModel",
      "state": {
       "_dom_classes": [
        "widget-interact"
       ],
       "children": [
        "IPY_MODEL_6094625a82ee477a8d2d3bbf8536c3fd",
        "IPY_MODEL_97ae0ba8148c43eead9cae030e6f3b39"
       ],
       "layout": "IPY_MODEL_ea26b1b598624ffa9ec1c81f62372c6d"
      }
     },
     "3cf7e2ea19434d8eae27d0342ce9059c": {
      "model_module": "@jupyter-widgets/base",
      "model_module_version": "1.2.0",
      "model_name": "LayoutModel",
      "state": {}
     },
     "3d0bd21e387a4617a4de5bdd306c2f4c": {
      "model_module": "@jupyter-widgets/controls",
      "model_module_version": "1.5.0",
      "model_name": "SliderStyleModel",
      "state": {
       "description_width": ""
      }
     },
     "3d71a6546739418492fe8a00faf4b9e9": {
      "model_module": "@jupyter-widgets/base",
      "model_module_version": "1.2.0",
      "model_name": "LayoutModel",
      "state": {}
     },
     "3de2e601288e4b8f95904888659d6319": {
      "model_module": "jupyter-matplotlib",
      "model_module_version": "^0.8.3",
      "model_name": "ToolbarModel",
      "state": {
       "layout": "IPY_MODEL_f128d07a79ef453a89f4518cfd333191",
       "toolitems": [
        [
         "Home",
         "Reset original view",
         "home",
         "home"
        ],
        [
         "Back",
         "Back to previous view",
         "arrow-left",
         "back"
        ],
        [
         "Forward",
         "Forward to next view",
         "arrow-right",
         "forward"
        ],
        [
         "Pan",
         "Pan axes with left mouse, zoom with right",
         "arrows",
         "pan"
        ],
        [
         "Zoom",
         "Zoom to rectangle",
         "square-o",
         "zoom"
        ],
        [
         "Download",
         "Download plot",
         "floppy-o",
         "save_figure"
        ]
       ]
      }
     },
     "3ea539f1a7014200a28f519daeaaa7f5": {
      "model_module": "@jupyter-widgets/controls",
      "model_module_version": "1.5.0",
      "model_name": "IntSliderModel",
      "state": {
       "description": "Iteration",
       "layout": "IPY_MODEL_65895e12c1c6488980ccfb6862ea196f",
       "max": 19,
       "style": "IPY_MODEL_a70e1aabfb2c485f96c34e1db94990e5",
       "value": 12
      }
     },
     "3f4ac097c68048dcbb6a5b2c6033b10a": {
      "model_module": "@jupyter-widgets/base",
      "model_module_version": "1.2.0",
      "model_name": "LayoutModel",
      "state": {}
     },
     "3fb915941ae24e2fb7084a618446cb2c": {
      "model_module": "@jupyter-widgets/output",
      "model_module_version": "1.0.0",
      "model_name": "OutputModel",
      "state": {
       "layout": "IPY_MODEL_38add6b4752f47e2a8ff8e4c357ddbd7"
      }
     },
     "3fc9d245df504af6b38fa6d2ffe664cb": {
      "model_module": "@jupyter-widgets/base",
      "model_module_version": "1.2.0",
      "model_name": "LayoutModel",
      "state": {}
     },
     "40386b41cd5545c087dc454ad48e60d6": {
      "model_module": "@jupyter-widgets/controls",
      "model_module_version": "1.5.0",
      "model_name": "HBoxModel",
      "state": {
       "children": [
        "IPY_MODEL_5b6b56e610f24af3b9c558646f024c87",
        "IPY_MODEL_6672a71003954c5788142c67c812ac4f"
       ],
       "layout": "IPY_MODEL_b28454b759a449d6935db31a3100367a"
      }
     },
     "405fc8f1f1f44fd9b2df3334c4df590e": {
      "model_module": "@jupyter-widgets/base",
      "model_module_version": "1.2.0",
      "model_name": "LayoutModel",
      "state": {}
     },
     "4068ee9784e146e79263ea125485465a": {
      "model_module": "@jupyter-widgets/base",
      "model_module_version": "1.2.0",
      "model_name": "LayoutModel",
      "state": {}
     },
     "40903a8e65c04514962be51ee3dbb103": {
      "model_module": "@jupyter-widgets/controls",
      "model_module_version": "1.5.0",
      "model_name": "SliderStyleModel",
      "state": {
       "description_width": ""
      }
     },
     "40ae165b22d4444aaaeeda88c3e51540": {
      "model_module": "@jupyter-widgets/controls",
      "model_module_version": "1.5.0",
      "model_name": "SliderStyleModel",
      "state": {
       "description_width": ""
      }
     },
     "40c61d3ce1de4538a1249e5d461725dc": {
      "model_module": "jupyter-matplotlib",
      "model_module_version": "^0.8.3",
      "model_name": "ToolbarModel",
      "state": {
       "layout": "IPY_MODEL_147efa7d514d4a74b586c6e939e37c24",
       "toolitems": [
        [
         "Home",
         "Reset original view",
         "home",
         "home"
        ],
        [
         "Back",
         "Back to previous view",
         "arrow-left",
         "back"
        ],
        [
         "Forward",
         "Forward to next view",
         "arrow-right",
         "forward"
        ],
        [
         "Pan",
         "Pan axes with left mouse, zoom with right",
         "arrows",
         "pan"
        ],
        [
         "Zoom",
         "Zoom to rectangle",
         "square-o",
         "zoom"
        ],
        [
         "Download",
         "Download plot",
         "floppy-o",
         "save_figure"
        ]
       ]
      }
     },
     "412b5a467dcd402a84d0c27256cfe010": {
      "model_module": "@jupyter-widgets/base",
      "model_module_version": "1.2.0",
      "model_name": "LayoutModel",
      "state": {}
     },
     "41d5d68180ce49ec83543afa244c7eb6": {
      "model_module": "@jupyter-widgets/controls",
      "model_module_version": "1.5.0",
      "model_name": "IntSliderModel",
      "state": {
       "description": "$\\lambda$-index",
       "layout": "IPY_MODEL_68104a996564417c83296bdc11315715",
       "max": 69,
       "style": "IPY_MODEL_c586b0cba3334265861cfb43fd7b1d9e"
      }
     },
     "41fc0933589e495ebecd704a79fc1543": {
      "model_module": "@jupyter-widgets/base",
      "model_module_version": "1.2.0",
      "model_name": "LayoutModel",
      "state": {}
     },
     "4223a2d408d24105b3aaa77936e185d0": {
      "model_module": "jupyter-matplotlib",
      "model_module_version": "^0.8.3",
      "model_name": "ToolbarModel",
      "state": {
       "layout": "IPY_MODEL_78370241b5434a819cff9d89993dfdf2",
       "toolitems": [
        [
         "Home",
         "Reset original view",
         "home",
         "home"
        ],
        [
         "Back",
         "Back to previous view",
         "arrow-left",
         "back"
        ],
        [
         "Forward",
         "Forward to next view",
         "arrow-right",
         "forward"
        ],
        [
         "Pan",
         "Pan axes with left mouse, zoom with right",
         "arrows",
         "pan"
        ],
        [
         "Zoom",
         "Zoom to rectangle",
         "square-o",
         "zoom"
        ],
        [
         "Download",
         "Download plot",
         "floppy-o",
         "save_figure"
        ]
       ]
      }
     },
     "4360f4572687492c9b993c618ff90018": {
      "model_module": "@jupyter-widgets/base",
      "model_module_version": "1.2.0",
      "model_name": "LayoutModel",
      "state": {}
     },
     "444b3c4ffc8740a498035761e8be09ba": {
      "model_module": "@jupyter-widgets/base",
      "model_module_version": "1.2.0",
      "model_name": "LayoutModel",
      "state": {}
     },
     "449b97825e824d0db3bdfccb05730ac5": {
      "model_module": "@jupyter-widgets/base",
      "model_module_version": "1.2.0",
      "model_name": "LayoutModel",
      "state": {}
     },
     "44b50606c0e44ae4ad49fb3288fa464e": {
      "model_module": "@jupyter-widgets/controls",
      "model_module_version": "1.5.0",
      "model_name": "IntSliderModel",
      "state": {
       "description": "$\\lambda$-index",
       "layout": "IPY_MODEL_370a0fddcfea4574aeaf5257e3ec27f1",
       "max": 99,
       "style": "IPY_MODEL_97b55ab24002477ea75b942bc2f78563",
       "value": 58
      }
     },
     "457e7c66c103458fb730118ec64983d7": {
      "model_module": "@jupyter-widgets/base",
      "model_module_version": "1.2.0",
      "model_name": "LayoutModel",
      "state": {}
     },
     "45edc006a2334727988b2d6821dba4e9": {
      "model_module": "@jupyter-widgets/base",
      "model_module_version": "1.2.0",
      "model_name": "LayoutModel",
      "state": {}
     },
     "46d457c82d9f4157abf6e625a265ff4d": {
      "model_module": "@jupyter-widgets/controls",
      "model_module_version": "1.5.0",
      "model_name": "VBoxModel",
      "state": {
       "_dom_classes": [
        "widget-interact"
       ],
       "children": [
        "IPY_MODEL_a4bd93941d074ba8970274705e6ded43",
        "IPY_MODEL_2e93a7df70ab418e87de22e342a6cdeb"
       ],
       "layout": "IPY_MODEL_85dd39c3d3f54854835132609ecf8cfe"
      }
     },
     "46d9c80139fb49f6b42bca42407859db": {
      "model_module": "jupyter-matplotlib",
      "model_module_version": "^0.8.3",
      "model_name": "ToolbarModel",
      "state": {
       "layout": "IPY_MODEL_dd61a81579cd462192b58ea4578591ba",
       "toolitems": [
        [
         "Home",
         "Reset original view",
         "home",
         "home"
        ],
        [
         "Back",
         "Back to previous view",
         "arrow-left",
         "back"
        ],
        [
         "Forward",
         "Forward to next view",
         "arrow-right",
         "forward"
        ],
        [
         "Pan",
         "Pan axes with left mouse, zoom with right",
         "arrows",
         "pan"
        ],
        [
         "Zoom",
         "Zoom to rectangle",
         "square-o",
         "zoom"
        ],
        [
         "Download",
         "Download plot",
         "floppy-o",
         "save_figure"
        ]
       ]
      }
     },
     "487936ebf011465b809b19676a59a980": {
      "model_module": "@jupyter-widgets/base",
      "model_module_version": "1.2.0",
      "model_name": "LayoutModel",
      "state": {}
     },
     "488d71119379405980076077e795571b": {
      "model_module": "@jupyter-widgets/base",
      "model_module_version": "1.2.0",
      "model_name": "LayoutModel",
      "state": {}
     },
     "48aab8ef37e84df6af7b4ca0ddf3473b": {
      "model_module": "jupyter-matplotlib",
      "model_module_version": "^0.8.3",
      "model_name": "ToolbarModel",
      "state": {
       "layout": "IPY_MODEL_cdadf93e9d7642bc9f195596a57fb0b8",
       "toolitems": [
        [
         "Home",
         "Reset original view",
         "home",
         "home"
        ],
        [
         "Back",
         "Back to previous view",
         "arrow-left",
         "back"
        ],
        [
         "Forward",
         "Forward to next view",
         "arrow-right",
         "forward"
        ],
        [
         "Pan",
         "Pan axes with left mouse, zoom with right",
         "arrows",
         "pan"
        ],
        [
         "Zoom",
         "Zoom to rectangle",
         "square-o",
         "zoom"
        ],
        [
         "Download",
         "Download plot",
         "floppy-o",
         "save_figure"
        ]
       ]
      }
     },
     "49008d482d9d4e9db589f2ce5a1225de": {
      "model_module": "@jupyter-widgets/base",
      "model_module_version": "1.2.0",
      "model_name": "LayoutModel",
      "state": {}
     },
     "4913b2db231643a7bd8e0d8569bf2fea": {
      "model_module": "@jupyter-widgets/controls",
      "model_module_version": "1.5.0",
      "model_name": "IntSliderModel",
      "state": {
       "description": "Iteration",
       "layout": "IPY_MODEL_77afe2e72cf34e88ac1623bc40372e51",
       "max": 19,
       "style": "IPY_MODEL_afccb39c24fe45369a775031d4835da0",
       "value": 17
      }
     },
     "4a4d4747a76a4b6ebfb8eb4ac39cb748": {
      "model_module": "jupyter-matplotlib",
      "model_module_version": "^0.8.3",
      "model_name": "MPLCanvasModel",
      "state": {
       "_figure_label": "Figure 4",
       "_height": 384,
       "_image_mode": "diff",
       "_width": 960,
       "header_visible": false,
       "layout": "IPY_MODEL_ab48811ab3e94d3f84cae578c7079456",
       "resizable": false,
       "toolbar": "IPY_MODEL_27552a8e64ac4c50a34b042e9b92f31a",
       "toolbar_position": "left",
       "toolbar_visible": false
      }
     },
     "4b225137038b4f2fb2599d7ba03c04d8": {
      "model_module": "@jupyter-widgets/base",
      "model_module_version": "1.2.0",
      "model_name": "LayoutModel",
      "state": {}
     },
     "4b3c54c12a3a492a8c87d78f9c447a60": {
      "model_module": "@jupyter-widgets/controls",
      "model_module_version": "1.5.0",
      "model_name": "VBoxModel",
      "state": {
       "_dom_classes": [
        "widget-interact"
       ],
       "children": [
        "IPY_MODEL_7db2935edb1e4f6eb794745abf824d6f",
        "IPY_MODEL_efe3294fb6384f7bac670f800899b492"
       ],
       "layout": "IPY_MODEL_620980d878954e189778f5fbb369540f"
      }
     },
     "4b6eeffa51b948ab9cf4d76bebc12d5c": {
      "model_module": "@jupyter-widgets/base",
      "model_module_version": "1.2.0",
      "model_name": "LayoutModel",
      "state": {}
     },
     "4c5167000a1f48ca918d329e2e8d9ca0": {
      "model_module": "@jupyter-widgets/base",
      "model_module_version": "1.2.0",
      "model_name": "LayoutModel",
      "state": {}
     },
     "4d555b9f610e472688dd40dbc401c43c": {
      "model_module": "@jupyter-widgets/controls",
      "model_module_version": "1.5.0",
      "model_name": "IntSliderModel",
      "state": {
       "layout": "IPY_MODEL_115f19dd188d490d979555d4dc10de15",
       "style": "IPY_MODEL_6b10c88b0b654544ac7cfe9bfc94c3bd"
      }
     },
     "4d63d3fcc2e04f86ba5965875a8e6a3c": {
      "model_module": "@jupyter-widgets/base",
      "model_module_version": "1.2.0",
      "model_name": "LayoutModel",
      "state": {}
     },
     "4d8ab0f4df2c44a5a3c611e70f1672c9": {
      "model_module": "@jupyter-widgets/controls",
      "model_module_version": "1.5.0",
      "model_name": "IntSliderModel",
      "state": {
       "layout": "IPY_MODEL_4d63d3fcc2e04f86ba5965875a8e6a3c",
       "style": "IPY_MODEL_98ea92e30d274d49b4b7d6dc9d11a8f7"
      }
     },
     "4df0ac8b45fa478b99e23d51b0295a25": {
      "model_module": "@jupyter-widgets/controls",
      "model_module_version": "1.5.0",
      "model_name": "SliderStyleModel",
      "state": {
       "description_width": ""
      }
     },
     "4f3b63a0b13e448db30f7f94183ec3b3": {
      "model_module": "@jupyter-widgets/base",
      "model_module_version": "1.2.0",
      "model_name": "LayoutModel",
      "state": {}
     },
     "50d2132867854eb29b31c5728e247bb7": {
      "model_module": "@jupyter-widgets/base",
      "model_module_version": "1.2.0",
      "model_name": "LayoutModel",
      "state": {}
     },
     "513f0a42db9744a8b84e0e4b5e1536b5": {
      "model_module": "@jupyter-widgets/base",
      "model_module_version": "1.2.0",
      "model_name": "LayoutModel",
      "state": {}
     },
     "516ebee65f254bd8846ffeb0566436a6": {
      "model_module": "@jupyter-widgets/base",
      "model_module_version": "1.2.0",
      "model_name": "LayoutModel",
      "state": {}
     },
     "5171f683be2d42acabb68b054f30a0f9": {
      "model_module": "@jupyter-widgets/controls",
      "model_module_version": "1.5.0",
      "model_name": "IntSliderModel",
      "state": {
       "description": "$\\lambda$-index",
       "layout": "IPY_MODEL_b187f60f48a64e7499de5ea883a3b4a5",
       "max": 81,
       "style": "IPY_MODEL_c1d9387692674ccb9537910af915779b",
       "value": 17
      }
     },
     "55ebad1e11884ca781e9cbad603cbbcc": {
      "model_module": "@jupyter-widgets/base",
      "model_module_version": "1.2.0",
      "model_name": "LayoutModel",
      "state": {}
     },
     "56b474993c334ccc9b11ae76bee2863b": {
      "model_module": "@jupyter-widgets/controls",
      "model_module_version": "1.5.0",
      "model_name": "IntSliderModel",
      "state": {
       "description": "$\\lambda$-index",
       "layout": "IPY_MODEL_0feabfee181f4c13894c876fceb02514",
       "max": 99,
       "style": "IPY_MODEL_04f4a018542f4c6b873c8072c6168553"
      }
     },
     "5741a347d9f34d85ab28cddbb82bbfd8": {
      "model_module": "@jupyter-widgets/output",
      "model_module_version": "1.0.0",
      "model_name": "OutputModel",
      "state": {
       "layout": "IPY_MODEL_a5710c764202437f8743077a56992822"
      }
     },
     "58be68ef299c4c8fbca9022069ade35a": {
      "model_module": "@jupyter-widgets/controls",
      "model_module_version": "1.5.0",
      "model_name": "HBoxModel",
      "state": {
       "children": [
        "IPY_MODEL_d3aa47b9ec1a425c8c3120d650e4479f",
        "IPY_MODEL_9afc250ae6514a188c06d0066b5e2aa4"
       ],
       "layout": "IPY_MODEL_f23512da78dc4097b3b333a0d0d63448"
      }
     },
     "58d04be56a544cf8a988a0a089626c3d": {
      "model_module": "@jupyter-widgets/controls",
      "model_module_version": "1.5.0",
      "model_name": "HBoxModel",
      "state": {
       "children": [
        "IPY_MODEL_2931652701ac461fba32572123ca24d6",
        "IPY_MODEL_5d9f43b313044df0855961b23e705858"
       ],
       "layout": "IPY_MODEL_283db5c78a3d48b0a2df4cbc94b19d8b"
      }
     },
     "58f46a43b00943a38ad5e4576bfcfa5e": {
      "model_module": "@jupyter-widgets/controls",
      "model_module_version": "1.5.0",
      "model_name": "SliderStyleModel",
      "state": {
       "description_width": ""
      }
     },
     "5985307c0c9f428f887a18f9d4655426": {
      "model_module": "@jupyter-widgets/base",
      "model_module_version": "1.2.0",
      "model_name": "LayoutModel",
      "state": {}
     },
     "5a7cf4821b7c4edd969a60f75f34f888": {
      "model_module": "@jupyter-widgets/controls",
      "model_module_version": "1.5.0",
      "model_name": "VBoxModel",
      "state": {
       "_dom_classes": [
        "widget-interact"
       ],
       "children": [
        "IPY_MODEL_44b50606c0e44ae4ad49fb3288fa464e",
        "IPY_MODEL_967f45aeabc442d78e3bb922c6ce24b4"
       ],
       "layout": "IPY_MODEL_da33c9c6f8bb43a1baf8d6201cad617b"
      }
     },
     "5afcb53b164e493bad782a6e9c94273e": {
      "model_module": "@jupyter-widgets/output",
      "model_module_version": "1.0.0",
      "model_name": "OutputModel",
      "state": {
       "layout": "IPY_MODEL_0acccbcaa00143f89c4f64c1f9b770fe"
      }
     },
     "5b2559b988544366a3ad97c78411e0cd": {
      "model_module": "@jupyter-widgets/base",
      "model_module_version": "1.2.0",
      "model_name": "LayoutModel",
      "state": {}
     },
     "5b42d449689440b495e75981f420f1c4": {
      "model_module": "@jupyter-widgets/base",
      "model_module_version": "1.2.0",
      "model_name": "LayoutModel",
      "state": {}
     },
     "5b4b385a207644a681eb3f4ba33a67b4": {
      "model_module": "@jupyter-widgets/base",
      "model_module_version": "1.2.0",
      "model_name": "LayoutModel",
      "state": {}
     },
     "5b6b56e610f24af3b9c558646f024c87": {
      "model_module": "@jupyter-widgets/controls",
      "model_module_version": "1.5.0",
      "model_name": "PlayModel",
      "state": {
       "description": "Press play",
       "interval": 50,
       "layout": "IPY_MODEL_b61a348a2ab147c6ba2dbc8c61d03746",
       "style": "IPY_MODEL_8d96e93bc73646b1b95cf562aee117b4"
      }
     },
     "5cf8b01d42eb405fa884866fb57183ba": {
      "model_module": "@jupyter-widgets/base",
      "model_module_version": "1.2.0",
      "model_name": "LayoutModel",
      "state": {}
     },
     "5d9f43b313044df0855961b23e705858": {
      "model_module": "@jupyter-widgets/controls",
      "model_module_version": "1.5.0",
      "model_name": "IntSliderModel",
      "state": {
       "layout": "IPY_MODEL_b89e3527afe2462a97840809e70c93cb",
       "style": "IPY_MODEL_10feead54fd9481a9145142c7610db18"
      }
     },
     "5dfc6ebaf691424981e58acaf9896a84": {
      "model_module": "jupyter-matplotlib",
      "model_module_version": "^0.8.3",
      "model_name": "ToolbarModel",
      "state": {
       "layout": "IPY_MODEL_a7862022c7fa452c9ac9f0d238502f92",
       "toolitems": [
        [
         "Home",
         "Reset original view",
         "home",
         "home"
        ],
        [
         "Back",
         "Back to previous view",
         "arrow-left",
         "back"
        ],
        [
         "Forward",
         "Forward to next view",
         "arrow-right",
         "forward"
        ],
        [
         "Pan",
         "Pan axes with left mouse, zoom with right",
         "arrows",
         "pan"
        ],
        [
         "Zoom",
         "Zoom to rectangle",
         "square-o",
         "zoom"
        ],
        [
         "Download",
         "Download plot",
         "floppy-o",
         "save_figure"
        ]
       ]
      }
     },
     "5efef23fc03a47668233d5f46066f4ba": {
      "model_module": "@jupyter-widgets/base",
      "model_module_version": "1.2.0",
      "model_name": "LayoutModel",
      "state": {}
     },
     "5f2586ecca3b40bf972d131a06a3532c": {
      "model_module": "@jupyter-widgets/controls",
      "model_module_version": "1.5.0",
      "model_name": "FloatSliderModel",
      "state": {
       "description": "$\\alpha$",
       "layout": "IPY_MODEL_94eec05a78324b4ab70c5f52cecf66b3",
       "max": 2,
       "step": 0.001,
       "style": "IPY_MODEL_13364e3207bb4702a3b534a470785372",
       "value": 1.499
      }
     },
     "602e52bb2b834d668216a5d83e66238e": {
      "model_module": "@jupyter-widgets/controls",
      "model_module_version": "1.5.0",
      "model_name": "VBoxModel",
      "state": {
       "_dom_classes": [
        "widget-interact"
       ],
       "children": [
        "IPY_MODEL_da0a32f1e76b4e7bb4a67789998a2ac7",
        "IPY_MODEL_1ad512189d3f48cfaeb036297730796b"
       ],
       "layout": "IPY_MODEL_e98502068b0b4562a9839aca8c52ac9f"
      }
     },
     "6094625a82ee477a8d2d3bbf8536c3fd": {
      "model_module": "@jupyter-widgets/controls",
      "model_module_version": "1.5.0",
      "model_name": "IntSliderModel",
      "state": {
       "description": "$K$",
       "layout": "IPY_MODEL_85730563dcb842248352cccf4fb2bd5b",
       "min": 1,
       "style": "IPY_MODEL_6c4ba69dce9a46b9b7b2310344224c7c",
       "value": 1
      }
     },
     "60a418f6720d4049af1b81a6d17df669": {
      "model_module": "@jupyter-widgets/base",
      "model_module_version": "1.2.0",
      "model_name": "LayoutModel",
      "state": {}
     },
     "61984f8df9984326b54c6f2a8b3b3cdf": {
      "model_module": "@jupyter-widgets/controls",
      "model_module_version": "1.5.0",
      "model_name": "VBoxModel",
      "state": {
       "_dom_classes": [
        "widget-interact"
       ],
       "children": [
        "IPY_MODEL_e53701e33bc9464886762658aebc4699",
        "IPY_MODEL_19dcf2dd05c44359beb9a82a2f36c5a2"
       ],
       "layout": "IPY_MODEL_bc3b1589bb67451e8e8ff40c0d869229"
      }
     },
     "620980d878954e189778f5fbb369540f": {
      "model_module": "@jupyter-widgets/base",
      "model_module_version": "1.2.0",
      "model_name": "LayoutModel",
      "state": {}
     },
     "62e1cf0cf21b4a1cbc2233f3802ce8bb": {
      "model_module": "@jupyter-widgets/base",
      "model_module_version": "1.2.0",
      "model_name": "LayoutModel",
      "state": {}
     },
     "63a011ba613e4b2bb76d5b7326f7966d": {
      "model_module": "@jupyter-widgets/base",
      "model_module_version": "1.2.0",
      "model_name": "LayoutModel",
      "state": {}
     },
     "640d286e280b42bfa2a6a2749f493cf4": {
      "model_module": "@jupyter-widgets/base",
      "model_module_version": "1.2.0",
      "model_name": "LayoutModel",
      "state": {}
     },
     "646887cd6faf448c96d718dabf297ddb": {
      "model_module": "jupyter-matplotlib",
      "model_module_version": "^0.8.3",
      "model_name": "ToolbarModel",
      "state": {
       "layout": "IPY_MODEL_3b7983d4755348ceafae9553c1f9629a",
       "toolitems": [
        [
         "Home",
         "Reset original view",
         "home",
         "home"
        ],
        [
         "Back",
         "Back to previous view",
         "arrow-left",
         "back"
        ],
        [
         "Forward",
         "Forward to next view",
         "arrow-right",
         "forward"
        ],
        [
         "Pan",
         "Pan axes with left mouse, zoom with right",
         "arrows",
         "pan"
        ],
        [
         "Zoom",
         "Zoom to rectangle",
         "square-o",
         "zoom"
        ],
        [
         "Download",
         "Download plot",
         "floppy-o",
         "save_figure"
        ]
       ]
      }
     },
     "64d0983bdb224a43a9b08b654b9b0187": {
      "model_module": "jupyter-matplotlib",
      "model_module_version": "^0.8.3",
      "model_name": "ToolbarModel",
      "state": {
       "layout": "IPY_MODEL_968b1b00c9d34745912059be7b021fe0",
       "toolitems": [
        [
         "Home",
         "Reset original view",
         "home",
         "home"
        ],
        [
         "Back",
         "Back to previous view",
         "arrow-left",
         "back"
        ],
        [
         "Forward",
         "Forward to next view",
         "arrow-right",
         "forward"
        ],
        [
         "Pan",
         "Pan axes with left mouse, zoom with right",
         "arrows",
         "pan"
        ],
        [
         "Zoom",
         "Zoom to rectangle",
         "square-o",
         "zoom"
        ],
        [
         "Download",
         "Download plot",
         "floppy-o",
         "save_figure"
        ]
       ]
      }
     },
     "656809baaadc4faabf917b1253bba894": {
      "model_module": "@jupyter-widgets/base",
      "model_module_version": "1.2.0",
      "model_name": "LayoutModel",
      "state": {}
     },
     "6568b3bf8f5a4b9eac394fa2a7e31966": {
      "model_module": "@jupyter-widgets/base",
      "model_module_version": "1.2.0",
      "model_name": "LayoutModel",
      "state": {}
     },
     "65895e12c1c6488980ccfb6862ea196f": {
      "model_module": "@jupyter-widgets/base",
      "model_module_version": "1.2.0",
      "model_name": "LayoutModel",
      "state": {}
     },
     "65c6e7fbebd04ec189135b378bb406d0": {
      "model_module": "@jupyter-widgets/base",
      "model_module_version": "1.2.0",
      "model_name": "LayoutModel",
      "state": {}
     },
     "6642b43f2e474190ba8580d0a33e742e": {
      "model_module": "@jupyter-widgets/controls",
      "model_module_version": "1.5.0",
      "model_name": "VBoxModel",
      "state": {
       "_dom_classes": [
        "widget-interact"
       ],
       "children": [
        "IPY_MODEL_9b1c725e2b474215894598a25b2ebe92",
        "IPY_MODEL_bafe92ee4d4449fc8a1dba8a7be80024"
       ],
       "layout": "IPY_MODEL_b2464b8e25954a88989e93b3b34bd2b2"
      }
     },
     "664962b7dab3402981fb94a743199bb3": {
      "model_module": "jupyter-matplotlib",
      "model_module_version": "^0.8.3",
      "model_name": "ToolbarModel",
      "state": {
       "layout": "IPY_MODEL_e6922ee6597b44549f0f1290d7c57d03",
       "toolitems": [
        [
         "Home",
         "Reset original view",
         "home",
         "home"
        ],
        [
         "Back",
         "Back to previous view",
         "arrow-left",
         "back"
        ],
        [
         "Forward",
         "Forward to next view",
         "arrow-right",
         "forward"
        ],
        [
         "Pan",
         "Pan axes with left mouse, zoom with right",
         "arrows",
         "pan"
        ],
        [
         "Zoom",
         "Zoom to rectangle",
         "square-o",
         "zoom"
        ],
        [
         "Download",
         "Download plot",
         "floppy-o",
         "save_figure"
        ]
       ]
      }
     },
     "6672a71003954c5788142c67c812ac4f": {
      "model_module": "@jupyter-widgets/controls",
      "model_module_version": "1.5.0",
      "model_name": "IntSliderModel",
      "state": {
       "layout": "IPY_MODEL_e5b6cad842cb4aafa1221519f8477bee",
       "style": "IPY_MODEL_a1ccb91ed6d24e159a4414df1ef5c450"
      }
     },
     "674c05b6547a4c86bd4848ec999d5bfb": {
      "model_module": "@jupyter-widgets/controls",
      "model_module_version": "1.5.0",
      "model_name": "IntSliderModel",
      "state": {
       "description": "$\\lambda$-index",
       "layout": "IPY_MODEL_de802c1d1a1e466f9f1caab955a2e9c8",
       "max": 81,
       "style": "IPY_MODEL_2916e80231e346539733ddd0588068db",
       "value": 35
      }
     },
     "68104a996564417c83296bdc11315715": {
      "model_module": "@jupyter-widgets/base",
      "model_module_version": "1.2.0",
      "model_name": "LayoutModel",
      "state": {}
     },
     "6893998679644d32a7f23e5af324d470": {
      "model_module": "@jupyter-widgets/output",
      "model_module_version": "1.0.0",
      "model_name": "OutputModel",
      "state": {
       "layout": "IPY_MODEL_b80ef3877763403f9fb94fdf9b8cf7ab"
      }
     },
     "69394e5017cc46a1bce10331e40b7199": {
      "model_module": "@jupyter-widgets/base",
      "model_module_version": "1.2.0",
      "model_name": "LayoutModel",
      "state": {}
     },
     "696fe5d21ccd41eeb3331c2bc3abc2aa": {
      "model_module": "@jupyter-widgets/base",
      "model_module_version": "1.2.0",
      "model_name": "LayoutModel",
      "state": {}
     },
     "6a8dba476db04faab1852d070cbbf5e0": {
      "model_module": "@jupyter-widgets/controls",
      "model_module_version": "1.5.0",
      "model_name": "IntSliderModel",
      "state": {
       "description": "$\\lambda$-index",
       "layout": "IPY_MODEL_3d71a6546739418492fe8a00faf4b9e9",
       "max": 99,
       "style": "IPY_MODEL_d5583b561aa0410fbfdfae25ea462ff2"
      }
     },
     "6ac198a3274646b687377d23ecf7710a": {
      "model_module": "@jupyter-widgets/controls",
      "model_module_version": "1.5.0",
      "model_name": "SliderStyleModel",
      "state": {
       "description_width": ""
      }
     },
     "6ae92bd712b2491abd7a7446204492fc": {
      "model_module": "@jupyter-widgets/controls",
      "model_module_version": "1.5.0",
      "model_name": "SliderStyleModel",
      "state": {
       "description_width": ""
      }
     },
     "6b10c88b0b654544ac7cfe9bfc94c3bd": {
      "model_module": "@jupyter-widgets/controls",
      "model_module_version": "1.5.0",
      "model_name": "SliderStyleModel",
      "state": {
       "description_width": ""
      }
     },
     "6b660d02e4724ef9bfd012c676570263": {
      "model_module": "@jupyter-widgets/base",
      "model_module_version": "1.2.0",
      "model_name": "LayoutModel",
      "state": {}
     },
     "6b90ea8f937e4436a8912239247a72a0": {
      "model_module": "@jupyter-widgets/controls",
      "model_module_version": "1.5.0",
      "model_name": "IntSliderModel",
      "state": {
       "description": "$\\lambda$-index",
       "layout": "IPY_MODEL_1a4189a004684e6aa53947dafa44bbe1",
       "max": 70,
       "style": "IPY_MODEL_03ca68b5d81a4b008dcb4e21c862ef4f"
      }
     },
     "6b9a740989f146d0aa6a7c55d59d8770": {
      "model_module": "@jupyter-widgets/controls",
      "model_module_version": "1.5.0",
      "model_name": "IntSliderModel",
      "state": {
       "description": "$\\lambda$-index",
       "layout": "IPY_MODEL_81e7064620bc40e19e686fa5e28ce0c8",
       "max": 99,
       "style": "IPY_MODEL_40ae165b22d4444aaaeeda88c3e51540"
      }
     },
     "6be43d002ea84a0e8941e0c5ee46cb96": {
      "model_module": "@jupyter-widgets/base",
      "model_module_version": "1.2.0",
      "model_name": "LayoutModel",
      "state": {}
     },
     "6c4ba69dce9a46b9b7b2310344224c7c": {
      "model_module": "@jupyter-widgets/controls",
      "model_module_version": "1.5.0",
      "model_name": "SliderStyleModel",
      "state": {
       "description_width": ""
      }
     },
     "6cf613d08d9044168d6b8fa9d021878e": {
      "model_module": "@jupyter-widgets/base",
      "model_module_version": "1.2.0",
      "model_name": "LayoutModel",
      "state": {}
     },
     "6d7adfc1ae0f4dd3ba3c5d123a44f544": {
      "model_module": "@jupyter-widgets/controls",
      "model_module_version": "1.5.0",
      "model_name": "VBoxModel",
      "state": {
       "_dom_classes": [
        "widget-interact"
       ],
       "children": [
        "IPY_MODEL_0ceed97c675244d5985674a82597c199",
        "IPY_MODEL_c3ed8d05489d4f869b1086a911243744"
       ],
       "layout": "IPY_MODEL_01c4939bcead4ed4ada901d255921bb8"
      }
     },
     "6f2cec9af80a4529924d20876b2ededc": {
      "model_module": "@jupyter-widgets/output",
      "model_module_version": "1.0.0",
      "model_name": "OutputModel",
      "state": {
       "layout": "IPY_MODEL_aab6129522af45cd878c88934b22d7d1"
      }
     },
     "6f39b3e746544db4af95f634e3b2c3de": {
      "model_module": "@jupyter-widgets/base",
      "model_module_version": "1.2.0",
      "model_name": "LayoutModel",
      "state": {}
     },
     "714e133a250643c58c82d743c0717205": {
      "model_module": "@jupyter-widgets/base",
      "model_module_version": "1.2.0",
      "model_name": "LayoutModel",
      "state": {}
     },
     "71965e4a659d4681b733e5e34981dd43": {
      "model_module": "@jupyter-widgets/base",
      "model_module_version": "1.2.0",
      "model_name": "LayoutModel",
      "state": {}
     },
     "71c3597c4ec74fd9902c4ff9cea885b8": {
      "model_module": "@jupyter-widgets/base",
      "model_module_version": "1.2.0",
      "model_name": "LayoutModel",
      "state": {}
     },
     "71d3a06563bd42beaa8e1ac6e75d1c77": {
      "model_module": "@jupyter-widgets/controls",
      "model_module_version": "1.5.0",
      "model_name": "VBoxModel",
      "state": {
       "_dom_classes": [
        "widget-interact"
       ],
       "children": [
        "IPY_MODEL_6b9a740989f146d0aa6a7c55d59d8770",
        "IPY_MODEL_7b91956cbd8547d3aa36f1474fd71b84"
       ],
       "layout": "IPY_MODEL_9690565005174f5590c7feb1de6d5a67"
      }
     },
     "71ea85322908454093dfbccd1ca911cf": {
      "model_module": "@jupyter-widgets/base",
      "model_module_version": "1.2.0",
      "model_name": "LayoutModel",
      "state": {}
     },
     "72389b6a1d57475fb7a5eb4604fd06d1": {
      "model_module": "@jupyter-widgets/base",
      "model_module_version": "1.2.0",
      "model_name": "LayoutModel",
      "state": {}
     },
     "724e9d3c19de4fadbc3f3aa009061de2": {
      "model_module": "jupyter-matplotlib",
      "model_module_version": "^0.8.3",
      "model_name": "ToolbarModel",
      "state": {
       "layout": "IPY_MODEL_b25df5944559417aadb27e43d9f4e1bd",
       "toolitems": [
        [
         "Home",
         "Reset original view",
         "home",
         "home"
        ],
        [
         "Back",
         "Back to previous view",
         "arrow-left",
         "back"
        ],
        [
         "Forward",
         "Forward to next view",
         "arrow-right",
         "forward"
        ],
        [
         "Pan",
         "Pan axes with left mouse, zoom with right",
         "arrows",
         "pan"
        ],
        [
         "Zoom",
         "Zoom to rectangle",
         "square-o",
         "zoom"
        ],
        [
         "Download",
         "Download plot",
         "floppy-o",
         "save_figure"
        ]
       ]
      }
     },
     "726d4f47a0d648569b18653f2f221ca4": {
      "model_module": "@jupyter-widgets/base",
      "model_module_version": "1.2.0",
      "model_name": "LayoutModel",
      "state": {}
     },
     "730f9924f539426d92a79ef65e0a6d9f": {
      "model_module": "@jupyter-widgets/base",
      "model_module_version": "1.2.0",
      "model_name": "LayoutModel",
      "state": {}
     },
     "7322324fc44748ac8db7b811027abc2e": {
      "model_module": "@jupyter-widgets/base",
      "model_module_version": "1.2.0",
      "model_name": "LayoutModel",
      "state": {}
     },
     "732f739175554320a501eff703990bf4": {
      "model_module": "@jupyter-widgets/base",
      "model_module_version": "1.2.0",
      "model_name": "LayoutModel",
      "state": {}
     },
     "73c21637b58b4c56b7711b1becb2fe58": {
      "model_module": "@jupyter-widgets/base",
      "model_module_version": "1.2.0",
      "model_name": "LayoutModel",
      "state": {}
     },
     "746f1db05823447ba739d60f03d5e2e3": {
      "model_module": "@jupyter-widgets/base",
      "model_module_version": "1.2.0",
      "model_name": "LayoutModel",
      "state": {}
     },
     "74d04700cc734191a0b662af83a18a8a": {
      "model_module": "jupyter-matplotlib",
      "model_module_version": "^0.8.3",
      "model_name": "ToolbarModel",
      "state": {
       "layout": "IPY_MODEL_0b174c81deb74806a51091394593b632",
       "toolitems": [
        [
         "Home",
         "Reset original view",
         "home",
         "home"
        ],
        [
         "Back",
         "Back to previous view",
         "arrow-left",
         "back"
        ],
        [
         "Forward",
         "Forward to next view",
         "arrow-right",
         "forward"
        ],
        [
         "Pan",
         "Pan axes with left mouse, zoom with right",
         "arrows",
         "pan"
        ],
        [
         "Zoom",
         "Zoom to rectangle",
         "square-o",
         "zoom"
        ],
        [
         "Download",
         "Download plot",
         "floppy-o",
         "save_figure"
        ]
       ]
      }
     },
     "75a94b68ed274a9ebcffc613b766765c": {
      "model_module": "jupyter-matplotlib",
      "model_module_version": "^0.8.3",
      "model_name": "ToolbarModel",
      "state": {
       "layout": "IPY_MODEL_b528157c20d244dcbf3aaca0dcf4626e",
       "toolitems": [
        [
         "Home",
         "Reset original view",
         "home",
         "home"
        ],
        [
         "Back",
         "Back to previous view",
         "arrow-left",
         "back"
        ],
        [
         "Forward",
         "Forward to next view",
         "arrow-right",
         "forward"
        ],
        [
         "Pan",
         "Pan axes with left mouse, zoom with right",
         "arrows",
         "pan"
        ],
        [
         "Zoom",
         "Zoom to rectangle",
         "square-o",
         "zoom"
        ],
        [
         "Download",
         "Download plot",
         "floppy-o",
         "save_figure"
        ]
       ]
      }
     },
     "76612265fdb3427283c4a6aff782f934": {
      "model_module": "jupyter-matplotlib",
      "model_module_version": "^0.8.3",
      "model_name": "ToolbarModel",
      "state": {
       "layout": "IPY_MODEL_2cfba3790d554233b69fca61546f311f",
       "toolitems": [
        [
         "Home",
         "Reset original view",
         "home",
         "home"
        ],
        [
         "Back",
         "Back to previous view",
         "arrow-left",
         "back"
        ],
        [
         "Forward",
         "Forward to next view",
         "arrow-right",
         "forward"
        ],
        [
         "Pan",
         "Pan axes with left mouse, zoom with right",
         "arrows",
         "pan"
        ],
        [
         "Zoom",
         "Zoom to rectangle",
         "square-o",
         "zoom"
        ],
        [
         "Download",
         "Download plot",
         "floppy-o",
         "save_figure"
        ]
       ]
      }
     },
     "768ef4fe5abe48cfa7d4f72c22ca2807": {
      "model_module": "@jupyter-widgets/base",
      "model_module_version": "1.2.0",
      "model_name": "LayoutModel",
      "state": {}
     },
     "770a2de101924f50845382dfa099deec": {
      "model_module": "@jupyter-widgets/controls",
      "model_module_version": "1.5.0",
      "model_name": "SliderStyleModel",
      "state": {
       "description_width": ""
      }
     },
     "776fb11281954d9dbf64fb73ad9d764c": {
      "model_module": "@jupyter-widgets/controls",
      "model_module_version": "1.5.0",
      "model_name": "DescriptionStyleModel",
      "state": {
       "description_width": ""
      }
     },
     "77afe2e72cf34e88ac1623bc40372e51": {
      "model_module": "@jupyter-widgets/base",
      "model_module_version": "1.2.0",
      "model_name": "LayoutModel",
      "state": {}
     },
     "77d5a44651ad463fb94120bd3b4e2b27": {
      "model_module": "@jupyter-widgets/base",
      "model_module_version": "1.2.0",
      "model_name": "LayoutModel",
      "state": {}
     },
     "78370241b5434a819cff9d89993dfdf2": {
      "model_module": "@jupyter-widgets/base",
      "model_module_version": "1.2.0",
      "model_name": "LayoutModel",
      "state": {}
     },
     "7848bd11b880476c82613d173f62b11c": {
      "model_module": "@jupyter-widgets/controls",
      "model_module_version": "1.5.0",
      "model_name": "SliderStyleModel",
      "state": {
       "description_width": ""
      }
     },
     "78d1033f13bc43a1a0d37955358e306c": {
      "model_module": "@jupyter-widgets/base",
      "model_module_version": "1.2.0",
      "model_name": "LayoutModel",
      "state": {}
     },
     "78f6c94eafe2463c89a067edb7d65034": {
      "model_module": "@jupyter-widgets/base",
      "model_module_version": "1.2.0",
      "model_name": "LayoutModel",
      "state": {}
     },
     "7902d2457df340b38c01d51ecc680230": {
      "model_module": "@jupyter-widgets/base",
      "model_module_version": "1.2.0",
      "model_name": "LayoutModel",
      "state": {}
     },
     "794d76fad13d4e89a741fb2fda177099": {
      "model_module": "@jupyter-widgets/controls",
      "model_module_version": "1.5.0",
      "model_name": "DescriptionStyleModel",
      "state": {
       "description_width": ""
      }
     },
     "79e1db0af44e4fbcacd6abc8bcb7d418": {
      "model_module": "@jupyter-widgets/output",
      "model_module_version": "1.0.0",
      "model_name": "OutputModel",
      "state": {
       "layout": "IPY_MODEL_884874918bd842ef8217e45087d2c4a9"
      }
     },
     "7a6a4ba0bd234c5dab4f45e95988425f": {
      "model_module": "@jupyter-widgets/output",
      "model_module_version": "1.0.0",
      "model_name": "OutputModel",
      "state": {
       "layout": "IPY_MODEL_d3bc9aa68e7e4246b57191d0d3d0c2c4"
      }
     },
     "7b2506debf1e4f838cd89ed6790b718c": {
      "model_module": "@jupyter-widgets/base",
      "model_module_version": "1.2.0",
      "model_name": "LayoutModel",
      "state": {}
     },
     "7b280be551494a69a3c7c58a04c6b54e": {
      "model_module": "@jupyter-widgets/base",
      "model_module_version": "1.2.0",
      "model_name": "LayoutModel",
      "state": {}
     },
     "7b91956cbd8547d3aa36f1474fd71b84": {
      "model_module": "@jupyter-widgets/output",
      "model_module_version": "1.0.0",
      "model_name": "OutputModel",
      "state": {
       "layout": "IPY_MODEL_4360f4572687492c9b993c618ff90018"
      }
     },
     "7cc2d721808e45ab9068723440c915be": {
      "model_module": "@jupyter-widgets/base",
      "model_module_version": "1.2.0",
      "model_name": "LayoutModel",
      "state": {}
     },
     "7ccca4c46da04b4d9e72b17f5acccb99": {
      "model_module": "@jupyter-widgets/base",
      "model_module_version": "1.2.0",
      "model_name": "LayoutModel",
      "state": {}
     },
     "7ce4ad1f56dd4836bc9a66c6275a4b92": {
      "model_module": "@jupyter-widgets/base",
      "model_module_version": "1.2.0",
      "model_name": "LayoutModel",
      "state": {}
     },
     "7d1475e896cc48aaa7475dbdb3baeebf": {
      "model_module": "jupyter-matplotlib",
      "model_module_version": "^0.8.3",
      "model_name": "ToolbarModel",
      "state": {
       "layout": "IPY_MODEL_71c3597c4ec74fd9902c4ff9cea885b8",
       "toolitems": [
        [
         "Home",
         "Reset original view",
         "home",
         "home"
        ],
        [
         "Back",
         "Back to previous view",
         "arrow-left",
         "back"
        ],
        [
         "Forward",
         "Forward to next view",
         "arrow-right",
         "forward"
        ],
        [
         "Pan",
         "Pan axes with left mouse, zoom with right",
         "arrows",
         "pan"
        ],
        [
         "Zoom",
         "Zoom to rectangle",
         "square-o",
         "zoom"
        ],
        [
         "Download",
         "Download plot",
         "floppy-o",
         "save_figure"
        ]
       ]
      }
     },
     "7d2f22cb192c4366a566d2ded8ff1b96": {
      "model_module": "@jupyter-widgets/base",
      "model_module_version": "1.2.0",
      "model_name": "LayoutModel",
      "state": {}
     },
     "7db2935edb1e4f6eb794745abf824d6f": {
      "model_module": "@jupyter-widgets/controls",
      "model_module_version": "1.5.0",
      "model_name": "IntSliderModel",
      "state": {
       "description": "$\\lambda$-index",
       "layout": "IPY_MODEL_1449089c02964275bf93c25dfad41601",
       "max": 91,
       "style": "IPY_MODEL_b445519ffb364477a2add237aab9cbe5"
      }
     },
     "7dcb2561eeac434c8ac0df3a96f8f2aa": {
      "model_module": "@jupyter-widgets/base",
      "model_module_version": "1.2.0",
      "model_name": "LayoutModel",
      "state": {}
     },
     "7deed60443984a57b5a3c2f57d088291": {
      "model_module": "@jupyter-widgets/controls",
      "model_module_version": "1.5.0",
      "model_name": "FloatSliderModel",
      "state": {
       "description": "$\\alpha$",
       "layout": "IPY_MODEL_049f80c0404c4fad8a64e0fa12ba89ac",
       "max": 2,
       "step": 0.001,
       "style": "IPY_MODEL_a4541464d82d43e8a2bccf4d6c51278c",
       "value": 0.01
      }
     },
     "7e6e7ad157764834a2c1501cb38dc5f6": {
      "model_module": "@jupyter-widgets/controls",
      "model_module_version": "1.5.0",
      "model_name": "SliderStyleModel",
      "state": {
       "description_width": ""
      }
     },
     "7eabe25e62d24b9e887a24b1d736da9c": {
      "model_module": "@jupyter-widgets/controls",
      "model_module_version": "1.5.0",
      "model_name": "IntSliderModel",
      "state": {
       "description": "Iteration",
       "layout": "IPY_MODEL_e5969529b2cb437e89957b49c4ee4155",
       "max": 19,
       "style": "IPY_MODEL_0bab5b6994814044a3a7c7ea258001d0"
      }
     },
     "7eaee58fc3d242fc974aca406a97a48b": {
      "model_module": "@jupyter-widgets/controls",
      "model_module_version": "1.5.0",
      "model_name": "IntSliderModel",
      "state": {
       "layout": "IPY_MODEL_35765bed2ad240a0b834d5fc3efe385c",
       "style": "IPY_MODEL_abeef3fd397e48b18f8c71aff3c80e36"
      }
     },
     "7eea2a35d8fc4009a99e17023fd825d6": {
      "model_module": "@jupyter-widgets/controls",
      "model_module_version": "1.5.0",
      "model_name": "IntSliderModel",
      "state": {
       "description": "$K$",
       "layout": "IPY_MODEL_4068ee9784e146e79263ea125485465a",
       "min": 1,
       "style": "IPY_MODEL_c290de06030f45348d0cc3235144cd60",
       "value": 1
      }
     },
     "7f0719d11ac0433887f2414a8927115b": {
      "model_module": "@jupyter-widgets/base",
      "model_module_version": "1.2.0",
      "model_name": "LayoutModel",
      "state": {}
     },
     "7f59d451daf6428ab0c16ea6503f4173": {
      "model_module": "@jupyter-widgets/base",
      "model_module_version": "1.2.0",
      "model_name": "LayoutModel",
      "state": {}
     },
     "81548dfba3364c778fa86c2fc532b6a2": {
      "model_module": "@jupyter-widgets/base",
      "model_module_version": "1.2.0",
      "model_name": "LayoutModel",
      "state": {}
     },
     "81e7064620bc40e19e686fa5e28ce0c8": {
      "model_module": "@jupyter-widgets/base",
      "model_module_version": "1.2.0",
      "model_name": "LayoutModel",
      "state": {}
     },
     "81fdbb0b3efa48d89692c18d1cfb88f6": {
      "model_module": "jupyter-matplotlib",
      "model_module_version": "^0.8.3",
      "model_name": "ToolbarModel",
      "state": {
       "layout": "IPY_MODEL_457e7c66c103458fb730118ec64983d7",
       "toolitems": [
        [
         "Home",
         "Reset original view",
         "home",
         "home"
        ],
        [
         "Back",
         "Back to previous view",
         "arrow-left",
         "back"
        ],
        [
         "Forward",
         "Forward to next view",
         "arrow-right",
         "forward"
        ],
        [
         "Pan",
         "Pan axes with left mouse, zoom with right",
         "arrows",
         "pan"
        ],
        [
         "Zoom",
         "Zoom to rectangle",
         "square-o",
         "zoom"
        ],
        [
         "Download",
         "Download plot",
         "floppy-o",
         "save_figure"
        ]
       ]
      }
     },
     "82351f8b575f48b08fb9c138ecc650fe": {
      "model_module": "@jupyter-widgets/controls",
      "model_module_version": "1.5.0",
      "model_name": "SliderStyleModel",
      "state": {
       "description_width": ""
      }
     },
     "825b95b9e28b49558dd13b526ef9992a": {
      "model_module": "@jupyter-widgets/output",
      "model_module_version": "1.0.0",
      "model_name": "OutputModel",
      "state": {
       "layout": "IPY_MODEL_3b19032547e241399365cd9592e2d070"
      }
     },
     "82901a15c3d14c74a6bef553653bb052": {
      "model_module": "jupyter-matplotlib",
      "model_module_version": "^0.8.3",
      "model_name": "MPLCanvasModel",
      "state": {
       "_figure_label": "Figure 3",
       "_height": 384,
       "_image_mode": "diff",
       "_width": 960,
       "header_visible": false,
       "layout": "IPY_MODEL_3f4ac097c68048dcbb6a5b2c6033b10a",
       "resizable": false,
       "toolbar": "IPY_MODEL_a875f9f62ede43f9b7322d49a178c4df",
       "toolbar_position": "left",
       "toolbar_visible": false
      }
     },
     "83828d80bb7642d89bd0c1d827543f18": {
      "model_module": "@jupyter-widgets/base",
      "model_module_version": "1.2.0",
      "model_name": "LayoutModel",
      "state": {}
     },
     "842accde4fbe47b08d9f9f35834a2370": {
      "model_module": "jupyter-matplotlib",
      "model_module_version": "^0.8.3",
      "model_name": "ToolbarModel",
      "state": {
       "layout": "IPY_MODEL_06bf25e3d08343c3a70c5680f516e846",
       "toolitems": [
        [
         "Home",
         "Reset original view",
         "home",
         "home"
        ],
        [
         "Back",
         "Back to previous view",
         "arrow-left",
         "back"
        ],
        [
         "Forward",
         "Forward to next view",
         "arrow-right",
         "forward"
        ],
        [
         "Pan",
         "Pan axes with left mouse, zoom with right",
         "arrows",
         "pan"
        ],
        [
         "Zoom",
         "Zoom to rectangle",
         "square-o",
         "zoom"
        ],
        [
         "Download",
         "Download plot",
         "floppy-o",
         "save_figure"
        ]
       ]
      }
     },
     "852b84b9276e4aa69aba8876eaa7ef9d": {
      "model_module": "@jupyter-widgets/base",
      "model_module_version": "1.2.0",
      "model_name": "LayoutModel",
      "state": {}
     },
     "85730563dcb842248352cccf4fb2bd5b": {
      "model_module": "@jupyter-widgets/base",
      "model_module_version": "1.2.0",
      "model_name": "LayoutModel",
      "state": {}
     },
     "85dd39c3d3f54854835132609ecf8cfe": {
      "model_module": "@jupyter-widgets/base",
      "model_module_version": "1.2.0",
      "model_name": "LayoutModel",
      "state": {}
     },
     "8615db6bdab24f72ad204e5647dfbf30": {
      "model_module": "@jupyter-widgets/base",
      "model_module_version": "1.2.0",
      "model_name": "LayoutModel",
      "state": {}
     },
     "868044a9d58d43b2bfc9a11d24e9294b": {
      "model_module": "@jupyter-widgets/controls",
      "model_module_version": "1.5.0",
      "model_name": "FloatSliderModel",
      "state": {
       "description": "$\\alpha$",
       "layout": "IPY_MODEL_2b5a711ee22a4bc497a0bb51fb1ecb3c",
       "max": 2,
       "step": 0.001,
       "style": "IPY_MODEL_ad6485f217c2419c9a16e46ab0b2c63e",
       "value": 1.042
      }
     },
     "870b6b480da2451d8ea3a3644e530051": {
      "model_module": "@jupyter-widgets/controls",
      "model_module_version": "1.5.0",
      "model_name": "VBoxModel",
      "state": {
       "_dom_classes": [
        "widget-interact"
       ],
       "children": [
        "IPY_MODEL_95e17702c7254f7e90b6f3dcc0341a96",
        "IPY_MODEL_7a6a4ba0bd234c5dab4f45e95988425f"
       ],
       "layout": "IPY_MODEL_1bf036420820452ba9fa4e9c9182de11"
      }
     },
     "875339396a8342fe896a1b27822623e0": {
      "model_module": "@jupyter-widgets/controls",
      "model_module_version": "1.5.0",
      "model_name": "VBoxModel",
      "state": {
       "_dom_classes": [
        "widget-interact"
       ],
       "children": [
        "IPY_MODEL_348608d11c3642aa80b5d104cf770096",
        "IPY_MODEL_1ad66cf037834688a64561214e1fbf8e"
       ],
       "layout": "IPY_MODEL_e26d30ceb04e4d02b6ad6ed2dc0d448e"
      }
     },
     "884874918bd842ef8217e45087d2c4a9": {
      "model_module": "@jupyter-widgets/base",
      "model_module_version": "1.2.0",
      "model_name": "LayoutModel",
      "state": {}
     },
     "8ac6da7b785f4a12986b1c664c885533": {
      "model_module": "@jupyter-widgets/base",
      "model_module_version": "1.2.0",
      "model_name": "LayoutModel",
      "state": {}
     },
     "8aca24520dd24c61af4f8a522c1d52fa": {
      "model_module": "@jupyter-widgets/controls",
      "model_module_version": "1.5.0",
      "model_name": "LinkModel",
      "state": {
       "source": [
        "IPY_MODEL_f5c3d365a60a4acbb736497ee17b1900",
        "value"
       ],
       "target": [
        "IPY_MODEL_7eaee58fc3d242fc974aca406a97a48b",
        "value"
       ]
      }
     },
     "8add272e2aa0456c8652af5d05baa6f0": {
      "model_module": "@jupyter-widgets/base",
      "model_module_version": "1.2.0",
      "model_name": "LayoutModel",
      "state": {}
     },
     "8b7c5b80c980443cb9d029c009e7322d": {
      "model_module": "@jupyter-widgets/base",
      "model_module_version": "1.2.0",
      "model_name": "LayoutModel",
      "state": {}
     },
     "8b9737c2cb8c4ca0b6491f4909ffad04": {
      "model_module": "@jupyter-widgets/base",
      "model_module_version": "1.2.0",
      "model_name": "LayoutModel",
      "state": {}
     },
     "8bb18bbb41a54a8a9fb58f10119d4e20": {
      "model_module": "@jupyter-widgets/controls",
      "model_module_version": "1.5.0",
      "model_name": "SliderStyleModel",
      "state": {
       "description_width": ""
      }
     },
     "8bb558e882264ad787cd1e4b4a7d37d2": {
      "model_module": "@jupyter-widgets/base",
      "model_module_version": "1.2.0",
      "model_name": "LayoutModel",
      "state": {}
     },
     "8d75910b57634a2b9b48751a66047ac3": {
      "model_module": "@jupyter-widgets/controls",
      "model_module_version": "1.5.0",
      "model_name": "VBoxModel",
      "state": {
       "_dom_classes": [
        "widget-interact"
       ],
       "children": [
        "IPY_MODEL_f0d42f7d286640c796bfda6b55eea58a",
        "IPY_MODEL_37d319d79bc340ef855da7cd9857f791"
       ],
       "layout": "IPY_MODEL_faaf7312b62f4140998496924e4825db"
      }
     },
     "8d878b2b05d24f64902e9d85fca8e6ff": {
      "model_module": "@jupyter-widgets/base",
      "model_module_version": "1.2.0",
      "model_name": "LayoutModel",
      "state": {}
     },
     "8d96e93bc73646b1b95cf562aee117b4": {
      "model_module": "@jupyter-widgets/controls",
      "model_module_version": "1.5.0",
      "model_name": "DescriptionStyleModel",
      "state": {
       "description_width": ""
      }
     },
     "8e11153a3d9443e19546c0183e1de1db": {
      "model_module": "@jupyter-widgets/base",
      "model_module_version": "1.2.0",
      "model_name": "LayoutModel",
      "state": {}
     },
     "900cf4b30abe4f54b4d8d00aaa337b73": {
      "model_module": "@jupyter-widgets/controls",
      "model_module_version": "1.5.0",
      "model_name": "VBoxModel",
      "state": {
       "_dom_classes": [
        "widget-interact"
       ],
       "children": [
        "IPY_MODEL_f5db520dbc37460497d3b40378c2741b",
        "IPY_MODEL_318c0b450a704bb0899b22463d7718e9"
       ],
       "layout": "IPY_MODEL_77d5a44651ad463fb94120bd3b4e2b27"
      }
     },
     "904523fe9f7a4abfa1a70ef2105653b2": {
      "model_module": "@jupyter-widgets/controls",
      "model_module_version": "1.5.0",
      "model_name": "VBoxModel",
      "state": {
       "_dom_classes": [
        "widget-interact"
       ],
       "children": [
        "IPY_MODEL_6a8dba476db04faab1852d070cbbf5e0",
        "IPY_MODEL_b68b8a813b684153ac09e526bde67ba1"
       ],
       "layout": "IPY_MODEL_264c72adbaa54968b3f3c737175661f9"
      }
     },
     "9065e4ffa060414aa4355c178315910c": {
      "model_module": "@jupyter-widgets/controls",
      "model_module_version": "1.5.0",
      "model_name": "SliderStyleModel",
      "state": {
       "description_width": ""
      }
     },
     "907e1aa6e69746418fc598cd14cf9b4f": {
      "model_module": "@jupyter-widgets/controls",
      "model_module_version": "1.5.0",
      "model_name": "SliderStyleModel",
      "state": {
       "description_width": ""
      }
     },
     "90dc6adada7d45c984dd42ae0f6c56f0": {
      "model_module": "@jupyter-widgets/base",
      "model_module_version": "1.2.0",
      "model_name": "LayoutModel",
      "state": {}
     },
     "919b84f71b394d39a3d957098a9884ff": {
      "model_module": "@jupyter-widgets/base",
      "model_module_version": "1.2.0",
      "model_name": "LayoutModel",
      "state": {}
     },
     "91e10cc498414ad9863063074bc082c6": {
      "model_module": "jupyter-matplotlib",
      "model_module_version": "^0.8.3",
      "model_name": "ToolbarModel",
      "state": {
       "layout": "IPY_MODEL_c7af8e430df843838e57749584b0632e",
       "toolitems": [
        [
         "Home",
         "Reset original view",
         "home",
         "home"
        ],
        [
         "Back",
         "Back to previous view",
         "arrow-left",
         "back"
        ],
        [
         "Forward",
         "Forward to next view",
         "arrow-right",
         "forward"
        ],
        [
         "Pan",
         "Pan axes with left mouse, zoom with right",
         "arrows",
         "pan"
        ],
        [
         "Zoom",
         "Zoom to rectangle",
         "square-o",
         "zoom"
        ],
        [
         "Download",
         "Download plot",
         "floppy-o",
         "save_figure"
        ]
       ]
      }
     },
     "92eef2dd382c4d6388a393f1cd8dc6c4": {
      "model_module": "@jupyter-widgets/output",
      "model_module_version": "1.0.0",
      "model_name": "OutputModel",
      "state": {
       "layout": "IPY_MODEL_516ebee65f254bd8846ffeb0566436a6"
      }
     },
     "933d6893a66a42d882cb2978f43ac722": {
      "model_module": "@jupyter-widgets/base",
      "model_module_version": "1.2.0",
      "model_name": "LayoutModel",
      "state": {}
     },
     "9343dc47f5e84e878772dcb1ac246234": {
      "model_module": "@jupyter-widgets/base",
      "model_module_version": "1.2.0",
      "model_name": "LayoutModel",
      "state": {}
     },
     "9362610abc3d4ecba3cccfc8e1d9e279": {
      "model_module": "jupyter-matplotlib",
      "model_module_version": "^0.8.3",
      "model_name": "ToolbarModel",
      "state": {
       "layout": "IPY_MODEL_4b6eeffa51b948ab9cf4d76bebc12d5c",
       "toolitems": [
        [
         "Home",
         "Reset original view",
         "home",
         "home"
        ],
        [
         "Back",
         "Back to previous view",
         "arrow-left",
         "back"
        ],
        [
         "Forward",
         "Forward to next view",
         "arrow-right",
         "forward"
        ],
        [
         "Pan",
         "Pan axes with left mouse, zoom with right",
         "arrows",
         "pan"
        ],
        [
         "Zoom",
         "Zoom to rectangle",
         "square-o",
         "zoom"
        ],
        [
         "Download",
         "Download plot",
         "floppy-o",
         "save_figure"
        ]
       ]
      }
     },
     "9374075d60a64106a271514322887be4": {
      "model_module": "@jupyter-widgets/base",
      "model_module_version": "1.2.0",
      "model_name": "LayoutModel",
      "state": {}
     },
     "946fbc76b28147d9b6e69436382be71f": {
      "model_module": "@jupyter-widgets/controls",
      "model_module_version": "1.5.0",
      "model_name": "VBoxModel",
      "state": {
       "_dom_classes": [
        "widget-interact"
       ],
       "children": [
        "IPY_MODEL_33b7883cc4014bd895276efd0b5611aa",
        "IPY_MODEL_37a5f6b71fd0400f9d562e82f6c4beb7"
       ],
       "layout": "IPY_MODEL_b511ca073b7a444590d189b0c99126fe"
      }
     },
     "948a9e5cd4f543b6ab66782fa4b11c40": {
      "model_module": "@jupyter-widgets/controls",
      "model_module_version": "1.5.0",
      "model_name": "VBoxModel",
      "state": {
       "_dom_classes": [
        "widget-interact"
       ],
       "children": [
        "IPY_MODEL_7eabe25e62d24b9e887a24b1d736da9c",
        "IPY_MODEL_efb2c08eba03471d9384fef6776e9e68"
       ],
       "layout": "IPY_MODEL_405fc8f1f1f44fd9b2df3334c4df590e"
      }
     },
     "94eec05a78324b4ab70c5f52cecf66b3": {
      "model_module": "@jupyter-widgets/base",
      "model_module_version": "1.2.0",
      "model_name": "LayoutModel",
      "state": {}
     },
     "959e1f6a2e5a41e3a3c4b60bbe11e2fa": {
      "model_module": "@jupyter-widgets/base",
      "model_module_version": "1.2.0",
      "model_name": "LayoutModel",
      "state": {}
     },
     "95e17702c7254f7e90b6f3dcc0341a96": {
      "model_module": "@jupyter-widgets/controls",
      "model_module_version": "1.5.0",
      "model_name": "IntSliderModel",
      "state": {
       "description": "$\\lambda$-index",
       "layout": "IPY_MODEL_69394e5017cc46a1bce10331e40b7199",
       "max": 71,
       "style": "IPY_MODEL_6ae92bd712b2491abd7a7446204492fc"
      }
     },
     "963b69c2b30c4401812b5e1c85636d8b": {
      "model_module": "@jupyter-widgets/base",
      "model_module_version": "1.2.0",
      "model_name": "LayoutModel",
      "state": {}
     },
     "964ab18b36564c6da1771ad8020f5ca3": {
      "model_module": "@jupyter-widgets/base",
      "model_module_version": "1.2.0",
      "model_name": "LayoutModel",
      "state": {}
     },
     "967f45aeabc442d78e3bb922c6ce24b4": {
      "model_module": "@jupyter-widgets/output",
      "model_module_version": "1.0.0",
      "model_name": "OutputModel",
      "state": {
       "layout": "IPY_MODEL_714e133a250643c58c82d743c0717205"
      }
     },
     "968b1b00c9d34745912059be7b021fe0": {
      "model_module": "@jupyter-widgets/base",
      "model_module_version": "1.2.0",
      "model_name": "LayoutModel",
      "state": {}
     },
     "9690565005174f5590c7feb1de6d5a67": {
      "model_module": "@jupyter-widgets/base",
      "model_module_version": "1.2.0",
      "model_name": "LayoutModel",
      "state": {}
     },
     "9704589173804804935c4c7cf903c505": {
      "model_module": "@jupyter-widgets/output",
      "model_module_version": "1.0.0",
      "model_name": "OutputModel",
      "state": {
       "layout": "IPY_MODEL_c654d7e8de094af3a5d27cb6393c42a9"
      }
     },
     "9730b5278f764419ae9ccd7f0539f239": {
      "model_module": "@jupyter-widgets/base",
      "model_module_version": "1.2.0",
      "model_name": "LayoutModel",
      "state": {}
     },
     "97a636d8015b4515a299b5d2ddf9ed48": {
      "model_module": "jupyter-matplotlib",
      "model_module_version": "^0.8.3",
      "model_name": "ToolbarModel",
      "state": {
       "layout": "IPY_MODEL_c0a59d16c5104037a683c74e49d605ec",
       "toolitems": [
        [
         "Home",
         "Reset original view",
         "home",
         "home"
        ],
        [
         "Back",
         "Back to previous view",
         "arrow-left",
         "back"
        ],
        [
         "Forward",
         "Forward to next view",
         "arrow-right",
         "forward"
        ],
        [
         "Pan",
         "Pan axes with left mouse, zoom with right",
         "arrows",
         "pan"
        ],
        [
         "Zoom",
         "Zoom to rectangle",
         "square-o",
         "zoom"
        ],
        [
         "Download",
         "Download plot",
         "floppy-o",
         "save_figure"
        ]
       ]
      }
     },
     "97ae0ba8148c43eead9cae030e6f3b39": {
      "model_module": "@jupyter-widgets/output",
      "model_module_version": "1.0.0",
      "model_name": "OutputModel",
      "state": {
       "layout": "IPY_MODEL_22ec5e600e89470b966fe13dbb0661ef"
      }
     },
     "97b55ab24002477ea75b942bc2f78563": {
      "model_module": "@jupyter-widgets/controls",
      "model_module_version": "1.5.0",
      "model_name": "SliderStyleModel",
      "state": {
       "description_width": ""
      }
     },
     "97ba5518b7494764b647eb137a4bde68": {
      "model_module": "@jupyter-widgets/controls",
      "model_module_version": "1.5.0",
      "model_name": "HBoxModel",
      "state": {
       "children": [
        "IPY_MODEL_f5c3d365a60a4acbb736497ee17b1900",
        "IPY_MODEL_7eaee58fc3d242fc974aca406a97a48b"
       ],
       "layout": "IPY_MODEL_50d2132867854eb29b31c5728e247bb7"
      }
     },
     "984e25cb75f44ed484fab20da1057cf1": {
      "model_module": "jupyter-matplotlib",
      "model_module_version": "^0.8.3",
      "model_name": "MPLCanvasModel",
      "state": {
       "_figure_label": "Figure 7",
       "_height": 384,
       "_image_mode": "diff",
       "_width": 960,
       "header_visible": false,
       "layout": "IPY_MODEL_487936ebf011465b809b19676a59a980",
       "resizable": false,
       "toolbar": "IPY_MODEL_97a636d8015b4515a299b5d2ddf9ed48",
       "toolbar_position": "left",
       "toolbar_visible": false
      }
     },
     "984e984fff454776907393ebf9522c75": {
      "model_module": "@jupyter-widgets/base",
      "model_module_version": "1.2.0",
      "model_name": "LayoutModel",
      "state": {}
     },
     "98ea92e30d274d49b4b7d6dc9d11a8f7": {
      "model_module": "@jupyter-widgets/controls",
      "model_module_version": "1.5.0",
      "model_name": "SliderStyleModel",
      "state": {
       "description_width": ""
      }
     },
     "994486dd0ac449c6a918e2e91473e97d": {
      "model_module": "jupyter-matplotlib",
      "model_module_version": "^0.8.3",
      "model_name": "ToolbarModel",
      "state": {
       "layout": "IPY_MODEL_e51e60b67ea146d4b1afa34d4624d638",
       "toolitems": [
        [
         "Home",
         "Reset original view",
         "home",
         "home"
        ],
        [
         "Back",
         "Back to previous view",
         "arrow-left",
         "back"
        ],
        [
         "Forward",
         "Forward to next view",
         "arrow-right",
         "forward"
        ],
        [
         "Pan",
         "Pan axes with left mouse, zoom with right",
         "arrows",
         "pan"
        ],
        [
         "Zoom",
         "Zoom to rectangle",
         "square-o",
         "zoom"
        ],
        [
         "Download",
         "Download plot",
         "floppy-o",
         "save_figure"
        ]
       ]
      }
     },
     "9a59bf7d0af24a7fa059c61a68312f13": {
      "model_module": "@jupyter-widgets/controls",
      "model_module_version": "1.5.0",
      "model_name": "SliderStyleModel",
      "state": {
       "description_width": ""
      }
     },
     "9afc250ae6514a188c06d0066b5e2aa4": {
      "model_module": "@jupyter-widgets/controls",
      "model_module_version": "1.5.0",
      "model_name": "IntSliderModel",
      "state": {
       "layout": "IPY_MODEL_8ac6da7b785f4a12986b1c664c885533",
       "style": "IPY_MODEL_ab73c2529b0d4046a54401695cf0867c"
      }
     },
     "9b016e137e2c466c8d32f884f9f22463": {
      "model_module": "@jupyter-widgets/controls",
      "model_module_version": "1.5.0",
      "model_name": "VBoxModel",
      "state": {
       "_dom_classes": [
        "widget-interact"
       ],
       "children": [
        "IPY_MODEL_a3c467efc75042e6aa0f7c3bd402a626",
        "IPY_MODEL_faac8052a7104aeb965a8268fdfca9a0"
       ],
       "layout": "IPY_MODEL_e2cf7145e6af4a358ed643cf0aab5df8"
      }
     },
     "9b1c725e2b474215894598a25b2ebe92": {
      "model_module": "@jupyter-widgets/controls",
      "model_module_version": "1.5.0",
      "model_name": "IntSliderModel",
      "state": {
       "description": "$\\lambda$-index",
       "layout": "IPY_MODEL_71965e4a659d4681b733e5e34981dd43",
       "max": 93,
       "style": "IPY_MODEL_907e1aa6e69746418fc598cd14cf9b4f"
      }
     },
     "9b2f28a801d141349e8c8facf9e6e4b9": {
      "model_module": "@jupyter-widgets/base",
      "model_module_version": "1.2.0",
      "model_name": "LayoutModel",
      "state": {}
     },
     "9bfc7b0d85124e9498b368519599ed5c": {
      "model_module": "@jupyter-widgets/base",
      "model_module_version": "1.2.0",
      "model_name": "LayoutModel",
      "state": {}
     },
     "9c480fa6703849cda347829ce7a8c595": {
      "model_module": "@jupyter-widgets/controls",
      "model_module_version": "1.5.0",
      "model_name": "SliderStyleModel",
      "state": {
       "description_width": ""
      }
     },
     "9cea91d57957462cae41aab6f048f8fb": {
      "model_module": "@jupyter-widgets/controls",
      "model_module_version": "1.5.0",
      "model_name": "DescriptionStyleModel",
      "state": {
       "description_width": ""
      }
     },
     "9d73f5eea86b422ea5e6f6019429ac6f": {
      "model_module": "@jupyter-widgets/base",
      "model_module_version": "1.2.0",
      "model_name": "LayoutModel",
      "state": {}
     },
     "9f344526cec640e2b861f9882975b908": {
      "model_module": "@jupyter-widgets/base",
      "model_module_version": "1.2.0",
      "model_name": "LayoutModel",
      "state": {}
     },
     "9f3b68cfd0ec426ea4062aee5f30d598": {
      "model_module": "@jupyter-widgets/base",
      "model_module_version": "1.2.0",
      "model_name": "LayoutModel",
      "state": {}
     },
     "9f63ecf694da4f33ae5ef012f321d396": {
      "model_module": "jupyter-matplotlib",
      "model_module_version": "^0.8.3",
      "model_name": "ToolbarModel",
      "state": {
       "layout": "IPY_MODEL_7ce4ad1f56dd4836bc9a66c6275a4b92",
       "toolitems": [
        [
         "Home",
         "Reset original view",
         "home",
         "home"
        ],
        [
         "Back",
         "Back to previous view",
         "arrow-left",
         "back"
        ],
        [
         "Forward",
         "Forward to next view",
         "arrow-right",
         "forward"
        ],
        [
         "Pan",
         "Pan axes with left mouse, zoom with right",
         "arrows",
         "pan"
        ],
        [
         "Zoom",
         "Zoom to rectangle",
         "square-o",
         "zoom"
        ],
        [
         "Download",
         "Download plot",
         "floppy-o",
         "save_figure"
        ]
       ]
      }
     },
     "9f7690f536c94c5bbbd9bdf545002ad5": {
      "model_module": "@jupyter-widgets/base",
      "model_module_version": "1.2.0",
      "model_name": "LayoutModel",
      "state": {}
     },
     "9f9e4c5df1c14651b72051c74a9fe9f3": {
      "model_module": "@jupyter-widgets/controls",
      "model_module_version": "1.5.0",
      "model_name": "VBoxModel",
      "state": {
       "_dom_classes": [
        "widget-interact"
       ],
       "children": [
        "IPY_MODEL_b1b41bcfdf6945c898a6524ab1be3520",
        "IPY_MODEL_19a4712b2fd047b49275d227d4296d16"
       ],
       "layout": "IPY_MODEL_6568b3bf8f5a4b9eac394fa2a7e31966"
      }
     },
     "a0253b2814074eb8a66cf2ea6ff912cd": {
      "model_module": "@jupyter-widgets/base",
      "model_module_version": "1.2.0",
      "model_name": "LayoutModel",
      "state": {}
     },
     "a18123a9e5a24c6297df9055345a2e94": {
      "model_module": "@jupyter-widgets/base",
      "model_module_version": "1.2.0",
      "model_name": "LayoutModel",
      "state": {}
     },
     "a1ccb91ed6d24e159a4414df1ef5c450": {
      "model_module": "@jupyter-widgets/controls",
      "model_module_version": "1.5.0",
      "model_name": "SliderStyleModel",
      "state": {
       "description_width": ""
      }
     },
     "a21132ed5d6644a2868398115d5fc607": {
      "model_module": "@jupyter-widgets/base",
      "model_module_version": "1.2.0",
      "model_name": "LayoutModel",
      "state": {}
     },
     "a2663050e568416196f8a1b323acd1ca": {
      "model_module": "jupyter-matplotlib",
      "model_module_version": "^0.8.3",
      "model_name": "ToolbarModel",
      "state": {
       "layout": "IPY_MODEL_aede5df718c04d3f99a78281bcfbed19",
       "toolitems": [
        [
         "Home",
         "Reset original view",
         "home",
         "home"
        ],
        [
         "Back",
         "Back to previous view",
         "arrow-left",
         "back"
        ],
        [
         "Forward",
         "Forward to next view",
         "arrow-right",
         "forward"
        ],
        [
         "Pan",
         "Pan axes with left mouse, zoom with right",
         "arrows",
         "pan"
        ],
        [
         "Zoom",
         "Zoom to rectangle",
         "square-o",
         "zoom"
        ],
        [
         "Download",
         "Download plot",
         "floppy-o",
         "save_figure"
        ]
       ]
      }
     },
     "a299c96a5f57491dac9bd75a22bae370": {
      "model_module": "@jupyter-widgets/base",
      "model_module_version": "1.2.0",
      "model_name": "LayoutModel",
      "state": {}
     },
     "a386f1dc59e344f288d25697868a3274": {
      "model_module": "@jupyter-widgets/base",
      "model_module_version": "1.2.0",
      "model_name": "LayoutModel",
      "state": {}
     },
     "a3c467efc75042e6aa0f7c3bd402a626": {
      "model_module": "@jupyter-widgets/controls",
      "model_module_version": "1.5.0",
      "model_name": "IntSliderModel",
      "state": {
       "description": "$\\lambda$-index",
       "layout": "IPY_MODEL_7f0719d11ac0433887f2414a8927115b",
       "max": 83,
       "style": "IPY_MODEL_40903a8e65c04514962be51ee3dbb103",
       "value": 50
      }
     },
     "a4541464d82d43e8a2bccf4d6c51278c": {
      "model_module": "@jupyter-widgets/controls",
      "model_module_version": "1.5.0",
      "model_name": "SliderStyleModel",
      "state": {
       "description_width": ""
      }
     },
     "a4bd93941d074ba8970274705e6ded43": {
      "model_module": "@jupyter-widgets/controls",
      "model_module_version": "1.5.0",
      "model_name": "IntSliderModel",
      "state": {
       "description": "Iteration",
       "layout": "IPY_MODEL_11023b51fa084d948f1c15123716defd",
       "max": 19,
       "style": "IPY_MODEL_eee29cb3e05640918ca3eb074cc2df60"
      }
     },
     "a4e62ebe35f64c4a850885dfc3fda9d2": {
      "model_module": "@jupyter-widgets/controls",
      "model_module_version": "1.5.0",
      "model_name": "SliderStyleModel",
      "state": {
       "description_width": ""
      }
     },
     "a5710c764202437f8743077a56992822": {
      "model_module": "@jupyter-widgets/base",
      "model_module_version": "1.2.0",
      "model_name": "LayoutModel",
      "state": {}
     },
     "a65881bde76d42c5ba3dce1b24236a28": {
      "model_module": "jupyter-matplotlib",
      "model_module_version": "^0.8.3",
      "model_name": "ToolbarModel",
      "state": {
       "layout": "IPY_MODEL_852b84b9276e4aa69aba8876eaa7ef9d",
       "toolitems": [
        [
         "Home",
         "Reset original view",
         "home",
         "home"
        ],
        [
         "Back",
         "Back to previous view",
         "arrow-left",
         "back"
        ],
        [
         "Forward",
         "Forward to next view",
         "arrow-right",
         "forward"
        ],
        [
         "Pan",
         "Pan axes with left mouse, zoom with right",
         "arrows",
         "pan"
        ],
        [
         "Zoom",
         "Zoom to rectangle",
         "square-o",
         "zoom"
        ],
        [
         "Download",
         "Download plot",
         "floppy-o",
         "save_figure"
        ]
       ]
      }
     },
     "a70e1aabfb2c485f96c34e1db94990e5": {
      "model_module": "@jupyter-widgets/controls",
      "model_module_version": "1.5.0",
      "model_name": "SliderStyleModel",
      "state": {
       "description_width": ""
      }
     },
     "a7862022c7fa452c9ac9f0d238502f92": {
      "model_module": "@jupyter-widgets/base",
      "model_module_version": "1.2.0",
      "model_name": "LayoutModel",
      "state": {}
     },
     "a7b1e780ba8c403da4d5835180770f25": {
      "model_module": "@jupyter-widgets/base",
      "model_module_version": "1.2.0",
      "model_name": "LayoutModel",
      "state": {}
     },
     "a7c647da39da42dc9f31740e5c4fe762": {
      "model_module": "@jupyter-widgets/controls",
      "model_module_version": "1.5.0",
      "model_name": "VBoxModel",
      "state": {
       "_dom_classes": [
        "widget-interact"
       ],
       "children": [
        "IPY_MODEL_41d5d68180ce49ec83543afa244c7eb6",
        "IPY_MODEL_6893998679644d32a7f23e5af324d470"
       ],
       "layout": "IPY_MODEL_5efef23fc03a47668233d5f46066f4ba"
      }
     },
     "a875f9f62ede43f9b7322d49a178c4df": {
      "model_module": "jupyter-matplotlib",
      "model_module_version": "^0.8.3",
      "model_name": "ToolbarModel",
      "state": {
       "layout": "IPY_MODEL_4f3b63a0b13e448db30f7f94183ec3b3",
       "toolitems": [
        [
         "Home",
         "Reset original view",
         "home",
         "home"
        ],
        [
         "Back",
         "Back to previous view",
         "arrow-left",
         "back"
        ],
        [
         "Forward",
         "Forward to next view",
         "arrow-right",
         "forward"
        ],
        [
         "Pan",
         "Pan axes with left mouse, zoom with right",
         "arrows",
         "pan"
        ],
        [
         "Zoom",
         "Zoom to rectangle",
         "square-o",
         "zoom"
        ],
        [
         "Download",
         "Download plot",
         "floppy-o",
         "save_figure"
        ]
       ]
      }
     },
     "aab6129522af45cd878c88934b22d7d1": {
      "model_module": "@jupyter-widgets/base",
      "model_module_version": "1.2.0",
      "model_name": "LayoutModel",
      "state": {}
     },
     "aaf984f5a97f4dc58ed0dc77d1b28a76": {
      "model_module": "@jupyter-widgets/controls",
      "model_module_version": "1.5.0",
      "model_name": "IntSliderModel",
      "state": {
       "description": "$\\lambda$-index",
       "layout": "IPY_MODEL_209ad9054410410eb6e5db1564fab7f7",
       "max": 65,
       "style": "IPY_MODEL_3d0bd21e387a4617a4de5bdd306c2f4c"
      }
     },
     "ab48811ab3e94d3f84cae578c7079456": {
      "model_module": "@jupyter-widgets/base",
      "model_module_version": "1.2.0",
      "model_name": "LayoutModel",
      "state": {}
     },
     "ab73c2529b0d4046a54401695cf0867c": {
      "model_module": "@jupyter-widgets/controls",
      "model_module_version": "1.5.0",
      "model_name": "SliderStyleModel",
      "state": {
       "description_width": ""
      }
     },
     "ab7534979dbd4464b3e132ae577b34a1": {
      "model_module": "@jupyter-widgets/controls",
      "model_module_version": "1.5.0",
      "model_name": "VBoxModel",
      "state": {
       "_dom_classes": [
        "widget-interact"
       ],
       "children": [
        "IPY_MODEL_c736828423434b5f8b3a1b6084fbbd39",
        "IPY_MODEL_825b95b9e28b49558dd13b526ef9992a"
       ],
       "layout": "IPY_MODEL_488d71119379405980076077e795571b"
      }
     },
     "abc71b74d3b64f538ec8651c3bfacb0e": {
      "model_module": "@jupyter-widgets/controls",
      "model_module_version": "1.5.0",
      "model_name": "SliderStyleModel",
      "state": {
       "description_width": ""
      }
     },
     "abeef3fd397e48b18f8c71aff3c80e36": {
      "model_module": "@jupyter-widgets/controls",
      "model_module_version": "1.5.0",
      "model_name": "SliderStyleModel",
      "state": {
       "description_width": ""
      }
     },
     "acb4c0a936cb462498e5655fdba8feec": {
      "model_module": "@jupyter-widgets/base",
      "model_module_version": "1.2.0",
      "model_name": "LayoutModel",
      "state": {}
     },
     "acc3b55839f94ec6a3a7e04bcbb4b4a4": {
      "model_module": "@jupyter-widgets/base",
      "model_module_version": "1.2.0",
      "model_name": "LayoutModel",
      "state": {}
     },
     "acd763f3ba6c4593b16f1f666e121ca6": {
      "model_module": "jupyter-matplotlib",
      "model_module_version": "^0.8.3",
      "model_name": "ToolbarModel",
      "state": {
       "layout": "IPY_MODEL_ec3249548bf844c4ba812d686a0ca4c3",
       "toolitems": [
        [
         "Home",
         "Reset original view",
         "home",
         "home"
        ],
        [
         "Back",
         "Back to previous view",
         "arrow-left",
         "back"
        ],
        [
         "Forward",
         "Forward to next view",
         "arrow-right",
         "forward"
        ],
        [
         "Pan",
         "Pan axes with left mouse, zoom with right",
         "arrows",
         "pan"
        ],
        [
         "Zoom",
         "Zoom to rectangle",
         "square-o",
         "zoom"
        ],
        [
         "Download",
         "Download plot",
         "floppy-o",
         "save_figure"
        ]
       ]
      }
     },
     "ad6485f217c2419c9a16e46ab0b2c63e": {
      "model_module": "@jupyter-widgets/controls",
      "model_module_version": "1.5.0",
      "model_name": "SliderStyleModel",
      "state": {
       "description_width": ""
      }
     },
     "adc42e928ee94b2fa7d13b77c44e08e6": {
      "model_module": "@jupyter-widgets/base",
      "model_module_version": "1.2.0",
      "model_name": "LayoutModel",
      "state": {}
     },
     "add4d2856cff42fea28308852dfd1a7c": {
      "model_module": "@jupyter-widgets/output",
      "model_module_version": "1.0.0",
      "model_name": "OutputModel",
      "state": {
       "layout": "IPY_MODEL_f329199ce96c4a9994aecb69ed5c08b9"
      }
     },
     "ae2875aa101a452eb8d9d9b8a2439cf2": {
      "model_module": "@jupyter-widgets/base",
      "model_module_version": "1.2.0",
      "model_name": "LayoutModel",
      "state": {}
     },
     "aede5df718c04d3f99a78281bcfbed19": {
      "model_module": "@jupyter-widgets/base",
      "model_module_version": "1.2.0",
      "model_name": "LayoutModel",
      "state": {}
     },
     "aefc5637c9f2499d8bb98f9caa5623b5": {
      "model_module": "jupyter-matplotlib",
      "model_module_version": "^0.8.3",
      "model_name": "ToolbarModel",
      "state": {
       "layout": "IPY_MODEL_d5acf216b95447e9982fa98996957673",
       "toolitems": [
        [
         "Home",
         "Reset original view",
         "home",
         "home"
        ],
        [
         "Back",
         "Back to previous view",
         "arrow-left",
         "back"
        ],
        [
         "Forward",
         "Forward to next view",
         "arrow-right",
         "forward"
        ],
        [
         "Pan",
         "Pan axes with left mouse, zoom with right",
         "arrows",
         "pan"
        ],
        [
         "Zoom",
         "Zoom to rectangle",
         "square-o",
         "zoom"
        ],
        [
         "Download",
         "Download plot",
         "floppy-o",
         "save_figure"
        ]
       ]
      }
     },
     "af88cf9e0d494831ab88640c24e00624": {
      "model_module": "@jupyter-widgets/base",
      "model_module_version": "1.2.0",
      "model_name": "LayoutModel",
      "state": {}
     },
     "afccb39c24fe45369a775031d4835da0": {
      "model_module": "@jupyter-widgets/controls",
      "model_module_version": "1.5.0",
      "model_name": "SliderStyleModel",
      "state": {
       "description_width": ""
      }
     },
     "aff2c9a8e2914116a18c5b3433f83da0": {
      "model_module": "@jupyter-widgets/controls",
      "model_module_version": "1.5.0",
      "model_name": "HBoxModel",
      "state": {
       "children": [
        "IPY_MODEL_d42683fa7f6d47acbfdeacb8b622a3b5",
        "IPY_MODEL_4d555b9f610e472688dd40dbc401c43c"
       ],
       "layout": "IPY_MODEL_726d4f47a0d648569b18653f2f221ca4"
      }
     },
     "b187f60f48a64e7499de5ea883a3b4a5": {
      "model_module": "@jupyter-widgets/base",
      "model_module_version": "1.2.0",
      "model_name": "LayoutModel",
      "state": {}
     },
     "b18ea9831e884d148cba224e9af3e8d0": {
      "model_module": "jupyter-matplotlib",
      "model_module_version": "^0.8.3",
      "model_name": "ToolbarModel",
      "state": {
       "layout": "IPY_MODEL_c5e01ee5245b44a0b509b2a30e39aa8a",
       "toolitems": [
        [
         "Home",
         "Reset original view",
         "home",
         "home"
        ],
        [
         "Back",
         "Back to previous view",
         "arrow-left",
         "back"
        ],
        [
         "Forward",
         "Forward to next view",
         "arrow-right",
         "forward"
        ],
        [
         "Pan",
         "Pan axes with left mouse, zoom with right",
         "arrows",
         "pan"
        ],
        [
         "Zoom",
         "Zoom to rectangle",
         "square-o",
         "zoom"
        ],
        [
         "Download",
         "Download plot",
         "floppy-o",
         "save_figure"
        ]
       ]
      }
     },
     "b1a6b2c508b64a3baf342e5180cf7ff8": {
      "model_module": "jupyter-matplotlib",
      "model_module_version": "^0.8.3",
      "model_name": "ToolbarModel",
      "state": {
       "layout": "IPY_MODEL_e7d64c91de59462dbe4f4457df867e63",
       "toolitems": [
        [
         "Home",
         "Reset original view",
         "home",
         "home"
        ],
        [
         "Back",
         "Back to previous view",
         "arrow-left",
         "back"
        ],
        [
         "Forward",
         "Forward to next view",
         "arrow-right",
         "forward"
        ],
        [
         "Pan",
         "Pan axes with left mouse, zoom with right",
         "arrows",
         "pan"
        ],
        [
         "Zoom",
         "Zoom to rectangle",
         "square-o",
         "zoom"
        ],
        [
         "Download",
         "Download plot",
         "floppy-o",
         "save_figure"
        ]
       ]
      }
     },
     "b1b41bcfdf6945c898a6524ab1be3520": {
      "model_module": "@jupyter-widgets/controls",
      "model_module_version": "1.5.0",
      "model_name": "IntSliderModel",
      "state": {
       "description": "$\\lambda$-index",
       "layout": "IPY_MODEL_41fc0933589e495ebecd704a79fc1543",
       "max": 99,
       "style": "IPY_MODEL_9065e4ffa060414aa4355c178315910c"
      }
     },
     "b2464b8e25954a88989e93b3b34bd2b2": {
      "model_module": "@jupyter-widgets/base",
      "model_module_version": "1.2.0",
      "model_name": "LayoutModel",
      "state": {}
     },
     "b25df5944559417aadb27e43d9f4e1bd": {
      "model_module": "@jupyter-widgets/base",
      "model_module_version": "1.2.0",
      "model_name": "LayoutModel",
      "state": {}
     },
     "b28454b759a449d6935db31a3100367a": {
      "model_module": "@jupyter-widgets/base",
      "model_module_version": "1.2.0",
      "model_name": "LayoutModel",
      "state": {}
     },
     "b329f2b0a945454c9a94945c03393008": {
      "model_module": "@jupyter-widgets/base",
      "model_module_version": "1.2.0",
      "model_name": "LayoutModel",
      "state": {}
     },
     "b39bfcf5811a48fda968ea64a805d89d": {
      "model_module": "jupyter-matplotlib",
      "model_module_version": "^0.8.3",
      "model_name": "ToolbarModel",
      "state": {
       "layout": "IPY_MODEL_0e2a4f8f55ed456283432d3cf8ef518c",
       "toolitems": [
        [
         "Home",
         "Reset original view",
         "home",
         "home"
        ],
        [
         "Back",
         "Back to previous view",
         "arrow-left",
         "back"
        ],
        [
         "Forward",
         "Forward to next view",
         "arrow-right",
         "forward"
        ],
        [
         "Pan",
         "Pan axes with left mouse, zoom with right",
         "arrows",
         "pan"
        ],
        [
         "Zoom",
         "Zoom to rectangle",
         "square-o",
         "zoom"
        ],
        [
         "Download",
         "Download plot",
         "floppy-o",
         "save_figure"
        ]
       ]
      }
     },
     "b3df60abb8914f9290cba735d64bebc4": {
      "model_module": "@jupyter-widgets/base",
      "model_module_version": "1.2.0",
      "model_name": "LayoutModel",
      "state": {}
     },
     "b432cedc2ca6486db4fead9ee728a8d2": {
      "model_module": "jupyter-matplotlib",
      "model_module_version": "^0.8.3",
      "model_name": "ToolbarModel",
      "state": {
       "layout": "IPY_MODEL_90dc6adada7d45c984dd42ae0f6c56f0",
       "toolitems": [
        [
         "Home",
         "Reset original view",
         "home",
         "home"
        ],
        [
         "Back",
         "Back to previous view",
         "arrow-left",
         "back"
        ],
        [
         "Forward",
         "Forward to next view",
         "arrow-right",
         "forward"
        ],
        [
         "Pan",
         "Pan axes with left mouse, zoom with right",
         "arrows",
         "pan"
        ],
        [
         "Zoom",
         "Zoom to rectangle",
         "square-o",
         "zoom"
        ],
        [
         "Download",
         "Download plot",
         "floppy-o",
         "save_figure"
        ]
       ]
      }
     },
     "b445519ffb364477a2add237aab9cbe5": {
      "model_module": "@jupyter-widgets/controls",
      "model_module_version": "1.5.0",
      "model_name": "SliderStyleModel",
      "state": {
       "description_width": ""
      }
     },
     "b511ca073b7a444590d189b0c99126fe": {
      "model_module": "@jupyter-widgets/base",
      "model_module_version": "1.2.0",
      "model_name": "LayoutModel",
      "state": {}
     },
     "b528157c20d244dcbf3aaca0dcf4626e": {
      "model_module": "@jupyter-widgets/base",
      "model_module_version": "1.2.0",
      "model_name": "LayoutModel",
      "state": {}
     },
     "b61a348a2ab147c6ba2dbc8c61d03746": {
      "model_module": "@jupyter-widgets/base",
      "model_module_version": "1.2.0",
      "model_name": "LayoutModel",
      "state": {}
     },
     "b68b8a813b684153ac09e526bde67ba1": {
      "model_module": "@jupyter-widgets/output",
      "model_module_version": "1.0.0",
      "model_name": "OutputModel",
      "state": {
       "layout": "IPY_MODEL_e5b8bb2ad15c4553b272a990064e0044",
       "outputs": [
        {
         "ename": "NameError",
         "evalue": "name 'ind' is not defined",
         "output_type": "error",
         "traceback": [
          "\u001b[0;31m---------------------------------------------------------------------------\u001b[0m",
          "\u001b[0;31mNameError\u001b[0m                                 Traceback (most recent call last)",
          "\u001b[0;32m~/.local/lib/python3.8/site-packages/ipywidgets/widgets/interaction.py\u001b[0m in \u001b[0;36mupdate\u001b[0;34m(self, *args)\u001b[0m\n\u001b[1;32m    254\u001b[0m                     \u001b[0mvalue\u001b[0m \u001b[0;34m=\u001b[0m \u001b[0mwidget\u001b[0m\u001b[0;34m.\u001b[0m\u001b[0mget_interact_value\u001b[0m\u001b[0;34m(\u001b[0m\u001b[0;34m)\u001b[0m\u001b[0;34m\u001b[0m\u001b[0;34m\u001b[0m\u001b[0m\n\u001b[1;32m    255\u001b[0m                     \u001b[0mself\u001b[0m\u001b[0;34m.\u001b[0m\u001b[0mkwargs\u001b[0m\u001b[0;34m[\u001b[0m\u001b[0mwidget\u001b[0m\u001b[0;34m.\u001b[0m\u001b[0m_kwarg\u001b[0m\u001b[0;34m]\u001b[0m \u001b[0;34m=\u001b[0m \u001b[0mvalue\u001b[0m\u001b[0;34m\u001b[0m\u001b[0;34m\u001b[0m\u001b[0m\n\u001b[0;32m--> 256\u001b[0;31m                 \u001b[0mself\u001b[0m\u001b[0;34m.\u001b[0m\u001b[0mresult\u001b[0m \u001b[0;34m=\u001b[0m \u001b[0mself\u001b[0m\u001b[0;34m.\u001b[0m\u001b[0mf\u001b[0m\u001b[0;34m(\u001b[0m\u001b[0;34m**\u001b[0m\u001b[0mself\u001b[0m\u001b[0;34m.\u001b[0m\u001b[0mkwargs\u001b[0m\u001b[0;34m)\u001b[0m\u001b[0;34m\u001b[0m\u001b[0;34m\u001b[0m\u001b[0m\n\u001b[0m\u001b[1;32m    257\u001b[0m                 \u001b[0mshow_inline_matplotlib_plots\u001b[0m\u001b[0;34m(\u001b[0m\u001b[0;34m)\u001b[0m\u001b[0;34m\u001b[0m\u001b[0;34m\u001b[0m\u001b[0m\n\u001b[1;32m    258\u001b[0m                 \u001b[0;32mif\u001b[0m \u001b[0mself\u001b[0m\u001b[0;34m.\u001b[0m\u001b[0mauto_display\u001b[0m \u001b[0;32mand\u001b[0m \u001b[0mself\u001b[0m\u001b[0;34m.\u001b[0m\u001b[0mresult\u001b[0m \u001b[0;32mis\u001b[0m \u001b[0;32mnot\u001b[0m \u001b[0;32mNone\u001b[0m\u001b[0;34m:\u001b[0m\u001b[0;34m\u001b[0m\u001b[0;34m\u001b[0m\u001b[0m\n",
          "\u001b[0;32m<ipython-input-8-706f413b7c1e>\u001b[0m in \u001b[0;36mdraw_result_dantzig\u001b[0;34m(ind1)\u001b[0m\n\u001b[1;32m     19\u001b[0m \u001b[0;32mdef\u001b[0m \u001b[0mdraw_result_dantzig\u001b[0m\u001b[0;34m(\u001b[0m\u001b[0mind1\u001b[0m\u001b[0;34m)\u001b[0m\u001b[0;34m:\u001b[0m\u001b[0;34m\u001b[0m\u001b[0;34m\u001b[0m\u001b[0m\n\u001b[1;32m     20\u001b[0m     \u001b[0maxs3\u001b[0m\u001b[0;34m[\u001b[0m\u001b[0;36m1\u001b[0m\u001b[0;34m]\u001b[0m\u001b[0;34m.\u001b[0m\u001b[0mclear\u001b[0m\u001b[0;34m(\u001b[0m\u001b[0;34m)\u001b[0m\u001b[0;34m\u001b[0m\u001b[0;34m\u001b[0m\u001b[0m\n\u001b[0;32m---> 21\u001b[0;31m     \u001b[0maxs3\u001b[0m\u001b[0;34m[\u001b[0m\u001b[0;36m1\u001b[0m\u001b[0;34m]\u001b[0m\u001b[0;34m.\u001b[0m\u001b[0mset_title\u001b[0m\u001b[0;34m(\u001b[0m\u001b[0;34m\"$\\lambda=\"\u001b[0m \u001b[0;34m+\u001b[0m \u001b[0mstr\u001b[0m\u001b[0;34m(\u001b[0m\u001b[0mresult\u001b[0m\u001b[0;34m[\u001b[0m\u001b[0;34m'lambda_list'\u001b[0m\u001b[0;34m]\u001b[0m\u001b[0;34m[\u001b[0m\u001b[0mind\u001b[0m\u001b[0;34m]\u001b[0m\u001b[0;34m)\u001b[0m \u001b[0;34m+\u001b[0m \u001b[0;34m\"$\"\u001b[0m\u001b[0;34m)\u001b[0m\u001b[0;34m\u001b[0m\u001b[0;34m\u001b[0m\u001b[0m\n\u001b[0m\u001b[1;32m     22\u001b[0m     \u001b[0maxs3\u001b[0m\u001b[0;34m[\u001b[0m\u001b[0;36m1\u001b[0m\u001b[0;34m]\u001b[0m\u001b[0;34m.\u001b[0m\u001b[0mstem\u001b[0m\u001b[0;34m(\u001b[0m\u001b[0mresult\u001b[0m\u001b[0;34m[\u001b[0m\u001b[0;34m'theta_list'\u001b[0m\u001b[0;34m]\u001b[0m\u001b[0;34m[\u001b[0m\u001b[0mind\u001b[0m\u001b[0;34m]\u001b[0m\u001b[0;34m,\u001b[0m\u001b[0muse_line_collection\u001b[0m\u001b[0;34m=\u001b[0m\u001b[0;32mTrue\u001b[0m\u001b[0;34m)\u001b[0m\u001b[0;34m\u001b[0m\u001b[0;34m\u001b[0m\u001b[0m\n\u001b[1;32m     23\u001b[0m \u001b[0;34m\u001b[0m\u001b[0m\n",
          "\u001b[0;31mNameError\u001b[0m: name 'ind' is not defined"
         ]
        }
       ]
      }
     },
     "b71ea2dec0bf4ac0a15f10f27023a542": {
      "model_module": "@jupyter-widgets/base",
      "model_module_version": "1.2.0",
      "model_name": "LayoutModel",
      "state": {}
     },
     "b72fdf69586f4d6abefb057db98bbc42": {
      "model_module": "@jupyter-widgets/base",
      "model_module_version": "1.2.0",
      "model_name": "LayoutModel",
      "state": {}
     },
     "b80ef3877763403f9fb94fdf9b8cf7ab": {
      "model_module": "@jupyter-widgets/base",
      "model_module_version": "1.2.0",
      "model_name": "LayoutModel",
      "state": {}
     },
     "b89e3527afe2462a97840809e70c93cb": {
      "model_module": "@jupyter-widgets/base",
      "model_module_version": "1.2.0",
      "model_name": "LayoutModel",
      "state": {}
     },
     "b8ca520ec70947a1a2d8e1845eeab59a": {
      "model_module": "@jupyter-widgets/base",
      "model_module_version": "1.2.0",
      "model_name": "LayoutModel",
      "state": {}
     },
     "b99b664361d94d0d855db48efafbf7da": {
      "model_module": "@jupyter-widgets/base",
      "model_module_version": "1.2.0",
      "model_name": "LayoutModel",
      "state": {}
     },
     "ba9662cc1a004c788bbdf95175212d9c": {
      "model_module": "@jupyter-widgets/controls",
      "model_module_version": "1.5.0",
      "model_name": "IntSliderModel",
      "state": {
       "layout": "IPY_MODEL_f4c4358f7fbd4222b09b61f98141679c",
       "style": "IPY_MODEL_7e6e7ad157764834a2c1501cb38dc5f6"
      }
     },
     "bafe92ee4d4449fc8a1dba8a7be80024": {
      "model_module": "@jupyter-widgets/output",
      "model_module_version": "1.0.0",
      "model_name": "OutputModel",
      "state": {
       "layout": "IPY_MODEL_f2d9e727e11048c38804d5a8e72db305"
      }
     },
     "bb32f34368c44b15a9423637321fcad6": {
      "model_module": "@jupyter-widgets/base",
      "model_module_version": "1.2.0",
      "model_name": "LayoutModel",
      "state": {}
     },
     "bb37b4213afb45888f0f83252d5a9a47": {
      "model_module": "@jupyter-widgets/base",
      "model_module_version": "1.2.0",
      "model_name": "LayoutModel",
      "state": {}
     },
     "bbbaf5a9b7a341b19ff63d43706ba2cf": {
      "model_module": "@jupyter-widgets/base",
      "model_module_version": "1.2.0",
      "model_name": "LayoutModel",
      "state": {}
     },
     "bbc04398b09346e780fe20d5202fa419": {
      "model_module": "@jupyter-widgets/controls",
      "model_module_version": "1.5.0",
      "model_name": "SliderStyleModel",
      "state": {
       "description_width": ""
      }
     },
     "bc3b1589bb67451e8e8ff40c0d869229": {
      "model_module": "@jupyter-widgets/base",
      "model_module_version": "1.2.0",
      "model_name": "LayoutModel",
      "state": {}
     },
     "bcb059699d244e2ea58bd4bdf2c71630": {
      "model_module": "@jupyter-widgets/base",
      "model_module_version": "1.2.0",
      "model_name": "LayoutModel",
      "state": {}
     },
     "bdceee6c5dea4307a57467c325d39521": {
      "model_module": "@jupyter-widgets/base",
      "model_module_version": "1.2.0",
      "model_name": "LayoutModel",
      "state": {}
     },
     "be20f776ccec43dd9835adc411d797b8": {
      "model_module": "@jupyter-widgets/controls",
      "model_module_version": "1.5.0",
      "model_name": "VBoxModel",
      "state": {
       "_dom_classes": [
        "widget-interact"
       ],
       "children": [
        "IPY_MODEL_3ea539f1a7014200a28f519daeaaa7f5",
        "IPY_MODEL_add4d2856cff42fea28308852dfd1a7c"
       ],
       "layout": "IPY_MODEL_0102ee0e81324074bf5eb2c5ce494cb0"
      }
     },
     "be26efd9b5eb4d2386582774934fd4f7": {
      "model_module": "@jupyter-widgets/controls",
      "model_module_version": "1.5.0",
      "model_name": "LinkModel",
      "state": {
       "source": [
        "IPY_MODEL_302b8b893c084488872ecfadc3b58bb5",
        "value"
       ],
       "target": [
        "IPY_MODEL_4d8ab0f4df2c44a5a3c611e70f1672c9",
        "value"
       ]
      }
     },
     "be35eb04727d455c8de0fb9b01bde5f0": {
      "model_module": "@jupyter-widgets/base",
      "model_module_version": "1.2.0",
      "model_name": "LayoutModel",
      "state": {}
     },
     "be447565d1d44534a84eeed85a3f4dcd": {
      "model_module": "@jupyter-widgets/controls",
      "model_module_version": "1.5.0",
      "model_name": "IntSliderModel",
      "state": {
       "description": "Iteration",
       "layout": "IPY_MODEL_55ebad1e11884ca781e9cbad603cbbcc",
       "max": 19,
       "style": "IPY_MODEL_e3001e4215e643f886f550cfe1f9b886"
      }
     },
     "bf4170d7d80144cd96d5ef4142c5a2c6": {
      "model_module": "@jupyter-widgets/base",
      "model_module_version": "1.2.0",
      "model_name": "LayoutModel",
      "state": {}
     },
     "bf5a3bed357c40bebb89383bb7d6247e": {
      "model_module": "jupyter-matplotlib",
      "model_module_version": "^0.8.3",
      "model_name": "ToolbarModel",
      "state": {
       "layout": "IPY_MODEL_d43eddbf7241489c8061cfd77aba501a",
       "toolitems": [
        [
         "Home",
         "Reset original view",
         "home",
         "home"
        ],
        [
         "Back",
         "Back to previous view",
         "arrow-left",
         "back"
        ],
        [
         "Forward",
         "Forward to next view",
         "arrow-right",
         "forward"
        ],
        [
         "Pan",
         "Pan axes with left mouse, zoom with right",
         "arrows",
         "pan"
        ],
        [
         "Zoom",
         "Zoom to rectangle",
         "square-o",
         "zoom"
        ],
        [
         "Download",
         "Download plot",
         "floppy-o",
         "save_figure"
        ]
       ]
      }
     },
     "bfa43b9dbe414bdd8a8e001117312e49": {
      "model_module": "jupyter-matplotlib",
      "model_module_version": "^0.8.3",
      "model_name": "ToolbarModel",
      "state": {
       "layout": "IPY_MODEL_8e11153a3d9443e19546c0183e1de1db",
       "toolitems": [
        [
         "Home",
         "Reset original view",
         "home",
         "home"
        ],
        [
         "Back",
         "Back to previous view",
         "arrow-left",
         "back"
        ],
        [
         "Forward",
         "Forward to next view",
         "arrow-right",
         "forward"
        ],
        [
         "Pan",
         "Pan axes with left mouse, zoom with right",
         "arrows",
         "pan"
        ],
        [
         "Zoom",
         "Zoom to rectangle",
         "square-o",
         "zoom"
        ],
        [
         "Download",
         "Download plot",
         "floppy-o",
         "save_figure"
        ]
       ]
      }
     },
     "bfddc4f715f64cfda21407fe1a924d38": {
      "model_module": "@jupyter-widgets/controls",
      "model_module_version": "1.5.0",
      "model_name": "DescriptionStyleModel",
      "state": {
       "description_width": ""
      }
     },
     "bfe338ac417b4f1f9c50b0d9ab446ad2": {
      "model_module": "@jupyter-widgets/controls",
      "model_module_version": "1.5.0",
      "model_name": "VBoxModel",
      "state": {
       "_dom_classes": [
        "widget-interact"
       ],
       "children": [
        "IPY_MODEL_298fa62def8547ef980bfe508b8e7300",
        "IPY_MODEL_cb06eb1a0a954f00932cd6f0b3b768cc"
       ],
       "layout": "IPY_MODEL_bcb059699d244e2ea58bd4bdf2c71630"
      }
     },
     "c02cf6ec93da46e694d51e98eb0a37b2": {
      "model_module": "@jupyter-widgets/base",
      "model_module_version": "1.2.0",
      "model_name": "LayoutModel",
      "state": {}
     },
     "c097316378374832a8c6a1b903fdbc66": {
      "model_module": "@jupyter-widgets/controls",
      "model_module_version": "1.5.0",
      "model_name": "VBoxModel",
      "state": {
       "_dom_classes": [
        "widget-interact"
       ],
       "children": [
        "IPY_MODEL_4913b2db231643a7bd8e0d8569bf2fea",
        "IPY_MODEL_32b94f6bd3e94fb0958c93c19608b001"
       ],
       "layout": "IPY_MODEL_2d618b9d11b044b4bd6ef4e72d9da5ec"
      }
     },
     "c0a59d16c5104037a683c74e49d605ec": {
      "model_module": "@jupyter-widgets/base",
      "model_module_version": "1.2.0",
      "model_name": "LayoutModel",
      "state": {}
     },
     "c16b6c19ef0c416f8b239539255418db": {
      "model_module": "@jupyter-widgets/controls",
      "model_module_version": "1.5.0",
      "model_name": "FloatSliderModel",
      "state": {
       "description": "$\\alpha$",
       "layout": "IPY_MODEL_04be72e429de41479816c84e1820c2c9",
       "max": 2,
       "step": 0.001,
       "style": "IPY_MODEL_4df0ac8b45fa478b99e23d51b0295a25",
       "value": 0.01
      }
     },
     "c1919c7c0b3442e6aa7cf01b9464c836": {
      "model_module": "jupyter-matplotlib",
      "model_module_version": "^0.8.3",
      "model_name": "ToolbarModel",
      "state": {
       "layout": "IPY_MODEL_984e984fff454776907393ebf9522c75",
       "toolitems": [
        [
         "Home",
         "Reset original view",
         "home",
         "home"
        ],
        [
         "Back",
         "Back to previous view",
         "arrow-left",
         "back"
        ],
        [
         "Forward",
         "Forward to next view",
         "arrow-right",
         "forward"
        ],
        [
         "Pan",
         "Pan axes with left mouse, zoom with right",
         "arrows",
         "pan"
        ],
        [
         "Zoom",
         "Zoom to rectangle",
         "square-o",
         "zoom"
        ],
        [
         "Download",
         "Download plot",
         "floppy-o",
         "save_figure"
        ]
       ]
      }
     },
     "c1d9387692674ccb9537910af915779b": {
      "model_module": "@jupyter-widgets/controls",
      "model_module_version": "1.5.0",
      "model_name": "SliderStyleModel",
      "state": {
       "description_width": ""
      }
     },
     "c2024ab0741c4850b4de69c167025e85": {
      "model_module": "jupyter-matplotlib",
      "model_module_version": "^0.8.3",
      "model_name": "ToolbarModel",
      "state": {
       "layout": "IPY_MODEL_9343dc47f5e84e878772dcb1ac246234",
       "toolitems": [
        [
         "Home",
         "Reset original view",
         "home",
         "home"
        ],
        [
         "Back",
         "Back to previous view",
         "arrow-left",
         "back"
        ],
        [
         "Forward",
         "Forward to next view",
         "arrow-right",
         "forward"
        ],
        [
         "Pan",
         "Pan axes with left mouse, zoom with right",
         "arrows",
         "pan"
        ],
        [
         "Zoom",
         "Zoom to rectangle",
         "square-o",
         "zoom"
        ],
        [
         "Download",
         "Download plot",
         "floppy-o",
         "save_figure"
        ]
       ]
      }
     },
     "c2335099e6344b47b461ce96829e14d9": {
      "model_module": "@jupyter-widgets/controls",
      "model_module_version": "1.5.0",
      "model_name": "IntSliderModel",
      "state": {
       "description": "$K$",
       "layout": "IPY_MODEL_fad8293cd8864ecfa1dae126d890f828",
       "min": 1,
       "style": "IPY_MODEL_dd3d30ce1d854083b4d3c29410950fc0",
       "value": 1
      }
     },
     "c290de06030f45348d0cc3235144cd60": {
      "model_module": "@jupyter-widgets/controls",
      "model_module_version": "1.5.0",
      "model_name": "SliderStyleModel",
      "state": {
       "description_width": ""
      }
     },
     "c328a575cdb84ce581eb08ca426e7d1b": {
      "model_module": "@jupyter-widgets/base",
      "model_module_version": "1.2.0",
      "model_name": "LayoutModel",
      "state": {}
     },
     "c3ed8d05489d4f869b1086a911243744": {
      "model_module": "@jupyter-widgets/output",
      "model_module_version": "1.0.0",
      "model_name": "OutputModel",
      "state": {
       "layout": "IPY_MODEL_656809baaadc4faabf917b1253bba894"
      }
     },
     "c4edb7199bde45b093c0176d2a7cf3c4": {
      "model_module": "@jupyter-widgets/output",
      "model_module_version": "1.0.0",
      "model_name": "OutputModel",
      "state": {
       "layout": "IPY_MODEL_3fc9d245df504af6b38fa6d2ffe664cb"
      }
     },
     "c51a9b1f5722450a816490c16a1d4c7d": {
      "model_module": "@jupyter-widgets/base",
      "model_module_version": "1.2.0",
      "model_name": "LayoutModel",
      "state": {}
     },
     "c586b0cba3334265861cfb43fd7b1d9e": {
      "model_module": "@jupyter-widgets/controls",
      "model_module_version": "1.5.0",
      "model_name": "SliderStyleModel",
      "state": {
       "description_width": ""
      }
     },
     "c5af9fdf73a342df8e6a1cd2a1c45986": {
      "model_module": "@jupyter-widgets/controls",
      "model_module_version": "1.5.0",
      "model_name": "VBoxModel",
      "state": {
       "_dom_classes": [
        "widget-interact"
       ],
       "layout": "IPY_MODEL_83828d80bb7642d89bd0c1d827543f18"
      }
     },
     "c5e01ee5245b44a0b509b2a30e39aa8a": {
      "model_module": "@jupyter-widgets/base",
      "model_module_version": "1.2.0",
      "model_name": "LayoutModel",
      "state": {}
     },
     "c620ef6fa9c44af08fb0c404a6c82652": {
      "model_module": "@jupyter-widgets/controls",
      "model_module_version": "1.5.0",
      "model_name": "LinkModel",
      "state": {
       "source": [
        "IPY_MODEL_d42683fa7f6d47acbfdeacb8b622a3b5",
        "value"
       ],
       "target": [
        "IPY_MODEL_4d555b9f610e472688dd40dbc401c43c",
        "value"
       ]
      }
     },
     "c63ef4020774487e812f558aef15726e": {
      "model_module": "@jupyter-widgets/base",
      "model_module_version": "1.2.0",
      "model_name": "LayoutModel",
      "state": {}
     },
     "c654d7e8de094af3a5d27cb6393c42a9": {
      "model_module": "@jupyter-widgets/base",
      "model_module_version": "1.2.0",
      "model_name": "LayoutModel",
      "state": {}
     },
     "c6a17a44fcb047e083845fab1ccf7000": {
      "model_module": "@jupyter-widgets/output",
      "model_module_version": "1.0.0",
      "model_name": "OutputModel",
      "state": {
       "layout": "IPY_MODEL_efb56192f79c423cb23504669778b5b3"
      }
     },
     "c6f194b7393b481a96fe539cd4fd99f9": {
      "model_module": "jupyter-matplotlib",
      "model_module_version": "^0.8.3",
      "model_name": "ToolbarModel",
      "state": {
       "layout": "IPY_MODEL_9d73f5eea86b422ea5e6f6019429ac6f",
       "toolitems": [
        [
         "Home",
         "Reset original view",
         "home",
         "home"
        ],
        [
         "Back",
         "Back to previous view",
         "arrow-left",
         "back"
        ],
        [
         "Forward",
         "Forward to next view",
         "arrow-right",
         "forward"
        ],
        [
         "Pan",
         "Pan axes with left mouse, zoom with right",
         "arrows",
         "pan"
        ],
        [
         "Zoom",
         "Zoom to rectangle",
         "square-o",
         "zoom"
        ],
        [
         "Download",
         "Download plot",
         "floppy-o",
         "save_figure"
        ]
       ]
      }
     },
     "c736828423434b5f8b3a1b6084fbbd39": {
      "model_module": "@jupyter-widgets/controls",
      "model_module_version": "1.5.0",
      "model_name": "IntSliderModel",
      "state": {
       "description": "$\\lambda$-index",
       "layout": "IPY_MODEL_73c21637b58b4c56b7711b1becb2fe58",
       "max": 65,
       "style": "IPY_MODEL_27fbff6ef9b74d5fb5b72f9534dae166",
       "value": 19
      }
     },
     "c773ed72c84f4651882ccd073f023dde": {
      "model_module": "@jupyter-widgets/controls",
      "model_module_version": "1.5.0",
      "model_name": "PlayModel",
      "state": {
       "description": "Press play",
       "interval": 50,
       "layout": "IPY_MODEL_732f739175554320a501eff703990bf4",
       "style": "IPY_MODEL_2cf6eba78e7e4965b3968c7555ccfd50"
      }
     },
     "c7af8e430df843838e57749584b0632e": {
      "model_module": "@jupyter-widgets/base",
      "model_module_version": "1.2.0",
      "model_name": "LayoutModel",
      "state": {}
     },
     "c8065b530ddd4127aaf7da9565740230": {
      "model_module": "@jupyter-widgets/controls",
      "model_module_version": "1.5.0",
      "model_name": "SliderStyleModel",
      "state": {
       "description_width": ""
      }
     },
     "c8cdf9e7fa6548c09d0a960862db1bfb": {
      "model_module": "jupyter-matplotlib",
      "model_module_version": "^0.8.3",
      "model_name": "ToolbarModel",
      "state": {
       "layout": "IPY_MODEL_14a47414bb0043e8a749d4edf0dc40a4",
       "toolitems": [
        [
         "Home",
         "Reset original view",
         "home",
         "home"
        ],
        [
         "Back",
         "Back to previous view",
         "arrow-left",
         "back"
        ],
        [
         "Forward",
         "Forward to next view",
         "arrow-right",
         "forward"
        ],
        [
         "Pan",
         "Pan axes with left mouse, zoom with right",
         "arrows",
         "pan"
        ],
        [
         "Zoom",
         "Zoom to rectangle",
         "square-o",
         "zoom"
        ],
        [
         "Download",
         "Download plot",
         "floppy-o",
         "save_figure"
        ]
       ]
      }
     },
     "c95aee44538d4f8e8ff96c19157408e4": {
      "model_module": "@jupyter-widgets/base",
      "model_module_version": "1.2.0",
      "model_name": "LayoutModel",
      "state": {}
     },
     "c96b52f4e7864c5f8c693604463179f6": {
      "model_module": "@jupyter-widgets/base",
      "model_module_version": "1.2.0",
      "model_name": "LayoutModel",
      "state": {}
     },
     "ca1c64af13e940e9b438808865136b53": {
      "model_module": "@jupyter-widgets/base",
      "model_module_version": "1.2.0",
      "model_name": "LayoutModel",
      "state": {}
     },
     "cb06eb1a0a954f00932cd6f0b3b768cc": {
      "model_module": "@jupyter-widgets/output",
      "model_module_version": "1.0.0",
      "model_name": "OutputModel",
      "state": {
       "layout": "IPY_MODEL_f7cbace982694332aea561609eed7257"
      }
     },
     "cc1e806c251849278d1443a244c24e82": {
      "model_module": "@jupyter-widgets/base",
      "model_module_version": "1.2.0",
      "model_name": "LayoutModel",
      "state": {}
     },
     "ccd03a387c10474b952e9477f727e52b": {
      "model_module": "@jupyter-widgets/base",
      "model_module_version": "1.2.0",
      "model_name": "LayoutModel",
      "state": {}
     },
     "ccd18fd5bf624a9fb113dd81a69325ad": {
      "model_module": "@jupyter-widgets/base",
      "model_module_version": "1.2.0",
      "model_name": "LayoutModel",
      "state": {}
     },
     "cd6e809cdd244c908f1db6e115b3ca5c": {
      "model_module": "@jupyter-widgets/base",
      "model_module_version": "1.2.0",
      "model_name": "LayoutModel",
      "state": {}
     },
     "cd75c78d4b67441cbd1ded6eb039b935": {
      "model_module": "@jupyter-widgets/base",
      "model_module_version": "1.2.0",
      "model_name": "LayoutModel",
      "state": {}
     },
     "cdadf93e9d7642bc9f195596a57fb0b8": {
      "model_module": "@jupyter-widgets/base",
      "model_module_version": "1.2.0",
      "model_name": "LayoutModel",
      "state": {}
     },
     "cf8b9d7f6eee4459a691b067ed32bae2": {
      "model_module": "@jupyter-widgets/base",
      "model_module_version": "1.2.0",
      "model_name": "LayoutModel",
      "state": {}
     },
     "cfe2e95b4e604b6aa434db8e9d8c6c41": {
      "model_module": "@jupyter-widgets/output",
      "model_module_version": "1.0.0",
      "model_name": "OutputModel",
      "state": {
       "layout": "IPY_MODEL_1e80f21127e349a6ac782b403928b28d"
      }
     },
     "d0d2de62fc8d4fffb3ca9b8e7aab0a14": {
      "model_module": "@jupyter-widgets/controls",
      "model_module_version": "1.5.0",
      "model_name": "VBoxModel",
      "state": {
       "_dom_classes": [
        "widget-interact"
       ],
       "children": [
        "IPY_MODEL_7eea2a35d8fc4009a99e17023fd825d6",
        "IPY_MODEL_c4edb7199bde45b093c0176d2a7cf3c4"
       ],
       "layout": "IPY_MODEL_81548dfba3364c778fa86c2fc532b6a2"
      }
     },
     "d3aa47b9ec1a425c8c3120d650e4479f": {
      "model_module": "@jupyter-widgets/controls",
      "model_module_version": "1.5.0",
      "model_name": "PlayModel",
      "state": {
       "description": "Press play",
       "interval": 50,
       "layout": "IPY_MODEL_d68d63d843124b0082dbb83f1e7ff3df",
       "style": "IPY_MODEL_2a521733f0064126bd389a100ffdeaa5"
      }
     },
     "d3b5c1c0e026459bb6d5114a54b95b21": {
      "model_module": "jupyter-matplotlib",
      "model_module_version": "^0.8.3",
      "model_name": "MPLCanvasModel",
      "state": {
       "_figure_label": "Figure 2",
       "_height": 384,
       "_image_mode": "diff",
       "_width": 960,
       "footer_visible": false,
       "header_visible": false,
       "layout": "IPY_MODEL_ca1c64af13e940e9b438808865136b53",
       "resizable": false,
       "toolbar": "IPY_MODEL_b432cedc2ca6486db4fead9ee728a8d2",
       "toolbar_position": "left",
       "toolbar_visible": false
      }
     },
     "d3bc9aa68e7e4246b57191d0d3d0c2c4": {
      "model_module": "@jupyter-widgets/base",
      "model_module_version": "1.2.0",
      "model_name": "LayoutModel",
      "state": {}
     },
     "d3c9f76974624c50b97eade731f8940c": {
      "model_module": "jupyter-matplotlib",
      "model_module_version": "^0.8.3",
      "model_name": "ToolbarModel",
      "state": {
       "layout": "IPY_MODEL_c96b52f4e7864c5f8c693604463179f6",
       "toolitems": [
        [
         "Home",
         "Reset original view",
         "home",
         "home"
        ],
        [
         "Back",
         "Back to previous view",
         "arrow-left",
         "back"
        ],
        [
         "Forward",
         "Forward to next view",
         "arrow-right",
         "forward"
        ],
        [
         "Pan",
         "Pan axes with left mouse, zoom with right",
         "arrows",
         "pan"
        ],
        [
         "Zoom",
         "Zoom to rectangle",
         "square-o",
         "zoom"
        ],
        [
         "Download",
         "Download plot",
         "floppy-o",
         "save_figure"
        ]
       ]
      }
     },
     "d42683fa7f6d47acbfdeacb8b622a3b5": {
      "model_module": "@jupyter-widgets/controls",
      "model_module_version": "1.5.0",
      "model_name": "PlayModel",
      "state": {
       "description": "Press play",
       "interval": 50,
       "layout": "IPY_MODEL_3cb98f7921214ed78ceb55a6c724ebb6",
       "style": "IPY_MODEL_9cea91d57957462cae41aab6f048f8fb"
      }
     },
     "d43eddbf7241489c8061cfd77aba501a": {
      "model_module": "@jupyter-widgets/base",
      "model_module_version": "1.2.0",
      "model_name": "LayoutModel",
      "state": {}
     },
     "d484b986ab474840b5d328a07619ae55": {
      "model_module": "@jupyter-widgets/base",
      "model_module_version": "1.2.0",
      "model_name": "LayoutModel",
      "state": {}
     },
     "d547103146cf40c6805bc3f5398bc51f": {
      "model_module": "@jupyter-widgets/base",
      "model_module_version": "1.2.0",
      "model_name": "LayoutModel",
      "state": {}
     },
     "d5583b561aa0410fbfdfae25ea462ff2": {
      "model_module": "@jupyter-widgets/controls",
      "model_module_version": "1.5.0",
      "model_name": "SliderStyleModel",
      "state": {
       "description_width": ""
      }
     },
     "d598fba8f7e74c23b97842730a9f5e7a": {
      "model_module": "@jupyter-widgets/controls",
      "model_module_version": "1.5.0",
      "model_name": "SliderStyleModel",
      "state": {
       "description_width": ""
      }
     },
     "d5acf216b95447e9982fa98996957673": {
      "model_module": "@jupyter-widgets/base",
      "model_module_version": "1.2.0",
      "model_name": "LayoutModel",
      "state": {}
     },
     "d5c1cde6d2694d0483fab495b831ed33": {
      "model_module": "jupyter-matplotlib",
      "model_module_version": "^0.8.3",
      "model_name": "ToolbarModel",
      "state": {
       "layout": "IPY_MODEL_2cf0c4aaf2614e67b28fdf3b72ced68d",
       "toolitems": [
        [
         "Home",
         "Reset original view",
         "home",
         "home"
        ],
        [
         "Back",
         "Back to previous view",
         "arrow-left",
         "back"
        ],
        [
         "Forward",
         "Forward to next view",
         "arrow-right",
         "forward"
        ],
        [
         "Pan",
         "Pan axes with left mouse, zoom with right",
         "arrows",
         "pan"
        ],
        [
         "Zoom",
         "Zoom to rectangle",
         "square-o",
         "zoom"
        ],
        [
         "Download",
         "Download plot",
         "floppy-o",
         "save_figure"
        ]
       ]
      }
     },
     "d622f9902eee413f91106d7e2aff878e": {
      "model_module": "@jupyter-widgets/controls",
      "model_module_version": "1.5.0",
      "model_name": "FloatSliderModel",
      "state": {
       "description": "$\\alpha$",
       "layout": "IPY_MODEL_640d286e280b42bfa2a6a2749f493cf4",
       "max": 2,
       "step": 0.001,
       "style": "IPY_MODEL_bbc04398b09346e780fe20d5202fa419",
       "value": 0.27
      }
     },
     "d65afa465f8c4066bb5d4fe96a684705": {
      "model_module": "@jupyter-widgets/base",
      "model_module_version": "1.2.0",
      "model_name": "LayoutModel",
      "state": {}
     },
     "d66bda423de7412191b934946f7da11d": {
      "model_module": "@jupyter-widgets/base",
      "model_module_version": "1.2.0",
      "model_name": "LayoutModel",
      "state": {}
     },
     "d68d63d843124b0082dbb83f1e7ff3df": {
      "model_module": "@jupyter-widgets/base",
      "model_module_version": "1.2.0",
      "model_name": "LayoutModel",
      "state": {}
     },
     "d69f3f97f5a442c5be204c96ef7e5969": {
      "model_module": "@jupyter-widgets/base",
      "model_module_version": "1.2.0",
      "model_name": "LayoutModel",
      "state": {}
     },
     "d863d1b8ee774521bd40bc008f6d3682": {
      "model_module": "@jupyter-widgets/base",
      "model_module_version": "1.2.0",
      "model_name": "LayoutModel",
      "state": {}
     },
     "d8aaa0e32daa40b699fdad3ea18af2db": {
      "model_module": "@jupyter-widgets/controls",
      "model_module_version": "1.5.0",
      "model_name": "VBoxModel",
      "state": {
       "_dom_classes": [
        "widget-interact"
       ],
       "children": [
        "IPY_MODEL_5f2586ecca3b40bf972d131a06a3532c",
        "IPY_MODEL_3fb915941ae24e2fb7084a618446cb2c"
       ],
       "layout": "IPY_MODEL_36ffbe31f0dd4a9c8bfe06abb08af4b2"
      }
     },
     "da0a32f1e76b4e7bb4a67789998a2ac7": {
      "model_module": "@jupyter-widgets/controls",
      "model_module_version": "1.5.0",
      "model_name": "IntSliderModel",
      "state": {
       "description": "$K$",
       "layout": "IPY_MODEL_412b5a467dcd402a84d0c27256cfe010",
       "min": 1,
       "style": "IPY_MODEL_58f46a43b00943a38ad5e4576bfcfa5e",
       "value": 9
      }
     },
     "da33c9c6f8bb43a1baf8d6201cad617b": {
      "model_module": "@jupyter-widgets/base",
      "model_module_version": "1.2.0",
      "model_name": "LayoutModel",
      "state": {}
     },
     "dd3d30ce1d854083b4d3c29410950fc0": {
      "model_module": "@jupyter-widgets/controls",
      "model_module_version": "1.5.0",
      "model_name": "SliderStyleModel",
      "state": {
       "description_width": ""
      }
     },
     "dd61a81579cd462192b58ea4578591ba": {
      "model_module": "@jupyter-widgets/base",
      "model_module_version": "1.2.0",
      "model_name": "LayoutModel",
      "state": {}
     },
     "dddb1f0ba13644cba968e0bad1526cef": {
      "model_module": "@jupyter-widgets/base",
      "model_module_version": "1.2.0",
      "model_name": "LayoutModel",
      "state": {}
     },
     "de2d5ebf50c1416eae723526f6414aed": {
      "model_module": "@jupyter-widgets/base",
      "model_module_version": "1.2.0",
      "model_name": "LayoutModel",
      "state": {}
     },
     "de802c1d1a1e466f9f1caab955a2e9c8": {
      "model_module": "@jupyter-widgets/base",
      "model_module_version": "1.2.0",
      "model_name": "LayoutModel",
      "state": {}
     },
     "dfc3843684124aa08a52a2e8817f5823": {
      "model_module": "@jupyter-widgets/controls",
      "model_module_version": "1.5.0",
      "model_name": "DescriptionStyleModel",
      "state": {
       "description_width": ""
      }
     },
     "dfe343ebc09f4fae95445ed3a4003e46": {
      "model_module": "@jupyter-widgets/controls",
      "model_module_version": "1.5.0",
      "model_name": "IntSliderModel",
      "state": {
       "description": "$\\lambda$-index",
       "layout": "IPY_MODEL_2ba7e82289ed40d998029b7f47a9fb98",
       "max": 81,
       "style": "IPY_MODEL_82351f8b575f48b08fb9c138ecc650fe"
      }
     },
     "e09c27445d1e4e9ba7e9542a35410abb": {
      "model_module": "@jupyter-widgets/controls",
      "model_module_version": "1.5.0",
      "model_name": "VBoxModel",
      "state": {
       "_dom_classes": [
        "widget-interact"
       ],
       "children": [
        "IPY_MODEL_7deed60443984a57b5a3c2f57d088291",
        "IPY_MODEL_3392ffbb0daf4ba08a5c9d364372e1e0"
       ],
       "layout": "IPY_MODEL_71ea85322908454093dfbccd1ca911cf"
      }
     },
     "e258368fc74048f48f89e5bbdb88d8de": {
      "model_module": "@jupyter-widgets/base",
      "model_module_version": "1.2.0",
      "model_name": "LayoutModel",
      "state": {}
     },
     "e26d30ceb04e4d02b6ad6ed2dc0d448e": {
      "model_module": "@jupyter-widgets/base",
      "model_module_version": "1.2.0",
      "model_name": "LayoutModel",
      "state": {}
     },
     "e273643b7b4c42f9bf8245582cce9b13": {
      "model_module": "@jupyter-widgets/output",
      "model_module_version": "1.0.0",
      "model_name": "OutputModel",
      "state": {
       "layout": "IPY_MODEL_45edc006a2334727988b2d6821dba4e9"
      }
     },
     "e29dc67b70414f8ca5f03a67b6691f78": {
      "model_module": "@jupyter-widgets/base",
      "model_module_version": "1.2.0",
      "model_name": "LayoutModel",
      "state": {}
     },
     "e2cf7145e6af4a358ed643cf0aab5df8": {
      "model_module": "@jupyter-widgets/base",
      "model_module_version": "1.2.0",
      "model_name": "LayoutModel",
      "state": {}
     },
     "e3001e4215e643f886f550cfe1f9b886": {
      "model_module": "@jupyter-widgets/controls",
      "model_module_version": "1.5.0",
      "model_name": "SliderStyleModel",
      "state": {
       "description_width": ""
      }
     },
     "e31c75cc11e74b0b8f3705f97ee3f657": {
      "model_module": "@jupyter-widgets/controls",
      "model_module_version": "1.5.0",
      "model_name": "VBoxModel",
      "state": {
       "_dom_classes": [
        "widget-interact"
       ],
       "children": [
        "IPY_MODEL_21d833d93e474f1a840e8aa766085486",
        "IPY_MODEL_1c918b7b06af4e8bb354f1092e07e7f9"
       ],
       "layout": "IPY_MODEL_7dcb2561eeac434c8ac0df3a96f8f2aa"
      }
     },
     "e40c6be4aa0145a7a3bad989353f344a": {
      "model_module": "@jupyter-widgets/controls",
      "model_module_version": "1.5.0",
      "model_name": "LinkModel",
      "state": {
       "source": [
        "IPY_MODEL_f32d0255768644baaa2a7e46aa0b95c9",
        "value"
       ],
       "target": [
        "IPY_MODEL_03280290b9a34ee591887219241c800b",
        "value"
       ]
      }
     },
     "e48cedffcb0d4251953b61e1c6f5b595": {
      "model_module": "@jupyter-widgets/base",
      "model_module_version": "1.2.0",
      "model_name": "LayoutModel",
      "state": {}
     },
     "e4f6b26afdac4365b8569f2586a7bb3f": {
      "model_module": "@jupyter-widgets/base",
      "model_module_version": "1.2.0",
      "model_name": "LayoutModel",
      "state": {}
     },
     "e51e60b67ea146d4b1afa34d4624d638": {
      "model_module": "@jupyter-widgets/base",
      "model_module_version": "1.2.0",
      "model_name": "LayoutModel",
      "state": {}
     },
     "e53701e33bc9464886762658aebc4699": {
      "model_module": "@jupyter-widgets/controls",
      "model_module_version": "1.5.0",
      "model_name": "IntSliderModel",
      "state": {
       "description": "$K$",
       "layout": "IPY_MODEL_ccd03a387c10474b952e9477f727e52b",
       "min": 1,
       "style": "IPY_MODEL_f311b2d3abd54d69af1e41a0ba00b2fa",
       "value": 1
      }
     },
     "e58b89e0bf434589abe494cffe7b800d": {
      "model_module": "jupyter-matplotlib",
      "model_module_version": "^0.8.3",
      "model_name": "ToolbarModel",
      "state": {
       "layout": "IPY_MODEL_3cf7e2ea19434d8eae27d0342ce9059c",
       "toolitems": [
        [
         "Home",
         "Reset original view",
         "home",
         "home"
        ],
        [
         "Back",
         "Back to previous view",
         "arrow-left",
         "back"
        ],
        [
         "Forward",
         "Forward to next view",
         "arrow-right",
         "forward"
        ],
        [
         "Pan",
         "Pan axes with left mouse, zoom with right",
         "arrows",
         "pan"
        ],
        [
         "Zoom",
         "Zoom to rectangle",
         "square-o",
         "zoom"
        ],
        [
         "Download",
         "Download plot",
         "floppy-o",
         "save_figure"
        ]
       ]
      }
     },
     "e5969529b2cb437e89957b49c4ee4155": {
      "model_module": "@jupyter-widgets/base",
      "model_module_version": "1.2.0",
      "model_name": "LayoutModel",
      "state": {}
     },
     "e5b6cad842cb4aafa1221519f8477bee": {
      "model_module": "@jupyter-widgets/base",
      "model_module_version": "1.2.0",
      "model_name": "LayoutModel",
      "state": {}
     },
     "e5b8bb2ad15c4553b272a990064e0044": {
      "model_module": "@jupyter-widgets/base",
      "model_module_version": "1.2.0",
      "model_name": "LayoutModel",
      "state": {}
     },
     "e6922ee6597b44549f0f1290d7c57d03": {
      "model_module": "@jupyter-widgets/base",
      "model_module_version": "1.2.0",
      "model_name": "LayoutModel",
      "state": {}
     },
     "e7c97f230c98455fa04d113e782bf358": {
      "model_module": "@jupyter-widgets/base",
      "model_module_version": "1.2.0",
      "model_name": "LayoutModel",
      "state": {}
     },
     "e7d64c91de59462dbe4f4457df867e63": {
      "model_module": "@jupyter-widgets/base",
      "model_module_version": "1.2.0",
      "model_name": "LayoutModel",
      "state": {}
     },
     "e98502068b0b4562a9839aca8c52ac9f": {
      "model_module": "@jupyter-widgets/base",
      "model_module_version": "1.2.0",
      "model_name": "LayoutModel",
      "state": {}
     },
     "ea26b1b598624ffa9ec1c81f62372c6d": {
      "model_module": "@jupyter-widgets/base",
      "model_module_version": "1.2.0",
      "model_name": "LayoutModel",
      "state": {}
     },
     "eab5f18093714b57bac9c81cb49caaef": {
      "model_module": "jupyter-matplotlib",
      "model_module_version": "^0.8.3",
      "model_name": "ToolbarModel",
      "state": {
       "layout": "IPY_MODEL_1e807d2635f94f898aae561793d09fa2",
       "toolitems": [
        [
         "Home",
         "Reset original view",
         "home",
         "home"
        ],
        [
         "Back",
         "Back to previous view",
         "arrow-left",
         "back"
        ],
        [
         "Forward",
         "Forward to next view",
         "arrow-right",
         "forward"
        ],
        [
         "Pan",
         "Pan axes with left mouse, zoom with right",
         "arrows",
         "pan"
        ],
        [
         "Zoom",
         "Zoom to rectangle",
         "square-o",
         "zoom"
        ],
        [
         "Download",
         "Download plot",
         "floppy-o",
         "save_figure"
        ]
       ]
      }
     },
     "eb9d18d23be84e818b8ba7604cf07910": {
      "model_module": "@jupyter-widgets/controls",
      "model_module_version": "1.5.0",
      "model_name": "VBoxModel",
      "state": {
       "_dom_classes": [
        "widget-interact"
       ],
       "children": [
        "IPY_MODEL_6b90ea8f937e4436a8912239247a72a0",
        "IPY_MODEL_361733ad31aa483eb05528245f9b51c7"
       ],
       "layout": "IPY_MODEL_f1404e5688e64bd48df9eae84ddbbc8d"
      }
     },
     "ec3249548bf844c4ba812d686a0ca4c3": {
      "model_module": "@jupyter-widgets/base",
      "model_module_version": "1.2.0",
      "model_name": "LayoutModel",
      "state": {}
     },
     "ec7e2b7f759c44138df0a32979861ab1": {
      "model_module": "@jupyter-widgets/controls",
      "model_module_version": "1.5.0",
      "model_name": "VBoxModel",
      "state": {
       "_dom_classes": [
        "widget-interact"
       ],
       "children": [
        "IPY_MODEL_868044a9d58d43b2bfc9a11d24e9294b",
        "IPY_MODEL_5afcb53b164e493bad782a6e9c94273e"
       ],
       "layout": "IPY_MODEL_65c6e7fbebd04ec189135b378bb406d0"
      }
     },
     "ecae5bd6d1c6462db0cc5ce346f24b79": {
      "model_module": "@jupyter-widgets/controls",
      "model_module_version": "1.5.0",
      "model_name": "VBoxModel",
      "state": {
       "_dom_classes": [
        "widget-interact"
       ],
       "children": [
        "IPY_MODEL_aaf984f5a97f4dc58ed0dc77d1b28a76",
        "IPY_MODEL_5741a347d9f34d85ab28cddbb82bbfd8"
       ],
       "layout": "IPY_MODEL_7b280be551494a69a3c7c58a04c6b54e"
      }
     },
     "ed18d53088594d86a99b88dac8448ee2": {
      "model_module": "@jupyter-widgets/base",
      "model_module_version": "1.2.0",
      "model_name": "LayoutModel",
      "state": {}
     },
     "ed85a6b390624215890d177622654b96": {
      "model_module": "@jupyter-widgets/output",
      "model_module_version": "1.0.0",
      "model_name": "OutputModel",
      "state": {
       "layout": "IPY_MODEL_bbbaf5a9b7a341b19ff63d43706ba2cf"
      }
     },
     "eea0a666658148659e18c7168679e762": {
      "model_module": "jupyter-matplotlib",
      "model_module_version": "^0.8.3",
      "model_name": "ToolbarModel",
      "state": {
       "layout": "IPY_MODEL_bb32f34368c44b15a9423637321fcad6",
       "toolitems": [
        [
         "Home",
         "Reset original view",
         "home",
         "home"
        ],
        [
         "Back",
         "Back to previous view",
         "arrow-left",
         "back"
        ],
        [
         "Forward",
         "Forward to next view",
         "arrow-right",
         "forward"
        ],
        [
         "Pan",
         "Pan axes with left mouse, zoom with right",
         "arrows",
         "pan"
        ],
        [
         "Zoom",
         "Zoom to rectangle",
         "square-o",
         "zoom"
        ],
        [
         "Download",
         "Download plot",
         "floppy-o",
         "save_figure"
        ]
       ]
      }
     },
     "eee29cb3e05640918ca3eb074cc2df60": {
      "model_module": "@jupyter-widgets/controls",
      "model_module_version": "1.5.0",
      "model_name": "SliderStyleModel",
      "state": {
       "description_width": ""
      }
     },
     "eef91044a7054ac09187d9de2d02ef67": {
      "model_module": "@jupyter-widgets/base",
      "model_module_version": "1.2.0",
      "model_name": "LayoutModel",
      "state": {}
     },
     "efb2c08eba03471d9384fef6776e9e68": {
      "model_module": "@jupyter-widgets/output",
      "model_module_version": "1.0.0",
      "model_name": "OutputModel",
      "state": {
       "layout": "IPY_MODEL_1c9a6a04c4284cda8bf78159390a414e"
      }
     },
     "efb56192f79c423cb23504669778b5b3": {
      "model_module": "@jupyter-widgets/base",
      "model_module_version": "1.2.0",
      "model_name": "LayoutModel",
      "state": {}
     },
     "efe3294fb6384f7bac670f800899b492": {
      "model_module": "@jupyter-widgets/output",
      "model_module_version": "1.0.0",
      "model_name": "OutputModel",
      "state": {
       "layout": "IPY_MODEL_6b660d02e4724ef9bfd012c676570263"
      }
     },
     "efe502f3e5f043479384c06aa19dadf7": {
      "model_module": "jupyter-matplotlib",
      "model_module_version": "^0.8.3",
      "model_name": "MPLCanvasModel",
      "state": {
       "_figure_label": "Figure 6",
       "_height": 384,
       "_image_mode": "diff",
       "_width": 960,
       "header_visible": false,
       "layout": "IPY_MODEL_964ab18b36564c6da1771ad8020f5ca3",
       "resizable": false,
       "toolbar": "IPY_MODEL_1a4c5e9be76a498fae4e33e3116c8cda",
       "toolbar_position": "left",
       "toolbar_visible": false
      }
     },
     "f0c2355a6c134d01a6643e7e29cd1049": {
      "model_module": "jupyter-matplotlib",
      "model_module_version": "^0.8.3",
      "model_name": "ToolbarModel",
      "state": {
       "layout": "IPY_MODEL_8b9737c2cb8c4ca0b6491f4909ffad04",
       "toolitems": [
        [
         "Home",
         "Reset original view",
         "home",
         "home"
        ],
        [
         "Back",
         "Back to previous view",
         "arrow-left",
         "back"
        ],
        [
         "Forward",
         "Forward to next view",
         "arrow-right",
         "forward"
        ],
        [
         "Pan",
         "Pan axes with left mouse, zoom with right",
         "arrows",
         "pan"
        ],
        [
         "Zoom",
         "Zoom to rectangle",
         "square-o",
         "zoom"
        ],
        [
         "Download",
         "Download plot",
         "floppy-o",
         "save_figure"
        ]
       ]
      }
     },
     "f0d42f7d286640c796bfda6b55eea58a": {
      "model_module": "@jupyter-widgets/controls",
      "model_module_version": "1.5.0",
      "model_name": "IntSliderModel",
      "state": {
       "description": "$K$",
       "layout": "IPY_MODEL_eef91044a7054ac09187d9de2d02ef67",
       "min": 1,
       "style": "IPY_MODEL_d598fba8f7e74c23b97842730a9f5e7a",
       "value": 1
      }
     },
     "f1018fa8f1514cdab8ae9c22153e6820": {
      "model_module": "@jupyter-widgets/controls",
      "model_module_version": "1.5.0",
      "model_name": "SliderStyleModel",
      "state": {
       "description_width": ""
      }
     },
     "f1115a52889a4dc686676ec0e1527aa8": {
      "model_module": "jupyter-matplotlib",
      "model_module_version": "^0.8.3",
      "model_name": "ToolbarModel",
      "state": {
       "layout": "IPY_MODEL_262d306ea1fe4a709af0d7619646bf1e",
       "toolitems": [
        [
         "Home",
         "Reset original view",
         "home",
         "home"
        ],
        [
         "Back",
         "Back to previous view",
         "arrow-left",
         "back"
        ],
        [
         "Forward",
         "Forward to next view",
         "arrow-right",
         "forward"
        ],
        [
         "Pan",
         "Pan axes with left mouse, zoom with right",
         "arrows",
         "pan"
        ],
        [
         "Zoom",
         "Zoom to rectangle",
         "square-o",
         "zoom"
        ],
        [
         "Download",
         "Download plot",
         "floppy-o",
         "save_figure"
        ]
       ]
      }
     },
     "f1165a82cc8d400f8bec7657202a85bf": {
      "model_module": "@jupyter-widgets/base",
      "model_module_version": "1.2.0",
      "model_name": "LayoutModel",
      "state": {}
     },
     "f128d07a79ef453a89f4518cfd333191": {
      "model_module": "@jupyter-widgets/base",
      "model_module_version": "1.2.0",
      "model_name": "LayoutModel",
      "state": {}
     },
     "f1381007f9a347a3bee99249c5a38a48": {
      "model_module": "@jupyter-widgets/controls",
      "model_module_version": "1.5.0",
      "model_name": "VBoxModel",
      "state": {
       "_dom_classes": [
        "widget-interact"
       ],
       "children": [
        "IPY_MODEL_1917365d4aa9473f85e156c8e7a41f84",
        "IPY_MODEL_c6a17a44fcb047e083845fab1ccf7000"
       ],
       "layout": "IPY_MODEL_03c40891f99a48b39cc6a204cdeac68f"
      }
     },
     "f1404e5688e64bd48df9eae84ddbbc8d": {
      "model_module": "@jupyter-widgets/base",
      "model_module_version": "1.2.0",
      "model_name": "LayoutModel",
      "state": {}
     },
     "f23512da78dc4097b3b333a0d0d63448": {
      "model_module": "@jupyter-widgets/base",
      "model_module_version": "1.2.0",
      "model_name": "LayoutModel",
      "state": {}
     },
     "f2d9e727e11048c38804d5a8e72db305": {
      "model_module": "@jupyter-widgets/base",
      "model_module_version": "1.2.0",
      "model_name": "LayoutModel",
      "state": {}
     },
     "f311b2d3abd54d69af1e41a0ba00b2fa": {
      "model_module": "@jupyter-widgets/controls",
      "model_module_version": "1.5.0",
      "model_name": "SliderStyleModel",
      "state": {
       "description_width": ""
      }
     },
     "f329199ce96c4a9994aecb69ed5c08b9": {
      "model_module": "@jupyter-widgets/base",
      "model_module_version": "1.2.0",
      "model_name": "LayoutModel",
      "state": {}
     },
     "f32d0255768644baaa2a7e46aa0b95c9": {
      "model_module": "@jupyter-widgets/controls",
      "model_module_version": "1.5.0",
      "model_name": "PlayModel",
      "state": {
       "description": "Press play",
       "interval": 50,
       "layout": "IPY_MODEL_21954692bb744b4fa7a51ddb1620c687",
       "style": "IPY_MODEL_776fb11281954d9dbf64fb73ad9d764c"
      }
     },
     "f458d7cda84846bf872d25da515174bf": {
      "model_module": "@jupyter-widgets/base",
      "model_module_version": "1.2.0",
      "model_name": "LayoutModel",
      "state": {}
     },
     "f4c4358f7fbd4222b09b61f98141679c": {
      "model_module": "@jupyter-widgets/base",
      "model_module_version": "1.2.0",
      "model_name": "LayoutModel",
      "state": {}
     },
     "f55e2a061fda41f091bad759983ef094": {
      "model_module": "@jupyter-widgets/base",
      "model_module_version": "1.2.0",
      "model_name": "LayoutModel",
      "state": {}
     },
     "f5c3d365a60a4acbb736497ee17b1900": {
      "model_module": "@jupyter-widgets/controls",
      "model_module_version": "1.5.0",
      "model_name": "PlayModel",
      "state": {
       "description": "Press play",
       "interval": 50,
       "layout": "IPY_MODEL_7f59d451daf6428ab0c16ea6503f4173",
       "style": "IPY_MODEL_794d76fad13d4e89a741fb2fda177099"
      }
     },
     "f5db520dbc37460497d3b40378c2741b": {
      "model_module": "@jupyter-widgets/controls",
      "model_module_version": "1.5.0",
      "model_name": "IntSliderModel",
      "state": {
       "description": "$\\lambda$-index",
       "layout": "IPY_MODEL_e258368fc74048f48f89e5bbdb88d8de",
       "max": 79,
       "style": "IPY_MODEL_abc71b74d3b64f538ec8651c3bfacb0e"
      }
     },
     "f66a6378c1984abd9da2b951a17c57c7": {
      "model_module": "@jupyter-widgets/base",
      "model_module_version": "1.2.0",
      "model_name": "LayoutModel",
      "state": {}
     },
     "f6b86c4fdfbc452c86fcbaea1fc9fd3d": {
      "model_module": "@jupyter-widgets/base",
      "model_module_version": "1.2.0",
      "model_name": "LayoutModel",
      "state": {}
     },
     "f71e47eb67da4b9c903b515982dc1ec3": {
      "model_module": "jupyter-matplotlib",
      "model_module_version": "^0.8.3",
      "model_name": "ToolbarModel",
      "state": {
       "layout": "IPY_MODEL_959e1f6a2e5a41e3a3c4b60bbe11e2fa",
       "toolitems": [
        [
         "Home",
         "Reset original view",
         "home",
         "home"
        ],
        [
         "Back",
         "Back to previous view",
         "arrow-left",
         "back"
        ],
        [
         "Forward",
         "Forward to next view",
         "arrow-right",
         "forward"
        ],
        [
         "Pan",
         "Pan axes with left mouse, zoom with right",
         "arrows",
         "pan"
        ],
        [
         "Zoom",
         "Zoom to rectangle",
         "square-o",
         "zoom"
        ],
        [
         "Download",
         "Download plot",
         "floppy-o",
         "save_figure"
        ]
       ]
      }
     },
     "f7cbace982694332aea561609eed7257": {
      "model_module": "@jupyter-widgets/base",
      "model_module_version": "1.2.0",
      "model_name": "LayoutModel",
      "state": {}
     },
     "fa286a0fa3d84ac7b95d93eb09f3729a": {
      "model_module": "@jupyter-widgets/base",
      "model_module_version": "1.2.0",
      "model_name": "LayoutModel",
      "state": {}
     },
     "faac8052a7104aeb965a8268fdfca9a0": {
      "model_module": "@jupyter-widgets/output",
      "model_module_version": "1.0.0",
      "model_name": "OutputModel",
      "state": {
       "layout": "IPY_MODEL_b8ca520ec70947a1a2d8e1845eeab59a"
      }
     },
     "faaf7312b62f4140998496924e4825db": {
      "model_module": "@jupyter-widgets/base",
      "model_module_version": "1.2.0",
      "model_name": "LayoutModel",
      "state": {}
     },
     "fad8293cd8864ecfa1dae126d890f828": {
      "model_module": "@jupyter-widgets/base",
      "model_module_version": "1.2.0",
      "model_name": "LayoutModel",
      "state": {}
     },
     "fccc038b34dd41068532d7f8643e9cad": {
      "model_module": "@jupyter-widgets/base",
      "model_module_version": "1.2.0",
      "model_name": "LayoutModel",
      "state": {}
     },
     "fd8a6fb649684c50bffd220245354d25": {
      "model_module": "@jupyter-widgets/controls",
      "model_module_version": "1.5.0",
      "model_name": "VBoxModel",
      "state": {
       "_dom_classes": [
        "widget-interact"
       ],
       "children": [
        "IPY_MODEL_be447565d1d44534a84eeed85a3f4dcd",
        "IPY_MODEL_2d596ecb15594782b6aabd6a2080d2d2"
       ],
       "layout": "IPY_MODEL_c95aee44538d4f8e8ff96c19157408e4"
      }
     },
     "fdc63f1228124b778f80db55e487c707": {
      "model_module": "@jupyter-widgets/controls",
      "model_module_version": "1.5.0",
      "model_name": "HBoxModel",
      "state": {
       "children": [
        "IPY_MODEL_f32d0255768644baaa2a7e46aa0b95c9",
        "IPY_MODEL_03280290b9a34ee591887219241c800b"
       ],
       "layout": "IPY_MODEL_5985307c0c9f428f887a18f9d4655426"
      }
     },
     "fe45a14813b243e2ada31ea6ab35d13b": {
      "model_module": "jupyter-matplotlib",
      "model_module_version": "^0.8.3",
      "model_name": "ToolbarModel",
      "state": {
       "layout": "IPY_MODEL_746f1db05823447ba739d60f03d5e2e3",
       "toolitems": [
        [
         "Home",
         "Reset original view",
         "home",
         "home"
        ],
        [
         "Back",
         "Back to previous view",
         "arrow-left",
         "back"
        ],
        [
         "Forward",
         "Forward to next view",
         "arrow-right",
         "forward"
        ],
        [
         "Pan",
         "Pan axes with left mouse, zoom with right",
         "arrows",
         "pan"
        ],
        [
         "Zoom",
         "Zoom to rectangle",
         "square-o",
         "zoom"
        ],
        [
         "Download",
         "Download plot",
         "floppy-o",
         "save_figure"
        ]
       ]
      }
     },
     "fed2174180dd4f5e95267493ea57803c": {
      "model_module": "jupyter-matplotlib",
      "model_module_version": "^0.8.3",
      "model_name": "ToolbarModel",
      "state": {
       "layout": "IPY_MODEL_e7c97f230c98455fa04d113e782bf358",
       "toolitems": [
        [
         "Home",
         "Reset original view",
         "home",
         "home"
        ],
        [
         "Back",
         "Back to previous view",
         "arrow-left",
         "back"
        ],
        [
         "Forward",
         "Forward to next view",
         "arrow-right",
         "forward"
        ],
        [
         "Pan",
         "Pan axes with left mouse, zoom with right",
         "arrows",
         "pan"
        ],
        [
         "Zoom",
         "Zoom to rectangle",
         "square-o",
         "zoom"
        ],
        [
         "Download",
         "Download plot",
         "floppy-o",
         "save_figure"
        ]
       ]
      }
     },
     "fee8dbab98df459c9e9f6984913239b1": {
      "model_module": "jupyter-matplotlib",
      "model_module_version": "^0.8.3",
      "model_name": "ToolbarModel",
      "state": {
       "layout": "IPY_MODEL_d484b986ab474840b5d328a07619ae55",
       "toolitems": [
        [
         "Home",
         "Reset original view",
         "home",
         "home"
        ],
        [
         "Back",
         "Back to previous view",
         "arrow-left",
         "back"
        ],
        [
         "Forward",
         "Forward to next view",
         "arrow-right",
         "forward"
        ],
        [
         "Pan",
         "Pan axes with left mouse, zoom with right",
         "arrows",
         "pan"
        ],
        [
         "Zoom",
         "Zoom to rectangle",
         "square-o",
         "zoom"
        ],
        [
         "Download",
         "Download plot",
         "floppy-o",
         "save_figure"
        ]
       ]
      }
     },
     "ff10b92417904709a0d1b6c6b9abaa31": {
      "model_module": "@jupyter-widgets/base",
      "model_module_version": "1.2.0",
      "model_name": "LayoutModel",
      "state": {}
     },
     "ff16ecf29d9d4c8194ad6c5d9e238e1b": {
      "model_module": "@jupyter-widgets/controls",
      "model_module_version": "1.5.0",
      "model_name": "LinkModel",
      "state": {
       "source": [
        "IPY_MODEL_5b6b56e610f24af3b9c558646f024c87",
        "value"
       ],
       "target": [
        "IPY_MODEL_6672a71003954c5788142c67c812ac4f",
        "value"
       ]
      }
     }
    },
    "version_major": 2,
    "version_minor": 0
   }
  }
 },
 "nbformat": 4,
 "nbformat_minor": 4
}
