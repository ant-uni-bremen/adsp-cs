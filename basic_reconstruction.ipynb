{
 "cells": [
  {
   "cell_type": "markdown",
   "metadata": {
    "slideshow": {
     "slide_type": "-"
    }
   },
   "source": [
    "# Compressed Sesing Reconcstruction\n",
    "## Introduction\n",
    "This notebook shows basic examples for compressed sensing reconstruction problems with different algorithms.\n",
    "\n",
    "## Basic reconstruction idea with norm relaxation\n",
    "\n",
    "Assum the basic $l_0$ minimzation problem from CS:\n",
    "\n",
    "$$\\min_{\\mathbf{x}\\in\\mathbb{R}}\\lVert \\mathbf{x} \\rVert_0\\quad\\mathrm{s.t.}\\quad \\lVert \\mathbf{y}-\\mathbf{A}\\mathbf{x}\\rVert < \\epsilon$$\n",
    "\n",
    "Then, we can relax the $l_0$ \"norm\" to another norm like the convex $l_1$ norm:\n",
    "\n",
    "$$\\min_{\\mathbf{x}\\in\\mathbb{R}}\\lVert \\mathbf{x} \\rVert_1\\quad\\mathrm{s.t.}\\quad \\lVert \\mathbf{y}-\\mathbf{A}\\mathbf{x}\\rVert < \\epsilon$$\n",
    "\n",
    "In the noiseless case, the constraint simplifies to $\\mathbf{A}\\mathbf{x}=\\mathbf{y}$. Thus, the solution is at the intersection of the hyperplanes defined by the equation system and the scales unit sphere in the chosen norm. The following code illustrates this with a 2D example. Feasible $\\mathbf{x}$ that solve $\\mathbf{A}\\mathbf{x}=\\mathbf{y}$ are on the blue line. This line then touches the scaled unit sphere (green) of different norms at different points (red). Note, that it only leads to a sparse solution for the $l_1$ norm."
   ]
  },
  {
   "cell_type": "code",
   "execution_count": 1,
   "metadata": {
    "slideshow": {
     "slide_type": "-"
    }
   },
   "outputs": [
    {
     "data": {
      "application/vnd.jupyter.widget-view+json": {
       "model_id": "f1b35970dcb346389fa7d24575bbc45b",
       "version_major": 2,
       "version_minor": 0
      },
      "text/plain": [
       "Canvas(toolbar=Toolbar(toolitems=[('Home', 'Reset original view', 'home', 'home'), ('Back', 'Back to previous …"
      ]
     },
     "metadata": {},
     "output_type": "display_data"
    },
    {
     "data": {
      "application/vnd.jupyter.widget-view+json": {
       "model_id": "b57d3f0f7ec4429ab0e46115d7de3299",
       "version_major": 2,
       "version_minor": 0
      },
      "text/plain": [
       "HBox(children=(Play(value=0, description='Press play', interval=50), IntSlider(value=0)))"
      ]
     },
     "metadata": {},
     "output_type": "display_data"
    }
   ],
   "source": [
    "%matplotlib widget\n",
    "import ipywidgets as widgets\n",
    "import matplotlib.pyplot as plt\n",
    "from matplotlib.patches import Circle, Rectangle\n",
    "from numpy import linspace\n",
    "from math import sqrt\n",
    "\n",
    "def scale_plot_size(factor=1.5):\n",
    "    import matplotlib as mpl\n",
    "    default_dpi = mpl.rcParamsDefault['figure.dpi']\n",
    "    mpl.rcParams['figure.dpi'] = default_dpi*factor\n",
    "\n",
    "scale_plot_size(0.8)\n",
    "    \n",
    "x1 = linspace(-1,1,10)\n",
    "fig,axs = plt.subplots(1, 4, sharey=True)\n",
    "fig.suptitle(\"Illustration of norm effects on the solution\")\n",
    "fig.set_figwidth(12)\n",
    "fig.set_figheight(4)\n",
    "fig.set_tight_layout(True)\n",
    "fig.canvas.toolbar_visible = False\n",
    "fig.canvas.header_visible = False\n",
    "fig.canvas.footer_visible = False\n",
    "fig.canvas.resizable = False\n",
    "\n",
    "\n",
    "\n",
    "for ax in axs:\n",
    "    ax.plot(x1,(1-x1)/2)\n",
    "    ax.set_xlim((-1,1))\n",
    "    ax.set_ylim((-1,1))\n",
    "    ax.set_xlabel('$x_1$')\n",
    "    ax.grid(True)\n",
    "    \n",
    "axs[0].set_title('$l_0$ norm')\n",
    "axs[0].set_ylabel('$x_2$')\n",
    "axs[1].set_title('$l_1$ norm')\n",
    "axs[2].set_title('$l_2$ norm')\n",
    "axs[3].set_title('$l_\\infty$ norm')\n",
    "\n",
    "zero_norm = axs[0].plot([0,0],[0, 0],'g-',[0, 0],[0,0],'g-')\n",
    "\n",
    "at=[]\n",
    "line=[]\n",
    "line.append(axs[0].plot(0,0.5,'rs'))\n",
    "at.append(axs[0].annotate('(0,0.5)',(0.05,0.55)))\n",
    "\n",
    "line.append(axs[1].plot(0,0.5,'rs'))\n",
    "at.append(axs[1].annotate('(0,0.5)',(0.05,0.55)))\n",
    "\n",
    "line.append(axs[2].plot(1/5,2/5,'rs'))\n",
    "at.append(axs[2].annotate('(1/5,2/5)',(1/5+0.05,2/5+0.05)))\n",
    "    \n",
    "line.append(axs[3].plot(1/3,1/3,'rs'))\n",
    "at.append(axs[3].annotate('(1/3,1/3)',(1/3+0.05,1/3+0.05)))\n",
    "\n",
    "for i in [0,1,2,3]:\n",
    "    line[i][0].set_marker(' ')\n",
    "    at[i].set_visible(False)\n",
    "        \n",
    "sp_space=[]\n",
    "sp_space.append(linspace(0.05,0.5,100))\n",
    "sp_space.append(linspace(0.05,0.5,100))\n",
    "sp_space.append(linspace(0.05,1/sqrt(5),100))\n",
    "sp_space.append(linspace(0.05,1/3,100))\n",
    "\n",
    "def update(change):\n",
    "    zero_norm[0].set_data([-sp_space[0][change.new], sp_space[0][change.new]],[0, 0])\n",
    "    zero_norm[1].set_data([0, 0],[-sp_space[0][change.new], sp_space[0][change.new]])\n",
    "    \n",
    "    blen=sqrt(sp_space[0][change.new]**2+sp_space[0][change.new]**2)\n",
    "    axs[1].patches = []\n",
    "    axs[1].add_patch(Rectangle((0,-sp_space[0][change.new]),blen,blen,45,color='g',alpha=0.1))\n",
    "    \n",
    "    axs[2].patches = []\n",
    "    axs[2].add_patch(Circle((0,0),sp_space[2][change.new],color='g',alpha=0.1))\n",
    "    \n",
    "    axs[3].patches = []\n",
    "    axs[3].add_patch(Rectangle((-sp_space[3][change.new],-sp_space[3][change.new]),2*sp_space[3][change.new],2*sp_space[3][change.new],0,color='g',alpha=0.1))   \n",
    "    \n",
    "    if change.new > 97:                      \n",
    "        for i in [0,1,2,3]:\n",
    "            line[i][0].set_marker('s')\n",
    "            at[i].set_visible(True)\n",
    "    else:\n",
    "        for i in [0,1,2,3]:\n",
    "            line[i][0].set_marker(' ')\n",
    "            at[i].set_visible(False)\n",
    "    \n",
    "play = widgets.Play(\n",
    "    interval=50,\n",
    "    value=0,\n",
    "    min=0,\n",
    "    max=100,\n",
    "    step=1,\n",
    "    description=\"Press play\",\n",
    "    disabled=False\n",
    ")\n",
    "slider = widgets.IntSlider()\n",
    "play.observe(update, 'value')\n",
    "widgets.jslink((play, 'value'), (slider, 'value'))\n",
    "widgets.HBox([play, slider])"
   ]
  }
 ],
 "metadata": {
  "kernelspec": {
   "display_name": "Python 3",
   "language": "python",
   "name": "python3"
  },
  "language_info": {
   "codemirror_mode": {
    "name": "ipython",
    "version": 3
   },
   "file_extension": ".py",
   "mimetype": "text/x-python",
   "name": "python",
   "nbconvert_exporter": "python",
   "pygments_lexer": "ipython3",
   "version": "3.8.5"
  },
  "widgets": {
   "application/vnd.jupyter.widget-state+json": {
    "state": {
     "0063d27fff4940e394732d367c4e36af": {
      "model_module": "@jupyter-widgets/base",
      "model_module_version": "1.2.0",
      "model_name": "LayoutModel",
      "state": {}
     },
     "02082882bec54007b620d7107580d769": {
      "model_module": "@jupyter-widgets/base",
      "model_module_version": "1.2.0",
      "model_name": "LayoutModel",
      "state": {}
     },
     "023521962f15455289f8f62e3afd88a2": {
      "model_module": "@jupyter-widgets/controls",
      "model_module_version": "1.5.0",
      "model_name": "SliderStyleModel",
      "state": {
       "description_width": ""
      }
     },
     "02a2d349f7d24c5c8c6ea3bb271eda5b": {
      "model_module": "@jupyter-widgets/base",
      "model_module_version": "1.2.0",
      "model_name": "LayoutModel",
      "state": {}
     },
     "02c688af74bc4f25a563af4d3b07a553": {
      "model_module": "@jupyter-widgets/controls",
      "model_module_version": "1.5.0",
      "model_name": "DescriptionStyleModel",
      "state": {
       "description_width": ""
      }
     },
     "042e6ef5e92e4e51aead40bf788772e4": {
      "model_module": "@jupyter-widgets/base",
      "model_module_version": "1.2.0",
      "model_name": "LayoutModel",
      "state": {}
     },
     "0470d89d25fc40ab8493b670f63a1254": {
      "model_module": "@jupyter-widgets/base",
      "model_module_version": "1.2.0",
      "model_name": "LayoutModel",
      "state": {}
     },
     "04a45d19e6c54d648b620286a6ed5e9d": {
      "model_module": "@jupyter-widgets/base",
      "model_module_version": "1.2.0",
      "model_name": "LayoutModel",
      "state": {}
     },
     "04b4ef81a17a4331a47234f1c18baf88": {
      "model_module": "jupyter-matplotlib",
      "model_module_version": "^0.7.4",
      "model_name": "ToolbarModel",
      "state": {
       "layout": "IPY_MODEL_c68df0f3ed0045ff9128891c3122bda3",
       "toolitems": [
        [
         "Home",
         "Reset original view",
         "home",
         "home"
        ],
        [
         "Back",
         "Back to previous view",
         "arrow-left",
         "back"
        ],
        [
         "Forward",
         "Forward to next view",
         "arrow-right",
         "forward"
        ],
        [
         "Pan",
         "Left button pans, Right button zooms\nx/y fixes axis, CTRL fixes aspect",
         "arrows",
         "pan"
        ],
        [
         "Zoom",
         "Zoom to rectangle\nx/y fixes axis, CTRL fixes aspect",
         "square-o",
         "zoom"
        ],
        [
         "Download",
         "Download plot",
         "floppy-o",
         "save_figure"
        ]
       ]
      }
     },
     "04f32dc024df45a8919b5e81534a3549": {
      "model_module": "@jupyter-widgets/controls",
      "model_module_version": "1.5.0",
      "model_name": "IntSliderModel",
      "state": {
       "layout": "IPY_MODEL_501ae608684e4adbb2c5b86542907f34",
       "style": "IPY_MODEL_5be37a63bd2e44d6a6c3524fc63fc7fd",
       "value": 100
      }
     },
     "05c1170c851c4dd3ac149c7542cd336b": {
      "model_module": "jupyter-matplotlib",
      "model_module_version": "^0.7.4",
      "model_name": "ToolbarModel",
      "state": {
       "layout": "IPY_MODEL_7db87c3fa1ca49d3a7b7b048c84ba947",
       "toolitems": [
        [
         "Home",
         "Reset original view",
         "home",
         "home"
        ],
        [
         "Back",
         "Back to previous view",
         "arrow-left",
         "back"
        ],
        [
         "Forward",
         "Forward to next view",
         "arrow-right",
         "forward"
        ],
        [
         "Pan",
         "Left button pans, Right button zooms\nx/y fixes axis, CTRL fixes aspect",
         "arrows",
         "pan"
        ],
        [
         "Zoom",
         "Zoom to rectangle\nx/y fixes axis, CTRL fixes aspect",
         "square-o",
         "zoom"
        ],
        [
         "Download",
         "Download plot",
         "floppy-o",
         "save_figure"
        ]
       ]
      }
     },
     "062174b313c1463a8c46a2b1a2065115": {
      "model_module": "@jupyter-widgets/controls",
      "model_module_version": "1.5.0",
      "model_name": "PlayModel",
      "state": {
       "description": "Press play",
       "interval": 50,
       "layout": "IPY_MODEL_aa54542f7b17472593012f5793767b96",
       "style": "IPY_MODEL_ad5fcbab04514db088174e5535dd4439"
      }
     },
     "068ce9dde1bc42c08154af9772007bb5": {
      "model_module": "@jupyter-widgets/controls",
      "model_module_version": "1.5.0",
      "model_name": "IntSliderModel",
      "state": {
       "layout": "IPY_MODEL_b7b8ff52b7604d598ee2731e6fb4a0a7",
       "style": "IPY_MODEL_0f767f616a8949e0bd849ba8115d4f8d"
      }
     },
     "072436ddcbf84079bc84d17b224899c7": {
      "model_module": "@jupyter-widgets/base",
      "model_module_version": "1.2.0",
      "model_name": "LayoutModel",
      "state": {}
     },
     "07328af85e254b01884f11b79ac06a0d": {
      "model_module": "@jupyter-widgets/controls",
      "model_module_version": "1.5.0",
      "model_name": "IntSliderModel",
      "state": {
       "layout": "IPY_MODEL_67c3d20cdc1845a18221c8d1cdb5e8c8",
       "style": "IPY_MODEL_76aa2f458c6f4846af36fed41fe2391d"
      }
     },
     "07e336a076f846a99651b6a4fe74b267": {
      "model_module": "@jupyter-widgets/base",
      "model_module_version": "1.2.0",
      "model_name": "LayoutModel",
      "state": {}
     },
     "0987711c5d234d8e82baa70645fa9f6c": {
      "model_module": "@jupyter-widgets/base",
      "model_module_version": "1.2.0",
      "model_name": "LayoutModel",
      "state": {}
     },
     "09b3709a469e4ecda142f6a01a45c917": {
      "model_module": "@jupyter-widgets/controls",
      "model_module_version": "1.5.0",
      "model_name": "IntSliderModel",
      "state": {
       "layout": "IPY_MODEL_47fe31be30fa439c88fe1fedb9a151cb",
       "style": "IPY_MODEL_111c06060e224ffcb10df11abc52d50b"
      }
     },
     "0b423ff8ada64888942d8e9c82bd5bb8": {
      "model_module": "@jupyter-widgets/base",
      "model_module_version": "1.2.0",
      "model_name": "LayoutModel",
      "state": {}
     },
     "0b6c12a0a8004e17b1b9a01f8d03f80f": {
      "model_module": "@jupyter-widgets/controls",
      "model_module_version": "1.5.0",
      "model_name": "PlayModel",
      "state": {
       "description": "Press play",
       "layout": "IPY_MODEL_db61baa3f4f74560b488c042506da57f",
       "style": "IPY_MODEL_33dc19651ec64979b9674aa6ae078dc6"
      }
     },
     "0c6146925ff541c78e1f8a4df2740949": {
      "model_module": "@jupyter-widgets/controls",
      "model_module_version": "1.5.0",
      "model_name": "SliderStyleModel",
      "state": {
       "description_width": ""
      }
     },
     "0c95449eb6ac441086d77a1a4328cd0c": {
      "model_module": "@jupyter-widgets/base",
      "model_module_version": "1.2.0",
      "model_name": "LayoutModel",
      "state": {}
     },
     "0d80be241b2b4a5eafcdb59f55e669f0": {
      "model_module": "@jupyter-widgets/controls",
      "model_module_version": "1.5.0",
      "model_name": "HBoxModel",
      "state": {
       "children": [
        "IPY_MODEL_9a1a63e4c15047d1804d71d659b54161",
        "IPY_MODEL_a49242e89379477c99139c1e58b66df2"
       ],
       "layout": "IPY_MODEL_b3e1ec2318fa4522a3ea9824eb96ff10"
      }
     },
     "0da56077d1e34305bef9133919ede8cb": {
      "model_module": "@jupyter-widgets/controls",
      "model_module_version": "1.5.0",
      "model_name": "PlayModel",
      "state": {
       "description": "Press play",
       "layout": "IPY_MODEL_d1e6c938dbdb4dc89339da31ec1e521d",
       "style": "IPY_MODEL_b15b5662394540b2b1b7cdd59d4169da"
      }
     },
     "0eb23410002d4b43b2406d2add590aaf": {
      "model_module": "@jupyter-widgets/controls",
      "model_module_version": "1.5.0",
      "model_name": "LinkModel",
      "state": {
       "source": [
        "IPY_MODEL_d2774cbdaaaf4e8bb2307aef0852237b",
        "value"
       ],
       "target": [
        "IPY_MODEL_aef95bb7fdf8442b9950cfc4bc1237ee",
        "value"
       ]
      }
     },
     "0f767f616a8949e0bd849ba8115d4f8d": {
      "model_module": "@jupyter-widgets/controls",
      "model_module_version": "1.5.0",
      "model_name": "SliderStyleModel",
      "state": {
       "description_width": ""
      }
     },
     "0fba2d1cda82458d8808163300ae74ac": {
      "model_module": "@jupyter-widgets/base",
      "model_module_version": "1.2.0",
      "model_name": "LayoutModel",
      "state": {}
     },
     "111c06060e224ffcb10df11abc52d50b": {
      "model_module": "@jupyter-widgets/controls",
      "model_module_version": "1.5.0",
      "model_name": "SliderStyleModel",
      "state": {
       "description_width": ""
      }
     },
     "113781c909354fa3affda76736d01dc3": {
      "model_module": "@jupyter-widgets/base",
      "model_module_version": "1.2.0",
      "model_name": "LayoutModel",
      "state": {}
     },
     "11571d144bae4d71b0e9e7ccd81c2bb2": {
      "model_module": "@jupyter-widgets/controls",
      "model_module_version": "1.5.0",
      "model_name": "DescriptionStyleModel",
      "state": {
       "description_width": ""
      }
     },
     "130211ce928345158c8158695bf85483": {
      "model_module": "@jupyter-widgets/controls",
      "model_module_version": "1.5.0",
      "model_name": "IntSliderModel",
      "state": {
       "layout": "IPY_MODEL_a36d456b5ee349b9b8a15fe6ed5905e0",
       "style": "IPY_MODEL_55a48c86a853496f847702f71634bd89"
      }
     },
     "1324ee76fec54e809c6e905b98954170": {
      "model_module": "jupyter-matplotlib",
      "model_module_version": "^0.7.4",
      "model_name": "ToolbarModel",
      "state": {
       "layout": "IPY_MODEL_8c5515cf0ecf4b50b0646caa564c7ebd",
       "toolitems": [
        [
         "Home",
         "Reset original view",
         "home",
         "home"
        ],
        [
         "Back",
         "Back to previous view",
         "arrow-left",
         "back"
        ],
        [
         "Forward",
         "Forward to next view",
         "arrow-right",
         "forward"
        ],
        [
         "Pan",
         "Left button pans, Right button zooms\nx/y fixes axis, CTRL fixes aspect",
         "arrows",
         "pan"
        ],
        [
         "Zoom",
         "Zoom to rectangle\nx/y fixes axis, CTRL fixes aspect",
         "square-o",
         "zoom"
        ],
        [
         "Download",
         "Download plot",
         "floppy-o",
         "save_figure"
        ]
       ]
      }
     },
     "132eb7b582e24075aef22db9fe32468d": {
      "model_module": "@jupyter-widgets/base",
      "model_module_version": "1.2.0",
      "model_name": "LayoutModel",
      "state": {}
     },
     "1379409a3ea0461d88202fb8cd951045": {
      "model_module": "@jupyter-widgets/controls",
      "model_module_version": "1.5.0",
      "model_name": "SliderStyleModel",
      "state": {
       "description_width": ""
      }
     },
     "138bc8c1b41b473ab3035975007b9659": {
      "model_module": "@jupyter-widgets/base",
      "model_module_version": "1.2.0",
      "model_name": "LayoutModel",
      "state": {}
     },
     "15030c6de93b4481b117d235f2abb790": {
      "model_module": "@jupyter-widgets/controls",
      "model_module_version": "1.5.0",
      "model_name": "HBoxModel",
      "state": {
       "children": [
        "IPY_MODEL_1a19a71426794814bba08a4c545ea69f",
        "IPY_MODEL_3c1ff1aadcf0499fb6a5e9ad0709c48f"
       ],
       "layout": "IPY_MODEL_a9cc31da2adc4ddb8942770dffb943f5"
      }
     },
     "150554f33295491594c8ef6477f0d9ab": {
      "model_module": "@jupyter-widgets/controls",
      "model_module_version": "1.5.0",
      "model_name": "LinkModel",
      "state": {
       "source": [
        "IPY_MODEL_6202f2a931d84ca8bdd4cdf0ca6108ac",
        "value"
       ],
       "target": [
        "IPY_MODEL_b3162749627d454a851e4a4c9d0a4b06",
        "value"
       ]
      }
     },
     "15286d93738a49efa6f672808aa8cba5": {
      "model_module": "@jupyter-widgets/controls",
      "model_module_version": "1.5.0",
      "model_name": "PlayModel",
      "state": {
       "description": "Press play",
       "layout": "IPY_MODEL_0b423ff8ada64888942d8e9c82bd5bb8",
       "style": "IPY_MODEL_dfe0065b629c4db7ba552b54cb4210d2"
      }
     },
     "1535c2fbe7bd40138443c933232a27d3": {
      "model_module": "@jupyter-widgets/base",
      "model_module_version": "1.2.0",
      "model_name": "LayoutModel",
      "state": {}
     },
     "1676df7cd46b4aeaa7c48c6cc1e8c04b": {
      "model_module": "jupyter-matplotlib",
      "model_module_version": "^0.7.4",
      "model_name": "ToolbarModel",
      "state": {
       "layout": "IPY_MODEL_a522892b1d7a49788631c26d05011155",
       "toolitems": [
        [
         "Home",
         "Reset original view",
         "home",
         "home"
        ],
        [
         "Back",
         "Back to previous view",
         "arrow-left",
         "back"
        ],
        [
         "Forward",
         "Forward to next view",
         "arrow-right",
         "forward"
        ],
        [
         "Pan",
         "Left button pans, Right button zooms\nx/y fixes axis, CTRL fixes aspect",
         "arrows",
         "pan"
        ],
        [
         "Zoom",
         "Zoom to rectangle\nx/y fixes axis, CTRL fixes aspect",
         "square-o",
         "zoom"
        ],
        [
         "Download",
         "Download plot",
         "floppy-o",
         "save_figure"
        ]
       ]
      }
     },
     "16cb90844477441297b021e507324393": {
      "model_module": "@jupyter-widgets/controls",
      "model_module_version": "1.5.0",
      "model_name": "IntSliderModel",
      "state": {
       "layout": "IPY_MODEL_197ef1257d064e4ea8d8cfd9abbce40e",
       "style": "IPY_MODEL_cbbe0e9a86044e5aa8175cec94441ecd"
      }
     },
     "16e5f2f54aff462d8c38a9fea91d5a2f": {
      "model_module": "@jupyter-widgets/base",
      "model_module_version": "1.2.0",
      "model_name": "LayoutModel",
      "state": {}
     },
     "17363f34dabf452d822c7fe7c1f41a88": {
      "model_module": "@jupyter-widgets/controls",
      "model_module_version": "1.5.0",
      "model_name": "LinkModel",
      "state": {
       "source": [
        "IPY_MODEL_2a81ff6bf9ce49ffae5aa5a4ddd61ca9",
        "value"
       ],
       "target": [
        "IPY_MODEL_9ee0bb9ff86f47d8b881c8485e3f99db",
        "value"
       ]
      }
     },
     "17553e3543264f2aa6c7149d595a5c99": {
      "model_module": "@jupyter-widgets/base",
      "model_module_version": "1.2.0",
      "model_name": "LayoutModel",
      "state": {}
     },
     "189ee2e9e28b4293ae96792c62036b07": {
      "model_module": "@jupyter-widgets/base",
      "model_module_version": "1.2.0",
      "model_name": "LayoutModel",
      "state": {}
     },
     "197ef1257d064e4ea8d8cfd9abbce40e": {
      "model_module": "@jupyter-widgets/base",
      "model_module_version": "1.2.0",
      "model_name": "LayoutModel",
      "state": {}
     },
     "19d5da54ccd148c482c341b5a1240895": {
      "model_module": "@jupyter-widgets/controls",
      "model_module_version": "1.5.0",
      "model_name": "SliderStyleModel",
      "state": {
       "description_width": ""
      }
     },
     "1a19a71426794814bba08a4c545ea69f": {
      "model_module": "@jupyter-widgets/controls",
      "model_module_version": "1.5.0",
      "model_name": "PlayModel",
      "state": {
       "description": "Press play",
       "layout": "IPY_MODEL_b011c752999a4c81bcb796a8d003caa1",
       "style": "IPY_MODEL_a05dceb9474b4074b0c6439923d81125"
      }
     },
     "1ad6846c15ea47eea01f4b337c3384c5": {
      "model_module": "@jupyter-widgets/base",
      "model_module_version": "1.2.0",
      "model_name": "LayoutModel",
      "state": {}
     },
     "1b261c0705ac4a56b7cc683b1a05ef9a": {
      "model_module": "@jupyter-widgets/controls",
      "model_module_version": "1.5.0",
      "model_name": "PlayModel",
      "state": {
       "description": "Press play",
       "interval": 50,
       "layout": "IPY_MODEL_16e5f2f54aff462d8c38a9fea91d5a2f",
       "style": "IPY_MODEL_514136a7c36f4327a196f368695196d8"
      }
     },
     "1b7dd1ba1b3f475aa0547d5d4c7d927a": {
      "model_module": "@jupyter-widgets/base",
      "model_module_version": "1.2.0",
      "model_name": "LayoutModel",
      "state": {}
     },
     "1c45b69d6abd4028a144f38aa9ffbcff": {
      "model_module": "@jupyter-widgets/base",
      "model_module_version": "1.2.0",
      "model_name": "LayoutModel",
      "state": {}
     },
     "1c71a36505494c1286173040d47fc540": {
      "model_module": "@jupyter-widgets/controls",
      "model_module_version": "1.5.0",
      "model_name": "DescriptionStyleModel",
      "state": {
       "description_width": ""
      }
     },
     "1c97c31b2cbb43f3a6b60bf2afbdef29": {
      "model_module": "@jupyter-widgets/base",
      "model_module_version": "1.2.0",
      "model_name": "LayoutModel",
      "state": {}
     },
     "1cd250d6caa94bc5808f656632154cb1": {
      "model_module": "@jupyter-widgets/base",
      "model_module_version": "1.2.0",
      "model_name": "LayoutModel",
      "state": {}
     },
     "1cec722a068749e4ab756b74b54c4cc5": {
      "model_module": "@jupyter-widgets/base",
      "model_module_version": "1.2.0",
      "model_name": "LayoutModel",
      "state": {}
     },
     "1cf28a34b76a40ccb414756f066d2ccc": {
      "model_module": "@jupyter-widgets/base",
      "model_module_version": "1.2.0",
      "model_name": "LayoutModel",
      "state": {}
     },
     "1d11bd2021334d66b20806ab5376c918": {
      "model_module": "@jupyter-widgets/controls",
      "model_module_version": "1.5.0",
      "model_name": "IntSliderModel",
      "state": {
       "layout": "IPY_MODEL_aa50583941f74bbbaae8dabb4264fc12",
       "style": "IPY_MODEL_fc2b8817b0be4d279c16c00cff30b335"
      }
     },
     "1dc54237c71d4c7c8d5fef35439930b4": {
      "model_module": "@jupyter-widgets/controls",
      "model_module_version": "1.5.0",
      "model_name": "DescriptionStyleModel",
      "state": {
       "description_width": ""
      }
     },
     "1e26932781984a34bd1aac09d949bab2": {
      "model_module": "@jupyter-widgets/controls",
      "model_module_version": "1.5.0",
      "model_name": "HBoxModel",
      "state": {
       "children": [
        "IPY_MODEL_bfe9e5bdc93d474681277ceb35932abb",
        "IPY_MODEL_c40974ce35a04a6782702664f9e14572"
       ],
       "layout": "IPY_MODEL_35f1b4970a0445dca15b06ce419ee1e0"
      }
     },
     "21d7fb2aed1f4637b8711a83d53658ff": {
      "model_module": "@jupyter-widgets/controls",
      "model_module_version": "1.5.0",
      "model_name": "DescriptionStyleModel",
      "state": {
       "description_width": ""
      }
     },
     "226b0c7e018c4b18a13bc833c930cb91": {
      "model_module": "@jupyter-widgets/controls",
      "model_module_version": "1.5.0",
      "model_name": "DescriptionStyleModel",
      "state": {
       "description_width": ""
      }
     },
     "232b4fc09b1345b986d45e5a3f0671f6": {
      "model_module": "@jupyter-widgets/controls",
      "model_module_version": "1.5.0",
      "model_name": "SliderStyleModel",
      "state": {
       "description_width": ""
      }
     },
     "237d712f1ab2466a8d5176d244f75124": {
      "model_module": "@jupyter-widgets/base",
      "model_module_version": "1.2.0",
      "model_name": "LayoutModel",
      "state": {}
     },
     "23870dda07ea4c59bdc3e6e79c826253": {
      "model_module": "@jupyter-widgets/base",
      "model_module_version": "1.2.0",
      "model_name": "LayoutModel",
      "state": {}
     },
     "2473c1673e444568aa1c3d5910b0b0c6": {
      "model_module": "@jupyter-widgets/base",
      "model_module_version": "1.2.0",
      "model_name": "LayoutModel",
      "state": {}
     },
     "24f10ef9740c49439ae229a37fff9c78": {
      "model_module": "@jupyter-widgets/controls",
      "model_module_version": "1.5.0",
      "model_name": "HBoxModel",
      "state": {
       "children": [
        "IPY_MODEL_d3bf8a38033347a4aaa73e1678ead462",
        "IPY_MODEL_130211ce928345158c8158695bf85483"
       ],
       "layout": "IPY_MODEL_5d036a6155024a27817ea39b5d86001b"
      }
     },
     "25017092cc2d476c9fdbc8a8d00d0842": {
      "model_module": "@jupyter-widgets/controls",
      "model_module_version": "1.5.0",
      "model_name": "SliderStyleModel",
      "state": {
       "description_width": ""
      }
     },
     "25ab6216ac8946199be5b5d018ef8921": {
      "model_module": "@jupyter-widgets/base",
      "model_module_version": "1.2.0",
      "model_name": "LayoutModel",
      "state": {}
     },
     "266d1312680243ae928bfa3f474abafd": {
      "model_module": "jupyter-matplotlib",
      "model_module_version": "^0.7.4",
      "model_name": "ToolbarModel",
      "state": {
       "_current_action": "pan",
       "layout": "IPY_MODEL_ede4bd0c832645f3bf5c44044b1c2f5d",
       "toolitems": [
        [
         "Home",
         "Reset original view",
         "home",
         "home"
        ],
        [
         "Back",
         "Back to previous view",
         "arrow-left",
         "back"
        ],
        [
         "Forward",
         "Forward to next view",
         "arrow-right",
         "forward"
        ],
        [
         "Pan",
         "Left button pans, Right button zooms\nx/y fixes axis, CTRL fixes aspect",
         "arrows",
         "pan"
        ],
        [
         "Zoom",
         "Zoom to rectangle\nx/y fixes axis, CTRL fixes aspect",
         "square-o",
         "zoom"
        ],
        [
         "Download",
         "Download plot",
         "floppy-o",
         "save_figure"
        ]
       ]
      }
     },
     "26c658c85c37477ebda9f8f2a95e7113": {
      "model_module": "@jupyter-widgets/controls",
      "model_module_version": "1.5.0",
      "model_name": "IntSliderModel",
      "state": {
       "layout": "IPY_MODEL_6c999de40260480085f7bf61443c55a2",
       "style": "IPY_MODEL_0c6146925ff541c78e1f8a4df2740949"
      }
     },
     "273674d597ab4d74920d5cd08511be33": {
      "model_module": "@jupyter-widgets/base",
      "model_module_version": "1.2.0",
      "model_name": "LayoutModel",
      "state": {}
     },
     "27ab9f42480841eab6c4bc5a24befbfc": {
      "model_module": "@jupyter-widgets/controls",
      "model_module_version": "1.5.0",
      "model_name": "HBoxModel",
      "state": {
       "children": [
        "IPY_MODEL_d2774cbdaaaf4e8bb2307aef0852237b",
        "IPY_MODEL_aef95bb7fdf8442b9950cfc4bc1237ee"
       ],
       "layout": "IPY_MODEL_1c97c31b2cbb43f3a6b60bf2afbdef29"
      }
     },
     "27dbcdc7ca17452f9d74a00c4ac86011": {
      "model_module": "@jupyter-widgets/controls",
      "model_module_version": "1.5.0",
      "model_name": "SliderStyleModel",
      "state": {
       "description_width": ""
      }
     },
     "2824ae0b4e4b4a0a94191a3def79e69a": {
      "model_module": "@jupyter-widgets/controls",
      "model_module_version": "1.5.0",
      "model_name": "HBoxModel",
      "state": {
       "children": [
        "IPY_MODEL_48d5618ac41440aca407d4fb6ac4e648",
        "IPY_MODEL_068ce9dde1bc42c08154af9772007bb5"
       ],
       "layout": "IPY_MODEL_b68ab343c7c44b6a8ff820a686af5bbd"
      }
     },
     "2861575605974c4385dba7f2a838bf09": {
      "model_module": "@jupyter-widgets/base",
      "model_module_version": "1.2.0",
      "model_name": "LayoutModel",
      "state": {}
     },
     "28dde0a505bb4bed949dff07d1d156ad": {
      "model_module": "@jupyter-widgets/controls",
      "model_module_version": "1.5.0",
      "model_name": "LinkModel",
      "state": {
       "source": [
        "IPY_MODEL_c5de1fa1451f4916bdfb4f6c896a6aa2",
        "value"
       ],
       "target": [
        "IPY_MODEL_1d11bd2021334d66b20806ab5376c918",
        "value"
       ]
      }
     },
     "2965430cf0b24a908cd9558080a013cf": {
      "model_module": "@jupyter-widgets/base",
      "model_module_version": "1.2.0",
      "model_name": "LayoutModel",
      "state": {}
     },
     "2a81ff6bf9ce49ffae5aa5a4ddd61ca9": {
      "model_module": "@jupyter-widgets/controls",
      "model_module_version": "1.5.0",
      "model_name": "PlayModel",
      "state": {
       "description": "Press play",
       "layout": "IPY_MODEL_d2400f70771342f1a88ad5179974205c",
       "style": "IPY_MODEL_9456e96458824aacab9565d9db58a73f"
      }
     },
     "2b3a1636401a43a385e546c0193c5b4a": {
      "model_module": "@jupyter-widgets/base",
      "model_module_version": "1.2.0",
      "model_name": "LayoutModel",
      "state": {}
     },
     "2b46a65598a94a759151505895aaa07b": {
      "model_module": "@jupyter-widgets/base",
      "model_module_version": "1.2.0",
      "model_name": "LayoutModel",
      "state": {}
     },
     "2d5c000b7e4b49debdc1a00bb7ad016c": {
      "model_module": "@jupyter-widgets/base",
      "model_module_version": "1.2.0",
      "model_name": "LayoutModel",
      "state": {}
     },
     "2dc39e933b334771b3347eec1b6950c2": {
      "model_module": "@jupyter-widgets/controls",
      "model_module_version": "1.5.0",
      "model_name": "SliderStyleModel",
      "state": {
       "description_width": ""
      }
     },
     "2ea18895b29b4316897979d8939078f6": {
      "model_module": "@jupyter-widgets/base",
      "model_module_version": "1.2.0",
      "model_name": "LayoutModel",
      "state": {}
     },
     "2fbc9d57acca4fb7a191d01f700cb19c": {
      "model_module": "jupyter-matplotlib",
      "model_module_version": "^0.7.4",
      "model_name": "ToolbarModel",
      "state": {
       "layout": "IPY_MODEL_a80cf83fbdf24031b40444af7378f04c",
       "toolitems": [
        [
         "Home",
         "Reset original view",
         "home",
         "home"
        ],
        [
         "Back",
         "Back to previous view",
         "arrow-left",
         "back"
        ],
        [
         "Forward",
         "Forward to next view",
         "arrow-right",
         "forward"
        ],
        [
         "Pan",
         "Left button pans, Right button zooms\nx/y fixes axis, CTRL fixes aspect",
         "arrows",
         "pan"
        ],
        [
         "Zoom",
         "Zoom to rectangle\nx/y fixes axis, CTRL fixes aspect",
         "square-o",
         "zoom"
        ],
        [
         "Download",
         "Download plot",
         "floppy-o",
         "save_figure"
        ]
       ]
      }
     },
     "30a5c58c595a478690abe2ddfa7bdce1": {
      "model_module": "@jupyter-widgets/base",
      "model_module_version": "1.2.0",
      "model_name": "LayoutModel",
      "state": {}
     },
     "319906e81a574f8ca7eab36c830f3326": {
      "model_module": "@jupyter-widgets/controls",
      "model_module_version": "1.5.0",
      "model_name": "IntSliderModel",
      "state": {
       "layout": "IPY_MODEL_3814acebc3ce430b8214e746cd3eec54",
       "style": "IPY_MODEL_45d0eae83ecc4d92930a0cc35f24c2c5"
      }
     },
     "322d772dd4af445f8368bef7f4b973be": {
      "model_module": "@jupyter-widgets/base",
      "model_module_version": "1.2.0",
      "model_name": "LayoutModel",
      "state": {}
     },
     "33cf7ef926354ab38addd10c77a5ce2c": {
      "model_module": "@jupyter-widgets/controls",
      "model_module_version": "1.5.0",
      "model_name": "HBoxModel",
      "state": {
       "children": [
        "IPY_MODEL_911d924138634035b38b1eef03805113",
        "IPY_MODEL_319906e81a574f8ca7eab36c830f3326"
       ],
       "layout": "IPY_MODEL_91a6441118364152a864a151f0ad4f96"
      }
     },
     "33dc19651ec64979b9674aa6ae078dc6": {
      "model_module": "@jupyter-widgets/controls",
      "model_module_version": "1.5.0",
      "model_name": "DescriptionStyleModel",
      "state": {
       "description_width": ""
      }
     },
     "345d30e087f64ecfb42dcdffc0cf43de": {
      "model_module": "@jupyter-widgets/base",
      "model_module_version": "1.2.0",
      "model_name": "LayoutModel",
      "state": {}
     },
     "356e180f346748e6b65e8f9311e7d797": {
      "model_module": "@jupyter-widgets/base",
      "model_module_version": "1.2.0",
      "model_name": "LayoutModel",
      "state": {}
     },
     "35f1b4970a0445dca15b06ce419ee1e0": {
      "model_module": "@jupyter-widgets/base",
      "model_module_version": "1.2.0",
      "model_name": "LayoutModel",
      "state": {}
     },
     "3672324a4513412cbbc001506aa47dcf": {
      "model_module": "@jupyter-widgets/controls",
      "model_module_version": "1.5.0",
      "model_name": "HBoxModel",
      "state": {
       "children": [
        "IPY_MODEL_0b6c12a0a8004e17b1b9a01f8d03f80f",
        "IPY_MODEL_dadaaeb8f05546b2b114d643e45769f1"
       ],
       "layout": "IPY_MODEL_0987711c5d234d8e82baa70645fa9f6c"
      }
     },
     "37817eac232841548873502196dd1a28": {
      "model_module": "@jupyter-widgets/controls",
      "model_module_version": "1.5.0",
      "model_name": "LinkModel",
      "state": {
       "source": [
        "IPY_MODEL_48d5618ac41440aca407d4fb6ac4e648",
        "value"
       ],
       "target": [
        "IPY_MODEL_068ce9dde1bc42c08154af9772007bb5",
        "value"
       ]
      }
     },
     "3814acebc3ce430b8214e746cd3eec54": {
      "model_module": "@jupyter-widgets/base",
      "model_module_version": "1.2.0",
      "model_name": "LayoutModel",
      "state": {}
     },
     "395bab8ca602445b984239546cbce428": {
      "model_module": "@jupyter-widgets/base",
      "model_module_version": "1.2.0",
      "model_name": "LayoutModel",
      "state": {}
     },
     "3965e33164874da19c7649c580b22905": {
      "model_module": "@jupyter-widgets/controls",
      "model_module_version": "1.5.0",
      "model_name": "DescriptionStyleModel",
      "state": {
       "description_width": ""
      }
     },
     "39e49d975c8b4025a22a75ee2040ca47": {
      "model_module": "@jupyter-widgets/base",
      "model_module_version": "1.2.0",
      "model_name": "LayoutModel",
      "state": {}
     },
     "3a721c6a4d3b4ec0a119726cee9f5d4f": {
      "model_module": "@jupyter-widgets/base",
      "model_module_version": "1.2.0",
      "model_name": "LayoutModel",
      "state": {}
     },
     "3aa7734a592048c8b8e8349c01d9a8ed": {
      "model_module": "@jupyter-widgets/controls",
      "model_module_version": "1.5.0",
      "model_name": "IntSliderModel",
      "state": {
       "layout": "IPY_MODEL_237d712f1ab2466a8d5176d244f75124",
       "style": "IPY_MODEL_f865d044a200420387ffef4770fcda8b"
      }
     },
     "3af9de9ecefe4bc386dbe921549c59d8": {
      "model_module": "@jupyter-widgets/base",
      "model_module_version": "1.2.0",
      "model_name": "LayoutModel",
      "state": {}
     },
     "3b14c617de2448e1a531e667e6b3c720": {
      "model_module": "@jupyter-widgets/base",
      "model_module_version": "1.2.0",
      "model_name": "LayoutModel",
      "state": {}
     },
     "3bca3f4dd7084c638fefe89b2b6dcaac": {
      "model_module": "@jupyter-widgets/base",
      "model_module_version": "1.2.0",
      "model_name": "LayoutModel",
      "state": {}
     },
     "3bdfd8dfe2664549842dc89db3230483": {
      "model_module": "jupyter-matplotlib",
      "model_module_version": "^0.7.4",
      "model_name": "ToolbarModel",
      "state": {
       "layout": "IPY_MODEL_46083628bace49759ff9d29e7d6ec2b2",
       "toolitems": [
        [
         "Home",
         "Reset original view",
         "home",
         "home"
        ],
        [
         "Back",
         "Back to previous view",
         "arrow-left",
         "back"
        ],
        [
         "Forward",
         "Forward to next view",
         "arrow-right",
         "forward"
        ],
        [
         "Pan",
         "Left button pans, Right button zooms\nx/y fixes axis, CTRL fixes aspect",
         "arrows",
         "pan"
        ],
        [
         "Zoom",
         "Zoom to rectangle\nx/y fixes axis, CTRL fixes aspect",
         "square-o",
         "zoom"
        ],
        [
         "Download",
         "Download plot",
         "floppy-o",
         "save_figure"
        ]
       ]
      }
     },
     "3c1ff1aadcf0499fb6a5e9ad0709c48f": {
      "model_module": "@jupyter-widgets/controls",
      "model_module_version": "1.5.0",
      "model_name": "IntSliderModel",
      "state": {
       "layout": "IPY_MODEL_e7231ccf30954a2e835f9eab22ed5a56",
       "style": "IPY_MODEL_81c34d8d1e4247dfb58a1576cc65323e"
      }
     },
     "3f88d83bfdb345ff94c493f121a93005": {
      "model_module": "@jupyter-widgets/base",
      "model_module_version": "1.2.0",
      "model_name": "LayoutModel",
      "state": {}
     },
     "408968857b1f4c2fa0262b9ac6ba0b3e": {
      "model_module": "@jupyter-widgets/controls",
      "model_module_version": "1.5.0",
      "model_name": "DescriptionStyleModel",
      "state": {
       "description_width": ""
      }
     },
     "41fdb45dbd2e4d0bbd7d13326c644cad": {
      "model_module": "jupyter-matplotlib",
      "model_module_version": "^0.7.4",
      "model_name": "ToolbarModel",
      "state": {
       "layout": "IPY_MODEL_7000e85d29bb4801a2488aff03fc4271",
       "toolitems": [
        [
         "Home",
         "Reset original view",
         "home",
         "home"
        ],
        [
         "Back",
         "Back to previous view",
         "arrow-left",
         "back"
        ],
        [
         "Forward",
         "Forward to next view",
         "arrow-right",
         "forward"
        ],
        [
         "Pan",
         "Left button pans, Right button zooms\nx/y fixes axis, CTRL fixes aspect",
         "arrows",
         "pan"
        ],
        [
         "Zoom",
         "Zoom to rectangle\nx/y fixes axis, CTRL fixes aspect",
         "square-o",
         "zoom"
        ],
        [
         "Download",
         "Download plot",
         "floppy-o",
         "save_figure"
        ]
       ]
      }
     },
     "420bc977588b434aa9725dc11246f52a": {
      "model_module": "@jupyter-widgets/base",
      "model_module_version": "1.2.0",
      "model_name": "LayoutModel",
      "state": {}
     },
     "4228c8cf226741eb806bc0900c5b9c88": {
      "model_module": "@jupyter-widgets/controls",
      "model_module_version": "1.5.0",
      "model_name": "IntSliderModel",
      "state": {
       "layout": "IPY_MODEL_2473c1673e444568aa1c3d5910b0b0c6",
       "style": "IPY_MODEL_59a9831edfd64adfbab91777c2e8902b",
       "value": 100
      }
     },
     "42a86826de0b49ba93c080d31d7dee2e": {
      "model_module": "@jupyter-widgets/controls",
      "model_module_version": "1.5.0",
      "model_name": "IntSliderModel",
      "state": {
       "layout": "IPY_MODEL_ea7bd2d1667b4e29a16b6d3a7d63ce45",
       "style": "IPY_MODEL_9cdbd78f7b164dbcab70a3def6864794"
      }
     },
     "44ca07dd890748c2839ae377e5e24e85": {
      "model_module": "jupyter-matplotlib",
      "model_module_version": "^0.7.4",
      "model_name": "ToolbarModel",
      "state": {
       "layout": "IPY_MODEL_b442b2bbd7a341cc9fe082c08c3e2fcc",
       "toolitems": [
        [
         "Home",
         "Reset original view",
         "home",
         "home"
        ],
        [
         "Back",
         "Back to previous view",
         "arrow-left",
         "back"
        ],
        [
         "Forward",
         "Forward to next view",
         "arrow-right",
         "forward"
        ],
        [
         "Pan",
         "Left button pans, Right button zooms\nx/y fixes axis, CTRL fixes aspect",
         "arrows",
         "pan"
        ],
        [
         "Zoom",
         "Zoom to rectangle\nx/y fixes axis, CTRL fixes aspect",
         "square-o",
         "zoom"
        ],
        [
         "Download",
         "Download plot",
         "floppy-o",
         "save_figure"
        ]
       ]
      }
     },
     "4580eb7d5ff24dd2b6a753d38b0373a5": {
      "model_module": "@jupyter-widgets/base",
      "model_module_version": "1.2.0",
      "model_name": "LayoutModel",
      "state": {}
     },
     "45860a9327ec48d4abc6ceceaec364aa": {
      "model_module": "@jupyter-widgets/controls",
      "model_module_version": "1.5.0",
      "model_name": "IntSliderModel",
      "state": {
       "layout": "IPY_MODEL_94b8067a1a164d0ebbe519c935ee8e7e",
       "style": "IPY_MODEL_25017092cc2d476c9fdbc8a8d00d0842"
      }
     },
     "45b151890718425081ec428104b6a546": {
      "model_module": "@jupyter-widgets/controls",
      "model_module_version": "1.5.0",
      "model_name": "SliderStyleModel",
      "state": {
       "description_width": ""
      }
     },
     "45d0eae83ecc4d92930a0cc35f24c2c5": {
      "model_module": "@jupyter-widgets/controls",
      "model_module_version": "1.5.0",
      "model_name": "SliderStyleModel",
      "state": {
       "description_width": ""
      }
     },
     "45f9bb3ed4cb4a1e861975fb6538c398": {
      "model_module": "@jupyter-widgets/base",
      "model_module_version": "1.2.0",
      "model_name": "LayoutModel",
      "state": {}
     },
     "46083628bace49759ff9d29e7d6ec2b2": {
      "model_module": "@jupyter-widgets/base",
      "model_module_version": "1.2.0",
      "model_name": "LayoutModel",
      "state": {}
     },
     "46437101bebf4c3f83c7a9be15cc8ec9": {
      "model_module": "@jupyter-widgets/base",
      "model_module_version": "1.2.0",
      "model_name": "LayoutModel",
      "state": {}
     },
     "4691336072ed40caa9a0e859f1c45bd1": {
      "model_module": "jupyter-matplotlib",
      "model_module_version": "^0.7.4",
      "model_name": "ToolbarModel",
      "state": {
       "layout": "IPY_MODEL_881e9882d29c417b91e1266678d253c8",
       "toolitems": [
        [
         "Home",
         "Reset original view",
         "home",
         "home"
        ],
        [
         "Back",
         "Back to previous view",
         "arrow-left",
         "back"
        ],
        [
         "Forward",
         "Forward to next view",
         "arrow-right",
         "forward"
        ],
        [
         "Pan",
         "Left button pans, Right button zooms\nx/y fixes axis, CTRL fixes aspect",
         "arrows",
         "pan"
        ],
        [
         "Zoom",
         "Zoom to rectangle\nx/y fixes axis, CTRL fixes aspect",
         "square-o",
         "zoom"
        ],
        [
         "Download",
         "Download plot",
         "floppy-o",
         "save_figure"
        ]
       ]
      }
     },
     "470d8328b6e842e7a6ef17a30bb99b1b": {
      "model_module": "@jupyter-widgets/base",
      "model_module_version": "1.2.0",
      "model_name": "LayoutModel",
      "state": {}
     },
     "4771c9fbcc33475d9bf11042672456ff": {
      "model_module": "@jupyter-widgets/controls",
      "model_module_version": "1.5.0",
      "model_name": "LinkModel",
      "state": {
       "source": [
        "IPY_MODEL_0da56077d1e34305bef9133919ede8cb",
        "value"
       ],
       "target": [
        "IPY_MODEL_b31b8b4cb58943fd87887a7ed1a05fb9",
        "value"
       ]
      }
     },
     "47fe31be30fa439c88fe1fedb9a151cb": {
      "model_module": "@jupyter-widgets/base",
      "model_module_version": "1.2.0",
      "model_name": "LayoutModel",
      "state": {}
     },
     "4892eb72a00b483da1da2c1c1fa2b061": {
      "model_module": "@jupyter-widgets/controls",
      "model_module_version": "1.5.0",
      "model_name": "PlayModel",
      "state": {
       "description": "Press play",
       "layout": "IPY_MODEL_709d40a8e7964e5ab17f5032f58cb677",
       "style": "IPY_MODEL_11571d144bae4d71b0e9e7ccd81c2bb2"
      }
     },
     "48d5618ac41440aca407d4fb6ac4e648": {
      "model_module": "@jupyter-widgets/controls",
      "model_module_version": "1.5.0",
      "model_name": "PlayModel",
      "state": {
       "description": "Press play",
       "interval": 50,
       "layout": "IPY_MODEL_30a5c58c595a478690abe2ddfa7bdce1",
       "style": "IPY_MODEL_b579cb4e93f7414ab7225a1aae562564"
      }
     },
     "48fdf762f6414eecb84e3a7cf0539d49": {
      "model_module": "@jupyter-widgets/controls",
      "model_module_version": "1.5.0",
      "model_name": "HBoxModel",
      "state": {
       "children": [
        "IPY_MODEL_75bbe528066f47828ffb5a8a1e717b0b",
        "IPY_MODEL_ea937819ece74965bd93ce645b657446"
       ],
       "layout": "IPY_MODEL_b15ed60506364c2ead98924874c98eee"
      }
     },
     "49728a8f173e426f94d3b795657d2221": {
      "model_module": "@jupyter-widgets/base",
      "model_module_version": "1.2.0",
      "model_name": "LayoutModel",
      "state": {}
     },
     "49743bb6f9b64d8791f0849d0017f3b3": {
      "model_module": "@jupyter-widgets/base",
      "model_module_version": "1.2.0",
      "model_name": "LayoutModel",
      "state": {}
     },
     "49b8e59904c84d3d8cea306bdddcb225": {
      "model_module": "@jupyter-widgets/controls",
      "model_module_version": "1.5.0",
      "model_name": "HBoxModel",
      "state": {
       "children": [
        "IPY_MODEL_c80f218933c64fd6a7d4608109a1445a",
        "IPY_MODEL_26c658c85c37477ebda9f8f2a95e7113"
       ],
       "layout": "IPY_MODEL_b6f6408babe744f8b984d4dc278069e6"
      }
     },
     "4a8fdb2a8a6e4e1894e8eb0221651eb4": {
      "model_module": "@jupyter-widgets/controls",
      "model_module_version": "1.5.0",
      "model_name": "SliderStyleModel",
      "state": {
       "description_width": ""
      }
     },
     "4ada08698ae048ef888be6289c598a4c": {
      "model_module": "@jupyter-widgets/base",
      "model_module_version": "1.2.0",
      "model_name": "LayoutModel",
      "state": {}
     },
     "4c2abceded91481881142896447cb196": {
      "model_module": "jupyter-matplotlib",
      "model_module_version": "^0.7.4",
      "model_name": "ToolbarModel",
      "state": {
       "layout": "IPY_MODEL_1cec722a068749e4ab756b74b54c4cc5",
       "toolitems": [
        [
         "Home",
         "Reset original view",
         "home",
         "home"
        ],
        [
         "Back",
         "Back to previous view",
         "arrow-left",
         "back"
        ],
        [
         "Forward",
         "Forward to next view",
         "arrow-right",
         "forward"
        ],
        [
         "Pan",
         "Left button pans, Right button zooms\nx/y fixes axis, CTRL fixes aspect",
         "arrows",
         "pan"
        ],
        [
         "Zoom",
         "Zoom to rectangle\nx/y fixes axis, CTRL fixes aspect",
         "square-o",
         "zoom"
        ],
        [
         "Download",
         "Download plot",
         "floppy-o",
         "save_figure"
        ]
       ]
      }
     },
     "4d469c23f7064e18af33f91cfc57fcf0": {
      "model_module": "@jupyter-widgets/controls",
      "model_module_version": "1.5.0",
      "model_name": "PlayModel",
      "state": {
       "description": "Press play",
       "interval": 50,
       "layout": "IPY_MODEL_b4b34cad4f274f738add90aef610d620",
       "style": "IPY_MODEL_21d7fb2aed1f4637b8711a83d53658ff",
       "value": 100
      }
     },
     "4e4431c252ab474884859a4cc1a21426": {
      "model_module": "jupyter-matplotlib",
      "model_module_version": "^0.7.4",
      "model_name": "ToolbarModel",
      "state": {
       "layout": "IPY_MODEL_04a45d19e6c54d648b620286a6ed5e9d",
       "toolitems": [
        [
         "Home",
         "Reset original view",
         "home",
         "home"
        ],
        [
         "Back",
         "Back to previous view",
         "arrow-left",
         "back"
        ],
        [
         "Forward",
         "Forward to next view",
         "arrow-right",
         "forward"
        ],
        [
         "Pan",
         "Left button pans, Right button zooms\nx/y fixes axis, CTRL fixes aspect",
         "arrows",
         "pan"
        ],
        [
         "Zoom",
         "Zoom to rectangle\nx/y fixes axis, CTRL fixes aspect",
         "square-o",
         "zoom"
        ],
        [
         "Download",
         "Download plot",
         "floppy-o",
         "save_figure"
        ]
       ]
      }
     },
     "4e83b53b4e624d69ab2d053dac79a3dc": {
      "model_module": "@jupyter-widgets/base",
      "model_module_version": "1.2.0",
      "model_name": "LayoutModel",
      "state": {}
     },
     "4ef35e85bb0a42d78e91d82f7a377f2e": {
      "model_module": "@jupyter-widgets/controls",
      "model_module_version": "1.5.0",
      "model_name": "IntSliderModel",
      "state": {
       "layout": "IPY_MODEL_84613d883ed743ba80a70cd407c9ae2e",
       "style": "IPY_MODEL_45b151890718425081ec428104b6a546"
      }
     },
     "4f4d2d1dbadd40ac8a122964f92cf317": {
      "model_module": "@jupyter-widgets/base",
      "model_module_version": "1.2.0",
      "model_name": "LayoutModel",
      "state": {}
     },
     "4fc06796a1ab44d1988791994bab3b7e": {
      "model_module": "@jupyter-widgets/controls",
      "model_module_version": "1.5.0",
      "model_name": "PlayModel",
      "state": {
       "description": "Press play",
       "interval": 50,
       "layout": "IPY_MODEL_5e319773b49e46db908b6caf3a2d12ea",
       "style": "IPY_MODEL_ff5f4db8c5dc41318e13c7c06682e9a4"
      }
     },
     "501490e200764893bdaec5a7f47ed65f": {
      "model_module": "@jupyter-widgets/controls",
      "model_module_version": "1.5.0",
      "model_name": "DescriptionStyleModel",
      "state": {
       "description_width": ""
      }
     },
     "501ae608684e4adbb2c5b86542907f34": {
      "model_module": "@jupyter-widgets/base",
      "model_module_version": "1.2.0",
      "model_name": "LayoutModel",
      "state": {}
     },
     "50ed240248a14c368bd4658676dccd5d": {
      "model_module": "jupyter-matplotlib",
      "model_module_version": "^0.7.4",
      "model_name": "ToolbarModel",
      "state": {
       "layout": "IPY_MODEL_80fc7edc0d604bc08e8e40277a5a118b",
       "toolitems": [
        [
         "Home",
         "Reset original view",
         "home",
         "home"
        ],
        [
         "Back",
         "Back to previous view",
         "arrow-left",
         "back"
        ],
        [
         "Forward",
         "Forward to next view",
         "arrow-right",
         "forward"
        ],
        [
         "Pan",
         "Left button pans, Right button zooms\nx/y fixes axis, CTRL fixes aspect",
         "arrows",
         "pan"
        ],
        [
         "Zoom",
         "Zoom to rectangle\nx/y fixes axis, CTRL fixes aspect",
         "square-o",
         "zoom"
        ],
        [
         "Download",
         "Download plot",
         "floppy-o",
         "save_figure"
        ]
       ]
      }
     },
     "50f2467942a94b95ba50990ed6fa9751": {
      "model_module": "@jupyter-widgets/base",
      "model_module_version": "1.2.0",
      "model_name": "LayoutModel",
      "state": {}
     },
     "5107fc0642214b2abfba40f324a3d118": {
      "model_module": "@jupyter-widgets/controls",
      "model_module_version": "1.5.0",
      "model_name": "PlayModel",
      "state": {
       "description": "Press play",
       "interval": 50,
       "layout": "IPY_MODEL_ee94059cf7714efc9fe0412fdc2e25aa",
       "style": "IPY_MODEL_88663b2c8b3a4c03bdb6a667fec6425d"
      }
     },
     "510eb123966f4fb983dca0cf34a59abf": {
      "model_module": "@jupyter-widgets/controls",
      "model_module_version": "1.5.0",
      "model_name": "LinkModel",
      "state": {
       "source": [
        "IPY_MODEL_f804dac7619148ed89a71535298a8123",
        "value"
       ],
       "target": [
        "IPY_MODEL_09b3709a469e4ecda142f6a01a45c917",
        "value"
       ]
      }
     },
     "512a6fce3aed4163ba99974e261f66f0": {
      "model_module": "@jupyter-widgets/controls",
      "model_module_version": "1.5.0",
      "model_name": "PlayModel",
      "state": {
       "description": "Press play",
       "interval": 50,
       "layout": "IPY_MODEL_c26f5559e9584ce5b5d8b4317f2b5e9d",
       "style": "IPY_MODEL_1dc54237c71d4c7c8d5fef35439930b4"
      }
     },
     "514136a7c36f4327a196f368695196d8": {
      "model_module": "@jupyter-widgets/controls",
      "model_module_version": "1.5.0",
      "model_name": "DescriptionStyleModel",
      "state": {
       "description_width": ""
      }
     },
     "51d88b1b5c0c4559886509857ad4a71d": {
      "model_module": "@jupyter-widgets/controls",
      "model_module_version": "1.5.0",
      "model_name": "LinkModel",
      "state": {
       "source": [
        "IPY_MODEL_94c05d2a342448c4aa16c348d4db2561",
        "value"
       ],
       "target": [
        "IPY_MODEL_3aa7734a592048c8b8e8349c01d9a8ed",
        "value"
       ]
      }
     },
     "528dd59e246d4a3393820e72be4e66e9": {
      "model_module": "@jupyter-widgets/base",
      "model_module_version": "1.2.0",
      "model_name": "LayoutModel",
      "state": {}
     },
     "538eb47090f443079e92f0073e362ed6": {
      "model_module": "jupyter-matplotlib",
      "model_module_version": "^0.7.4",
      "model_name": "ToolbarModel",
      "state": {
       "layout": "IPY_MODEL_a38f41a0c2b74edf81149ab0f751e4ae",
       "toolitems": [
        [
         "Home",
         "Reset original view",
         "home",
         "home"
        ],
        [
         "Back",
         "Back to previous view",
         "arrow-left",
         "back"
        ],
        [
         "Forward",
         "Forward to next view",
         "arrow-right",
         "forward"
        ],
        [
         "Pan",
         "Left button pans, Right button zooms\nx/y fixes axis, CTRL fixes aspect",
         "arrows",
         "pan"
        ],
        [
         "Zoom",
         "Zoom to rectangle\nx/y fixes axis, CTRL fixes aspect",
         "square-o",
         "zoom"
        ],
        [
         "Download",
         "Download plot",
         "floppy-o",
         "save_figure"
        ]
       ]
      }
     },
     "5423118c9824431ba114ad35915aa96e": {
      "model_module": "jupyter-matplotlib",
      "model_module_version": "^0.7.4",
      "model_name": "ToolbarModel",
      "state": {
       "layout": "IPY_MODEL_45f9bb3ed4cb4a1e861975fb6538c398",
       "toolitems": [
        [
         "Home",
         "Reset original view",
         "home",
         "home"
        ],
        [
         "Back",
         "Back to previous view",
         "arrow-left",
         "back"
        ],
        [
         "Forward",
         "Forward to next view",
         "arrow-right",
         "forward"
        ],
        [
         "Pan",
         "Left button pans, Right button zooms\nx/y fixes axis, CTRL fixes aspect",
         "arrows",
         "pan"
        ],
        [
         "Zoom",
         "Zoom to rectangle\nx/y fixes axis, CTRL fixes aspect",
         "square-o",
         "zoom"
        ],
        [
         "Download",
         "Download plot",
         "floppy-o",
         "save_figure"
        ]
       ]
      }
     },
     "5494aafd294943fcb03ba526579a2918": {
      "model_module": "jupyter-matplotlib",
      "model_module_version": "^0.7.4",
      "model_name": "ToolbarModel",
      "state": {
       "layout": "IPY_MODEL_a64c6676d946411cbcd95bd0e9d915ef",
       "toolitems": [
        [
         "Home",
         "Reset original view",
         "home",
         "home"
        ],
        [
         "Back",
         "Back to previous view",
         "arrow-left",
         "back"
        ],
        [
         "Forward",
         "Forward to next view",
         "arrow-right",
         "forward"
        ],
        [
         "Pan",
         "Left button pans, Right button zooms\nx/y fixes axis, CTRL fixes aspect",
         "arrows",
         "pan"
        ],
        [
         "Zoom",
         "Zoom to rectangle\nx/y fixes axis, CTRL fixes aspect",
         "square-o",
         "zoom"
        ],
        [
         "Download",
         "Download plot",
         "floppy-o",
         "save_figure"
        ]
       ]
      }
     },
     "54d67151df594d3f9696504ee03ba1bd": {
      "model_module": "@jupyter-widgets/base",
      "model_module_version": "1.2.0",
      "model_name": "LayoutModel",
      "state": {}
     },
     "55742ce7e2f34554874106af3ecfe515": {
      "model_module": "@jupyter-widgets/base",
      "model_module_version": "1.2.0",
      "model_name": "LayoutModel",
      "state": {}
     },
     "55a48c86a853496f847702f71634bd89": {
      "model_module": "@jupyter-widgets/controls",
      "model_module_version": "1.5.0",
      "model_name": "SliderStyleModel",
      "state": {
       "description_width": ""
      }
     },
     "569a058c615d47b082f5b1cb0981da8e": {
      "model_module": "@jupyter-widgets/base",
      "model_module_version": "1.2.0",
      "model_name": "LayoutModel",
      "state": {}
     },
     "57e13f39ae94479fbdec008f27070093": {
      "model_module": "@jupyter-widgets/base",
      "model_module_version": "1.2.0",
      "model_name": "LayoutModel",
      "state": {}
     },
     "58767b94fd1e47d18afa0f82fe5c2267": {
      "model_module": "@jupyter-widgets/base",
      "model_module_version": "1.2.0",
      "model_name": "LayoutModel",
      "state": {}
     },
     "587ebb635c4b4890aada5a737bb70297": {
      "model_module": "@jupyter-widgets/controls",
      "model_module_version": "1.5.0",
      "model_name": "IntSliderModel",
      "state": {
       "layout": "IPY_MODEL_c246d8a2d4174eab90ab1aee0f81da2b",
       "style": "IPY_MODEL_b477a65be0a447a5992d1ac4017b321d"
      }
     },
     "59a9831edfd64adfbab91777c2e8902b": {
      "model_module": "@jupyter-widgets/controls",
      "model_module_version": "1.5.0",
      "model_name": "SliderStyleModel",
      "state": {
       "description_width": ""
      }
     },
     "59bd308eb8fe4627bbbc2ae03f0e5f16": {
      "model_module": "@jupyter-widgets/controls",
      "model_module_version": "1.5.0",
      "model_name": "DescriptionStyleModel",
      "state": {
       "description_width": ""
      }
     },
     "5a14c9c4f4db4952893d24f2062e94bc": {
      "model_module": "@jupyter-widgets/controls",
      "model_module_version": "1.5.0",
      "model_name": "IntSliderModel",
      "state": {
       "layout": "IPY_MODEL_663d12346ab545458b4f6bbf48d4a614",
       "style": "IPY_MODEL_741cd486f0de4e76b51ce082e823e990"
      }
     },
     "5a65649d643246eda27258da65e8e67e": {
      "model_module": "jupyter-matplotlib",
      "model_module_version": "^0.7.4",
      "model_name": "ToolbarModel",
      "state": {
       "layout": "IPY_MODEL_a311b8cadf9f4833ae5bd2c63369fd3b",
       "toolitems": [
        [
         "Home",
         "Reset original view",
         "home",
         "home"
        ],
        [
         "Back",
         "Back to previous view",
         "arrow-left",
         "back"
        ],
        [
         "Forward",
         "Forward to next view",
         "arrow-right",
         "forward"
        ],
        [
         "Pan",
         "Left button pans, Right button zooms\nx/y fixes axis, CTRL fixes aspect",
         "arrows",
         "pan"
        ],
        [
         "Zoom",
         "Zoom to rectangle\nx/y fixes axis, CTRL fixes aspect",
         "square-o",
         "zoom"
        ],
        [
         "Download",
         "Download plot",
         "floppy-o",
         "save_figure"
        ]
       ]
      }
     },
     "5aba9aeaf4d8411a9d64701fb6401370": {
      "model_module": "@jupyter-widgets/base",
      "model_module_version": "1.2.0",
      "model_name": "LayoutModel",
      "state": {}
     },
     "5bccb41cea854287a2c51cd376cb097f": {
      "model_module": "@jupyter-widgets/controls",
      "model_module_version": "1.5.0",
      "model_name": "IntSliderModel",
      "state": {
       "layout": "IPY_MODEL_ecd6fb60f72b4670b98d976ea849ac3d",
       "style": "IPY_MODEL_82f23f2dc016466fb516503cca2c2f00"
      }
     },
     "5be37a63bd2e44d6a6c3524fc63fc7fd": {
      "model_module": "@jupyter-widgets/controls",
      "model_module_version": "1.5.0",
      "model_name": "SliderStyleModel",
      "state": {
       "description_width": ""
      }
     },
     "5d036a6155024a27817ea39b5d86001b": {
      "model_module": "@jupyter-widgets/base",
      "model_module_version": "1.2.0",
      "model_name": "LayoutModel",
      "state": {}
     },
     "5dd0f78b1ea44a05aeb506835e984f77": {
      "model_module": "@jupyter-widgets/controls",
      "model_module_version": "1.5.0",
      "model_name": "SliderStyleModel",
      "state": {
       "description_width": ""
      }
     },
     "5e126b8e9bde48c9911fdb9a85f56da7": {
      "model_module": "@jupyter-widgets/controls",
      "model_module_version": "1.5.0",
      "model_name": "HBoxModel",
      "state": {
       "children": [
        "IPY_MODEL_f5ef3a2a02b8400f8f0c4ff603e9d45f",
        "IPY_MODEL_5f7efcecb97a41779ad5165c6df2a8dd"
       ],
       "layout": "IPY_MODEL_2965430cf0b24a908cd9558080a013cf"
      }
     },
     "5e319773b49e46db908b6caf3a2d12ea": {
      "model_module": "@jupyter-widgets/base",
      "model_module_version": "1.2.0",
      "model_name": "LayoutModel",
      "state": {}
     },
     "5f1c61b384d1463aa25919f868a4d1fb": {
      "model_module": "@jupyter-widgets/base",
      "model_module_version": "1.2.0",
      "model_name": "LayoutModel",
      "state": {}
     },
     "5f7efcecb97a41779ad5165c6df2a8dd": {
      "model_module": "@jupyter-widgets/controls",
      "model_module_version": "1.5.0",
      "model_name": "IntSliderModel",
      "state": {
       "layout": "IPY_MODEL_1ad6846c15ea47eea01f4b337c3384c5",
       "style": "IPY_MODEL_5dd0f78b1ea44a05aeb506835e984f77"
      }
     },
     "6202f2a931d84ca8bdd4cdf0ca6108ac": {
      "model_module": "@jupyter-widgets/controls",
      "model_module_version": "1.5.0",
      "model_name": "PlayModel",
      "state": {
       "description": "Press play",
       "layout": "IPY_MODEL_b85abb078c2e476d8b0dffc77425af2f",
       "style": "IPY_MODEL_cb6c82fc04c14e0dab43e7b53a313d1c"
      }
     },
     "63035734d892452abbd96e4867bf97f9": {
      "model_module": "@jupyter-widgets/base",
      "model_module_version": "1.2.0",
      "model_name": "LayoutModel",
      "state": {}
     },
     "6342c9ed1ee64d94b64645a026f14333": {
      "model_module": "jupyter-matplotlib",
      "model_module_version": "^0.7.4",
      "model_name": "ToolbarModel",
      "state": {
       "layout": "IPY_MODEL_2b3a1636401a43a385e546c0193c5b4a",
       "toolitems": [
        [
         "Home",
         "Reset original view",
         "home",
         "home"
        ],
        [
         "Back",
         "Back to previous view",
         "arrow-left",
         "back"
        ],
        [
         "Forward",
         "Forward to next view",
         "arrow-right",
         "forward"
        ],
        [
         "Pan",
         "Left button pans, Right button zooms\nx/y fixes axis, CTRL fixes aspect",
         "arrows",
         "pan"
        ],
        [
         "Zoom",
         "Zoom to rectangle\nx/y fixes axis, CTRL fixes aspect",
         "square-o",
         "zoom"
        ],
        [
         "Download",
         "Download plot",
         "floppy-o",
         "save_figure"
        ]
       ]
      }
     },
     "640be1d968774725bebbd7248646a594": {
      "model_module": "@jupyter-widgets/controls",
      "model_module_version": "1.5.0",
      "model_name": "LinkModel",
      "state": {
       "source": [
        "IPY_MODEL_4fc06796a1ab44d1988791994bab3b7e",
        "value"
       ],
       "target": [
        "IPY_MODEL_4ef35e85bb0a42d78e91d82f7a377f2e",
        "value"
       ]
      }
     },
     "641d3600373742f5b3b8178f4989286b": {
      "model_module": "@jupyter-widgets/base",
      "model_module_version": "1.2.0",
      "model_name": "LayoutModel",
      "state": {}
     },
     "663d12346ab545458b4f6bbf48d4a614": {
      "model_module": "@jupyter-widgets/base",
      "model_module_version": "1.2.0",
      "model_name": "LayoutModel",
      "state": {}
     },
     "66dcc1afdfd849dda8372fe6d506b3a5": {
      "model_module": "@jupyter-widgets/controls",
      "model_module_version": "1.5.0",
      "model_name": "LinkModel",
      "state": {
       "source": [
        "IPY_MODEL_8b1503d112454b2292c2900ea16a098d",
        "value"
       ],
       "target": [
        "IPY_MODEL_587ebb635c4b4890aada5a737bb70297",
        "value"
       ]
      }
     },
     "67c3d20cdc1845a18221c8d1cdb5e8c8": {
      "model_module": "@jupyter-widgets/base",
      "model_module_version": "1.2.0",
      "model_name": "LayoutModel",
      "state": {}
     },
     "6835e3954d6e4ec8b41f160a660ab62a": {
      "model_module": "@jupyter-widgets/controls",
      "model_module_version": "1.5.0",
      "model_name": "DescriptionStyleModel",
      "state": {
       "description_width": ""
      }
     },
     "691fc6c3cda0464fa4619d46c0c7993a": {
      "model_module": "@jupyter-widgets/controls",
      "model_module_version": "1.5.0",
      "model_name": "HBoxModel",
      "state": {
       "children": [
        "IPY_MODEL_c12f11db147146a2a4d7d8d2445dcf42",
        "IPY_MODEL_16cb90844477441297b021e507324393"
       ],
       "layout": "IPY_MODEL_49743bb6f9b64d8791f0849d0017f3b3"
      }
     },
     "696ddb8204dd4e288b2a6c50ac8883a5": {
      "model_module": "@jupyter-widgets/controls",
      "model_module_version": "1.5.0",
      "model_name": "LinkModel",
      "state": {
       "source": [
        "IPY_MODEL_90d11e773d78402082b12577c46ac518",
        "value"
       ],
       "target": [
        "IPY_MODEL_79c886669c534fb2bb25ee26e72c100f",
        "value"
       ]
      }
     },
     "6acdf60730b041caa276218452f28304": {
      "model_module": "@jupyter-widgets/controls",
      "model_module_version": "1.5.0",
      "model_name": "HBoxModel",
      "state": {
       "children": [
        "IPY_MODEL_6b8801babfa14e4d81d9eb5b914a9d41",
        "IPY_MODEL_84b2731fb29a42e1b5e04a8acdcb480e"
       ],
       "layout": "IPY_MODEL_eb9413e43b2a4d959a69fe9143161f06"
      }
     },
     "6b8801babfa14e4d81d9eb5b914a9d41": {
      "model_module": "@jupyter-widgets/controls",
      "model_module_version": "1.5.0",
      "model_name": "PlayModel",
      "state": {
       "description": "Press play",
       "layout": "IPY_MODEL_2861575605974c4385dba7f2a838bf09",
       "style": "IPY_MODEL_bd51e1f7fb8c46528e397f97f6bba7a6"
      }
     },
     "6c999de40260480085f7bf61443c55a2": {
      "model_module": "@jupyter-widgets/base",
      "model_module_version": "1.2.0",
      "model_name": "LayoutModel",
      "state": {}
     },
     "6cd8883b9ad6445baf2fd74b4c948e2a": {
      "model_module": "@jupyter-widgets/controls",
      "model_module_version": "1.5.0",
      "model_name": "HBoxModel",
      "state": {
       "children": [
        "IPY_MODEL_4892eb72a00b483da1da2c1c1fa2b061",
        "IPY_MODEL_5a14c9c4f4db4952893d24f2062e94bc"
       ],
       "layout": "IPY_MODEL_97bea5c940d8437894dfc927156f251f"
      }
     },
     "6d3f0e8315e543d881c70b32593af508": {
      "model_module": "@jupyter-widgets/base",
      "model_module_version": "1.2.0",
      "model_name": "LayoutModel",
      "state": {}
     },
     "6d4fa658fa9241d2949e662ac985f328": {
      "model_module": "@jupyter-widgets/controls",
      "model_module_version": "1.5.0",
      "model_name": "IntSliderModel",
      "state": {
       "layout": "IPY_MODEL_ae745ecc6964491783d60f24d687636b",
       "style": "IPY_MODEL_19d5da54ccd148c482c341b5a1240895"
      }
     },
     "6f865af861a245ac963ba9f6f391c7a7": {
      "model_module": "@jupyter-widgets/controls",
      "model_module_version": "1.5.0",
      "model_name": "HBoxModel",
      "state": {
       "children": [
        "IPY_MODEL_1b261c0705ac4a56b7cc683b1a05ef9a",
        "IPY_MODEL_07328af85e254b01884f11b79ac06a0d"
       ],
       "layout": "IPY_MODEL_75e446c09a91447081333a4e5f0785ed"
      }
     },
     "6fba73b00d2c490d87e377a1faba5c24": {
      "model_module": "@jupyter-widgets/base",
      "model_module_version": "1.2.0",
      "model_name": "LayoutModel",
      "state": {}
     },
     "7000e85d29bb4801a2488aff03fc4271": {
      "model_module": "@jupyter-widgets/base",
      "model_module_version": "1.2.0",
      "model_name": "LayoutModel",
      "state": {}
     },
     "708b26b3e6064eb39a08fc03c617261e": {
      "model_module": "@jupyter-widgets/controls",
      "model_module_version": "1.5.0",
      "model_name": "IntSliderModel",
      "state": {
       "layout": "IPY_MODEL_ca8657eaf86f459c9df0fcd17c13369c",
       "style": "IPY_MODEL_a4268fa5096f4e7fb1871767037cd6eb"
      }
     },
     "709d40a8e7964e5ab17f5032f58cb677": {
      "model_module": "@jupyter-widgets/base",
      "model_module_version": "1.2.0",
      "model_name": "LayoutModel",
      "state": {}
     },
     "7258d97c847d46b894f158ce049fa76c": {
      "model_module": "@jupyter-widgets/controls",
      "model_module_version": "1.5.0",
      "model_name": "SliderStyleModel",
      "state": {
       "description_width": ""
      }
     },
     "74183894ee4949a695375ab62e6c4faa": {
      "model_module": "@jupyter-widgets/base",
      "model_module_version": "1.2.0",
      "model_name": "LayoutModel",
      "state": {}
     },
     "741cd486f0de4e76b51ce082e823e990": {
      "model_module": "@jupyter-widgets/controls",
      "model_module_version": "1.5.0",
      "model_name": "SliderStyleModel",
      "state": {
       "description_width": ""
      }
     },
     "74320fcee77a4f7c99ccfae37f7741c1": {
      "model_module": "@jupyter-widgets/controls",
      "model_module_version": "1.5.0",
      "model_name": "LinkModel",
      "state": {
       "source": [
        "IPY_MODEL_c80f218933c64fd6a7d4608109a1445a",
        "value"
       ],
       "target": [
        "IPY_MODEL_26c658c85c37477ebda9f8f2a95e7113",
        "value"
       ]
      }
     },
     "74f5a64cc3024a24b6384e6b9a9ea424": {
      "model_module": "@jupyter-widgets/base",
      "model_module_version": "1.2.0",
      "model_name": "LayoutModel",
      "state": {}
     },
     "75bbe528066f47828ffb5a8a1e717b0b": {
      "model_module": "@jupyter-widgets/controls",
      "model_module_version": "1.5.0",
      "model_name": "PlayModel",
      "state": {
       "description": "Press play",
       "interval": 50,
       "layout": "IPY_MODEL_cf66428877c442bf959b571266ec61c9",
       "style": "IPY_MODEL_8a0727c40e4f48ce8bbfb504c21bb6e1"
      }
     },
     "75e446c09a91447081333a4e5f0785ed": {
      "model_module": "@jupyter-widgets/base",
      "model_module_version": "1.2.0",
      "model_name": "LayoutModel",
      "state": {}
     },
     "76109ad122414bd69b374daea5371e76": {
      "model_module": "@jupyter-widgets/controls",
      "model_module_version": "1.5.0",
      "model_name": "LinkModel",
      "state": {
       "source": [
        "IPY_MODEL_4d469c23f7064e18af33f91cfc57fcf0",
        "value"
       ],
       "target": [
        "IPY_MODEL_4228c8cf226741eb806bc0900c5b9c88",
        "value"
       ]
      }
     },
     "769bd54c04e74d52a7074910acecd8e1": {
      "model_module": "@jupyter-widgets/base",
      "model_module_version": "1.2.0",
      "model_name": "LayoutModel",
      "state": {}
     },
     "76aa2f458c6f4846af36fed41fe2391d": {
      "model_module": "@jupyter-widgets/controls",
      "model_module_version": "1.5.0",
      "model_name": "SliderStyleModel",
      "state": {
       "description_width": ""
      }
     },
     "775f366ee0ff43f289c170d6261280af": {
      "model_module": "@jupyter-widgets/controls",
      "model_module_version": "1.5.0",
      "model_name": "HBoxModel",
      "state": {
       "children": [
        "IPY_MODEL_2a81ff6bf9ce49ffae5aa5a4ddd61ca9",
        "IPY_MODEL_9ee0bb9ff86f47d8b881c8485e3f99db"
       ],
       "layout": "IPY_MODEL_3af9de9ecefe4bc386dbe921549c59d8"
      }
     },
     "77f8cab92c0d4d138a00007d9243f1d8": {
      "model_module": "@jupyter-widgets/controls",
      "model_module_version": "1.5.0",
      "model_name": "LinkModel",
      "state": {
       "source": [
        "IPY_MODEL_d30752b0af224158a7b03c960873df03",
        "value"
       ],
       "target": [
        "IPY_MODEL_e6ee09e969f840e2b7959db46755bcdb",
        "value"
       ]
      }
     },
     "791c9be7f41c4e3295e5cc49724780ac": {
      "model_module": "@jupyter-widgets/controls",
      "model_module_version": "1.5.0",
      "model_name": "IntSliderModel",
      "state": {
       "layout": "IPY_MODEL_4e83b53b4e624d69ab2d053dac79a3dc",
       "style": "IPY_MODEL_2dc39e933b334771b3347eec1b6950c2"
      }
     },
     "79a03c0ef0cf4cf08da28eb5719b71a7": {
      "model_module": "@jupyter-widgets/base",
      "model_module_version": "1.2.0",
      "model_name": "LayoutModel",
      "state": {}
     },
     "79c886669c534fb2bb25ee26e72c100f": {
      "model_module": "@jupyter-widgets/controls",
      "model_module_version": "1.5.0",
      "model_name": "IntSliderModel",
      "state": {
       "layout": "IPY_MODEL_8667337c5f454c1592c8141ed92d3d98",
       "style": "IPY_MODEL_1379409a3ea0461d88202fb8cd951045",
       "value": 100
      }
     },
     "7a485d6a74d944f9aadebc622b5df9f9": {
      "model_module": "@jupyter-widgets/controls",
      "model_module_version": "1.5.0",
      "model_name": "HBoxModel",
      "state": {
       "children": [
        "IPY_MODEL_f6a80ff7b0e64e0c8c737e90d9dda9dd",
        "IPY_MODEL_708b26b3e6064eb39a08fc03c617261e"
       ],
       "layout": "IPY_MODEL_49728a8f173e426f94d3b795657d2221"
      }
     },
     "7ad8f54d1a2a49868b7dde7b5763fe94": {
      "model_module": "@jupyter-widgets/base",
      "model_module_version": "1.2.0",
      "model_name": "LayoutModel",
      "state": {}
     },
     "7b1fc13aa2504a679abb44a2560c2065": {
      "model_module": "@jupyter-widgets/base",
      "model_module_version": "1.2.0",
      "model_name": "LayoutModel",
      "state": {}
     },
     "7bcb862f8aff4df0b62c507fe4c2d7ae": {
      "model_module": "@jupyter-widgets/base",
      "model_module_version": "1.2.0",
      "model_name": "LayoutModel",
      "state": {}
     },
     "7db87c3fa1ca49d3a7b7b048c84ba947": {
      "model_module": "@jupyter-widgets/base",
      "model_module_version": "1.2.0",
      "model_name": "LayoutModel",
      "state": {}
     },
     "7fcdf3f7b6864f47888b988e3ea6634c": {
      "model_module": "@jupyter-widgets/base",
      "model_module_version": "1.2.0",
      "model_name": "LayoutModel",
      "state": {}
     },
     "7fdbe83a822e48eebe2abe40f6fea1b5": {
      "model_module": "@jupyter-widgets/base",
      "model_module_version": "1.2.0",
      "model_name": "LayoutModel",
      "state": {}
     },
     "805a1eeceaff4ff38924cc49c2eb904d": {
      "model_module": "@jupyter-widgets/controls",
      "model_module_version": "1.5.0",
      "model_name": "HBoxModel",
      "state": {
       "children": [
        "IPY_MODEL_0da56077d1e34305bef9133919ede8cb",
        "IPY_MODEL_b31b8b4cb58943fd87887a7ed1a05fb9"
       ],
       "layout": "IPY_MODEL_4580eb7d5ff24dd2b6a753d38b0373a5"
      }
     },
     "80fc7edc0d604bc08e8e40277a5a118b": {
      "model_module": "@jupyter-widgets/base",
      "model_module_version": "1.2.0",
      "model_name": "LayoutModel",
      "state": {}
     },
     "819ecba172cd4f7b8527918dd1b18420": {
      "model_module": "@jupyter-widgets/controls",
      "model_module_version": "1.5.0",
      "model_name": "IntSliderModel",
      "state": {
       "layout": "IPY_MODEL_7b1fc13aa2504a679abb44a2560c2065",
       "style": "IPY_MODEL_27dbcdc7ca17452f9d74a00c4ac86011"
      }
     },
     "81c34d8d1e4247dfb58a1576cc65323e": {
      "model_module": "@jupyter-widgets/controls",
      "model_module_version": "1.5.0",
      "model_name": "SliderStyleModel",
      "state": {
       "description_width": ""
      }
     },
     "827a89d143234ce39ac5cd70c69c749a": {
      "model_module": "@jupyter-widgets/controls",
      "model_module_version": "1.5.0",
      "model_name": "IntSliderModel",
      "state": {
       "layout": "IPY_MODEL_356e180f346748e6b65e8f9311e7d797",
       "style": "IPY_MODEL_cd96de175d3e4cbcae1b5a570ab547f0"
      }
     },
     "82f23f2dc016466fb516503cca2c2f00": {
      "model_module": "@jupyter-widgets/controls",
      "model_module_version": "1.5.0",
      "model_name": "SliderStyleModel",
      "state": {
       "description_width": ""
      }
     },
     "831d0ba552ad42f8a42faa783b44e1ef": {
      "model_module": "@jupyter-widgets/controls",
      "model_module_version": "1.5.0",
      "model_name": "LinkModel",
      "state": {
       "source": [
        "IPY_MODEL_f1b5d4f6c8ef40e1898e93f6481d45c3",
        "value"
       ],
       "target": [
        "IPY_MODEL_5bccb41cea854287a2c51cd376cb097f",
        "value"
       ]
      }
     },
     "8396ce8cbe674693a9107e3293b0f071": {
      "model_module": "@jupyter-widgets/controls",
      "model_module_version": "1.5.0",
      "model_name": "LinkModel",
      "state": {
       "source": [
        "IPY_MODEL_062174b313c1463a8c46a2b1a2065115",
        "value"
       ],
       "target": [
        "IPY_MODEL_819ecba172cd4f7b8527918dd1b18420",
        "value"
       ]
      }
     },
     "83e5fabdecfd483286259a7fa4f1a335": {
      "model_module": "jupyter-matplotlib",
      "model_module_version": "^0.7.4",
      "model_name": "ToolbarModel",
      "state": {
       "layout": "IPY_MODEL_df5a2793fb48413793f5c125a78f161b",
       "toolitems": [
        [
         "Home",
         "Reset original view",
         "home",
         "home"
        ],
        [
         "Back",
         "Back to previous view",
         "arrow-left",
         "back"
        ],
        [
         "Forward",
         "Forward to next view",
         "arrow-right",
         "forward"
        ],
        [
         "Pan",
         "Left button pans, Right button zooms\nx/y fixes axis, CTRL fixes aspect",
         "arrows",
         "pan"
        ],
        [
         "Zoom",
         "Zoom to rectangle\nx/y fixes axis, CTRL fixes aspect",
         "square-o",
         "zoom"
        ],
        [
         "Download",
         "Download plot",
         "floppy-o",
         "save_figure"
        ]
       ]
      }
     },
     "83ee214d99cd4fcabdb7044150cf1116": {
      "model_module": "@jupyter-widgets/controls",
      "model_module_version": "1.5.0",
      "model_name": "LinkModel",
      "state": {
       "source": [
        "IPY_MODEL_1b261c0705ac4a56b7cc683b1a05ef9a",
        "value"
       ],
       "target": [
        "IPY_MODEL_07328af85e254b01884f11b79ac06a0d",
        "value"
       ]
      }
     },
     "84613d883ed743ba80a70cd407c9ae2e": {
      "model_module": "@jupyter-widgets/base",
      "model_module_version": "1.2.0",
      "model_name": "LayoutModel",
      "state": {}
     },
     "84b2731fb29a42e1b5e04a8acdcb480e": {
      "model_module": "@jupyter-widgets/controls",
      "model_module_version": "1.5.0",
      "model_name": "IntSliderModel",
      "state": {
       "layout": "IPY_MODEL_132eb7b582e24075aef22db9fe32468d",
       "style": "IPY_MODEL_4a8fdb2a8a6e4e1894e8eb0221651eb4"
      }
     },
     "8588656e6aab4bf2baa139f192b67efe": {
      "model_module": "@jupyter-widgets/controls",
      "model_module_version": "1.5.0",
      "model_name": "DescriptionStyleModel",
      "state": {
       "description_width": ""
      }
     },
     "85d68a1de0894170b63cd31d57201d7b": {
      "model_module": "@jupyter-widgets/controls",
      "model_module_version": "1.5.0",
      "model_name": "DescriptionStyleModel",
      "state": {
       "description_width": ""
      }
     },
     "8667337c5f454c1592c8141ed92d3d98": {
      "model_module": "@jupyter-widgets/base",
      "model_module_version": "1.2.0",
      "model_name": "LayoutModel",
      "state": {}
     },
     "8751f2cbce9841dab82392378f3ca02f": {
      "model_module": "@jupyter-widgets/base",
      "model_module_version": "1.2.0",
      "model_name": "LayoutModel",
      "state": {}
     },
     "881e9882d29c417b91e1266678d253c8": {
      "model_module": "@jupyter-widgets/base",
      "model_module_version": "1.2.0",
      "model_name": "LayoutModel",
      "state": {}
     },
     "88663b2c8b3a4c03bdb6a667fec6425d": {
      "model_module": "@jupyter-widgets/controls",
      "model_module_version": "1.5.0",
      "model_name": "DescriptionStyleModel",
      "state": {
       "description_width": ""
      }
     },
     "8957ca66bb484b458b1eb1839dd1d104": {
      "model_module": "@jupyter-widgets/controls",
      "model_module_version": "1.5.0",
      "model_name": "HBoxModel",
      "state": {
       "children": [
        "IPY_MODEL_d9a735e5dd0742e0ae362047daeb40f9",
        "IPY_MODEL_827a89d143234ce39ac5cd70c69c749a"
       ],
       "layout": "IPY_MODEL_ec2028d6c268440d8de055bad583a9d2"
      }
     },
     "8a0727c40e4f48ce8bbfb504c21bb6e1": {
      "model_module": "@jupyter-widgets/controls",
      "model_module_version": "1.5.0",
      "model_name": "DescriptionStyleModel",
      "state": {
       "description_width": ""
      }
     },
     "8aa66a046ebb4a23adc33633937e4db3": {
      "model_module": "@jupyter-widgets/base",
      "model_module_version": "1.2.0",
      "model_name": "LayoutModel",
      "state": {}
     },
     "8b1503d112454b2292c2900ea16a098d": {
      "model_module": "@jupyter-widgets/controls",
      "model_module_version": "1.5.0",
      "model_name": "PlayModel",
      "state": {
       "description": "Press play",
       "interval": 50,
       "layout": "IPY_MODEL_bd60383410574594930a9ccaadd2ec70",
       "style": "IPY_MODEL_408968857b1f4c2fa0262b9ac6ba0b3e"
      }
     },
     "8b18c142233148299232f16ba07c6904": {
      "model_module": "@jupyter-widgets/controls",
      "model_module_version": "1.5.0",
      "model_name": "HBoxModel",
      "state": {
       "children": [
        "IPY_MODEL_d30752b0af224158a7b03c960873df03",
        "IPY_MODEL_e6ee09e969f840e2b7959db46755bcdb"
       ],
       "layout": "IPY_MODEL_02082882bec54007b620d7107580d769"
      }
     },
     "8c5515cf0ecf4b50b0646caa564c7ebd": {
      "model_module": "@jupyter-widgets/base",
      "model_module_version": "1.2.0",
      "model_name": "LayoutModel",
      "state": {}
     },
     "8d8ba0f2a16d4149b9ec046cc13f2aa7": {
      "model_module": "@jupyter-widgets/base",
      "model_module_version": "1.2.0",
      "model_name": "LayoutModel",
      "state": {}
     },
     "8e1ac2212a7145b7a53971b4f4632357": {
      "model_module": "@jupyter-widgets/base",
      "model_module_version": "1.2.0",
      "model_name": "LayoutModel",
      "state": {}
     },
     "8faf6105f71f47f68bdadd0dba02d99b": {
      "model_module": "@jupyter-widgets/base",
      "model_module_version": "1.2.0",
      "model_name": "LayoutModel",
      "state": {}
     },
     "9083837914b0477da11187e45c572011": {
      "model_module": "@jupyter-widgets/base",
      "model_module_version": "1.2.0",
      "model_name": "LayoutModel",
      "state": {}
     },
     "90d11e773d78402082b12577c46ac518": {
      "model_module": "@jupyter-widgets/controls",
      "model_module_version": "1.5.0",
      "model_name": "PlayModel",
      "state": {
       "description": "Press play",
       "layout": "IPY_MODEL_042e6ef5e92e4e51aead40bf788772e4",
       "style": "IPY_MODEL_b49fdf380c514dfd854699fe19bf2db7",
       "value": 100
      }
     },
     "90ff4b9585ae4cb1bfc93dddcca2164f": {
      "model_module": "@jupyter-widgets/controls",
      "model_module_version": "1.5.0",
      "model_name": "HBoxModel",
      "state": {
       "children": [
        "IPY_MODEL_15286d93738a49efa6f672808aa8cba5",
        "IPY_MODEL_45860a9327ec48d4abc6ceceaec364aa"
       ],
       "layout": "IPY_MODEL_79a03c0ef0cf4cf08da28eb5719b71a7"
      }
     },
     "911d924138634035b38b1eef03805113": {
      "model_module": "@jupyter-widgets/controls",
      "model_module_version": "1.5.0",
      "model_name": "PlayModel",
      "state": {
       "description": "Press play",
       "interval": 50,
       "layout": "IPY_MODEL_b46904a49f504db38aa565dc1479e0b5",
       "style": "IPY_MODEL_226b0c7e018c4b18a13bc833c930cb91"
      }
     },
     "91a15b4866764a8caf9c6572ea29ee90": {
      "model_module": "@jupyter-widgets/controls",
      "model_module_version": "1.5.0",
      "model_name": "DescriptionStyleModel",
      "state": {
       "description_width": ""
      }
     },
     "91a6441118364152a864a151f0ad4f96": {
      "model_module": "@jupyter-widgets/base",
      "model_module_version": "1.2.0",
      "model_name": "LayoutModel",
      "state": {}
     },
     "91a6ce0b019c4abb8a0d24956b27fc1a": {
      "model_module": "@jupyter-widgets/controls",
      "model_module_version": "1.5.0",
      "model_name": "PlayModel",
      "state": {
       "description": "Press play",
       "interval": 50,
       "layout": "IPY_MODEL_7fdbe83a822e48eebe2abe40f6fea1b5",
       "style": "IPY_MODEL_a74574a7ccb54824a2addc615af3a676"
      }
     },
     "9456e96458824aacab9565d9db58a73f": {
      "model_module": "@jupyter-widgets/controls",
      "model_module_version": "1.5.0",
      "model_name": "DescriptionStyleModel",
      "state": {
       "description_width": ""
      }
     },
     "94b8067a1a164d0ebbe519c935ee8e7e": {
      "model_module": "@jupyter-widgets/base",
      "model_module_version": "1.2.0",
      "model_name": "LayoutModel",
      "state": {}
     },
     "94c05d2a342448c4aa16c348d4db2561": {
      "model_module": "@jupyter-widgets/controls",
      "model_module_version": "1.5.0",
      "model_name": "PlayModel",
      "state": {
       "description": "Press play",
       "layout": "IPY_MODEL_17553e3543264f2aa6c7149d595a5c99",
       "style": "IPY_MODEL_f47d0ba639824278814c27b53cfc57bc"
      }
     },
     "94d70b8915504a328793792552b683c0": {
      "model_module": "@jupyter-widgets/base",
      "model_module_version": "1.2.0",
      "model_name": "LayoutModel",
      "state": {}
     },
     "96ce12207022461d984625da1a85d2bf": {
      "model_module": "@jupyter-widgets/controls",
      "model_module_version": "1.5.0",
      "model_name": "SliderStyleModel",
      "state": {
       "description_width": ""
      }
     },
     "975cc97481764be2b9313889b76d2bc0": {
      "model_module": "@jupyter-widgets/base",
      "model_module_version": "1.2.0",
      "model_name": "LayoutModel",
      "state": {}
     },
     "97bea5c940d8437894dfc927156f251f": {
      "model_module": "@jupyter-widgets/base",
      "model_module_version": "1.2.0",
      "model_name": "LayoutModel",
      "state": {}
     },
     "9888f446455940a8a82e50e8cd93fc9b": {
      "model_module": "@jupyter-widgets/controls",
      "model_module_version": "1.5.0",
      "model_name": "LinkModel",
      "state": {
       "source": [
        "IPY_MODEL_91a6ce0b019c4abb8a0d24956b27fc1a",
        "value"
       ],
       "target": [
        "IPY_MODEL_791c9be7f41c4e3295e5cc49724780ac",
        "value"
       ]
      }
     },
     "99e9a1b195034e5cb28af1bfc0db29cc": {
      "model_module": "@jupyter-widgets/base",
      "model_module_version": "1.2.0",
      "model_name": "LayoutModel",
      "state": {}
     },
     "9a086ca6d2d44d8790c117c1a0c0b09d": {
      "model_module": "@jupyter-widgets/controls",
      "model_module_version": "1.5.0",
      "model_name": "LinkModel",
      "state": {
       "source": [
        "IPY_MODEL_d3bf8a38033347a4aaa73e1678ead462",
        "value"
       ],
       "target": [
        "IPY_MODEL_130211ce928345158c8158695bf85483",
        "value"
       ]
      }
     },
     "9a1a63e4c15047d1804d71d659b54161": {
      "model_module": "@jupyter-widgets/controls",
      "model_module_version": "1.5.0",
      "model_name": "PlayModel",
      "state": {
       "description": "Press play",
       "layout": "IPY_MODEL_dfc60eb0df854678b163ca71888f11e5",
       "style": "IPY_MODEL_1c71a36505494c1286173040d47fc540"
      }
     },
     "9ad96248b83840ef894de0f007133883": {
      "model_module": "jupyter-matplotlib",
      "model_module_version": "^0.7.4",
      "model_name": "ToolbarModel",
      "state": {
       "layout": "IPY_MODEL_2d5c000b7e4b49debdc1a00bb7ad016c",
       "toolitems": [
        [
         "Home",
         "Reset original view",
         "home",
         "home"
        ],
        [
         "Back",
         "Back to previous view",
         "arrow-left",
         "back"
        ],
        [
         "Forward",
         "Forward to next view",
         "arrow-right",
         "forward"
        ],
        [
         "Pan",
         "Left button pans, Right button zooms\nx/y fixes axis, CTRL fixes aspect",
         "arrows",
         "pan"
        ],
        [
         "Zoom",
         "Zoom to rectangle\nx/y fixes axis, CTRL fixes aspect",
         "square-o",
         "zoom"
        ],
        [
         "Download",
         "Download plot",
         "floppy-o",
         "save_figure"
        ]
       ]
      }
     },
     "9b1088e9a0644212bbc8bdaeab92b952": {
      "model_module": "@jupyter-widgets/controls",
      "model_module_version": "1.5.0",
      "model_name": "LinkModel",
      "state": {
       "source": [
        "IPY_MODEL_a2d5482bf85a434f86c9aa890e7cb565",
        "value"
       ],
       "target": [
        "IPY_MODEL_04f32dc024df45a8919b5e81534a3549",
        "value"
       ]
      }
     },
     "9b8501c7392e4ed79230efd5ab27ab14": {
      "model_module": "@jupyter-widgets/base",
      "model_module_version": "1.2.0",
      "model_name": "LayoutModel",
      "state": {}
     },
     "9bf80a947f054b99ae94ba57c6fffbbc": {
      "model_module": "@jupyter-widgets/base",
      "model_module_version": "1.2.0",
      "model_name": "LayoutModel",
      "state": {}
     },
     "9cdbd78f7b164dbcab70a3def6864794": {
      "model_module": "@jupyter-widgets/controls",
      "model_module_version": "1.5.0",
      "model_name": "SliderStyleModel",
      "state": {
       "description_width": ""
      }
     },
     "9d64c6f60ba840b1983bcfa9b80cadee": {
      "model_module": "@jupyter-widgets/base",
      "model_module_version": "1.2.0",
      "model_name": "LayoutModel",
      "state": {}
     },
     "9d72aa27e5054d349ad6b479f81b22a9": {
      "model_module": "@jupyter-widgets/controls",
      "model_module_version": "1.5.0",
      "model_name": "DescriptionStyleModel",
      "state": {
       "description_width": ""
      }
     },
     "9d7cb253cb4342c69cacfe4b97cb00f8": {
      "model_module": "@jupyter-widgets/base",
      "model_module_version": "1.2.0",
      "model_name": "LayoutModel",
      "state": {}
     },
     "9ec74b272e2f42e5a5d69234a02a1c14": {
      "model_module": "@jupyter-widgets/controls",
      "model_module_version": "1.5.0",
      "model_name": "SliderStyleModel",
      "state": {
       "description_width": ""
      }
     },
     "9ee0bb9ff86f47d8b881c8485e3f99db": {
      "model_module": "@jupyter-widgets/controls",
      "model_module_version": "1.5.0",
      "model_name": "IntSliderModel",
      "state": {
       "layout": "IPY_MODEL_1cd250d6caa94bc5808f656632154cb1",
       "style": "IPY_MODEL_023521962f15455289f8f62e3afd88a2"
      }
     },
     "9f2f313c85b841efa540a447691fa394": {
      "model_module": "@jupyter-widgets/controls",
      "model_module_version": "1.5.0",
      "model_name": "HBoxModel",
      "state": {
       "children": [
        "IPY_MODEL_4fc06796a1ab44d1988791994bab3b7e",
        "IPY_MODEL_4ef35e85bb0a42d78e91d82f7a377f2e"
       ],
       "layout": "IPY_MODEL_641d3600373742f5b3b8178f4989286b"
      }
     },
     "9f5dd86ee1124c23aea3434e72a9d925": {
      "model_module": "jupyter-matplotlib",
      "model_module_version": "^0.7.4",
      "model_name": "ToolbarModel",
      "state": {
       "layout": "IPY_MODEL_9bf80a947f054b99ae94ba57c6fffbbc",
       "toolitems": [
        [
         "Home",
         "Reset original view",
         "home",
         "home"
        ],
        [
         "Back",
         "Back to previous view",
         "arrow-left",
         "back"
        ],
        [
         "Forward",
         "Forward to next view",
         "arrow-right",
         "forward"
        ],
        [
         "Pan",
         "Left button pans, Right button zooms\nx/y fixes axis, CTRL fixes aspect",
         "arrows",
         "pan"
        ],
        [
         "Zoom",
         "Zoom to rectangle\nx/y fixes axis, CTRL fixes aspect",
         "square-o",
         "zoom"
        ],
        [
         "Download",
         "Download plot",
         "floppy-o",
         "save_figure"
        ]
       ]
      }
     },
     "9fd1f4d3bd39415e9cf3bf51ba828999": {
      "model_module": "jupyter-matplotlib",
      "model_module_version": "^0.7.4",
      "model_name": "ToolbarModel",
      "state": {
       "layout": "IPY_MODEL_e8e93353f933423d96b833ba367674e6",
       "toolitems": [
        [
         "Home",
         "Reset original view",
         "home",
         "home"
        ],
        [
         "Back",
         "Back to previous view",
         "arrow-left",
         "back"
        ],
        [
         "Forward",
         "Forward to next view",
         "arrow-right",
         "forward"
        ],
        [
         "Pan",
         "Left button pans, Right button zooms\nx/y fixes axis, CTRL fixes aspect",
         "arrows",
         "pan"
        ],
        [
         "Zoom",
         "Zoom to rectangle\nx/y fixes axis, CTRL fixes aspect",
         "square-o",
         "zoom"
        ],
        [
         "Download",
         "Download plot",
         "floppy-o",
         "save_figure"
        ]
       ]
      }
     },
     "a05dceb9474b4074b0c6439923d81125": {
      "model_module": "@jupyter-widgets/controls",
      "model_module_version": "1.5.0",
      "model_name": "DescriptionStyleModel",
      "state": {
       "description_width": ""
      }
     },
     "a09c415f66704d15aef86e607d6aff57": {
      "model_module": "@jupyter-widgets/controls",
      "model_module_version": "1.5.0",
      "model_name": "SliderStyleModel",
      "state": {
       "description_width": ""
      }
     },
     "a1579e2d7b58493a8087f9971290e465": {
      "model_module": "@jupyter-widgets/controls",
      "model_module_version": "1.5.0",
      "model_name": "SliderStyleModel",
      "state": {
       "description_width": ""
      }
     },
     "a2d5482bf85a434f86c9aa890e7cb565": {
      "model_module": "@jupyter-widgets/controls",
      "model_module_version": "1.5.0",
      "model_name": "PlayModel",
      "state": {
       "description": "Press play",
       "interval": 20,
       "layout": "IPY_MODEL_0c95449eb6ac441086d77a1a4328cd0c",
       "style": "IPY_MODEL_c610f52eb1104b5695c0c0b7c4b80abe",
       "value": 100
      }
     },
     "a311b8cadf9f4833ae5bd2c63369fd3b": {
      "model_module": "@jupyter-widgets/base",
      "model_module_version": "1.2.0",
      "model_name": "LayoutModel",
      "state": {}
     },
     "a36d456b5ee349b9b8a15fe6ed5905e0": {
      "model_module": "@jupyter-widgets/base",
      "model_module_version": "1.2.0",
      "model_name": "LayoutModel",
      "state": {}
     },
     "a38f41a0c2b74edf81149ab0f751e4ae": {
      "model_module": "@jupyter-widgets/base",
      "model_module_version": "1.2.0",
      "model_name": "LayoutModel",
      "state": {}
     },
     "a4268fa5096f4e7fb1871767037cd6eb": {
      "model_module": "@jupyter-widgets/controls",
      "model_module_version": "1.5.0",
      "model_name": "SliderStyleModel",
      "state": {
       "description_width": ""
      }
     },
     "a49242e89379477c99139c1e58b66df2": {
      "model_module": "@jupyter-widgets/controls",
      "model_module_version": "1.5.0",
      "model_name": "IntSliderModel",
      "state": {
       "layout": "IPY_MODEL_aa1fff52a6b949a99416012a07aeb821",
       "style": "IPY_MODEL_96ce12207022461d984625da1a85d2bf"
      }
     },
     "a4b4a4a154724a69a156616d8bd8e0fa": {
      "model_module": "jupyter-matplotlib",
      "model_module_version": "^0.7.4",
      "model_name": "ToolbarModel",
      "state": {
       "layout": "IPY_MODEL_8e1ac2212a7145b7a53971b4f4632357",
       "toolitems": [
        [
         "Home",
         "Reset original view",
         "home",
         "home"
        ],
        [
         "Back",
         "Back to previous view",
         "arrow-left",
         "back"
        ],
        [
         "Forward",
         "Forward to next view",
         "arrow-right",
         "forward"
        ],
        [
         "Pan",
         "Left button pans, Right button zooms\nx/y fixes axis, CTRL fixes aspect",
         "arrows",
         "pan"
        ],
        [
         "Zoom",
         "Zoom to rectangle\nx/y fixes axis, CTRL fixes aspect",
         "square-o",
         "zoom"
        ],
        [
         "Download",
         "Download plot",
         "floppy-o",
         "save_figure"
        ]
       ]
      }
     },
     "a522892b1d7a49788631c26d05011155": {
      "model_module": "@jupyter-widgets/base",
      "model_module_version": "1.2.0",
      "model_name": "LayoutModel",
      "state": {}
     },
     "a572064f3676490086be41d3f30afa50": {
      "model_module": "@jupyter-widgets/base",
      "model_module_version": "1.2.0",
      "model_name": "LayoutModel",
      "state": {}
     },
     "a64c6676d946411cbcd95bd0e9d915ef": {
      "model_module": "@jupyter-widgets/base",
      "model_module_version": "1.2.0",
      "model_name": "LayoutModel",
      "state": {}
     },
     "a6b49fab5b484bc8b66fd894352d89bb": {
      "model_module": "@jupyter-widgets/controls",
      "model_module_version": "1.5.0",
      "model_name": "DescriptionStyleModel",
      "state": {
       "description_width": ""
      }
     },
     "a6deaf48af564909a3d07c3df95035ad": {
      "model_module": "@jupyter-widgets/base",
      "model_module_version": "1.2.0",
      "model_name": "LayoutModel",
      "state": {}
     },
     "a70a846ec01e4d3c9af32afdb52ff2f5": {
      "model_module": "@jupyter-widgets/base",
      "model_module_version": "1.2.0",
      "model_name": "LayoutModel",
      "state": {}
     },
     "a74574a7ccb54824a2addc615af3a676": {
      "model_module": "@jupyter-widgets/controls",
      "model_module_version": "1.5.0",
      "model_name": "DescriptionStyleModel",
      "state": {
       "description_width": ""
      }
     },
     "a80cf83fbdf24031b40444af7378f04c": {
      "model_module": "@jupyter-widgets/base",
      "model_module_version": "1.2.0",
      "model_name": "LayoutModel",
      "state": {}
     },
     "a84c0d4c24a54820afed756326aeb257": {
      "model_module": "@jupyter-widgets/controls",
      "model_module_version": "1.5.0",
      "model_name": "SliderStyleModel",
      "state": {
       "description_width": ""
      }
     },
     "a85fad27772f46bc890db0d5596cfe66": {
      "model_module": "@jupyter-widgets/controls",
      "model_module_version": "1.5.0",
      "model_name": "LinkModel",
      "state": {
       "source": [
        "IPY_MODEL_9a1a63e4c15047d1804d71d659b54161",
        "value"
       ],
       "target": [
        "IPY_MODEL_a49242e89379477c99139c1e58b66df2",
        "value"
       ]
      }
     },
     "a9185e542727474690e365371f456b46": {
      "model_module": "@jupyter-widgets/base",
      "model_module_version": "1.2.0",
      "model_name": "LayoutModel",
      "state": {}
     },
     "a9a1e41f5d9d44f0bd2df852c5557ba6": {
      "model_module": "@jupyter-widgets/base",
      "model_module_version": "1.2.0",
      "model_name": "LayoutModel",
      "state": {}
     },
     "a9cc31da2adc4ddb8942770dffb943f5": {
      "model_module": "@jupyter-widgets/base",
      "model_module_version": "1.2.0",
      "model_name": "LayoutModel",
      "state": {}
     },
     "aa1fff52a6b949a99416012a07aeb821": {
      "model_module": "@jupyter-widgets/base",
      "model_module_version": "1.2.0",
      "model_name": "LayoutModel",
      "state": {}
     },
     "aa50583941f74bbbaae8dabb4264fc12": {
      "model_module": "@jupyter-widgets/base",
      "model_module_version": "1.2.0",
      "model_name": "LayoutModel",
      "state": {}
     },
     "aa54542f7b17472593012f5793767b96": {
      "model_module": "@jupyter-widgets/base",
      "model_module_version": "1.2.0",
      "model_name": "LayoutModel",
      "state": {}
     },
     "ab005f5b71854525b45b70a7d19082f5": {
      "model_module": "@jupyter-widgets/base",
      "model_module_version": "1.2.0",
      "model_name": "LayoutModel",
      "state": {}
     },
     "abcb857178354caf819fd6ca7d7b9699": {
      "model_module": "@jupyter-widgets/base",
      "model_module_version": "1.2.0",
      "model_name": "LayoutModel",
      "state": {}
     },
     "ac3f8510cf36464a8a5a64458054138b": {
      "model_module": "@jupyter-widgets/base",
      "model_module_version": "1.2.0",
      "model_name": "LayoutModel",
      "state": {}
     },
     "ad377dca17e54723a8932c484c4c339e": {
      "model_module": "@jupyter-widgets/controls",
      "model_module_version": "1.5.0",
      "model_name": "DescriptionStyleModel",
      "state": {
       "description_width": ""
      }
     },
     "ad5fcbab04514db088174e5535dd4439": {
      "model_module": "@jupyter-widgets/controls",
      "model_module_version": "1.5.0",
      "model_name": "DescriptionStyleModel",
      "state": {
       "description_width": ""
      }
     },
     "ae13fabaa1f340299bf66f48e9fd0b00": {
      "model_module": "@jupyter-widgets/controls",
      "model_module_version": "1.5.0",
      "model_name": "HBoxModel",
      "state": {
       "children": [
        "IPY_MODEL_062174b313c1463a8c46a2b1a2065115",
        "IPY_MODEL_819ecba172cd4f7b8527918dd1b18420"
       ],
       "layout": "IPY_MODEL_e5e981872a2646828d6f931c3807e79f"
      }
     },
     "ae745ecc6964491783d60f24d687636b": {
      "model_module": "@jupyter-widgets/base",
      "model_module_version": "1.2.0",
      "model_name": "LayoutModel",
      "state": {}
     },
     "aef95bb7fdf8442b9950cfc4bc1237ee": {
      "model_module": "@jupyter-widgets/controls",
      "model_module_version": "1.5.0",
      "model_name": "IntSliderModel",
      "state": {
       "layout": "IPY_MODEL_345d30e087f64ecfb42dcdffc0cf43de",
       "style": "IPY_MODEL_edc0c1be133147509cae24bfeacaeda8"
      }
     },
     "b011c752999a4c81bcb796a8d003caa1": {
      "model_module": "@jupyter-widgets/base",
      "model_module_version": "1.2.0",
      "model_name": "LayoutModel",
      "state": {}
     },
     "b024ea1be2d243fa91ce4494ecc78c74": {
      "model_module": "@jupyter-widgets/base",
      "model_module_version": "1.2.0",
      "model_name": "LayoutModel",
      "state": {}
     },
     "b03a37d4eb344b6da02a8e9ca2de7e8b": {
      "model_module": "jupyter-matplotlib",
      "model_module_version": "^0.7.4",
      "model_name": "ToolbarModel",
      "state": {
       "layout": "IPY_MODEL_569a058c615d47b082f5b1cb0981da8e",
       "toolitems": [
        [
         "Home",
         "Reset original view",
         "home",
         "home"
        ],
        [
         "Back",
         "Back to previous view",
         "arrow-left",
         "back"
        ],
        [
         "Forward",
         "Forward to next view",
         "arrow-right",
         "forward"
        ],
        [
         "Pan",
         "Left button pans, Right button zooms\nx/y fixes axis, CTRL fixes aspect",
         "arrows",
         "pan"
        ],
        [
         "Zoom",
         "Zoom to rectangle\nx/y fixes axis, CTRL fixes aspect",
         "square-o",
         "zoom"
        ],
        [
         "Download",
         "Download plot",
         "floppy-o",
         "save_figure"
        ]
       ]
      }
     },
     "b0a8bc6edace4c53980d3d71d8eb8261": {
      "model_module": "@jupyter-widgets/base",
      "model_module_version": "1.2.0",
      "model_name": "LayoutModel",
      "state": {}
     },
     "b15b5662394540b2b1b7cdd59d4169da": {
      "model_module": "@jupyter-widgets/controls",
      "model_module_version": "1.5.0",
      "model_name": "DescriptionStyleModel",
      "state": {
       "description_width": ""
      }
     },
     "b15ed60506364c2ead98924874c98eee": {
      "model_module": "@jupyter-widgets/base",
      "model_module_version": "1.2.0",
      "model_name": "LayoutModel",
      "state": {}
     },
     "b3162749627d454a851e4a4c9d0a4b06": {
      "model_module": "@jupyter-widgets/controls",
      "model_module_version": "1.5.0",
      "model_name": "IntSliderModel",
      "state": {
       "layout": "IPY_MODEL_528dd59e246d4a3393820e72be4e66e9",
       "style": "IPY_MODEL_9ec74b272e2f42e5a5d69234a02a1c14"
      }
     },
     "b31b8b4cb58943fd87887a7ed1a05fb9": {
      "model_module": "@jupyter-widgets/controls",
      "model_module_version": "1.5.0",
      "model_name": "IntSliderModel",
      "state": {
       "layout": "IPY_MODEL_b99c429c49874267ad1d56a03358bc42",
       "style": "IPY_MODEL_a09c415f66704d15aef86e607d6aff57"
      }
     },
     "b34e41a26b4c4a559da81677de7d1720": {
      "model_module": "@jupyter-widgets/controls",
      "model_module_version": "1.5.0",
      "model_name": "LinkModel",
      "state": {
       "source": [
        "IPY_MODEL_512a6fce3aed4163ba99974e261f66f0",
        "value"
       ],
       "target": [
        "IPY_MODEL_42a86826de0b49ba93c080d31d7dee2e",
        "value"
       ]
      }
     },
     "b354e0b7b71548d3872003cbf14c0d35": {
      "model_module": "@jupyter-widgets/controls",
      "model_module_version": "1.5.0",
      "model_name": "LinkModel",
      "state": {
       "source": [
        "IPY_MODEL_5107fc0642214b2abfba40f324a3d118",
        "value"
       ],
       "target": [
        "IPY_MODEL_b96d68c9630b4c48a187a26a3e200b41",
        "value"
       ]
      }
     },
     "b3e1ec2318fa4522a3ea9824eb96ff10": {
      "model_module": "@jupyter-widgets/base",
      "model_module_version": "1.2.0",
      "model_name": "LayoutModel",
      "state": {}
     },
     "b3e728f77c03482a9d2d479312ece6b2": {
      "model_module": "@jupyter-widgets/controls",
      "model_module_version": "1.5.0",
      "model_name": "HBoxModel",
      "state": {
       "children": [
        "IPY_MODEL_91a6ce0b019c4abb8a0d24956b27fc1a",
        "IPY_MODEL_791c9be7f41c4e3295e5cc49724780ac"
       ],
       "layout": "IPY_MODEL_2b46a65598a94a759151505895aaa07b"
      }
     },
     "b442b2bbd7a341cc9fe082c08c3e2fcc": {
      "model_module": "@jupyter-widgets/base",
      "model_module_version": "1.2.0",
      "model_name": "LayoutModel",
      "state": {}
     },
     "b46904a49f504db38aa565dc1479e0b5": {
      "model_module": "@jupyter-widgets/base",
      "model_module_version": "1.2.0",
      "model_name": "LayoutModel",
      "state": {}
     },
     "b477a65be0a447a5992d1ac4017b321d": {
      "model_module": "@jupyter-widgets/controls",
      "model_module_version": "1.5.0",
      "model_name": "SliderStyleModel",
      "state": {
       "description_width": ""
      }
     },
     "b49fdf380c514dfd854699fe19bf2db7": {
      "model_module": "@jupyter-widgets/controls",
      "model_module_version": "1.5.0",
      "model_name": "DescriptionStyleModel",
      "state": {
       "description_width": ""
      }
     },
     "b4b34cad4f274f738add90aef610d620": {
      "model_module": "@jupyter-widgets/base",
      "model_module_version": "1.2.0",
      "model_name": "LayoutModel",
      "state": {}
     },
     "b579cb4e93f7414ab7225a1aae562564": {
      "model_module": "@jupyter-widgets/controls",
      "model_module_version": "1.5.0",
      "model_name": "DescriptionStyleModel",
      "state": {
       "description_width": ""
      }
     },
     "b57d3f0f7ec4429ab0e46115d7de3299": {
      "model_module": "@jupyter-widgets/controls",
      "model_module_version": "1.5.0",
      "model_name": "HBoxModel",
      "state": {
       "children": [
        "IPY_MODEL_c5de1fa1451f4916bdfb4f6c896a6aa2",
        "IPY_MODEL_1d11bd2021334d66b20806ab5376c918"
       ],
       "layout": "IPY_MODEL_9d7cb253cb4342c69cacfe4b97cb00f8"
      }
     },
     "b68ab343c7c44b6a8ff820a686af5bbd": {
      "model_module": "@jupyter-widgets/base",
      "model_module_version": "1.2.0",
      "model_name": "LayoutModel",
      "state": {}
     },
     "b6f6408babe744f8b984d4dc278069e6": {
      "model_module": "@jupyter-widgets/base",
      "model_module_version": "1.2.0",
      "model_name": "LayoutModel",
      "state": {}
     },
     "b74183e3cfc54d919f4eb629e599906b": {
      "model_module": "@jupyter-widgets/base",
      "model_module_version": "1.2.0",
      "model_name": "LayoutModel",
      "state": {}
     },
     "b7b8ff52b7604d598ee2731e6fb4a0a7": {
      "model_module": "@jupyter-widgets/base",
      "model_module_version": "1.2.0",
      "model_name": "LayoutModel",
      "state": {}
     },
     "b7e40849932744dea65861dc7bcf2e9c": {
      "model_module": "jupyter-matplotlib",
      "model_module_version": "^0.7.4",
      "model_name": "ToolbarModel",
      "state": {
       "layout": "IPY_MODEL_395bab8ca602445b984239546cbce428",
       "toolitems": [
        [
         "Home",
         "Reset original view",
         "home",
         "home"
        ],
        [
         "Back",
         "Back to previous view",
         "arrow-left",
         "back"
        ],
        [
         "Forward",
         "Forward to next view",
         "arrow-right",
         "forward"
        ],
        [
         "Pan",
         "Left button pans, Right button zooms\nx/y fixes axis, CTRL fixes aspect",
         "arrows",
         "pan"
        ],
        [
         "Zoom",
         "Zoom to rectangle\nx/y fixes axis, CTRL fixes aspect",
         "square-o",
         "zoom"
        ],
        [
         "Download",
         "Download plot",
         "floppy-o",
         "save_figure"
        ]
       ]
      }
     },
     "b842f63e267e4d1f9a7060f42b893ccb": {
      "model_module": "jupyter-matplotlib",
      "model_module_version": "^0.7.4",
      "model_name": "ToolbarModel",
      "state": {
       "layout": "IPY_MODEL_a572064f3676490086be41d3f30afa50",
       "toolitems": [
        [
         "Home",
         "Reset original view",
         "home",
         "home"
        ],
        [
         "Back",
         "Back to previous view",
         "arrow-left",
         "back"
        ],
        [
         "Forward",
         "Forward to next view",
         "arrow-right",
         "forward"
        ],
        [
         "Pan",
         "Left button pans, Right button zooms\nx/y fixes axis, CTRL fixes aspect",
         "arrows",
         "pan"
        ],
        [
         "Zoom",
         "Zoom to rectangle\nx/y fixes axis, CTRL fixes aspect",
         "square-o",
         "zoom"
        ],
        [
         "Download",
         "Download plot",
         "floppy-o",
         "save_figure"
        ]
       ]
      }
     },
     "b85abb078c2e476d8b0dffc77425af2f": {
      "model_module": "@jupyter-widgets/base",
      "model_module_version": "1.2.0",
      "model_name": "LayoutModel",
      "state": {}
     },
     "b96d68c9630b4c48a187a26a3e200b41": {
      "model_module": "@jupyter-widgets/controls",
      "model_module_version": "1.5.0",
      "model_name": "IntSliderModel",
      "state": {
       "layout": "IPY_MODEL_6fba73b00d2c490d87e377a1faba5c24",
       "style": "IPY_MODEL_ed8d0f86caf242269f54f35624f10763"
      }
     },
     "b99c429c49874267ad1d56a03358bc42": {
      "model_module": "@jupyter-widgets/base",
      "model_module_version": "1.2.0",
      "model_name": "LayoutModel",
      "state": {}
     },
     "bc8271f62ed0402fa894310dd89fda89": {
      "model_module": "@jupyter-widgets/controls",
      "model_module_version": "1.5.0",
      "model_name": "LinkModel",
      "state": {
       "source": [
        "IPY_MODEL_4892eb72a00b483da1da2c1c1fa2b061",
        "value"
       ],
       "target": [
        "IPY_MODEL_5a14c9c4f4db4952893d24f2062e94bc",
        "value"
       ]
      }
     },
     "bca2a507061d415b9894abd160960f95": {
      "model_module": "@jupyter-widgets/base",
      "model_module_version": "1.2.0",
      "model_name": "LayoutModel",
      "state": {}
     },
     "bd301d3278b04e10beb306d8dddc6494": {
      "model_module": "@jupyter-widgets/base",
      "model_module_version": "1.2.0",
      "model_name": "LayoutModel",
      "state": {}
     },
     "bd51e1f7fb8c46528e397f97f6bba7a6": {
      "model_module": "@jupyter-widgets/controls",
      "model_module_version": "1.5.0",
      "model_name": "DescriptionStyleModel",
      "state": {
       "description_width": ""
      }
     },
     "bd60383410574594930a9ccaadd2ec70": {
      "model_module": "@jupyter-widgets/base",
      "model_module_version": "1.2.0",
      "model_name": "LayoutModel",
      "state": {}
     },
     "bd8d294a8cd8470e8c4bffe87b385c6e": {
      "model_module": "jupyter-matplotlib",
      "model_module_version": "^0.7.4",
      "model_name": "ToolbarModel",
      "state": {
       "layout": "IPY_MODEL_ccb8c9beb40245ad9030a806d518c104",
       "toolitems": [
        [
         "Home",
         "Reset original view",
         "home",
         "home"
        ],
        [
         "Back",
         "Back to previous view",
         "arrow-left",
         "back"
        ],
        [
         "Forward",
         "Forward to next view",
         "arrow-right",
         "forward"
        ],
        [
         "Pan",
         "Left button pans, Right button zooms\nx/y fixes axis, CTRL fixes aspect",
         "arrows",
         "pan"
        ],
        [
         "Zoom",
         "Zoom to rectangle\nx/y fixes axis, CTRL fixes aspect",
         "square-o",
         "zoom"
        ],
        [
         "Download",
         "Download plot",
         "floppy-o",
         "save_figure"
        ]
       ]
      }
     },
     "bfe9e5bdc93d474681277ceb35932abb": {
      "model_module": "@jupyter-widgets/controls",
      "model_module_version": "1.5.0",
      "model_name": "PlayModel",
      "state": {
       "description": "Press play",
       "interval": 50,
       "layout": "IPY_MODEL_25ab6216ac8946199be5b5d018ef8921",
       "style": "IPY_MODEL_d06c7aac2c9e49adb94e18c975a50d39"
      }
     },
     "c12f11db147146a2a4d7d8d2445dcf42": {
      "model_module": "@jupyter-widgets/controls",
      "model_module_version": "1.5.0",
      "model_name": "PlayModel",
      "state": {
       "description": "Press play",
       "layout": "IPY_MODEL_9083837914b0477da11187e45c572011",
       "style": "IPY_MODEL_fa0fa1f388834c068b82d65a59a17e90"
      }
     },
     "c133d21fe766470796a6353dcc6e03bf": {
      "model_module": "@jupyter-widgets/controls",
      "model_module_version": "1.5.0",
      "model_name": "LinkModel",
      "state": {
       "source": [
        "IPY_MODEL_6b8801babfa14e4d81d9eb5b914a9d41",
        "value"
       ],
       "target": [
        "IPY_MODEL_84b2731fb29a42e1b5e04a8acdcb480e",
        "value"
       ]
      }
     },
     "c1a14258016242afbbe256864ac87f54": {
      "model_module": "jupyter-matplotlib",
      "model_module_version": "^0.7.4",
      "model_name": "ToolbarModel",
      "state": {
       "layout": "IPY_MODEL_6d3f0e8315e543d881c70b32593af508",
       "toolitems": [
        [
         "Home",
         "Reset original view",
         "home",
         "home"
        ],
        [
         "Back",
         "Back to previous view",
         "arrow-left",
         "back"
        ],
        [
         "Forward",
         "Forward to next view",
         "arrow-right",
         "forward"
        ],
        [
         "Pan",
         "Left button pans, Right button zooms\nx/y fixes axis, CTRL fixes aspect",
         "arrows",
         "pan"
        ],
        [
         "Zoom",
         "Zoom to rectangle\nx/y fixes axis, CTRL fixes aspect",
         "square-o",
         "zoom"
        ],
        [
         "Download",
         "Download plot",
         "floppy-o",
         "save_figure"
        ]
       ]
      }
     },
     "c1acf80077074ea0b582451707aa0283": {
      "model_module": "@jupyter-widgets/controls",
      "model_module_version": "1.5.0",
      "model_name": "PlayModel",
      "state": {
       "description": "Press play",
       "layout": "IPY_MODEL_02a2d349f7d24c5c8c6ea3bb271eda5b",
       "style": "IPY_MODEL_59bd308eb8fe4627bbbc2ae03f0e5f16"
      }
     },
     "c1dcda97afda4bcebb2afbd9f2c8d1a0": {
      "model_module": "@jupyter-widgets/controls",
      "model_module_version": "1.5.0",
      "model_name": "LinkModel",
      "state": {
       "source": [
        "IPY_MODEL_d9a735e5dd0742e0ae362047daeb40f9",
        "value"
       ],
       "target": [
        "IPY_MODEL_827a89d143234ce39ac5cd70c69c749a",
        "value"
       ]
      }
     },
     "c2427ff7f9324745b7ccb717382c524d": {
      "model_module": "jupyter-matplotlib",
      "model_module_version": "^0.7.4",
      "model_name": "ToolbarModel",
      "state": {
       "layout": "IPY_MODEL_e1a1ddc173ae4218a1f2a1d86ab24537",
       "toolitems": [
        [
         "Home",
         "Reset original view",
         "home",
         "home"
        ],
        [
         "Back",
         "Back to previous view",
         "arrow-left",
         "back"
        ],
        [
         "Forward",
         "Forward to next view",
         "arrow-right",
         "forward"
        ],
        [
         "Pan",
         "Left button pans, Right button zooms\nx/y fixes axis, CTRL fixes aspect",
         "arrows",
         "pan"
        ],
        [
         "Zoom",
         "Zoom to rectangle\nx/y fixes axis, CTRL fixes aspect",
         "square-o",
         "zoom"
        ],
        [
         "Download",
         "Download plot",
         "floppy-o",
         "save_figure"
        ]
       ]
      }
     },
     "c246d8a2d4174eab90ab1aee0f81da2b": {
      "model_module": "@jupyter-widgets/base",
      "model_module_version": "1.2.0",
      "model_name": "LayoutModel",
      "state": {}
     },
     "c26f5559e9584ce5b5d8b4317f2b5e9d": {
      "model_module": "@jupyter-widgets/base",
      "model_module_version": "1.2.0",
      "model_name": "LayoutModel",
      "state": {}
     },
     "c30b46fb2f8e47c889ed7a38d74e2863": {
      "model_module": "@jupyter-widgets/base",
      "model_module_version": "1.2.0",
      "model_name": "LayoutModel",
      "state": {}
     },
     "c37bfbb3760f414eb0a06f6a23922d36": {
      "model_module": "@jupyter-widgets/base",
      "model_module_version": "1.2.0",
      "model_name": "LayoutModel",
      "state": {}
     },
     "c40974ce35a04a6782702664f9e14572": {
      "model_module": "@jupyter-widgets/controls",
      "model_module_version": "1.5.0",
      "model_name": "IntSliderModel",
      "state": {
       "layout": "IPY_MODEL_c37bfbb3760f414eb0a06f6a23922d36",
       "style": "IPY_MODEL_e3bb8fec925d429bba8709e5dd87da9b"
      }
     },
     "c5de1fa1451f4916bdfb4f6c896a6aa2": {
      "model_module": "@jupyter-widgets/controls",
      "model_module_version": "1.5.0",
      "model_name": "PlayModel",
      "state": {
       "description": "Press play",
       "interval": 50,
       "layout": "IPY_MODEL_e9c61830da71450fb2ac37e40f743559",
       "style": "IPY_MODEL_ad377dca17e54723a8932c484c4c339e"
      }
     },
     "c60112eea843424fb4a6a19b952afee2": {
      "model_module": "@jupyter-widgets/controls",
      "model_module_version": "1.5.0",
      "model_name": "LinkModel",
      "state": {
       "source": [
        "IPY_MODEL_c1acf80077074ea0b582451707aa0283",
        "value"
       ],
       "target": [
        "IPY_MODEL_c8f7db97ffb64f769d1681038165c564",
        "value"
       ]
      }
     },
     "c610f52eb1104b5695c0c0b7c4b80abe": {
      "model_module": "@jupyter-widgets/controls",
      "model_module_version": "1.5.0",
      "model_name": "DescriptionStyleModel",
      "state": {
       "description_width": ""
      }
     },
     "c68df0f3ed0045ff9128891c3122bda3": {
      "model_module": "@jupyter-widgets/base",
      "model_module_version": "1.2.0",
      "model_name": "LayoutModel",
      "state": {}
     },
     "c80f218933c64fd6a7d4608109a1445a": {
      "model_module": "@jupyter-widgets/controls",
      "model_module_version": "1.5.0",
      "model_name": "PlayModel",
      "state": {
       "description": "Press play",
       "interval": 50,
       "layout": "IPY_MODEL_975cc97481764be2b9313889b76d2bc0",
       "style": "IPY_MODEL_3965e33164874da19c7649c580b22905"
      }
     },
     "c8f7db97ffb64f769d1681038165c564": {
      "model_module": "@jupyter-widgets/controls",
      "model_module_version": "1.5.0",
      "model_name": "IntSliderModel",
      "state": {
       "layout": "IPY_MODEL_1535c2fbe7bd40138443c933232a27d3",
       "style": "IPY_MODEL_a84c0d4c24a54820afed756326aeb257"
      }
     },
     "c92ae06e33ac4af69d742fc5fd36dd5b": {
      "model_module": "@jupyter-widgets/controls",
      "model_module_version": "1.5.0",
      "model_name": "DescriptionStyleModel",
      "state": {
       "description_width": ""
      }
     },
     "c9322ad518d0496bb987215766715e81": {
      "model_module": "jupyter-matplotlib",
      "model_module_version": "^0.7.4",
      "model_name": "ToolbarModel",
      "state": {
       "layout": "IPY_MODEL_7bcb862f8aff4df0b62c507fe4c2d7ae",
       "toolitems": [
        [
         "Home",
         "Reset original view",
         "home",
         "home"
        ],
        [
         "Back",
         "Back to previous view",
         "arrow-left",
         "back"
        ],
        [
         "Forward",
         "Forward to next view",
         "arrow-right",
         "forward"
        ],
        [
         "Pan",
         "Left button pans, Right button zooms\nx/y fixes axis, CTRL fixes aspect",
         "arrows",
         "pan"
        ],
        [
         "Zoom",
         "Zoom to rectangle\nx/y fixes axis, CTRL fixes aspect",
         "square-o",
         "zoom"
        ],
        [
         "Download",
         "Download plot",
         "floppy-o",
         "save_figure"
        ]
       ]
      }
     },
     "c973d3d0d1b14c02ba320b6ff65bae05": {
      "model_module": "jupyter-matplotlib",
      "model_module_version": "^0.7.4",
      "model_name": "ToolbarModel",
      "state": {
       "layout": "IPY_MODEL_8faf6105f71f47f68bdadd0dba02d99b",
       "toolitems": [
        [
         "Home",
         "Reset original view",
         "home",
         "home"
        ],
        [
         "Back",
         "Back to previous view",
         "arrow-left",
         "back"
        ],
        [
         "Forward",
         "Forward to next view",
         "arrow-right",
         "forward"
        ],
        [
         "Pan",
         "Left button pans, Right button zooms\nx/y fixes axis, CTRL fixes aspect",
         "arrows",
         "pan"
        ],
        [
         "Zoom",
         "Zoom to rectangle\nx/y fixes axis, CTRL fixes aspect",
         "square-o",
         "zoom"
        ],
        [
         "Download",
         "Download plot",
         "floppy-o",
         "save_figure"
        ]
       ]
      }
     },
     "ca8657eaf86f459c9df0fcd17c13369c": {
      "model_module": "@jupyter-widgets/base",
      "model_module_version": "1.2.0",
      "model_name": "LayoutModel",
      "state": {}
     },
     "caa172e6833a4ef0ace71d81a0f9b544": {
      "model_module": "@jupyter-widgets/controls",
      "model_module_version": "1.5.0",
      "model_name": "HBoxModel",
      "state": {
       "children": [
        "IPY_MODEL_f86216b9af2f4af78f6bd7deccd5abe4",
        "IPY_MODEL_6d4fa658fa9241d2949e662ac985f328"
       ],
       "layout": "IPY_MODEL_9d64c6f60ba840b1983bcfa9b80cadee"
      }
     },
     "cb6c82fc04c14e0dab43e7b53a313d1c": {
      "model_module": "@jupyter-widgets/controls",
      "model_module_version": "1.5.0",
      "model_name": "DescriptionStyleModel",
      "state": {
       "description_width": ""
      }
     },
     "cbbe0e9a86044e5aa8175cec94441ecd": {
      "model_module": "@jupyter-widgets/controls",
      "model_module_version": "1.5.0",
      "model_name": "SliderStyleModel",
      "state": {
       "description_width": ""
      }
     },
     "cc897873a2764fdab3c97320d1cbbb88": {
      "model_module": "jupyter-matplotlib",
      "model_module_version": "^0.7.4",
      "model_name": "ToolbarModel",
      "state": {
       "layout": "IPY_MODEL_d26c9161ddc04714885be5886efbf1c3",
       "toolitems": [
        [
         "Home",
         "Reset original view",
         "home",
         "home"
        ],
        [
         "Back",
         "Back to previous view",
         "arrow-left",
         "back"
        ],
        [
         "Forward",
         "Forward to next view",
         "arrow-right",
         "forward"
        ],
        [
         "Pan",
         "Left button pans, Right button zooms\nx/y fixes axis, CTRL fixes aspect",
         "arrows",
         "pan"
        ],
        [
         "Zoom",
         "Zoom to rectangle\nx/y fixes axis, CTRL fixes aspect",
         "square-o",
         "zoom"
        ],
        [
         "Download",
         "Download plot",
         "floppy-o",
         "save_figure"
        ]
       ]
      }
     },
     "ccb8c9beb40245ad9030a806d518c104": {
      "model_module": "@jupyter-widgets/base",
      "model_module_version": "1.2.0",
      "model_name": "LayoutModel",
      "state": {}
     },
     "cd96de175d3e4cbcae1b5a570ab547f0": {
      "model_module": "@jupyter-widgets/controls",
      "model_module_version": "1.5.0",
      "model_name": "SliderStyleModel",
      "state": {
       "description_width": ""
      }
     },
     "cdaa1dfa70eb44ecb33f487a2a3c9343": {
      "model_module": "@jupyter-widgets/controls",
      "model_module_version": "1.5.0",
      "model_name": "LinkModel",
      "state": {
       "source": [
        "IPY_MODEL_0b6c12a0a8004e17b1b9a01f8d03f80f",
        "value"
       ],
       "target": [
        "IPY_MODEL_dadaaeb8f05546b2b114d643e45769f1",
        "value"
       ]
      }
     },
     "cdcd47f138754db5b0661048af42596a": {
      "model_module": "@jupyter-widgets/controls",
      "model_module_version": "1.5.0",
      "model_name": "HBoxModel",
      "state": {
       "children": [
        "IPY_MODEL_94c05d2a342448c4aa16c348d4db2561",
        "IPY_MODEL_3aa7734a592048c8b8e8349c01d9a8ed"
       ],
       "layout": "IPY_MODEL_072436ddcbf84079bc84d17b224899c7"
      }
     },
     "ce06e9b537864b4bb55d7e3470fd965b": {
      "model_module": "@jupyter-widgets/base",
      "model_module_version": "1.2.0",
      "model_name": "LayoutModel",
      "state": {}
     },
     "ce3749dfe85e4dfc8fe8eea950054ebc": {
      "model_module": "@jupyter-widgets/controls",
      "model_module_version": "1.5.0",
      "model_name": "HBoxModel",
      "state": {
       "children": [
        "IPY_MODEL_a2d5482bf85a434f86c9aa890e7cb565",
        "IPY_MODEL_04f32dc024df45a8919b5e81534a3549"
       ],
       "layout": "IPY_MODEL_7ad8f54d1a2a49868b7dde7b5763fe94"
      }
     },
     "cedb9886012e495dac9ec6bbe77304d0": {
      "model_module": "jupyter-matplotlib",
      "model_module_version": "^0.7.4",
      "model_name": "ToolbarModel",
      "state": {
       "layout": "IPY_MODEL_1c45b69d6abd4028a144f38aa9ffbcff",
       "toolitems": [
        [
         "Home",
         "Reset original view",
         "home",
         "home"
        ],
        [
         "Back",
         "Back to previous view",
         "arrow-left",
         "back"
        ],
        [
         "Forward",
         "Forward to next view",
         "arrow-right",
         "forward"
        ],
        [
         "Pan",
         "Left button pans, Right button zooms\nx/y fixes axis, CTRL fixes aspect",
         "arrows",
         "pan"
        ],
        [
         "Zoom",
         "Zoom to rectangle\nx/y fixes axis, CTRL fixes aspect",
         "square-o",
         "zoom"
        ],
        [
         "Download",
         "Download plot",
         "floppy-o",
         "save_figure"
        ]
       ]
      }
     },
     "cf66428877c442bf959b571266ec61c9": {
      "model_module": "@jupyter-widgets/base",
      "model_module_version": "1.2.0",
      "model_name": "LayoutModel",
      "state": {}
     },
     "d06c7aac2c9e49adb94e18c975a50d39": {
      "model_module": "@jupyter-widgets/controls",
      "model_module_version": "1.5.0",
      "model_name": "DescriptionStyleModel",
      "state": {
       "description_width": ""
      }
     },
     "d0b515ce10e244009e1d5bb4409c924a": {
      "model_module": "@jupyter-widgets/base",
      "model_module_version": "1.2.0",
      "model_name": "LayoutModel",
      "state": {}
     },
     "d0c374c1d51e46e3ab16bbd55ea31788": {
      "model_module": "@jupyter-widgets/controls",
      "model_module_version": "1.5.0",
      "model_name": "DescriptionStyleModel",
      "state": {
       "description_width": ""
      }
     },
     "d0d5a75528c84b5e928bac96f7bad270": {
      "model_module": "jupyter-matplotlib",
      "model_module_version": "^0.7.4",
      "model_name": "ToolbarModel",
      "state": {
       "layout": "IPY_MODEL_d83a041f708d43acb9449eac74534b78",
       "toolitems": [
        [
         "Home",
         "Reset original view",
         "home",
         "home"
        ],
        [
         "Back",
         "Back to previous view",
         "arrow-left",
         "back"
        ],
        [
         "Forward",
         "Forward to next view",
         "arrow-right",
         "forward"
        ],
        [
         "Pan",
         "Left button pans, Right button zooms\nx/y fixes axis, CTRL fixes aspect",
         "arrows",
         "pan"
        ],
        [
         "Zoom",
         "Zoom to rectangle\nx/y fixes axis, CTRL fixes aspect",
         "square-o",
         "zoom"
        ],
        [
         "Download",
         "Download plot",
         "floppy-o",
         "save_figure"
        ]
       ]
      }
     },
     "d10253e8537743d6a04dca6f36771cd3": {
      "model_module": "@jupyter-widgets/controls",
      "model_module_version": "1.5.0",
      "model_name": "LinkModel",
      "state": {
       "source": [
        "IPY_MODEL_f86216b9af2f4af78f6bd7deccd5abe4",
        "value"
       ],
       "target": [
        "IPY_MODEL_6d4fa658fa9241d2949e662ac985f328",
        "value"
       ]
      }
     },
     "d1e6c938dbdb4dc89339da31ec1e521d": {
      "model_module": "@jupyter-widgets/base",
      "model_module_version": "1.2.0",
      "model_name": "LayoutModel",
      "state": {}
     },
     "d2400f70771342f1a88ad5179974205c": {
      "model_module": "@jupyter-widgets/base",
      "model_module_version": "1.2.0",
      "model_name": "LayoutModel",
      "state": {}
     },
     "d26c9161ddc04714885be5886efbf1c3": {
      "model_module": "@jupyter-widgets/base",
      "model_module_version": "1.2.0",
      "model_name": "LayoutModel",
      "state": {}
     },
     "d2774cbdaaaf4e8bb2307aef0852237b": {
      "model_module": "@jupyter-widgets/controls",
      "model_module_version": "1.5.0",
      "model_name": "PlayModel",
      "state": {
       "description": "Press play",
       "interval": 50,
       "layout": "IPY_MODEL_ea357f7b82324db2b535357cb3ca643c",
       "style": "IPY_MODEL_d0c374c1d51e46e3ab16bbd55ea31788"
      }
     },
     "d30752b0af224158a7b03c960873df03": {
      "model_module": "@jupyter-widgets/controls",
      "model_module_version": "1.5.0",
      "model_name": "PlayModel",
      "state": {
       "description": "Press play",
       "layout": "IPY_MODEL_ee5188430cc5423aaeb71d28c961fdb3",
       "style": "IPY_MODEL_c92ae06e33ac4af69d742fc5fd36dd5b"
      }
     },
     "d3521974ae8545d98a8757cd40de4874": {
      "model_module": "@jupyter-widgets/base",
      "model_module_version": "1.2.0",
      "model_name": "LayoutModel",
      "state": {}
     },
     "d39ad3a547cf4012a635200483a8341b": {
      "model_module": "@jupyter-widgets/controls",
      "model_module_version": "1.5.0",
      "model_name": "HBoxModel",
      "state": {
       "children": [
        "IPY_MODEL_f1b5d4f6c8ef40e1898e93f6481d45c3",
        "IPY_MODEL_5bccb41cea854287a2c51cd376cb097f"
       ],
       "layout": "IPY_MODEL_39e49d975c8b4025a22a75ee2040ca47"
      }
     },
     "d3bf8a38033347a4aaa73e1678ead462": {
      "model_module": "@jupyter-widgets/controls",
      "model_module_version": "1.5.0",
      "model_name": "PlayModel",
      "state": {
       "description": "Press play",
       "layout": "IPY_MODEL_e8d2955f5d204a38922d9473a221136f",
       "style": "IPY_MODEL_6835e3954d6e4ec8b41f160a660ab62a"
      }
     },
     "d5459fcf14a24fe7b0bd6bb9a2d9e8dd": {
      "model_module": "jupyter-matplotlib",
      "model_module_version": "^0.7.4",
      "model_name": "ToolbarModel",
      "state": {
       "layout": "IPY_MODEL_b74183e3cfc54d919f4eb629e599906b",
       "toolitems": [
        [
         "Home",
         "Reset original view",
         "home",
         "home"
        ],
        [
         "Back",
         "Back to previous view",
         "arrow-left",
         "back"
        ],
        [
         "Forward",
         "Forward to next view",
         "arrow-right",
         "forward"
        ],
        [
         "Pan",
         "Left button pans, Right button zooms\nx/y fixes axis, CTRL fixes aspect",
         "arrows",
         "pan"
        ],
        [
         "Zoom",
         "Zoom to rectangle\nx/y fixes axis, CTRL fixes aspect",
         "square-o",
         "zoom"
        ],
        [
         "Download",
         "Download plot",
         "floppy-o",
         "save_figure"
        ]
       ]
      }
     },
     "d5e67b4fde804bc9a9860ed1fb2c535f": {
      "model_module": "@jupyter-widgets/base",
      "model_module_version": "1.2.0",
      "model_name": "LayoutModel",
      "state": {}
     },
     "d83a041f708d43acb9449eac74534b78": {
      "model_module": "@jupyter-widgets/base",
      "model_module_version": "1.2.0",
      "model_name": "LayoutModel",
      "state": {}
     },
     "d972fcbe86034c519f9c0253ca4bf485": {
      "model_module": "@jupyter-widgets/controls",
      "model_module_version": "1.5.0",
      "model_name": "LinkModel",
      "state": {
       "source": [
        "IPY_MODEL_f5ef3a2a02b8400f8f0c4ff603e9d45f",
        "value"
       ],
       "target": [
        "IPY_MODEL_5f7efcecb97a41779ad5165c6df2a8dd",
        "value"
       ]
      }
     },
     "d9a735e5dd0742e0ae362047daeb40f9": {
      "model_module": "@jupyter-widgets/controls",
      "model_module_version": "1.5.0",
      "model_name": "PlayModel",
      "state": {
       "description": "Press play",
       "interval": 50,
       "layout": "IPY_MODEL_322d772dd4af445f8368bef7f4b973be",
       "style": "IPY_MODEL_8588656e6aab4bf2baa139f192b67efe"
      }
     },
     "dac49d9fcc5345e2a87b01b1d11b55c9": {
      "model_module": "@jupyter-widgets/controls",
      "model_module_version": "1.5.0",
      "model_name": "LinkModel",
      "state": {
       "source": [
        "IPY_MODEL_f6a80ff7b0e64e0c8c737e90d9dda9dd",
        "value"
       ],
       "target": [
        "IPY_MODEL_708b26b3e6064eb39a08fc03c617261e",
        "value"
       ]
      }
     },
     "dadaaeb8f05546b2b114d643e45769f1": {
      "model_module": "@jupyter-widgets/controls",
      "model_module_version": "1.5.0",
      "model_name": "IntSliderModel",
      "state": {
       "layout": "IPY_MODEL_bca2a507061d415b9894abd160960f95",
       "style": "IPY_MODEL_f9ee61b311004e90bc609adc2955df07"
      }
     },
     "db539737da1944ab9e2d23651be3225e": {
      "model_module": "@jupyter-widgets/controls",
      "model_module_version": "1.5.0",
      "model_name": "HBoxModel",
      "state": {
       "children": [
        "IPY_MODEL_c1acf80077074ea0b582451707aa0283",
        "IPY_MODEL_c8f7db97ffb64f769d1681038165c564"
       ],
       "layout": "IPY_MODEL_54d67151df594d3f9696504ee03ba1bd"
      }
     },
     "db61baa3f4f74560b488c042506da57f": {
      "model_module": "@jupyter-widgets/base",
      "model_module_version": "1.2.0",
      "model_name": "LayoutModel",
      "state": {}
     },
     "dd3ed61b1d0c4382a5465ea59cdd9e67": {
      "model_module": "@jupyter-widgets/controls",
      "model_module_version": "1.5.0",
      "model_name": "HBoxModel",
      "state": {
       "children": [
        "IPY_MODEL_4d469c23f7064e18af33f91cfc57fcf0",
        "IPY_MODEL_4228c8cf226741eb806bc0900c5b9c88"
       ],
       "layout": "IPY_MODEL_2ea18895b29b4316897979d8939078f6"
      }
     },
     "dd4dc4bc4c374af39eb2264ffa38c44f": {
      "model_module": "jupyter-matplotlib",
      "model_module_version": "^0.7.4",
      "model_name": "ToolbarModel",
      "state": {
       "layout": "IPY_MODEL_23870dda07ea4c59bdc3e6e79c826253",
       "toolitems": [
        [
         "Home",
         "Reset original view",
         "home",
         "home"
        ],
        [
         "Back",
         "Back to previous view",
         "arrow-left",
         "back"
        ],
        [
         "Forward",
         "Forward to next view",
         "arrow-right",
         "forward"
        ],
        [
         "Pan",
         "Left button pans, Right button zooms\nx/y fixes axis, CTRL fixes aspect",
         "arrows",
         "pan"
        ],
        [
         "Zoom",
         "Zoom to rectangle\nx/y fixes axis, CTRL fixes aspect",
         "square-o",
         "zoom"
        ],
        [
         "Download",
         "Download plot",
         "floppy-o",
         "save_figure"
        ]
       ]
      }
     },
     "dd784763f6e44f41b765ca3681c042dc": {
      "model_module": "@jupyter-widgets/controls",
      "model_module_version": "1.5.0",
      "model_name": "HBoxModel",
      "state": {
       "children": [
        "IPY_MODEL_8b1503d112454b2292c2900ea16a098d",
        "IPY_MODEL_587ebb635c4b4890aada5a737bb70297"
       ],
       "layout": "IPY_MODEL_57e13f39ae94479fbdec008f27070093"
      }
     },
     "ddce9c1060704b5081f750e54da26840": {
      "model_module": "@jupyter-widgets/base",
      "model_module_version": "1.2.0",
      "model_name": "LayoutModel",
      "state": {}
     },
     "de00fdaa92ba4849994eeb3aaff41af4": {
      "model_module": "@jupyter-widgets/controls",
      "model_module_version": "1.5.0",
      "model_name": "HBoxModel",
      "state": {
       "children": [
        "IPY_MODEL_6202f2a931d84ca8bdd4cdf0ca6108ac",
        "IPY_MODEL_b3162749627d454a851e4a4c9d0a4b06"
       ],
       "layout": "IPY_MODEL_5f1c61b384d1463aa25919f868a4d1fb"
      }
     },
     "dee36ca7be174ed9aa5d44ac62307b7d": {
      "model_module": "jupyter-matplotlib",
      "model_module_version": "^0.7.4",
      "model_name": "ToolbarModel",
      "state": {
       "layout": "IPY_MODEL_470d8328b6e842e7a6ef17a30bb99b1b",
       "toolitems": [
        [
         "Home",
         "Reset original view",
         "home",
         "home"
        ],
        [
         "Back",
         "Back to previous view",
         "arrow-left",
         "back"
        ],
        [
         "Forward",
         "Forward to next view",
         "arrow-right",
         "forward"
        ],
        [
         "Pan",
         "Left button pans, Right button zooms\nx/y fixes axis, CTRL fixes aspect",
         "arrows",
         "pan"
        ],
        [
         "Zoom",
         "Zoom to rectangle\nx/y fixes axis, CTRL fixes aspect",
         "square-o",
         "zoom"
        ],
        [
         "Download",
         "Download plot",
         "floppy-o",
         "save_figure"
        ]
       ]
      }
     },
     "df5a2793fb48413793f5c125a78f161b": {
      "model_module": "@jupyter-widgets/base",
      "model_module_version": "1.2.0",
      "model_name": "LayoutModel",
      "state": {}
     },
     "df5f9da0525345d587b5f831cc0c8faa": {
      "model_module": "@jupyter-widgets/controls",
      "model_module_version": "1.5.0",
      "model_name": "HBoxModel",
      "state": {
       "children": [
        "IPY_MODEL_5107fc0642214b2abfba40f324a3d118",
        "IPY_MODEL_b96d68c9630b4c48a187a26a3e200b41"
       ],
       "layout": "IPY_MODEL_769bd54c04e74d52a7074910acecd8e1"
      }
     },
     "dfa240c80c164c42b4cf163028503a2a": {
      "model_module": "@jupyter-widgets/controls",
      "model_module_version": "1.5.0",
      "model_name": "LinkModel",
      "state": {
       "source": [
        "IPY_MODEL_e2efdd0b3c2949c4bfbb872d5aca1f40",
        "value"
       ],
       "target": [
        "IPY_MODEL_fd928802fd394e5aad86249e1b853021",
        "value"
       ]
      }
     },
     "dfc60eb0df854678b163ca71888f11e5": {
      "model_module": "@jupyter-widgets/base",
      "model_module_version": "1.2.0",
      "model_name": "LayoutModel",
      "state": {}
     },
     "dfe0065b629c4db7ba552b54cb4210d2": {
      "model_module": "@jupyter-widgets/controls",
      "model_module_version": "1.5.0",
      "model_name": "DescriptionStyleModel",
      "state": {
       "description_width": ""
      }
     },
     "e13e430cc25f40a2a9e2761838637cb0": {
      "model_module": "@jupyter-widgets/controls",
      "model_module_version": "1.5.0",
      "model_name": "HBoxModel",
      "state": {
       "children": [
        "IPY_MODEL_90d11e773d78402082b12577c46ac518",
        "IPY_MODEL_79c886669c534fb2bb25ee26e72c100f"
       ],
       "layout": "IPY_MODEL_55742ce7e2f34554874106af3ecfe515"
      }
     },
     "e182bef471914806baf11b279673ee3d": {
      "model_module": "@jupyter-widgets/base",
      "model_module_version": "1.2.0",
      "model_name": "LayoutModel",
      "state": {}
     },
     "e1a1ddc173ae4218a1f2a1d86ab24537": {
      "model_module": "@jupyter-widgets/base",
      "model_module_version": "1.2.0",
      "model_name": "LayoutModel",
      "state": {}
     },
     "e264d3e7b88548c99adf1acc31a2389d": {
      "model_module": "@jupyter-widgets/base",
      "model_module_version": "1.2.0",
      "model_name": "LayoutModel",
      "state": {}
     },
     "e2efdd0b3c2949c4bfbb872d5aca1f40": {
      "model_module": "@jupyter-widgets/controls",
      "model_module_version": "1.5.0",
      "model_name": "PlayModel",
      "state": {
       "description": "Press play",
       "layout": "IPY_MODEL_fe8166cf1a5945ebae7d80c55325624d",
       "style": "IPY_MODEL_02c688af74bc4f25a563af4d3b07a553"
      }
     },
     "e3bb8fec925d429bba8709e5dd87da9b": {
      "model_module": "@jupyter-widgets/controls",
      "model_module_version": "1.5.0",
      "model_name": "SliderStyleModel",
      "state": {
       "description_width": ""
      }
     },
     "e5e981872a2646828d6f931c3807e79f": {
      "model_module": "@jupyter-widgets/base",
      "model_module_version": "1.2.0",
      "model_name": "LayoutModel",
      "state": {}
     },
     "e6ee09e969f840e2b7959db46755bcdb": {
      "model_module": "@jupyter-widgets/controls",
      "model_module_version": "1.5.0",
      "model_name": "IntSliderModel",
      "state": {
       "layout": "IPY_MODEL_0fba2d1cda82458d8808163300ae74ac",
       "style": "IPY_MODEL_232b4fc09b1345b986d45e5a3f0671f6"
      }
     },
     "e7231ccf30954a2e835f9eab22ed5a56": {
      "model_module": "@jupyter-widgets/base",
      "model_module_version": "1.2.0",
      "model_name": "LayoutModel",
      "state": {}
     },
     "e75dd2197dd340b0a20d2b0c5e08e256": {
      "model_module": "@jupyter-widgets/base",
      "model_module_version": "1.2.0",
      "model_name": "LayoutModel",
      "state": {}
     },
     "e8cfe873397d446f8bc1305184b13035": {
      "model_module": "@jupyter-widgets/base",
      "model_module_version": "1.2.0",
      "model_name": "LayoutModel",
      "state": {}
     },
     "e8d2955f5d204a38922d9473a221136f": {
      "model_module": "@jupyter-widgets/base",
      "model_module_version": "1.2.0",
      "model_name": "LayoutModel",
      "state": {}
     },
     "e8e93353f933423d96b833ba367674e6": {
      "model_module": "@jupyter-widgets/base",
      "model_module_version": "1.2.0",
      "model_name": "LayoutModel",
      "state": {}
     },
     "e96838d09faf471291bc0b02e9e2261a": {
      "model_module": "@jupyter-widgets/controls",
      "model_module_version": "1.5.0",
      "model_name": "LinkModel",
      "state": {
       "source": [
        "IPY_MODEL_bfe9e5bdc93d474681277ceb35932abb",
        "value"
       ],
       "target": [
        "IPY_MODEL_c40974ce35a04a6782702664f9e14572",
        "value"
       ]
      }
     },
     "e9c61830da71450fb2ac37e40f743559": {
      "model_module": "@jupyter-widgets/base",
      "model_module_version": "1.2.0",
      "model_name": "LayoutModel",
      "state": {}
     },
     "ea2a4b17fb6d4c7389d98d89bddd8d87": {
      "model_module": "@jupyter-widgets/controls",
      "model_module_version": "1.5.0",
      "model_name": "HBoxModel",
      "state": {
       "children": [
        "IPY_MODEL_f804dac7619148ed89a71535298a8123",
        "IPY_MODEL_09b3709a469e4ecda142f6a01a45c917"
       ],
       "layout": "IPY_MODEL_ddce9c1060704b5081f750e54da26840"
      }
     },
     "ea357f7b82324db2b535357cb3ca643c": {
      "model_module": "@jupyter-widgets/base",
      "model_module_version": "1.2.0",
      "model_name": "LayoutModel",
      "state": {}
     },
     "ea7bd2d1667b4e29a16b6d3a7d63ce45": {
      "model_module": "@jupyter-widgets/base",
      "model_module_version": "1.2.0",
      "model_name": "LayoutModel",
      "state": {}
     },
     "ea937819ece74965bd93ce645b657446": {
      "model_module": "@jupyter-widgets/controls",
      "model_module_version": "1.5.0",
      "model_name": "IntSliderModel",
      "state": {
       "layout": "IPY_MODEL_b024ea1be2d243fa91ce4494ecc78c74",
       "style": "IPY_MODEL_a1579e2d7b58493a8087f9971290e465"
      }
     },
     "eb9413e43b2a4d959a69fe9143161f06": {
      "model_module": "@jupyter-widgets/base",
      "model_module_version": "1.2.0",
      "model_name": "LayoutModel",
      "state": {}
     },
     "ec2028d6c268440d8de055bad583a9d2": {
      "model_module": "@jupyter-widgets/base",
      "model_module_version": "1.2.0",
      "model_name": "LayoutModel",
      "state": {}
     },
     "ec9ab2a49db547f4b27c5615f190d1c9": {
      "model_module": "@jupyter-widgets/base",
      "model_module_version": "1.2.0",
      "model_name": "LayoutModel",
      "state": {}
     },
     "ecd6fb60f72b4670b98d976ea849ac3d": {
      "model_module": "@jupyter-widgets/base",
      "model_module_version": "1.2.0",
      "model_name": "LayoutModel",
      "state": {}
     },
     "ed8d0f86caf242269f54f35624f10763": {
      "model_module": "@jupyter-widgets/controls",
      "model_module_version": "1.5.0",
      "model_name": "SliderStyleModel",
      "state": {
       "description_width": ""
      }
     },
     "edc0c1be133147509cae24bfeacaeda8": {
      "model_module": "@jupyter-widgets/controls",
      "model_module_version": "1.5.0",
      "model_name": "SliderStyleModel",
      "state": {
       "description_width": ""
      }
     },
     "ede4bd0c832645f3bf5c44044b1c2f5d": {
      "model_module": "@jupyter-widgets/base",
      "model_module_version": "1.2.0",
      "model_name": "LayoutModel",
      "state": {}
     },
     "ee5188430cc5423aaeb71d28c961fdb3": {
      "model_module": "@jupyter-widgets/base",
      "model_module_version": "1.2.0",
      "model_name": "LayoutModel",
      "state": {}
     },
     "ee94059cf7714efc9fe0412fdc2e25aa": {
      "model_module": "@jupyter-widgets/base",
      "model_module_version": "1.2.0",
      "model_name": "LayoutModel",
      "state": {}
     },
     "f1b35970dcb346389fa7d24575bbc45b": {
      "model_module": "jupyter-matplotlib",
      "model_module_version": "^0.7.4",
      "model_name": "MPLCanvasModel",
      "state": {
       "_cursor": "default",
       "_figure_label": "Figure 1",
       "_height": 320,
       "_image_mode": "diff",
       "_width": 960,
       "footer_visible": false,
       "header_visible": false,
       "layout": "IPY_MODEL_e75dd2197dd340b0a20d2b0c5e08e256",
       "resizable": false,
       "toolbar": "IPY_MODEL_c2427ff7f9324745b7ccb717382c524d",
       "toolbar_position": "left",
       "toolbar_visible": false
      }
     },
     "f1b5d4f6c8ef40e1898e93f6481d45c3": {
      "model_module": "@jupyter-widgets/controls",
      "model_module_version": "1.5.0",
      "model_name": "PlayModel",
      "state": {
       "description": "Press play",
       "layout": "IPY_MODEL_8d8ba0f2a16d4149b9ec046cc13f2aa7",
       "style": "IPY_MODEL_91a15b4866764a8caf9c6572ea29ee90"
      }
     },
     "f2936f56e79047799dfae7cab7ab396e": {
      "model_module": "@jupyter-widgets/base",
      "model_module_version": "1.2.0",
      "model_name": "LayoutModel",
      "state": {}
     },
     "f3353c1cca814d16beeb53ab533cae3c": {
      "model_module": "@jupyter-widgets/controls",
      "model_module_version": "1.5.0",
      "model_name": "LinkModel",
      "state": {
       "source": [
        "IPY_MODEL_1a19a71426794814bba08a4c545ea69f",
        "value"
       ],
       "target": [
        "IPY_MODEL_3c1ff1aadcf0499fb6a5e9ad0709c48f",
        "value"
       ]
      }
     },
     "f47d0ba639824278814c27b53cfc57bc": {
      "model_module": "@jupyter-widgets/controls",
      "model_module_version": "1.5.0",
      "model_name": "DescriptionStyleModel",
      "state": {
       "description_width": ""
      }
     },
     "f4fbb50078754c1a8b649046f29e537e": {
      "model_module": "jupyter-matplotlib",
      "model_module_version": "^0.7.4",
      "model_name": "ToolbarModel",
      "state": {
       "layout": "IPY_MODEL_abcb857178354caf819fd6ca7d7b9699",
       "toolitems": [
        [
         "Home",
         "Reset original view",
         "home",
         "home"
        ],
        [
         "Back",
         "Back to previous view",
         "arrow-left",
         "back"
        ],
        [
         "Forward",
         "Forward to next view",
         "arrow-right",
         "forward"
        ],
        [
         "Pan",
         "Left button pans, Right button zooms\nx/y fixes axis, CTRL fixes aspect",
         "arrows",
         "pan"
        ],
        [
         "Zoom",
         "Zoom to rectangle\nx/y fixes axis, CTRL fixes aspect",
         "square-o",
         "zoom"
        ],
        [
         "Download",
         "Download plot",
         "floppy-o",
         "save_figure"
        ]
       ]
      }
     },
     "f552fecda7e64ce085e1a3984f28d15f": {
      "model_module": "jupyter-matplotlib",
      "model_module_version": "^0.7.4",
      "model_name": "ToolbarModel",
      "state": {
       "layout": "IPY_MODEL_ce06e9b537864b4bb55d7e3470fd965b",
       "toolitems": [
        [
         "Home",
         "Reset original view",
         "home",
         "home"
        ],
        [
         "Back",
         "Back to previous view",
         "arrow-left",
         "back"
        ],
        [
         "Forward",
         "Forward to next view",
         "arrow-right",
         "forward"
        ],
        [
         "Pan",
         "Left button pans, Right button zooms\nx/y fixes axis, CTRL fixes aspect",
         "arrows",
         "pan"
        ],
        [
         "Zoom",
         "Zoom to rectangle\nx/y fixes axis, CTRL fixes aspect",
         "square-o",
         "zoom"
        ],
        [
         "Download",
         "Download plot",
         "floppy-o",
         "save_figure"
        ]
       ]
      }
     },
     "f598711611de49cd93e67daef2fefb53": {
      "model_module": "@jupyter-widgets/controls",
      "model_module_version": "1.5.0",
      "model_name": "LinkModel",
      "state": {
       "source": [
        "IPY_MODEL_911d924138634035b38b1eef03805113",
        "value"
       ],
       "target": [
        "IPY_MODEL_319906e81a574f8ca7eab36c830f3326",
        "value"
       ]
      }
     },
     "f5cb0dcae1e1421f80fdfe8780c1c713": {
      "model_module": "jupyter-matplotlib",
      "model_module_version": "^0.7.4",
      "model_name": "ToolbarModel",
      "state": {
       "layout": "IPY_MODEL_ac3f8510cf36464a8a5a64458054138b",
       "toolitems": [
        [
         "Home",
         "Reset original view",
         "home",
         "home"
        ],
        [
         "Back",
         "Back to previous view",
         "arrow-left",
         "back"
        ],
        [
         "Forward",
         "Forward to next view",
         "arrow-right",
         "forward"
        ],
        [
         "Pan",
         "Left button pans, Right button zooms\nx/y fixes axis, CTRL fixes aspect",
         "arrows",
         "pan"
        ],
        [
         "Zoom",
         "Zoom to rectangle\nx/y fixes axis, CTRL fixes aspect",
         "square-o",
         "zoom"
        ],
        [
         "Download",
         "Download plot",
         "floppy-o",
         "save_figure"
        ]
       ]
      }
     },
     "f5ef3a2a02b8400f8f0c4ff603e9d45f": {
      "model_module": "@jupyter-widgets/controls",
      "model_module_version": "1.5.0",
      "model_name": "PlayModel",
      "state": {
       "description": "Press play",
       "layout": "IPY_MODEL_4ada08698ae048ef888be6289c598a4c",
       "style": "IPY_MODEL_501490e200764893bdaec5a7f47ed65f"
      }
     },
     "f67fffa1294b42f0bd702960a2069019": {
      "model_module": "@jupyter-widgets/controls",
      "model_module_version": "1.5.0",
      "model_name": "LinkModel",
      "state": {
       "source": [
        "IPY_MODEL_15286d93738a49efa6f672808aa8cba5",
        "value"
       ],
       "target": [
        "IPY_MODEL_45860a9327ec48d4abc6ceceaec364aa",
        "value"
       ]
      }
     },
     "f6a80ff7b0e64e0c8c737e90d9dda9dd": {
      "model_module": "@jupyter-widgets/controls",
      "model_module_version": "1.5.0",
      "model_name": "PlayModel",
      "state": {
       "description": "Press play",
       "interval": 50,
       "layout": "IPY_MODEL_94d70b8915504a328793792552b683c0",
       "style": "IPY_MODEL_85d68a1de0894170b63cd31d57201d7b"
      }
     },
     "f74aa75959a44162b2b79ec7e024cd0e": {
      "model_module": "@jupyter-widgets/base",
      "model_module_version": "1.2.0",
      "model_name": "LayoutModel",
      "state": {}
     },
     "f804dac7619148ed89a71535298a8123": {
      "model_module": "@jupyter-widgets/controls",
      "model_module_version": "1.5.0",
      "model_name": "PlayModel",
      "state": {
       "description": "Press play",
       "interval": 50,
       "layout": "IPY_MODEL_3a721c6a4d3b4ec0a119726cee9f5d4f",
       "style": "IPY_MODEL_9d72aa27e5054d349ad6b479f81b22a9"
      }
     },
     "f86216b9af2f4af78f6bd7deccd5abe4": {
      "model_module": "@jupyter-widgets/controls",
      "model_module_version": "1.5.0",
      "model_name": "PlayModel",
      "state": {
       "description": "Press play",
       "interval": 50,
       "layout": "IPY_MODEL_bd301d3278b04e10beb306d8dddc6494",
       "style": "IPY_MODEL_a6b49fab5b484bc8b66fd894352d89bb"
      }
     },
     "f865d044a200420387ffef4770fcda8b": {
      "model_module": "@jupyter-widgets/controls",
      "model_module_version": "1.5.0",
      "model_name": "SliderStyleModel",
      "state": {
       "description_width": ""
      }
     },
     "f93cb5e66d5940e4aca9d0f5e0ac1ec2": {
      "model_module": "@jupyter-widgets/controls",
      "model_module_version": "1.5.0",
      "model_name": "LinkModel",
      "state": {
       "source": [
        "IPY_MODEL_c12f11db147146a2a4d7d8d2445dcf42",
        "value"
       ],
       "target": [
        "IPY_MODEL_16cb90844477441297b021e507324393",
        "value"
       ]
      }
     },
     "f9ee61b311004e90bc609adc2955df07": {
      "model_module": "@jupyter-widgets/controls",
      "model_module_version": "1.5.0",
      "model_name": "SliderStyleModel",
      "state": {
       "description_width": ""
      }
     },
     "fa0fa1f388834c068b82d65a59a17e90": {
      "model_module": "@jupyter-widgets/controls",
      "model_module_version": "1.5.0",
      "model_name": "DescriptionStyleModel",
      "state": {
       "description_width": ""
      }
     },
     "fc2b8817b0be4d279c16c00cff30b335": {
      "model_module": "@jupyter-widgets/controls",
      "model_module_version": "1.5.0",
      "model_name": "SliderStyleModel",
      "state": {
       "description_width": ""
      }
     },
     "fd928802fd394e5aad86249e1b853021": {
      "model_module": "@jupyter-widgets/controls",
      "model_module_version": "1.5.0",
      "model_name": "IntSliderModel",
      "state": {
       "layout": "IPY_MODEL_d5e67b4fde804bc9a9860ed1fb2c535f",
       "style": "IPY_MODEL_7258d97c847d46b894f158ce049fa76c"
      }
     },
     "fe8166cf1a5945ebae7d80c55325624d": {
      "model_module": "@jupyter-widgets/base",
      "model_module_version": "1.2.0",
      "model_name": "LayoutModel",
      "state": {}
     },
     "ff5f4db8c5dc41318e13c7c06682e9a4": {
      "model_module": "@jupyter-widgets/controls",
      "model_module_version": "1.5.0",
      "model_name": "DescriptionStyleModel",
      "state": {
       "description_width": ""
      }
     },
     "ffb95759f2a644e3a71c03d9e250bfb5": {
      "model_module": "@jupyter-widgets/controls",
      "model_module_version": "1.5.0",
      "model_name": "HBoxModel",
      "state": {
       "children": [
        "IPY_MODEL_512a6fce3aed4163ba99974e261f66f0",
        "IPY_MODEL_42a86826de0b49ba93c080d31d7dee2e"
       ],
       "layout": "IPY_MODEL_f2936f56e79047799dfae7cab7ab396e"
      }
     },
     "ffcfe06c5860486c94d1337c6e54496b": {
      "model_module": "@jupyter-widgets/controls",
      "model_module_version": "1.5.0",
      "model_name": "LinkModel",
      "state": {
       "source": [
        "IPY_MODEL_75bbe528066f47828ffb5a8a1e717b0b",
        "value"
       ],
       "target": [
        "IPY_MODEL_ea937819ece74965bd93ce645b657446",
        "value"
       ]
      }
     },
     "ffecf82b60074327830d7480713d0da7": {
      "model_module": "@jupyter-widgets/controls",
      "model_module_version": "1.5.0",
      "model_name": "HBoxModel",
      "state": {
       "children": [
        "IPY_MODEL_e2efdd0b3c2949c4bfbb872d5aca1f40",
        "IPY_MODEL_fd928802fd394e5aad86249e1b853021"
       ],
       "layout": "IPY_MODEL_0470d89d25fc40ab8493b670f63a1254"
      }
     }
    },
    "version_major": 2,
    "version_minor": 0
   }
  }
 },
 "nbformat": 4,
 "nbformat_minor": 4
}
