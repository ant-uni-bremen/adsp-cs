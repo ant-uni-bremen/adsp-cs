{
 "cells": [
  {
   "cell_type": "markdown",
   "metadata": {
    "slideshow": {
     "slide_type": "-"
    }
   },
   "source": [
    "# Compressed Sesing Reconcstruction\n",
    "## Introduction\n",
    "This notebook shows basic examples for compressed sensing reconstruction problems with different algorithms.\n",
    "\n",
    "## Basic reconstruction idea with norm relaxation\n",
    "\n",
    "Assum the basic $l_0$ minimzation problem from CS:\n",
    "\n",
    "$$\\min_{\\mathbf{x}\\in\\mathbb{R}}\\lVert \\mathbf{x} \\rVert_0\\quad\\mathrm{s.t.}\\quad \\lVert \\mathbf{y}-\\mathbf{A}\\mathbf{x}\\rVert < \\epsilon$$\n",
    "\n",
    "Then, we can relax the $l_0$ \"norm\" to another norm like the convex $l_1$ norm:\n",
    "\n",
    "$$\\min_{\\mathbf{x}\\in\\mathbb{R}}\\lVert \\mathbf{x} \\rVert_1\\quad\\mathrm{s.t.}\\quad \\lVert \\mathbf{y}-\\mathbf{A}\\mathbf{x}\\rVert < \\epsilon$$\n",
    "\n",
    "In the noiseless case, the constraint simplifies to $\\mathbf{A}\\mathbf{x}=\\mathbf{y}$. Thus, the solution is at the intersection of the hyperplanes defined by the equation system and the scales unit sphere in the chosen norm. The following code illustrates this with a 2D example. Feasible $\\mathbf{x}$ that solve $\\mathbf{A}\\mathbf{x}=\\mathbf{y}$ are on the blue line. This line then touches the scaled unit sphere (green) of different norms at different points (red). Note, that it only leads to a sparse solution for the $l_1$ norm."
   ]
  },
  {
   "cell_type": "code",
   "execution_count": 1,
   "metadata": {
    "slideshow": {
     "slide_type": "-"
    }
   },
   "outputs": [
    {
     "data": {
      "application/vnd.jupyter.widget-view+json": {
       "model_id": "37e01845369447a4abe3ac2603a878d0",
       "version_major": 2,
       "version_minor": 0
      },
      "text/plain": [
       "Canvas(toolbar=Toolbar(toolitems=[('Home', 'Reset original view', 'home', 'home'), ('Back', 'Back to previous …"
      ]
     },
     "metadata": {},
     "output_type": "display_data"
    },
    {
     "data": {
      "application/vnd.jupyter.widget-view+json": {
       "model_id": "db65659aa3bd4149ad0ed2551124cdfd",
       "version_major": 2,
       "version_minor": 0
      },
      "text/plain": [
       "HBox(children=(Play(value=0, description='Press play', interval=50), IntSlider(value=0)))"
      ]
     },
     "metadata": {},
     "output_type": "display_data"
    }
   ],
   "source": [
    "%matplotlib widget\n",
    "import ipywidgets as widgets\n",
    "import matplotlib.pyplot as plt\n",
    "from matplotlib.patches import Circle, Rectangle\n",
    "from numpy import linspace\n",
    "from math import sqrt\n",
    "\n",
    "def scale_plot_size(factor=1.5):\n",
    "    import matplotlib as mpl\n",
    "    default_dpi = mpl.rcParamsDefault['figure.dpi']\n",
    "    mpl.rcParams['figure.dpi'] = default_dpi*factor\n",
    "\n",
    "scale_plot_size(0.8)\n",
    "    \n",
    "fig,axs = plt.subplots(1, 4, sharey=True)\n",
    "fig.suptitle(\"Illustration of norm effects on the solution\")\n",
    "fig.set_figwidth(11.5)\n",
    "fig.set_figheight(4)\n",
    "fig.set_tight_layout(True)\n",
    "fig.canvas.toolbar_visible = False\n",
    "fig.canvas.header_visible = False\n",
    "fig.canvas.footer_visible = False\n",
    "fig.canvas.resizable = False\n",
    "\n",
    "anno_list=[]\n",
    "lines_list=[]\n",
    "sp_space=[]\n",
    "\n",
    "title_list=('$l_0$ norm', '$l_1$ norm', '$l_2$ norm', '$l_\\infty$ norm')\n",
    "pnt_list=((0,0.5),(0,0.5),(1/5,2/5),(1/3,1/3))\n",
    "annos=('(0,0.5)','(0,0.5)','(1/5,2/5)','(1/3,1/3)')\n",
    "\n",
    "x1 = linspace(-1,1,10)\n",
    "\n",
    "sp_space.append(linspace(0.05,0.5,100))\n",
    "sp_space.append(linspace(0.05,0.5,100))\n",
    "sp_space.append(linspace(0.05,1/sqrt(5),100))\n",
    "sp_space.append(linspace(0.05,1/3,100))\n",
    "\n",
    "axs[0].set_ylabel('$x_2$')\n",
    "zero_norm = axs[0].plot([0,0],[0, 0],'g-',[0, 0],[0,0],'g-')\n",
    "\n",
    "for i in range(4):    \n",
    "    axs[i].plot(x1,(1-x1)/2)\n",
    "    axs[i].set_xlim((-1,1))\n",
    "    axs[i].set_ylim((-1,1))\n",
    "    axs[i].set_xlabel('$x_1$')\n",
    "    axs[i].set_title(title_list[i])\n",
    "    axs[i].grid(True)\n",
    "    \n",
    "    tx,ty=zip(pnt_list[i])\n",
    "    lines_list.append(axs[i].plot(tx,ty,'rs'))\n",
    "    lines_list[i][0].set_marker(' ')\n",
    "\n",
    "    dp = tuple(map(sum, zip(pnt_list[i], (0.05,0.05))))\n",
    "    anno_list.append(axs[i].annotate(annos[i],dp))\n",
    "    anno_list[i].set_visible(False)      \n",
    "\n",
    "def update(change):\n",
    "    zero_norm[0].set_data([-sp_space[0][change.new], sp_space[0][change.new]],[0, 0])\n",
    "    zero_norm[1].set_data([0, 0],[-sp_space[0][change.new], sp_space[0][change.new]])\n",
    "    \n",
    "    blen=sqrt(sp_space[0][change.new]**2+sp_space[0][change.new]**2)\n",
    "    axs[1].patches = []\n",
    "    axs[1].add_patch(Rectangle((0,-sp_space[0][change.new]),blen,blen,45,color='g',alpha=0.1))\n",
    "    \n",
    "    axs[2].patches = []\n",
    "    axs[2].add_patch(Circle((0,0),sp_space[2][change.new],color='g',alpha=0.1))\n",
    "    \n",
    "    axs[3].patches = []\n",
    "    axs[3].add_patch(Rectangle((-sp_space[3][change.new],-sp_space[3][change.new]),2*sp_space[3][change.new],2*sp_space[3][change.new],0,color='g',alpha=0.1))   \n",
    "    \n",
    "    if change.new > 95:                      \n",
    "        for i in range(4):\n",
    "            lines_list[i][0].set_marker('s')\n",
    "            anno_list[i].set_visible(True)\n",
    "    else:\n",
    "        for i in range(4):\n",
    "            lines_list[i][0].set_marker(' ')\n",
    "            anno_list[i].set_visible(False)\n",
    "    \n",
    "play = widgets.Play(\n",
    "    interval=50,\n",
    "    value=0,\n",
    "    min=0,\n",
    "    max=100,\n",
    "    step=1,\n",
    "    description=\"Press play\",\n",
    "    disabled=False\n",
    ")\n",
    "play.observe(update, 'value')\n",
    "\n",
    "slider = widgets.IntSlider()\n",
    "widgets.jslink((play, 'value'), (slider, 'value'))\n",
    "widgets.HBox([play, slider])"
   ]
  },
  {
   "cell_type": "code",
   "execution_count": null,
   "metadata": {},
   "outputs": [],
   "source": []
  }
 ],
 "metadata": {
  "kernelspec": {
   "display_name": "Python 3",
   "language": "python",
   "name": "python3"
  },
  "language_info": {
   "codemirror_mode": {
    "name": "ipython",
    "version": 3
   },
   "file_extension": ".py",
   "mimetype": "text/x-python",
   "name": "python",
   "nbconvert_exporter": "python",
   "pygments_lexer": "ipython3",
   "version": "3.8.5"
  },
  "widgets": {
   "application/vnd.jupyter.widget-state+json": {
    "state": {
     "0120c9940ffc497caffe9d29f9358728": {
      "model_module": "@jupyter-widgets/controls",
      "model_module_version": "1.5.0",
      "model_name": "IntSliderModel",
      "state": {
       "layout": "IPY_MODEL_c41ce69362ca4aada6c55b18f243d4dc",
       "style": "IPY_MODEL_56522437c8cb4367b279245599bc14c9",
       "value": 100
      }
     },
     "019774cc4ab849c58850ae2ce60a6a6b": {
      "model_module": "@jupyter-widgets/controls",
      "model_module_version": "1.5.0",
      "model_name": "LinkModel",
      "state": {
       "source": [
        "IPY_MODEL_2707d14e69e248cbb8a2bfb703073d0b",
        "value"
       ],
       "target": [
        "IPY_MODEL_0120c9940ffc497caffe9d29f9358728",
        "value"
       ]
      }
     },
     "01c8a8e931844cc2982a0e5880b8d7d1": {
      "model_module": "@jupyter-widgets/base",
      "model_module_version": "1.2.0",
      "model_name": "LayoutModel",
      "state": {}
     },
     "0243764c35f74c48a1874c032abc366a": {
      "model_module": "@jupyter-widgets/controls",
      "model_module_version": "1.5.0",
      "model_name": "SliderStyleModel",
      "state": {
       "description_width": ""
      }
     },
     "035ed671279042c7a00b95a2ebd85a18": {
      "model_module": "@jupyter-widgets/controls",
      "model_module_version": "1.5.0",
      "model_name": "DescriptionStyleModel",
      "state": {
       "description_width": ""
      }
     },
     "03f3ca114f2a4db39ce4b49b49efd286": {
      "model_module": "@jupyter-widgets/base",
      "model_module_version": "1.2.0",
      "model_name": "LayoutModel",
      "state": {}
     },
     "053466caf13e478fa22e057ab226a744": {
      "model_module": "@jupyter-widgets/controls",
      "model_module_version": "1.5.0",
      "model_name": "PlayModel",
      "state": {
       "description": "Press play",
       "interval": 50,
       "layout": "IPY_MODEL_e08a242afd8645f0b1503aab2c28c640",
       "style": "IPY_MODEL_2392869efee9411793ecdabb981f5bb1"
      }
     },
     "089e2b3696e247ce8bcde5a3f07c54d6": {
      "model_module": "@jupyter-widgets/base",
      "model_module_version": "1.2.0",
      "model_name": "LayoutModel",
      "state": {}
     },
     "08e3199e985645d8b0617059d654c163": {
      "model_module": "@jupyter-widgets/controls",
      "model_module_version": "1.5.0",
      "model_name": "PlayModel",
      "state": {
       "description": "Press play",
       "interval": 50,
       "layout": "IPY_MODEL_bebfa6da4e1f48a8b7255465f542776d",
       "style": "IPY_MODEL_487e63ccfd7241d08a25f6197fdafdd9"
      }
     },
     "091c67df6c394973a53823ea3019496c": {
      "model_module": "@jupyter-widgets/controls",
      "model_module_version": "1.5.0",
      "model_name": "SliderStyleModel",
      "state": {
       "description_width": ""
      }
     },
     "094a13f11463451086465ed7fbfc495e": {
      "model_module": "@jupyter-widgets/controls",
      "model_module_version": "1.5.0",
      "model_name": "IntSliderModel",
      "state": {
       "layout": "IPY_MODEL_4c6018a88e0d4644a1e13fbd7912cc84",
       "style": "IPY_MODEL_6dafa9353fe64c51a09dae79c499b803"
      }
     },
     "097e6ad6d6f241a39d211c56c8b4ce82": {
      "model_module": "@jupyter-widgets/controls",
      "model_module_version": "1.5.0",
      "model_name": "IntSliderModel",
      "state": {
       "layout": "IPY_MODEL_57414a06ef07475596ac1874b8d4cac3",
       "style": "IPY_MODEL_b7daab85070049629d4ed121eb94dda3"
      }
     },
     "0986d292b1a54ec1b4e796dbdbe4a5b6": {
      "model_module": "@jupyter-widgets/controls",
      "model_module_version": "1.5.0",
      "model_name": "PlayModel",
      "state": {
       "description": "Press play",
       "interval": 50,
       "layout": "IPY_MODEL_b9e12268bf3b469a8efcca56c8c67448",
       "style": "IPY_MODEL_47bcd824cf824ca69ea6f98043d5e465"
      }
     },
     "0a038f5aeece4a95a4e688e5134a420a": {
      "model_module": "@jupyter-widgets/base",
      "model_module_version": "1.2.0",
      "model_name": "LayoutModel",
      "state": {}
     },
     "0a5ecefdc89e4f5ab4215068861d1772": {
      "model_module": "@jupyter-widgets/base",
      "model_module_version": "1.2.0",
      "model_name": "LayoutModel",
      "state": {}
     },
     "0b5eb9eff97b4586981c987b862cac31": {
      "model_module": "@jupyter-widgets/controls",
      "model_module_version": "1.5.0",
      "model_name": "HBoxModel",
      "state": {
       "children": [
        "IPY_MODEL_45ac3c27f1bd488998986fca54b176c8",
        "IPY_MODEL_93e5224d29f944b3a7ce45e99e40c7a4"
       ],
       "layout": "IPY_MODEL_a8aa53dbb10140f68e368dc33281b35a"
      }
     },
     "0bbc4cb968cf44d7b51a4b6ae949b1e2": {
      "model_module": "@jupyter-widgets/controls",
      "model_module_version": "1.5.0",
      "model_name": "HBoxModel",
      "state": {
       "children": [
        "IPY_MODEL_053466caf13e478fa22e057ab226a744",
        "IPY_MODEL_91f63e6ed05a4c01b680343a6b75622b"
       ],
       "layout": "IPY_MODEL_fbc592c49034480d8ee9c6b58e53d2f2"
      }
     },
     "0c0c55f720f34d26afec15279963c989": {
      "model_module": "@jupyter-widgets/base",
      "model_module_version": "1.2.0",
      "model_name": "LayoutModel",
      "state": {}
     },
     "0cf86d53fc8442eb8cc513eb1ec1c535": {
      "model_module": "@jupyter-widgets/controls",
      "model_module_version": "1.5.0",
      "model_name": "IntSliderModel",
      "state": {
       "layout": "IPY_MODEL_a9ad422f40644958b06867d55851df9d",
       "style": "IPY_MODEL_d737c735721b484399232b1344a4d6e0",
       "value": 100
      }
     },
     "0d32718a97bd4670a0c3bba50005a621": {
      "model_module": "@jupyter-widgets/base",
      "model_module_version": "1.2.0",
      "model_name": "LayoutModel",
      "state": {}
     },
     "0d454560e8b4414e86150fd69b92e413": {
      "model_module": "@jupyter-widgets/controls",
      "model_module_version": "1.5.0",
      "model_name": "SliderStyleModel",
      "state": {
       "description_width": ""
      }
     },
     "0d4e64f1ace545d98fdc8fc87ee063af": {
      "model_module": "@jupyter-widgets/controls",
      "model_module_version": "1.5.0",
      "model_name": "DescriptionStyleModel",
      "state": {
       "description_width": ""
      }
     },
     "0dc37f5f26f3412e94d8f39c45b93491": {
      "model_module": "@jupyter-widgets/base",
      "model_module_version": "1.2.0",
      "model_name": "LayoutModel",
      "state": {}
     },
     "0e6f9977c47e4266b76e4d96620cf2ba": {
      "model_module": "@jupyter-widgets/controls",
      "model_module_version": "1.5.0",
      "model_name": "LinkModel",
      "state": {
       "source": [
        "IPY_MODEL_48c7570050bf43369b31405d7cf9049d",
        "value"
       ],
       "target": [
        "IPY_MODEL_a84bb8582d5e4d068f3e4cfa3f530c8f",
        "value"
       ]
      }
     },
     "0ef3f199cbb64b8cb31f4f27b3f7ea90": {
      "model_module": "@jupyter-widgets/controls",
      "model_module_version": "1.5.0",
      "model_name": "DescriptionStyleModel",
      "state": {
       "description_width": ""
      }
     },
     "0f115505271f4baca849d483f81ae55d": {
      "model_module": "@jupyter-widgets/base",
      "model_module_version": "1.2.0",
      "model_name": "LayoutModel",
      "state": {}
     },
     "0f5ba627bb084ae08540d6ca0ff9d56d": {
      "model_module": "jupyter-matplotlib",
      "model_module_version": "^0.7.4",
      "model_name": "ToolbarModel",
      "state": {
       "layout": "IPY_MODEL_160bbf4ac34a4e88bbd22a819f008b98",
       "toolitems": [
        [
         "Home",
         "Reset original view",
         "home",
         "home"
        ],
        [
         "Back",
         "Back to previous view",
         "arrow-left",
         "back"
        ],
        [
         "Forward",
         "Forward to next view",
         "arrow-right",
         "forward"
        ],
        [
         "Pan",
         "Left button pans, Right button zooms\nx/y fixes axis, CTRL fixes aspect",
         "arrows",
         "pan"
        ],
        [
         "Zoom",
         "Zoom to rectangle\nx/y fixes axis, CTRL fixes aspect",
         "square-o",
         "zoom"
        ],
        [
         "Download",
         "Download plot",
         "floppy-o",
         "save_figure"
        ]
       ]
      }
     },
     "110a34770fd7441dae8ddc4d4ef87e0c": {
      "model_module": "@jupyter-widgets/controls",
      "model_module_version": "1.5.0",
      "model_name": "LinkModel",
      "state": {
       "source": [
        "IPY_MODEL_08e3199e985645d8b0617059d654c163",
        "value"
       ],
       "target": [
        "IPY_MODEL_e681a291279a457ba37c3acf2400753d",
        "value"
       ]
      }
     },
     "1118cc2007ac448b86bd1aae98709c72": {
      "model_module": "@jupyter-widgets/base",
      "model_module_version": "1.2.0",
      "model_name": "LayoutModel",
      "state": {}
     },
     "11cc83781fac464f95834c3c0580fc09": {
      "model_module": "@jupyter-widgets/controls",
      "model_module_version": "1.5.0",
      "model_name": "IntSliderModel",
      "state": {
       "layout": "IPY_MODEL_b0aeca02f2b94a97b0270f1b5dfa7c19",
       "style": "IPY_MODEL_1b27982cce5b43d0994b2844b85f5ab0",
       "value": 100
      }
     },
     "120629ca433b4d989e8452abd398fb54": {
      "model_module": "@jupyter-widgets/controls",
      "model_module_version": "1.5.0",
      "model_name": "PlayModel",
      "state": {
       "description": "Press play",
       "interval": 50,
       "layout": "IPY_MODEL_4a43f7273f594f279f3618f05e9358a6",
       "style": "IPY_MODEL_657aa51f55174dcf89678642ea0d0b2b"
      }
     },
     "1240516e0b894c0f8f13f0e7fded7b34": {
      "model_module": "@jupyter-widgets/controls",
      "model_module_version": "1.5.0",
      "model_name": "PlayModel",
      "state": {
       "description": "Press play",
       "interval": 50,
       "layout": "IPY_MODEL_14edb776d03f47eeb4b9bceba1c995a3",
       "style": "IPY_MODEL_234421998a7a423a9b35dcb1d672b832",
       "value": 98
      }
     },
     "13e1bfd3de6f457fa518b796e8f5ffd3": {
      "model_module": "@jupyter-widgets/controls",
      "model_module_version": "1.5.0",
      "model_name": "PlayModel",
      "state": {
       "description": "Press play",
       "interval": 50,
       "layout": "IPY_MODEL_9df51995c2ef4a1f96fe83e640a26147",
       "style": "IPY_MODEL_035ed671279042c7a00b95a2ebd85a18"
      }
     },
     "13e5b80298ef4e578208f2ef0c68b840": {
      "model_module": "@jupyter-widgets/base",
      "model_module_version": "1.2.0",
      "model_name": "LayoutModel",
      "state": {}
     },
     "1435ae8a72a642d08163661f8dd60393": {
      "model_module": "@jupyter-widgets/base",
      "model_module_version": "1.2.0",
      "model_name": "LayoutModel",
      "state": {}
     },
     "144044ba59bb4f6382724f1f80f5dbda": {
      "model_module": "@jupyter-widgets/controls",
      "model_module_version": "1.5.0",
      "model_name": "DescriptionStyleModel",
      "state": {
       "description_width": ""
      }
     },
     "14edb776d03f47eeb4b9bceba1c995a3": {
      "model_module": "@jupyter-widgets/base",
      "model_module_version": "1.2.0",
      "model_name": "LayoutModel",
      "state": {}
     },
     "15eb34c6779a4a869d6c2f403bc2b0e2": {
      "model_module": "@jupyter-widgets/base",
      "model_module_version": "1.2.0",
      "model_name": "LayoutModel",
      "state": {}
     },
     "160bbf4ac34a4e88bbd22a819f008b98": {
      "model_module": "@jupyter-widgets/base",
      "model_module_version": "1.2.0",
      "model_name": "LayoutModel",
      "state": {}
     },
     "16437e634e1b4eb28d35190f1dfbeb2a": {
      "model_module": "@jupyter-widgets/controls",
      "model_module_version": "1.5.0",
      "model_name": "HBoxModel",
      "state": {
       "children": [
        "IPY_MODEL_4bf48313c144437fae45032bf9127336",
        "IPY_MODEL_6ac7b9423b38489388c2accfdfd22b3a"
       ],
       "layout": "IPY_MODEL_dd9317af380943ac8c0efbd5491e8855"
      }
     },
     "1713fda793a04b92bebf958477aca093": {
      "model_module": "@jupyter-widgets/base",
      "model_module_version": "1.2.0",
      "model_name": "LayoutModel",
      "state": {}
     },
     "1737ca76340043599e819d138a0d1bbb": {
      "model_module": "@jupyter-widgets/controls",
      "model_module_version": "1.5.0",
      "model_name": "LinkModel",
      "state": {
       "source": [
        "IPY_MODEL_c270da0ee453475d8b9501d7d66f0cf7",
        "value"
       ],
       "target": [
        "IPY_MODEL_d439b8eb49dc448e9e2ce6db1e46e947",
        "value"
       ]
      }
     },
     "18c9a32ed77a4daea02c085ee35ebf00": {
      "model_module": "jupyter-matplotlib",
      "model_module_version": "^0.7.4",
      "model_name": "ToolbarModel",
      "state": {
       "layout": "IPY_MODEL_a1ad2d936de641e5a6cdb05be8832186",
       "toolitems": [
        [
         "Home",
         "Reset original view",
         "home",
         "home"
        ],
        [
         "Back",
         "Back to previous view",
         "arrow-left",
         "back"
        ],
        [
         "Forward",
         "Forward to next view",
         "arrow-right",
         "forward"
        ],
        [
         "Pan",
         "Left button pans, Right button zooms\nx/y fixes axis, CTRL fixes aspect",
         "arrows",
         "pan"
        ],
        [
         "Zoom",
         "Zoom to rectangle\nx/y fixes axis, CTRL fixes aspect",
         "square-o",
         "zoom"
        ],
        [
         "Download",
         "Download plot",
         "floppy-o",
         "save_figure"
        ]
       ]
      }
     },
     "19bb282ea4e044ed85cb8fbade09ebae": {
      "model_module": "@jupyter-widgets/controls",
      "model_module_version": "1.5.0",
      "model_name": "HBoxModel",
      "state": {
       "children": [
        "IPY_MODEL_24aa611ac479416b9df125ec495a5321",
        "IPY_MODEL_807c826e35644a3c92d33f67f51edc1b"
       ],
       "layout": "IPY_MODEL_13e5b80298ef4e578208f2ef0c68b840"
      }
     },
     "19e60f6936f74e05b840051dd9e5e243": {
      "model_module": "@jupyter-widgets/controls",
      "model_module_version": "1.5.0",
      "model_name": "SliderStyleModel",
      "state": {
       "description_width": ""
      }
     },
     "1a2f2484f0124a3191ed1e81d7bf1bc5": {
      "model_module": "jupyter-matplotlib",
      "model_module_version": "^0.7.4",
      "model_name": "ToolbarModel",
      "state": {
       "layout": "IPY_MODEL_728922563d1140e7a626fdd58fd97072",
       "toolitems": [
        [
         "Home",
         "Reset original view",
         "home",
         "home"
        ],
        [
         "Back",
         "Back to previous view",
         "arrow-left",
         "back"
        ],
        [
         "Forward",
         "Forward to next view",
         "arrow-right",
         "forward"
        ],
        [
         "Pan",
         "Left button pans, Right button zooms\nx/y fixes axis, CTRL fixes aspect",
         "arrows",
         "pan"
        ],
        [
         "Zoom",
         "Zoom to rectangle\nx/y fixes axis, CTRL fixes aspect",
         "square-o",
         "zoom"
        ],
        [
         "Download",
         "Download plot",
         "floppy-o",
         "save_figure"
        ]
       ]
      }
     },
     "1a3263b13e0d4da5a8a44414ce74cd95": {
      "model_module": "@jupyter-widgets/controls",
      "model_module_version": "1.5.0",
      "model_name": "LinkModel",
      "state": {
       "source": [
        "IPY_MODEL_220ab482f29648909417de6e6cabb68d",
        "value"
       ],
       "target": [
        "IPY_MODEL_626e07d8e7974a0283fe507cd62df141",
        "value"
       ]
      }
     },
     "1b27982cce5b43d0994b2844b85f5ab0": {
      "model_module": "@jupyter-widgets/controls",
      "model_module_version": "1.5.0",
      "model_name": "SliderStyleModel",
      "state": {
       "description_width": ""
      }
     },
     "1b44fd26355844b2bb1d599d67a021af": {
      "model_module": "@jupyter-widgets/controls",
      "model_module_version": "1.5.0",
      "model_name": "SliderStyleModel",
      "state": {
       "description_width": ""
      }
     },
     "1ce50fd17778464eb08e2aebcf9aee98": {
      "model_module": "@jupyter-widgets/base",
      "model_module_version": "1.2.0",
      "model_name": "LayoutModel",
      "state": {}
     },
     "1dff181d228047edae4f58e30d5cfd91": {
      "model_module": "@jupyter-widgets/base",
      "model_module_version": "1.2.0",
      "model_name": "LayoutModel",
      "state": {}
     },
     "1e882bf959f847a3a741606132f1e3e5": {
      "model_module": "@jupyter-widgets/controls",
      "model_module_version": "1.5.0",
      "model_name": "PlayModel",
      "state": {
       "description": "Press play",
       "interval": 50,
       "layout": "IPY_MODEL_8cd432d0db204a2ebc58500e7062357d",
       "style": "IPY_MODEL_e1b47d518f8a45bea057ae3f0316ce38",
       "value": 100
      }
     },
     "1ebb5e9f9e91453fab5d06380ca7f1ec": {
      "model_module": "jupyter-matplotlib",
      "model_module_version": "^0.7.4",
      "model_name": "ToolbarModel",
      "state": {
       "layout": "IPY_MODEL_1f17894ef834463d86b2b7522bf8394c",
       "toolitems": [
        [
         "Home",
         "Reset original view",
         "home",
         "home"
        ],
        [
         "Back",
         "Back to previous view",
         "arrow-left",
         "back"
        ],
        [
         "Forward",
         "Forward to next view",
         "arrow-right",
         "forward"
        ],
        [
         "Pan",
         "Left button pans, Right button zooms\nx/y fixes axis, CTRL fixes aspect",
         "arrows",
         "pan"
        ],
        [
         "Zoom",
         "Zoom to rectangle\nx/y fixes axis, CTRL fixes aspect",
         "square-o",
         "zoom"
        ],
        [
         "Download",
         "Download plot",
         "floppy-o",
         "save_figure"
        ]
       ]
      }
     },
     "1f17894ef834463d86b2b7522bf8394c": {
      "model_module": "@jupyter-widgets/base",
      "model_module_version": "1.2.0",
      "model_name": "LayoutModel",
      "state": {}
     },
     "20192d95727c42548443a8188921b096": {
      "model_module": "jupyter-matplotlib",
      "model_module_version": "^0.7.4",
      "model_name": "ToolbarModel",
      "state": {
       "layout": "IPY_MODEL_2ba474f3fc8c4d7085946ab6ca580596",
       "toolitems": [
        [
         "Home",
         "Reset original view",
         "home",
         "home"
        ],
        [
         "Back",
         "Back to previous view",
         "arrow-left",
         "back"
        ],
        [
         "Forward",
         "Forward to next view",
         "arrow-right",
         "forward"
        ],
        [
         "Pan",
         "Left button pans, Right button zooms\nx/y fixes axis, CTRL fixes aspect",
         "arrows",
         "pan"
        ],
        [
         "Zoom",
         "Zoom to rectangle\nx/y fixes axis, CTRL fixes aspect",
         "square-o",
         "zoom"
        ],
        [
         "Download",
         "Download plot",
         "floppy-o",
         "save_figure"
        ]
       ]
      }
     },
     "2180c38546804c759104fe6b113994c8": {
      "model_module": "@jupyter-widgets/controls",
      "model_module_version": "1.5.0",
      "model_name": "IntSliderModel",
      "state": {
       "layout": "IPY_MODEL_ff27a1b7a6f242d98c57f2767127a1f5",
       "style": "IPY_MODEL_0243764c35f74c48a1874c032abc366a"
      }
     },
     "220ab482f29648909417de6e6cabb68d": {
      "model_module": "@jupyter-widgets/controls",
      "model_module_version": "1.5.0",
      "model_name": "PlayModel",
      "state": {
       "description": "Press play",
       "interval": 50,
       "layout": "IPY_MODEL_cb4d1e7eac964de59e8a4d73d678511a",
       "style": "IPY_MODEL_0ef3f199cbb64b8cb31f4f27b3f7ea90"
      }
     },
     "234421998a7a423a9b35dcb1d672b832": {
      "model_module": "@jupyter-widgets/controls",
      "model_module_version": "1.5.0",
      "model_name": "DescriptionStyleModel",
      "state": {
       "description_width": ""
      }
     },
     "2392869efee9411793ecdabb981f5bb1": {
      "model_module": "@jupyter-widgets/controls",
      "model_module_version": "1.5.0",
      "model_name": "DescriptionStyleModel",
      "state": {
       "description_width": ""
      }
     },
     "23bb61c62ebd429f898406e90de28f02": {
      "model_module": "@jupyter-widgets/base",
      "model_module_version": "1.2.0",
      "model_name": "LayoutModel",
      "state": {}
     },
     "247dfd6cff56431086caba6c20f1ba71": {
      "model_module": "@jupyter-widgets/controls",
      "model_module_version": "1.5.0",
      "model_name": "DescriptionStyleModel",
      "state": {
       "description_width": ""
      }
     },
     "24892479ca7547179e3e23703bb7b49b": {
      "model_module": "@jupyter-widgets/base",
      "model_module_version": "1.2.0",
      "model_name": "LayoutModel",
      "state": {}
     },
     "24aa611ac479416b9df125ec495a5321": {
      "model_module": "@jupyter-widgets/controls",
      "model_module_version": "1.5.0",
      "model_name": "PlayModel",
      "state": {
       "description": "Press play",
       "interval": 50,
       "layout": "IPY_MODEL_f64f0bb8891841ddb4749ad59d0d7f1e",
       "style": "IPY_MODEL_de06165cb07b4fdd805bce7adbd0e508"
      }
     },
     "2707d14e69e248cbb8a2bfb703073d0b": {
      "model_module": "@jupyter-widgets/controls",
      "model_module_version": "1.5.0",
      "model_name": "PlayModel",
      "state": {
       "description": "Press play",
       "interval": 50,
       "layout": "IPY_MODEL_80ec191652db4f40839eed7865800e77",
       "style": "IPY_MODEL_899b2593fdcc47a9af9661d958cc4527",
       "value": 100
      }
     },
     "2720f1662d994737aad40a41c8ddbf3c": {
      "model_module": "@jupyter-widgets/controls",
      "model_module_version": "1.5.0",
      "model_name": "PlayModel",
      "state": {
       "description": "Press play",
       "interval": 50,
       "layout": "IPY_MODEL_7393f3f5a1f24a47ad94879da005475a",
       "style": "IPY_MODEL_247dfd6cff56431086caba6c20f1ba71",
       "value": 100
      }
     },
     "27f9b854795e4301aeec23bf11296279": {
      "model_module": "@jupyter-widgets/controls",
      "model_module_version": "1.5.0",
      "model_name": "SliderStyleModel",
      "state": {
       "description_width": ""
      }
     },
     "2894f228eba54202ad2385d49a77e28e": {
      "model_module": "jupyter-matplotlib",
      "model_module_version": "^0.7.4",
      "model_name": "ToolbarModel",
      "state": {
       "layout": "IPY_MODEL_089e2b3696e247ce8bcde5a3f07c54d6",
       "toolitems": [
        [
         "Home",
         "Reset original view",
         "home",
         "home"
        ],
        [
         "Back",
         "Back to previous view",
         "arrow-left",
         "back"
        ],
        [
         "Forward",
         "Forward to next view",
         "arrow-right",
         "forward"
        ],
        [
         "Pan",
         "Left button pans, Right button zooms\nx/y fixes axis, CTRL fixes aspect",
         "arrows",
         "pan"
        ],
        [
         "Zoom",
         "Zoom to rectangle\nx/y fixes axis, CTRL fixes aspect",
         "square-o",
         "zoom"
        ],
        [
         "Download",
         "Download plot",
         "floppy-o",
         "save_figure"
        ]
       ]
      }
     },
     "28b3f0cb82f443bd86157f2d44510fc0": {
      "model_module": "@jupyter-widgets/controls",
      "model_module_version": "1.5.0",
      "model_name": "SliderStyleModel",
      "state": {
       "description_width": ""
      }
     },
     "29d240c4303f4acc9243a3f14d0d49cf": {
      "model_module": "@jupyter-widgets/base",
      "model_module_version": "1.2.0",
      "model_name": "LayoutModel",
      "state": {}
     },
     "2ba474f3fc8c4d7085946ab6ca580596": {
      "model_module": "@jupyter-widgets/base",
      "model_module_version": "1.2.0",
      "model_name": "LayoutModel",
      "state": {}
     },
     "2cdea157bbe1431da0a8d959c26a3232": {
      "model_module": "@jupyter-widgets/controls",
      "model_module_version": "1.5.0",
      "model_name": "LinkModel",
      "state": {
       "source": [
        "IPY_MODEL_c237dcb66d69406abe58a2797459efc9",
        "value"
       ],
       "target": [
        "IPY_MODEL_45f4bd4fc95e468091f2bb2e99c18122",
        "value"
       ]
      }
     },
     "2dceeb0cb90744848d53b033b1a4a52f": {
      "model_module": "@jupyter-widgets/base",
      "model_module_version": "1.2.0",
      "model_name": "LayoutModel",
      "state": {}
     },
     "2e2a579572324fed8267d4b3cc2c0810": {
      "model_module": "jupyter-matplotlib",
      "model_module_version": "^0.7.4",
      "model_name": "ToolbarModel",
      "state": {
       "layout": "IPY_MODEL_d121e147608e4161aab233fc846ad8ea",
       "toolitems": [
        [
         "Home",
         "Reset original view",
         "home",
         "home"
        ],
        [
         "Back",
         "Back to previous view",
         "arrow-left",
         "back"
        ],
        [
         "Forward",
         "Forward to next view",
         "arrow-right",
         "forward"
        ],
        [
         "Pan",
         "Left button pans, Right button zooms\nx/y fixes axis, CTRL fixes aspect",
         "arrows",
         "pan"
        ],
        [
         "Zoom",
         "Zoom to rectangle\nx/y fixes axis, CTRL fixes aspect",
         "square-o",
         "zoom"
        ],
        [
         "Download",
         "Download plot",
         "floppy-o",
         "save_figure"
        ]
       ]
      }
     },
     "2eae6371781748f382245c04eac3316f": {
      "model_module": "jupyter-matplotlib",
      "model_module_version": "^0.7.4",
      "model_name": "ToolbarModel",
      "state": {
       "layout": "IPY_MODEL_f6bd546c47b34ebf97295881ee6b351e",
       "toolitems": [
        [
         "Home",
         "Reset original view",
         "home",
         "home"
        ],
        [
         "Back",
         "Back to previous view",
         "arrow-left",
         "back"
        ],
        [
         "Forward",
         "Forward to next view",
         "arrow-right",
         "forward"
        ],
        [
         "Pan",
         "Left button pans, Right button zooms\nx/y fixes axis, CTRL fixes aspect",
         "arrows",
         "pan"
        ],
        [
         "Zoom",
         "Zoom to rectangle\nx/y fixes axis, CTRL fixes aspect",
         "square-o",
         "zoom"
        ],
        [
         "Download",
         "Download plot",
         "floppy-o",
         "save_figure"
        ]
       ]
      }
     },
     "2f0df416ca434363b2a692bddfbd0db4": {
      "model_module": "@jupyter-widgets/base",
      "model_module_version": "1.2.0",
      "model_name": "LayoutModel",
      "state": {}
     },
     "2f1e522353e64926aa82b150ece8c929": {
      "model_module": "jupyter-matplotlib",
      "model_module_version": "^0.7.4",
      "model_name": "ToolbarModel",
      "state": {
       "layout": "IPY_MODEL_8a3575bcb2294a58927146a1ed13235e",
       "toolitems": [
        [
         "Home",
         "Reset original view",
         "home",
         "home"
        ],
        [
         "Back",
         "Back to previous view",
         "arrow-left",
         "back"
        ],
        [
         "Forward",
         "Forward to next view",
         "arrow-right",
         "forward"
        ],
        [
         "Pan",
         "Left button pans, Right button zooms\nx/y fixes axis, CTRL fixes aspect",
         "arrows",
         "pan"
        ],
        [
         "Zoom",
         "Zoom to rectangle\nx/y fixes axis, CTRL fixes aspect",
         "square-o",
         "zoom"
        ],
        [
         "Download",
         "Download plot",
         "floppy-o",
         "save_figure"
        ]
       ]
      }
     },
     "2fe9e6e443604538948a130e930d447f": {
      "model_module": "@jupyter-widgets/base",
      "model_module_version": "1.2.0",
      "model_name": "LayoutModel",
      "state": {}
     },
     "3085b37e317d4f5aac096e87421c326b": {
      "model_module": "@jupyter-widgets/base",
      "model_module_version": "1.2.0",
      "model_name": "LayoutModel",
      "state": {}
     },
     "31cf457fcb2348ddb8247d93d35f1e46": {
      "model_module": "jupyter-matplotlib",
      "model_module_version": "^0.7.4",
      "model_name": "ToolbarModel",
      "state": {
       "layout": "IPY_MODEL_bf1fdfb0218343af9512b83fdae5a161",
       "toolitems": [
        [
         "Home",
         "Reset original view",
         "home",
         "home"
        ],
        [
         "Back",
         "Back to previous view",
         "arrow-left",
         "back"
        ],
        [
         "Forward",
         "Forward to next view",
         "arrow-right",
         "forward"
        ],
        [
         "Pan",
         "Left button pans, Right button zooms\nx/y fixes axis, CTRL fixes aspect",
         "arrows",
         "pan"
        ],
        [
         "Zoom",
         "Zoom to rectangle\nx/y fixes axis, CTRL fixes aspect",
         "square-o",
         "zoom"
        ],
        [
         "Download",
         "Download plot",
         "floppy-o",
         "save_figure"
        ]
       ]
      }
     },
     "3354db7c70b643e78a70f40cfabc55fb": {
      "model_module": "@jupyter-widgets/controls",
      "model_module_version": "1.5.0",
      "model_name": "SliderStyleModel",
      "state": {
       "description_width": ""
      }
     },
     "33800e2a4c3b4f489e160ffdde704585": {
      "model_module": "@jupyter-widgets/controls",
      "model_module_version": "1.5.0",
      "model_name": "SliderStyleModel",
      "state": {
       "description_width": ""
      }
     },
     "3405a997f579432eb816e1ee9c17f944": {
      "model_module": "@jupyter-widgets/base",
      "model_module_version": "1.2.0",
      "model_name": "LayoutModel",
      "state": {}
     },
     "3423f7ed67f4499c8462ab9c8ce6ae77": {
      "model_module": "jupyter-matplotlib",
      "model_module_version": "^0.7.4",
      "model_name": "ToolbarModel",
      "state": {
       "layout": "IPY_MODEL_fc12b634ae9a412ab384d4b6a18e883c",
       "toolitems": [
        [
         "Home",
         "Reset original view",
         "home",
         "home"
        ],
        [
         "Back",
         "Back to previous view",
         "arrow-left",
         "back"
        ],
        [
         "Forward",
         "Forward to next view",
         "arrow-right",
         "forward"
        ],
        [
         "Pan",
         "Left button pans, Right button zooms\nx/y fixes axis, CTRL fixes aspect",
         "arrows",
         "pan"
        ],
        [
         "Zoom",
         "Zoom to rectangle\nx/y fixes axis, CTRL fixes aspect",
         "square-o",
         "zoom"
        ],
        [
         "Download",
         "Download plot",
         "floppy-o",
         "save_figure"
        ]
       ]
      }
     },
     "35ef1c05140d4166995ee2c1f1b2298e": {
      "model_module": "@jupyter-widgets/controls",
      "model_module_version": "1.5.0",
      "model_name": "DescriptionStyleModel",
      "state": {
       "description_width": ""
      }
     },
     "36569f1b48db4492baa5c0df59d3cd21": {
      "model_module": "@jupyter-widgets/base",
      "model_module_version": "1.2.0",
      "model_name": "LayoutModel",
      "state": {}
     },
     "368c7a76821f41f6913e015eb128bd30": {
      "model_module": "@jupyter-widgets/base",
      "model_module_version": "1.2.0",
      "model_name": "LayoutModel",
      "state": {}
     },
     "368da4d6358a42ca9008920b17e9c5c1": {
      "model_module": "@jupyter-widgets/controls",
      "model_module_version": "1.5.0",
      "model_name": "SliderStyleModel",
      "state": {
       "description_width": ""
      }
     },
     "36ddbb17ec41403283af352427e1269a": {
      "model_module": "@jupyter-widgets/base",
      "model_module_version": "1.2.0",
      "model_name": "LayoutModel",
      "state": {}
     },
     "370d28a6d1a64a59ab8839a06a0e218b": {
      "model_module": "@jupyter-widgets/base",
      "model_module_version": "1.2.0",
      "model_name": "LayoutModel",
      "state": {}
     },
     "37e01845369447a4abe3ac2603a878d0": {
      "model_module": "jupyter-matplotlib",
      "model_module_version": "^0.7.4",
      "model_name": "MPLCanvasModel",
      "state": {
       "_cursor": "default",
       "_figure_label": "Figure 1",
       "_height": 320,
       "_width": 920,
       "footer_visible": false,
       "header_visible": false,
       "layout": "IPY_MODEL_a4b9095e930149e1a79e41cb148e1667",
       "resizable": false,
       "toolbar": "IPY_MODEL_4249eb97f8d14a9691dc8fa2ff0d67e6",
       "toolbar_position": "left",
       "toolbar_visible": false
      }
     },
     "3824cf71e38241aaa575c06d31f8d62f": {
      "model_module": "@jupyter-widgets/base",
      "model_module_version": "1.2.0",
      "model_name": "LayoutModel",
      "state": {}
     },
     "384d2604a9c64ef2ba6383d6ac13ed26": {
      "model_module": "@jupyter-widgets/controls",
      "model_module_version": "1.5.0",
      "model_name": "SliderStyleModel",
      "state": {
       "description_width": ""
      }
     },
     "385091c4c70b465f9254fe0e3d80e272": {
      "model_module": "@jupyter-widgets/base",
      "model_module_version": "1.2.0",
      "model_name": "LayoutModel",
      "state": {}
     },
     "3b3a09cef12c43a7adabf9cfc6b66ce9": {
      "model_module": "@jupyter-widgets/controls",
      "model_module_version": "1.5.0",
      "model_name": "SliderStyleModel",
      "state": {
       "description_width": ""
      }
     },
     "3b755f9a8e624b6d9ada6efdecbd7dda": {
      "model_module": "@jupyter-widgets/controls",
      "model_module_version": "1.5.0",
      "model_name": "SliderStyleModel",
      "state": {
       "description_width": ""
      }
     },
     "3c088870611748f880a5d2c05cf56122": {
      "model_module": "@jupyter-widgets/base",
      "model_module_version": "1.2.0",
      "model_name": "LayoutModel",
      "state": {}
     },
     "3c2b768976884d609f86cb4e6fb3f53d": {
      "model_module": "@jupyter-widgets/controls",
      "model_module_version": "1.5.0",
      "model_name": "HBoxModel",
      "state": {
       "children": [
        "IPY_MODEL_40142d5000f84eaeb3c3b8914262f8aa",
        "IPY_MODEL_5d866c0cf029412092cb5beb5f39c71c"
       ],
       "layout": "IPY_MODEL_e1555dd00aca485c8132e232c1fe93d4"
      }
     },
     "3c73e074056041bc83173034a2a27b06": {
      "model_module": "@jupyter-widgets/controls",
      "model_module_version": "1.5.0",
      "model_name": "LinkModel",
      "state": {
       "source": [
        "IPY_MODEL_120629ca433b4d989e8452abd398fb54",
        "value"
       ],
       "target": [
        "IPY_MODEL_094a13f11463451086465ed7fbfc495e",
        "value"
       ]
      }
     },
     "3cfc201f46a94e64bbb28c517d81bd9a": {
      "model_module": "@jupyter-widgets/controls",
      "model_module_version": "1.5.0",
      "model_name": "LinkModel",
      "state": {
       "source": [
        "IPY_MODEL_1240516e0b894c0f8f13f0e7fded7b34",
        "value"
       ],
       "target": [
        "IPY_MODEL_6d84a42b09a7414a895a976dacd6a64c",
        "value"
       ]
      }
     },
     "3e43fefff505440985de5afba7ac8892": {
      "model_module": "@jupyter-widgets/base",
      "model_module_version": "1.2.0",
      "model_name": "LayoutModel",
      "state": {}
     },
     "3ea9b1c69b3e48848553b3b1d9ceaa72": {
      "model_module": "@jupyter-widgets/controls",
      "model_module_version": "1.5.0",
      "model_name": "HBoxModel",
      "state": {
       "children": [
        "IPY_MODEL_c237dcb66d69406abe58a2797459efc9",
        "IPY_MODEL_45f4bd4fc95e468091f2bb2e99c18122"
       ],
       "layout": "IPY_MODEL_c04a0939fafd41b2b18adf07be0126cc"
      }
     },
     "3f8a7ca90cf44fe78820893e7c3f4df7": {
      "model_module": "@jupyter-widgets/base",
      "model_module_version": "1.2.0",
      "model_name": "LayoutModel",
      "state": {}
     },
     "40142d5000f84eaeb3c3b8914262f8aa": {
      "model_module": "@jupyter-widgets/controls",
      "model_module_version": "1.5.0",
      "model_name": "PlayModel",
      "state": {
       "description": "Press play",
       "interval": 50,
       "layout": "IPY_MODEL_e8227164f3224e959c5e907df3f6e726",
       "style": "IPY_MODEL_144044ba59bb4f6382724f1f80f5dbda",
       "value": 100
      }
     },
     "409131f410cb4a10b7d5a0ab9415dee8": {
      "model_module": "@jupyter-widgets/controls",
      "model_module_version": "1.5.0",
      "model_name": "DescriptionStyleModel",
      "state": {
       "description_width": ""
      }
     },
     "41e2b9a15bf14b96a7f89587243a3d14": {
      "model_module": "@jupyter-widgets/base",
      "model_module_version": "1.2.0",
      "model_name": "LayoutModel",
      "state": {}
     },
     "4249eb97f8d14a9691dc8fa2ff0d67e6": {
      "model_module": "jupyter-matplotlib",
      "model_module_version": "^0.7.4",
      "model_name": "ToolbarModel",
      "state": {
       "layout": "IPY_MODEL_58e58a7f4c4347c89ff3bf5c873519fa",
       "toolitems": [
        [
         "Home",
         "Reset original view",
         "home",
         "home"
        ],
        [
         "Back",
         "Back to previous view",
         "arrow-left",
         "back"
        ],
        [
         "Forward",
         "Forward to next view",
         "arrow-right",
         "forward"
        ],
        [
         "Pan",
         "Left button pans, Right button zooms\nx/y fixes axis, CTRL fixes aspect",
         "arrows",
         "pan"
        ],
        [
         "Zoom",
         "Zoom to rectangle\nx/y fixes axis, CTRL fixes aspect",
         "square-o",
         "zoom"
        ],
        [
         "Download",
         "Download plot",
         "floppy-o",
         "save_figure"
        ]
       ]
      }
     },
     "42e432f2d59142e68b6868c0ae9c8434": {
      "model_module": "@jupyter-widgets/controls",
      "model_module_version": "1.5.0",
      "model_name": "IntSliderModel",
      "state": {
       "layout": "IPY_MODEL_aeef1e7ebd254f8e937f019ef494eee8",
       "style": "IPY_MODEL_47313c3005014168917aeca769bf09d0"
      }
     },
     "436a362fbb464596a8d91078822fb1a5": {
      "model_module": "@jupyter-widgets/controls",
      "model_module_version": "1.5.0",
      "model_name": "PlayModel",
      "state": {
       "description": "Press play",
       "interval": 20,
       "layout": "IPY_MODEL_48a7751dd6374aff87cd6b0b4ea5edf6",
       "style": "IPY_MODEL_d73810e4b9d949ccba98463be731a701",
       "value": 100
      }
     },
     "43a912cf5f08419eba58ce0c3b649a65": {
      "model_module": "@jupyter-widgets/base",
      "model_module_version": "1.2.0",
      "model_name": "LayoutModel",
      "state": {}
     },
     "4536e797df1a40ccbc3fd0eac6646c27": {
      "model_module": "jupyter-matplotlib",
      "model_module_version": "^0.7.4",
      "model_name": "ToolbarModel",
      "state": {
       "layout": "IPY_MODEL_f044713abe70436d9c13f4c90e9804bd",
       "toolitems": [
        [
         "Home",
         "Reset original view",
         "home",
         "home"
        ],
        [
         "Back",
         "Back to previous view",
         "arrow-left",
         "back"
        ],
        [
         "Forward",
         "Forward to next view",
         "arrow-right",
         "forward"
        ],
        [
         "Pan",
         "Left button pans, Right button zooms\nx/y fixes axis, CTRL fixes aspect",
         "arrows",
         "pan"
        ],
        [
         "Zoom",
         "Zoom to rectangle\nx/y fixes axis, CTRL fixes aspect",
         "square-o",
         "zoom"
        ],
        [
         "Download",
         "Download plot",
         "floppy-o",
         "save_figure"
        ]
       ]
      }
     },
     "45761b895be546d594c36d4d17616fb0": {
      "model_module": "@jupyter-widgets/base",
      "model_module_version": "1.2.0",
      "model_name": "LayoutModel",
      "state": {}
     },
     "45ac3c27f1bd488998986fca54b176c8": {
      "model_module": "@jupyter-widgets/controls",
      "model_module_version": "1.5.0",
      "model_name": "PlayModel",
      "state": {
       "description": "Press play",
       "interval": 50,
       "layout": "IPY_MODEL_539466756a9647d998a7ce3bbc0095a3",
       "style": "IPY_MODEL_7a3da97809f94096a912df87b6a4ac10"
      }
     },
     "45e6694f04fe471f80a66d4e6a647975": {
      "model_module": "jupyter-matplotlib",
      "model_module_version": "^0.7.4",
      "model_name": "ToolbarModel",
      "state": {
       "layout": "IPY_MODEL_fadcd63c39aa413bb2b3366566c7d54b",
       "toolitems": [
        [
         "Home",
         "Reset original view",
         "home",
         "home"
        ],
        [
         "Back",
         "Back to previous view",
         "arrow-left",
         "back"
        ],
        [
         "Forward",
         "Forward to next view",
         "arrow-right",
         "forward"
        ],
        [
         "Pan",
         "Left button pans, Right button zooms\nx/y fixes axis, CTRL fixes aspect",
         "arrows",
         "pan"
        ],
        [
         "Zoom",
         "Zoom to rectangle\nx/y fixes axis, CTRL fixes aspect",
         "square-o",
         "zoom"
        ],
        [
         "Download",
         "Download plot",
         "floppy-o",
         "save_figure"
        ]
       ]
      }
     },
     "45f4bd4fc95e468091f2bb2e99c18122": {
      "model_module": "@jupyter-widgets/controls",
      "model_module_version": "1.5.0",
      "model_name": "IntSliderModel",
      "state": {
       "layout": "IPY_MODEL_834deac4a2294d2b9bfb68b198e8464e",
       "style": "IPY_MODEL_384d2604a9c64ef2ba6383d6ac13ed26",
       "value": 100
      }
     },
     "47313c3005014168917aeca769bf09d0": {
      "model_module": "@jupyter-widgets/controls",
      "model_module_version": "1.5.0",
      "model_name": "SliderStyleModel",
      "state": {
       "description_width": ""
      }
     },
     "47bcd824cf824ca69ea6f98043d5e465": {
      "model_module": "@jupyter-widgets/controls",
      "model_module_version": "1.5.0",
      "model_name": "DescriptionStyleModel",
      "state": {
       "description_width": ""
      }
     },
     "4868fdbc06a8452c94a73fb3dd4b1f58": {
      "model_module": "@jupyter-widgets/base",
      "model_module_version": "1.2.0",
      "model_name": "LayoutModel",
      "state": {}
     },
     "487e63ccfd7241d08a25f6197fdafdd9": {
      "model_module": "@jupyter-widgets/controls",
      "model_module_version": "1.5.0",
      "model_name": "DescriptionStyleModel",
      "state": {
       "description_width": ""
      }
     },
     "48a7751dd6374aff87cd6b0b4ea5edf6": {
      "model_module": "@jupyter-widgets/base",
      "model_module_version": "1.2.0",
      "model_name": "LayoutModel",
      "state": {}
     },
     "48c7570050bf43369b31405d7cf9049d": {
      "model_module": "@jupyter-widgets/controls",
      "model_module_version": "1.5.0",
      "model_name": "PlayModel",
      "state": {
       "description": "Press play",
       "interval": 50,
       "layout": "IPY_MODEL_68a6e418f77647ffa402f98ed525c3b7",
       "style": "IPY_MODEL_d223d20460624adbb3177bff11414d65"
      }
     },
     "49422998d74444fb9a79937d632c0688": {
      "model_module": "@jupyter-widgets/base",
      "model_module_version": "1.2.0",
      "model_name": "LayoutModel",
      "state": {}
     },
     "49e25f3a71af4b3ca5dde65cd0ce2321": {
      "model_module": "@jupyter-widgets/base",
      "model_module_version": "1.2.0",
      "model_name": "LayoutModel",
      "state": {}
     },
     "4a43f7273f594f279f3618f05e9358a6": {
      "model_module": "@jupyter-widgets/base",
      "model_module_version": "1.2.0",
      "model_name": "LayoutModel",
      "state": {}
     },
     "4b72d53d8c7846d5967dc89bad997845": {
      "model_module": "jupyter-matplotlib",
      "model_module_version": "^0.7.4",
      "model_name": "ToolbarModel",
      "state": {
       "layout": "IPY_MODEL_03f3ca114f2a4db39ce4b49b49efd286",
       "toolitems": [
        [
         "Home",
         "Reset original view",
         "home",
         "home"
        ],
        [
         "Back",
         "Back to previous view",
         "arrow-left",
         "back"
        ],
        [
         "Forward",
         "Forward to next view",
         "arrow-right",
         "forward"
        ],
        [
         "Pan",
         "Left button pans, Right button zooms\nx/y fixes axis, CTRL fixes aspect",
         "arrows",
         "pan"
        ],
        [
         "Zoom",
         "Zoom to rectangle\nx/y fixes axis, CTRL fixes aspect",
         "square-o",
         "zoom"
        ],
        [
         "Download",
         "Download plot",
         "floppy-o",
         "save_figure"
        ]
       ]
      }
     },
     "4b9ffdbd41e84c19800f1de55caf7824": {
      "model_module": "@jupyter-widgets/controls",
      "model_module_version": "1.5.0",
      "model_name": "IntSliderModel",
      "state": {
       "layout": "IPY_MODEL_9c494e0b49a3490787d315468e019f32",
       "style": "IPY_MODEL_091c67df6c394973a53823ea3019496c",
       "value": 100
      }
     },
     "4bf48313c144437fae45032bf9127336": {
      "model_module": "@jupyter-widgets/controls",
      "model_module_version": "1.5.0",
      "model_name": "PlayModel",
      "state": {
       "description": "Press play",
       "interval": 50,
       "layout": "IPY_MODEL_90cbc91015854b9c8e222b37414f6aea",
       "style": "IPY_MODEL_c368e0dc788d417aa33ff876ce92bfd4"
      }
     },
     "4c6018a88e0d4644a1e13fbd7912cc84": {
      "model_module": "@jupyter-widgets/base",
      "model_module_version": "1.2.0",
      "model_name": "LayoutModel",
      "state": {}
     },
     "4c97d00babe04cb488f2a8984cf08279": {
      "model_module": "@jupyter-widgets/controls",
      "model_module_version": "1.5.0",
      "model_name": "IntSliderModel",
      "state": {
       "layout": "IPY_MODEL_1713fda793a04b92bebf958477aca093",
       "style": "IPY_MODEL_33800e2a4c3b4f489e160ffdde704585"
      }
     },
     "4ccd9589039e4cc0a28f4343ce87f3a9": {
      "model_module": "@jupyter-widgets/controls",
      "model_module_version": "1.5.0",
      "model_name": "PlayModel",
      "state": {
       "description": "Press play",
       "interval": 50,
       "layout": "IPY_MODEL_23bb61c62ebd429f898406e90de28f02",
       "style": "IPY_MODEL_d0748cbb31e54f74bd76ddd944be8cb2"
      }
     },
     "4ceb24c35f5f459aaff8a2b4f0035b5c": {
      "model_module": "@jupyter-widgets/controls",
      "model_module_version": "1.5.0",
      "model_name": "PlayModel",
      "state": {
       "description": "Press play",
       "interval": 40,
       "layout": "IPY_MODEL_e74e6f10b94e4b12ad35fdc5cb4de7b7",
       "style": "IPY_MODEL_f6a98e0790c44398ac21f4081dcf8f11",
       "value": 100
      }
     },
     "4cfee3ddb89b4aa9bc6656b081acb499": {
      "model_module": "@jupyter-widgets/controls",
      "model_module_version": "1.5.0",
      "model_name": "PlayModel",
      "state": {
       "description": "Press play",
       "interval": 50,
       "layout": "IPY_MODEL_685b503884ed46f9a68f76a30055d2c6",
       "style": "IPY_MODEL_92cc8393464a4d58a035d883e8d32c92",
       "value": 100
      }
     },
     "4d65beca893246caa073844c4f8f10d9": {
      "model_module": "@jupyter-widgets/base",
      "model_module_version": "1.2.0",
      "model_name": "LayoutModel",
      "state": {}
     },
     "4d7afe21d61346e5a0d305857efd20bf": {
      "model_module": "@jupyter-widgets/controls",
      "model_module_version": "1.5.0",
      "model_name": "HBoxModel",
      "state": {
       "children": [
        "IPY_MODEL_8634f6496aa2452aa5e8e1acb3d3d663",
        "IPY_MODEL_ba420f2db3524836a058af82a71d6e41"
       ],
       "layout": "IPY_MODEL_49422998d74444fb9a79937d632c0688"
      }
     },
     "4d8eb83cb0c7461098485f50948d4856": {
      "model_module": "@jupyter-widgets/base",
      "model_module_version": "1.2.0",
      "model_name": "LayoutModel",
      "state": {}
     },
     "4ecb164b11d84e40bca9475ba5425a3d": {
      "model_module": "@jupyter-widgets/base",
      "model_module_version": "1.2.0",
      "model_name": "LayoutModel",
      "state": {}
     },
     "5059855fb4fb420abfe9864ad90fbfec": {
      "model_module": "@jupyter-widgets/base",
      "model_module_version": "1.2.0",
      "model_name": "LayoutModel",
      "state": {}
     },
     "50d91b694dbf40f78cfed744ff5e99b0": {
      "model_module": "@jupyter-widgets/controls",
      "model_module_version": "1.5.0",
      "model_name": "LinkModel",
      "state": {
       "source": [
        "IPY_MODEL_13e1bfd3de6f457fa518b796e8f5ffd3",
        "value"
       ],
       "target": [
        "IPY_MODEL_a54237cbe0754405a5c73407074c6517",
        "value"
       ]
      }
     },
     "50dc9bbae3c04ff59643913101efdb79": {
      "model_module": "@jupyter-widgets/controls",
      "model_module_version": "1.5.0",
      "model_name": "DescriptionStyleModel",
      "state": {
       "description_width": ""
      }
     },
     "514aeed090734ec29aa1597562179e52": {
      "model_module": "@jupyter-widgets/base",
      "model_module_version": "1.2.0",
      "model_name": "LayoutModel",
      "state": {}
     },
     "51842e3c2f70490c9071e644c7daccf8": {
      "model_module": "jupyter-matplotlib",
      "model_module_version": "^0.7.4",
      "model_name": "ToolbarModel",
      "state": {
       "layout": "IPY_MODEL_a9ba75a2387344d9adff6749ed2725cb",
       "toolitems": [
        [
         "Home",
         "Reset original view",
         "home",
         "home"
        ],
        [
         "Back",
         "Back to previous view",
         "arrow-left",
         "back"
        ],
        [
         "Forward",
         "Forward to next view",
         "arrow-right",
         "forward"
        ],
        [
         "Pan",
         "Left button pans, Right button zooms\nx/y fixes axis, CTRL fixes aspect",
         "arrows",
         "pan"
        ],
        [
         "Zoom",
         "Zoom to rectangle\nx/y fixes axis, CTRL fixes aspect",
         "square-o",
         "zoom"
        ],
        [
         "Download",
         "Download plot",
         "floppy-o",
         "save_figure"
        ]
       ]
      }
     },
     "53360335230b409b86104835e3261f5a": {
      "model_module": "@jupyter-widgets/base",
      "model_module_version": "1.2.0",
      "model_name": "LayoutModel",
      "state": {}
     },
     "539466756a9647d998a7ce3bbc0095a3": {
      "model_module": "@jupyter-widgets/base",
      "model_module_version": "1.2.0",
      "model_name": "LayoutModel",
      "state": {}
     },
     "545608fb8f0a4d6aabe1a020745a4ba2": {
      "model_module": "@jupyter-widgets/controls",
      "model_module_version": "1.5.0",
      "model_name": "PlayModel",
      "state": {
       "description": "Press play",
       "interval": 50,
       "layout": "IPY_MODEL_6860282559674e1f970368e296e75371",
       "style": "IPY_MODEL_0d4e64f1ace545d98fdc8fc87ee063af"
      }
     },
     "54d4e1778f0c49da874009fb76245a63": {
      "model_module": "@jupyter-widgets/base",
      "model_module_version": "1.2.0",
      "model_name": "LayoutModel",
      "state": {}
     },
     "55fe5213457547fe9e3f7295f5d1cb8a": {
      "model_module": "@jupyter-widgets/base",
      "model_module_version": "1.2.0",
      "model_name": "LayoutModel",
      "state": {}
     },
     "56522437c8cb4367b279245599bc14c9": {
      "model_module": "@jupyter-widgets/controls",
      "model_module_version": "1.5.0",
      "model_name": "SliderStyleModel",
      "state": {
       "description_width": ""
      }
     },
     "57414a06ef07475596ac1874b8d4cac3": {
      "model_module": "@jupyter-widgets/base",
      "model_module_version": "1.2.0",
      "model_name": "LayoutModel",
      "state": {}
     },
     "578974352b3f4887ae16ff7a47b3aca0": {
      "model_module": "@jupyter-widgets/base",
      "model_module_version": "1.2.0",
      "model_name": "LayoutModel",
      "state": {}
     },
     "58e58a7f4c4347c89ff3bf5c873519fa": {
      "model_module": "@jupyter-widgets/base",
      "model_module_version": "1.2.0",
      "model_name": "LayoutModel",
      "state": {}
     },
     "5c7ba2894c6e40e0a2116f85be2b5bb7": {
      "model_module": "@jupyter-widgets/controls",
      "model_module_version": "1.5.0",
      "model_name": "IntSliderModel",
      "state": {
       "layout": "IPY_MODEL_afbdfd012c584bc292870978186cf670",
       "style": "IPY_MODEL_a4e2225213f745fab6ceab4bb5c4afff",
       "value": 100
      }
     },
     "5cdc3a45969b4bbfb09853d1cac45346": {
      "model_module": "@jupyter-widgets/controls",
      "model_module_version": "1.5.0",
      "model_name": "HBoxModel",
      "state": {
       "children": [
        "IPY_MODEL_79e18d77535848e49c36f0098c1b13b5",
        "IPY_MODEL_097e6ad6d6f241a39d211c56c8b4ce82"
       ],
       "layout": "IPY_MODEL_4ecb164b11d84e40bca9475ba5425a3d"
      }
     },
     "5d002aabf17542058693849c330dda3e": {
      "model_module": "@jupyter-widgets/base",
      "model_module_version": "1.2.0",
      "model_name": "LayoutModel",
      "state": {}
     },
     "5d35ad3b0f85433596d827582a1e67e2": {
      "model_module": "@jupyter-widgets/base",
      "model_module_version": "1.2.0",
      "model_name": "LayoutModel",
      "state": {}
     },
     "5d43f68b35a546ff9617028cd42b0c3c": {
      "model_module": "@jupyter-widgets/base",
      "model_module_version": "1.2.0",
      "model_name": "LayoutModel",
      "state": {}
     },
     "5d77c719c8d342e885ac6b0f6cd2cb53": {
      "model_module": "@jupyter-widgets/controls",
      "model_module_version": "1.5.0",
      "model_name": "DescriptionStyleModel",
      "state": {
       "description_width": ""
      }
     },
     "5d866c0cf029412092cb5beb5f39c71c": {
      "model_module": "@jupyter-widgets/controls",
      "model_module_version": "1.5.0",
      "model_name": "IntSliderModel",
      "state": {
       "layout": "IPY_MODEL_e73dd95d746347c1a442b71a9659fd60",
       "style": "IPY_MODEL_e031197058a946cca53003e7709802e9",
       "value": 100
      }
     },
     "5de49a6bf6dd4b049260edf44b81d9c2": {
      "model_module": "@jupyter-widgets/controls",
      "model_module_version": "1.5.0",
      "model_name": "LinkModel",
      "state": {
       "source": [
        "IPY_MODEL_4ceb24c35f5f459aaff8a2b4f0035b5c",
        "value"
       ],
       "target": [
        "IPY_MODEL_11cc83781fac464f95834c3c0580fc09",
        "value"
       ]
      }
     },
     "5df265862177404eab76d42ca0a819d9": {
      "model_module": "@jupyter-widgets/controls",
      "model_module_version": "1.5.0",
      "model_name": "LinkModel",
      "state": {
       "source": [
        "IPY_MODEL_1e882bf959f847a3a741606132f1e3e5",
        "value"
       ],
       "target": [
        "IPY_MODEL_e1aa636e7bfb43428a67edec318a9710",
        "value"
       ]
      }
     },
     "5e8f20a71014461499d638a7135fc7e1": {
      "model_module": "@jupyter-widgets/controls",
      "model_module_version": "1.5.0",
      "model_name": "IntSliderModel",
      "state": {
       "layout": "IPY_MODEL_3c088870611748f880a5d2c05cf56122",
       "style": "IPY_MODEL_6948961d2a83417fba323214e7b0530c"
      }
     },
     "5fa8b4c794c44dfc890f87eec7de9170": {
      "model_module": "@jupyter-widgets/controls",
      "model_module_version": "1.5.0",
      "model_name": "PlayModel",
      "state": {
       "description": "Press play",
       "interval": 50,
       "layout": "IPY_MODEL_fa06edbde4f148b09156b2993043cb8e",
       "style": "IPY_MODEL_d3e4a7d34f61489397f3eac9eca7066d"
      }
     },
     "603bebca6eae4bb1a5f93af7c5181d30": {
      "model_module": "@jupyter-widgets/controls",
      "model_module_version": "1.5.0",
      "model_name": "HBoxModel",
      "state": {
       "children": [
        "IPY_MODEL_4ccd9589039e4cc0a28f4343ce87f3a9",
        "IPY_MODEL_a99a353211804bcabf7e659074f333eb"
       ],
       "layout": "IPY_MODEL_8957020a0be34822a2db227bc80ec1dd"
      }
     },
     "6074471570b34e8d964aa89f8be4b300": {
      "model_module": "@jupyter-widgets/base",
      "model_module_version": "1.2.0",
      "model_name": "LayoutModel",
      "state": {}
     },
     "610f9e9ab1f64ab1bbe5ec7dc1688a89": {
      "model_module": "@jupyter-widgets/base",
      "model_module_version": "1.2.0",
      "model_name": "LayoutModel",
      "state": {}
     },
     "615e7282b34e4632802e579b40fa2361": {
      "model_module": "@jupyter-widgets/controls",
      "model_module_version": "1.5.0",
      "model_name": "SliderStyleModel",
      "state": {
       "description_width": ""
      }
     },
     "626e07d8e7974a0283fe507cd62df141": {
      "model_module": "@jupyter-widgets/controls",
      "model_module_version": "1.5.0",
      "model_name": "IntSliderModel",
      "state": {
       "layout": "IPY_MODEL_4d65beca893246caa073844c4f8f10d9",
       "style": "IPY_MODEL_3b3a09cef12c43a7adabf9cfc6b66ce9"
      }
     },
     "628de36bc0b14ab7990cb96011fd973a": {
      "model_module": "@jupyter-widgets/base",
      "model_module_version": "1.2.0",
      "model_name": "LayoutModel",
      "state": {}
     },
     "65247d03244c4eaeb76514b7bebfd1ec": {
      "model_module": "@jupyter-widgets/base",
      "model_module_version": "1.2.0",
      "model_name": "LayoutModel",
      "state": {}
     },
     "65728aea16774a79a526be2f5fda4d5c": {
      "model_module": "@jupyter-widgets/base",
      "model_module_version": "1.2.0",
      "model_name": "LayoutModel",
      "state": {}
     },
     "657aa51f55174dcf89678642ea0d0b2b": {
      "model_module": "@jupyter-widgets/controls",
      "model_module_version": "1.5.0",
      "model_name": "DescriptionStyleModel",
      "state": {
       "description_width": ""
      }
     },
     "6736d6f5ac804ca68e97efc830e98837": {
      "model_module": "@jupyter-widgets/base",
      "model_module_version": "1.2.0",
      "model_name": "LayoutModel",
      "state": {}
     },
     "67673f2857cb459bb7675af2facb3c9b": {
      "model_module": "jupyter-matplotlib",
      "model_module_version": "^0.7.4",
      "model_name": "ToolbarModel",
      "state": {
       "layout": "IPY_MODEL_0dc37f5f26f3412e94d8f39c45b93491",
       "toolitems": [
        [
         "Home",
         "Reset original view",
         "home",
         "home"
        ],
        [
         "Back",
         "Back to previous view",
         "arrow-left",
         "back"
        ],
        [
         "Forward",
         "Forward to next view",
         "arrow-right",
         "forward"
        ],
        [
         "Pan",
         "Left button pans, Right button zooms\nx/y fixes axis, CTRL fixes aspect",
         "arrows",
         "pan"
        ],
        [
         "Zoom",
         "Zoom to rectangle\nx/y fixes axis, CTRL fixes aspect",
         "square-o",
         "zoom"
        ],
        [
         "Download",
         "Download plot",
         "floppy-o",
         "save_figure"
        ]
       ]
      }
     },
     "679e5925040343c1ae342e026707ae74": {
      "model_module": "@jupyter-widgets/base",
      "model_module_version": "1.2.0",
      "model_name": "LayoutModel",
      "state": {}
     },
     "67d006612beb47c5ab597c63623e950d": {
      "model_module": "@jupyter-widgets/controls",
      "model_module_version": "1.5.0",
      "model_name": "DescriptionStyleModel",
      "state": {
       "description_width": ""
      }
     },
     "685b503884ed46f9a68f76a30055d2c6": {
      "model_module": "@jupyter-widgets/base",
      "model_module_version": "1.2.0",
      "model_name": "LayoutModel",
      "state": {}
     },
     "6860282559674e1f970368e296e75371": {
      "model_module": "@jupyter-widgets/base",
      "model_module_version": "1.2.0",
      "model_name": "LayoutModel",
      "state": {}
     },
     "68a61ed99c9e45b5aee04d373b71c30b": {
      "model_module": "@jupyter-widgets/base",
      "model_module_version": "1.2.0",
      "model_name": "LayoutModel",
      "state": {}
     },
     "68a6e418f77647ffa402f98ed525c3b7": {
      "model_module": "@jupyter-widgets/base",
      "model_module_version": "1.2.0",
      "model_name": "LayoutModel",
      "state": {}
     },
     "6932913365f64ecd84d516aac0876518": {
      "model_module": "@jupyter-widgets/controls",
      "model_module_version": "1.5.0",
      "model_name": "DescriptionStyleModel",
      "state": {
       "description_width": ""
      }
     },
     "6948961d2a83417fba323214e7b0530c": {
      "model_module": "@jupyter-widgets/controls",
      "model_module_version": "1.5.0",
      "model_name": "SliderStyleModel",
      "state": {
       "description_width": ""
      }
     },
     "69817706475749fb8f7f86ebcd54acad": {
      "model_module": "@jupyter-widgets/controls",
      "model_module_version": "1.5.0",
      "model_name": "LinkModel",
      "state": {
       "source": [
        "IPY_MODEL_4ccd9589039e4cc0a28f4343ce87f3a9",
        "value"
       ],
       "target": [
        "IPY_MODEL_a99a353211804bcabf7e659074f333eb",
        "value"
       ]
      }
     },
     "6a9417469cde4d75906c3adaf1ca2282": {
      "model_module": "@jupyter-widgets/controls",
      "model_module_version": "1.5.0",
      "model_name": "PlayModel",
      "state": {
       "description": "Press play",
       "interval": 50,
       "layout": "IPY_MODEL_a420dcaa6afb4285bb68b7487ff93426",
       "style": "IPY_MODEL_7db24fd1033e4bd780074938d7029879"
      }
     },
     "6abd7bcb71194a0a8c7dc8eab9af5546": {
      "model_module": "@jupyter-widgets/controls",
      "model_module_version": "1.5.0",
      "model_name": "LinkModel",
      "state": {
       "source": [
        "IPY_MODEL_a257bd94dd8c4814beae794f84c502d6",
        "value"
       ],
       "target": [
        "IPY_MODEL_d1e7d37c2a85455ea0352e8df734fa54",
        "value"
       ]
      }
     },
     "6ac7b9423b38489388c2accfdfd22b3a": {
      "model_module": "@jupyter-widgets/controls",
      "model_module_version": "1.5.0",
      "model_name": "IntSliderModel",
      "state": {
       "layout": "IPY_MODEL_6736d6f5ac804ca68e97efc830e98837",
       "style": "IPY_MODEL_ef3dfdc05aec457f9e22c41166b2ccc3"
      }
     },
     "6d4d62b842a24915af7e1c5ccbd6bee1": {
      "model_module": "jupyter-matplotlib",
      "model_module_version": "^0.7.4",
      "model_name": "ToolbarModel",
      "state": {
       "layout": "IPY_MODEL_5059855fb4fb420abfe9864ad90fbfec",
       "toolitems": [
        [
         "Home",
         "Reset original view",
         "home",
         "home"
        ],
        [
         "Back",
         "Back to previous view",
         "arrow-left",
         "back"
        ],
        [
         "Forward",
         "Forward to next view",
         "arrow-right",
         "forward"
        ],
        [
         "Pan",
         "Left button pans, Right button zooms\nx/y fixes axis, CTRL fixes aspect",
         "arrows",
         "pan"
        ],
        [
         "Zoom",
         "Zoom to rectangle\nx/y fixes axis, CTRL fixes aspect",
         "square-o",
         "zoom"
        ],
        [
         "Download",
         "Download plot",
         "floppy-o",
         "save_figure"
        ]
       ]
      }
     },
     "6d84a42b09a7414a895a976dacd6a64c": {
      "model_module": "@jupyter-widgets/controls",
      "model_module_version": "1.5.0",
      "model_name": "IntSliderModel",
      "state": {
       "layout": "IPY_MODEL_736f30c68adc4595adfd9b32bd2f2be6",
       "style": "IPY_MODEL_7d964b2d2db547378e3e7f89892c7041",
       "value": 98
      }
     },
     "6da327b1f9f54348b6e332e374151201": {
      "model_module": "jupyter-matplotlib",
      "model_module_version": "^0.7.4",
      "model_name": "ToolbarModel",
      "state": {
       "layout": "IPY_MODEL_8924958f01bd4b7582838fc717c66c75",
       "toolitems": [
        [
         "Home",
         "Reset original view",
         "home",
         "home"
        ],
        [
         "Back",
         "Back to previous view",
         "arrow-left",
         "back"
        ],
        [
         "Forward",
         "Forward to next view",
         "arrow-right",
         "forward"
        ],
        [
         "Pan",
         "Left button pans, Right button zooms\nx/y fixes axis, CTRL fixes aspect",
         "arrows",
         "pan"
        ],
        [
         "Zoom",
         "Zoom to rectangle\nx/y fixes axis, CTRL fixes aspect",
         "square-o",
         "zoom"
        ],
        [
         "Download",
         "Download plot",
         "floppy-o",
         "save_figure"
        ]
       ]
      }
     },
     "6dafa9353fe64c51a09dae79c499b803": {
      "model_module": "@jupyter-widgets/controls",
      "model_module_version": "1.5.0",
      "model_name": "SliderStyleModel",
      "state": {
       "description_width": ""
      }
     },
     "6f0db706b32240c1a2b9aa55eb2e5ea1": {
      "model_module": "@jupyter-widgets/base",
      "model_module_version": "1.2.0",
      "model_name": "LayoutModel",
      "state": {}
     },
     "6fbbdfaae1b046cbb1478f7b97d638cf": {
      "model_module": "jupyter-matplotlib",
      "model_module_version": "^0.7.4",
      "model_name": "ToolbarModel",
      "state": {
       "layout": "IPY_MODEL_e6096518a5a6459da2f0c03268ee00bd",
       "toolitems": [
        [
         "Home",
         "Reset original view",
         "home",
         "home"
        ],
        [
         "Back",
         "Back to previous view",
         "arrow-left",
         "back"
        ],
        [
         "Forward",
         "Forward to next view",
         "arrow-right",
         "forward"
        ],
        [
         "Pan",
         "Left button pans, Right button zooms\nx/y fixes axis, CTRL fixes aspect",
         "arrows",
         "pan"
        ],
        [
         "Zoom",
         "Zoom to rectangle\nx/y fixes axis, CTRL fixes aspect",
         "square-o",
         "zoom"
        ],
        [
         "Download",
         "Download plot",
         "floppy-o",
         "save_figure"
        ]
       ]
      }
     },
     "704305711b53494ab9c16ee88a45b2a8": {
      "model_module": "@jupyter-widgets/controls",
      "model_module_version": "1.5.0",
      "model_name": "SliderStyleModel",
      "state": {
       "description_width": ""
      }
     },
     "7051895b7baa41149138eeb379d0c8e3": {
      "model_module": "@jupyter-widgets/base",
      "model_module_version": "1.2.0",
      "model_name": "LayoutModel",
      "state": {}
     },
     "728922563d1140e7a626fdd58fd97072": {
      "model_module": "@jupyter-widgets/base",
      "model_module_version": "1.2.0",
      "model_name": "LayoutModel",
      "state": {}
     },
     "735bd4d8e5094e3f992d744dd0433bfa": {
      "model_module": "@jupyter-widgets/base",
      "model_module_version": "1.2.0",
      "model_name": "LayoutModel",
      "state": {}
     },
     "736f30c68adc4595adfd9b32bd2f2be6": {
      "model_module": "@jupyter-widgets/base",
      "model_module_version": "1.2.0",
      "model_name": "LayoutModel",
      "state": {}
     },
     "7393f3f5a1f24a47ad94879da005475a": {
      "model_module": "@jupyter-widgets/base",
      "model_module_version": "1.2.0",
      "model_name": "LayoutModel",
      "state": {}
     },
     "75411feea50a42a0982c12716efd904e": {
      "model_module": "@jupyter-widgets/base",
      "model_module_version": "1.2.0",
      "model_name": "LayoutModel",
      "state": {}
     },
     "756a83833c824763b4f27868edb47012": {
      "model_module": "jupyter-matplotlib",
      "model_module_version": "^0.7.4",
      "model_name": "ToolbarModel",
      "state": {
       "layout": "IPY_MODEL_fd8c8505adb541208ea5af580a347f34",
       "toolitems": [
        [
         "Home",
         "Reset original view",
         "home",
         "home"
        ],
        [
         "Back",
         "Back to previous view",
         "arrow-left",
         "back"
        ],
        [
         "Forward",
         "Forward to next view",
         "arrow-right",
         "forward"
        ],
        [
         "Pan",
         "Left button pans, Right button zooms\nx/y fixes axis, CTRL fixes aspect",
         "arrows",
         "pan"
        ],
        [
         "Zoom",
         "Zoom to rectangle\nx/y fixes axis, CTRL fixes aspect",
         "square-o",
         "zoom"
        ],
        [
         "Download",
         "Download plot",
         "floppy-o",
         "save_figure"
        ]
       ]
      }
     },
     "76cbdbe3cc4e486796c36f67059a6e9d": {
      "model_module": "jupyter-matplotlib",
      "model_module_version": "^0.7.4",
      "model_name": "ToolbarModel",
      "state": {
       "layout": "IPY_MODEL_e7e1448c91e84065a2752ce15e6e5abf",
       "toolitems": [
        [
         "Home",
         "Reset original view",
         "home",
         "home"
        ],
        [
         "Back",
         "Back to previous view",
         "arrow-left",
         "back"
        ],
        [
         "Forward",
         "Forward to next view",
         "arrow-right",
         "forward"
        ],
        [
         "Pan",
         "Left button pans, Right button zooms\nx/y fixes axis, CTRL fixes aspect",
         "arrows",
         "pan"
        ],
        [
         "Zoom",
         "Zoom to rectangle\nx/y fixes axis, CTRL fixes aspect",
         "square-o",
         "zoom"
        ],
        [
         "Download",
         "Download plot",
         "floppy-o",
         "save_figure"
        ]
       ]
      }
     },
     "780025a83a984cfdbf3703fc63c11854": {
      "model_module": "@jupyter-widgets/controls",
      "model_module_version": "1.5.0",
      "model_name": "LinkModel",
      "state": {
       "source": [
        "IPY_MODEL_40142d5000f84eaeb3c3b8914262f8aa",
        "value"
       ],
       "target": [
        "IPY_MODEL_5d866c0cf029412092cb5beb5f39c71c",
        "value"
       ]
      }
     },
     "789190ef02d54ef8b735c63d7de5d5f2": {
      "model_module": "@jupyter-widgets/controls",
      "model_module_version": "1.5.0",
      "model_name": "LinkModel",
      "state": {
       "source": [
        "IPY_MODEL_4bf48313c144437fae45032bf9127336",
        "value"
       ],
       "target": [
        "IPY_MODEL_6ac7b9423b38489388c2accfdfd22b3a",
        "value"
       ]
      }
     },
     "791f1dd8ab334723b65a1e5746b0a5a7": {
      "model_module": "@jupyter-widgets/controls",
      "model_module_version": "1.5.0",
      "model_name": "HBoxModel",
      "state": {
       "children": [
        "IPY_MODEL_d1b85a5ce85e4080b539b8b92ca4a5d9",
        "IPY_MODEL_85c6bb1290224465b175fa345aa5bf18"
       ],
       "layout": "IPY_MODEL_735bd4d8e5094e3f992d744dd0433bfa"
      }
     },
     "79e18d77535848e49c36f0098c1b13b5": {
      "model_module": "@jupyter-widgets/controls",
      "model_module_version": "1.5.0",
      "model_name": "PlayModel",
      "state": {
       "description": "Press play",
       "interval": 50,
       "layout": "IPY_MODEL_a836679b6fce4e53953bbfc3534abb61",
       "style": "IPY_MODEL_35ef1c05140d4166995ee2c1f1b2298e"
      }
     },
     "7a3da97809f94096a912df87b6a4ac10": {
      "model_module": "@jupyter-widgets/controls",
      "model_module_version": "1.5.0",
      "model_name": "DescriptionStyleModel",
      "state": {
       "description_width": ""
      }
     },
     "7d964b2d2db547378e3e7f89892c7041": {
      "model_module": "@jupyter-widgets/controls",
      "model_module_version": "1.5.0",
      "model_name": "SliderStyleModel",
      "state": {
       "description_width": ""
      }
     },
     "7db24fd1033e4bd780074938d7029879": {
      "model_module": "@jupyter-widgets/controls",
      "model_module_version": "1.5.0",
      "model_name": "DescriptionStyleModel",
      "state": {
       "description_width": ""
      }
     },
     "7db7ae830f9549c9b4656ba906264f88": {
      "model_module": "@jupyter-widgets/base",
      "model_module_version": "1.2.0",
      "model_name": "LayoutModel",
      "state": {}
     },
     "7dcf797b45294d8fa8941035f3e19425": {
      "model_module": "@jupyter-widgets/base",
      "model_module_version": "1.2.0",
      "model_name": "LayoutModel",
      "state": {}
     },
     "7e2a7a166d7a4c94a4bc0ddad7a40725": {
      "model_module": "@jupyter-widgets/base",
      "model_module_version": "1.2.0",
      "model_name": "LayoutModel",
      "state": {}
     },
     "7e46fc6757ba4e3781fcf9ff9b07a106": {
      "model_module": "jupyter-matplotlib",
      "model_module_version": "^0.7.4",
      "model_name": "ToolbarModel",
      "state": {
       "layout": "IPY_MODEL_2dceeb0cb90744848d53b033b1a4a52f",
       "toolitems": [
        [
         "Home",
         "Reset original view",
         "home",
         "home"
        ],
        [
         "Back",
         "Back to previous view",
         "arrow-left",
         "back"
        ],
        [
         "Forward",
         "Forward to next view",
         "arrow-right",
         "forward"
        ],
        [
         "Pan",
         "Left button pans, Right button zooms\nx/y fixes axis, CTRL fixes aspect",
         "arrows",
         "pan"
        ],
        [
         "Zoom",
         "Zoom to rectangle\nx/y fixes axis, CTRL fixes aspect",
         "square-o",
         "zoom"
        ],
        [
         "Download",
         "Download plot",
         "floppy-o",
         "save_figure"
        ]
       ]
      }
     },
     "7e4863c773a744278ccf1cee8992b871": {
      "model_module": "jupyter-matplotlib",
      "model_module_version": "^0.7.4",
      "model_name": "ToolbarModel",
      "state": {
       "layout": "IPY_MODEL_beef0ade483a46dbb06e7c6e6f6984f9",
       "toolitems": [
        [
         "Home",
         "Reset original view",
         "home",
         "home"
        ],
        [
         "Back",
         "Back to previous view",
         "arrow-left",
         "back"
        ],
        [
         "Forward",
         "Forward to next view",
         "arrow-right",
         "forward"
        ],
        [
         "Pan",
         "Left button pans, Right button zooms\nx/y fixes axis, CTRL fixes aspect",
         "arrows",
         "pan"
        ],
        [
         "Zoom",
         "Zoom to rectangle\nx/y fixes axis, CTRL fixes aspect",
         "square-o",
         "zoom"
        ],
        [
         "Download",
         "Download plot",
         "floppy-o",
         "save_figure"
        ]
       ]
      }
     },
     "7eca1456fe024ce0ab1d5b41a1856262": {
      "model_module": "@jupyter-widgets/controls",
      "model_module_version": "1.5.0",
      "model_name": "HBoxModel",
      "state": {
       "children": [
        "IPY_MODEL_220ab482f29648909417de6e6cabb68d",
        "IPY_MODEL_626e07d8e7974a0283fe507cd62df141"
       ],
       "layout": "IPY_MODEL_dd1058a522434b90baf3bc2760439f6b"
      }
     },
     "7f5c1e44b50e49b184006644eda1b052": {
      "model_module": "@jupyter-widgets/controls",
      "model_module_version": "1.5.0",
      "model_name": "LinkModel",
      "state": {
       "source": [
        "IPY_MODEL_4cfee3ddb89b4aa9bc6656b081acb499",
        "value"
       ],
       "target": [
        "IPY_MODEL_4b9ffdbd41e84c19800f1de55caf7824",
        "value"
       ]
      }
     },
     "8076763a780d4c5f8c06a46d01021d02": {
      "model_module": "@jupyter-widgets/base",
      "model_module_version": "1.2.0",
      "model_name": "LayoutModel",
      "state": {}
     },
     "807c826e35644a3c92d33f67f51edc1b": {
      "model_module": "@jupyter-widgets/controls",
      "model_module_version": "1.5.0",
      "model_name": "IntSliderModel",
      "state": {
       "layout": "IPY_MODEL_368c7a76821f41f6913e015eb128bd30",
       "style": "IPY_MODEL_0d454560e8b4414e86150fd69b92e413"
      }
     },
     "80ec191652db4f40839eed7865800e77": {
      "model_module": "@jupyter-widgets/base",
      "model_module_version": "1.2.0",
      "model_name": "LayoutModel",
      "state": {}
     },
     "812b5b997228476e901903a27cf80d60": {
      "model_module": "jupyter-matplotlib",
      "model_module_version": "^0.7.4",
      "model_name": "ToolbarModel",
      "state": {
       "layout": "IPY_MODEL_36569f1b48db4492baa5c0df59d3cd21",
       "toolitems": [
        [
         "Home",
         "Reset original view",
         "home",
         "home"
        ],
        [
         "Back",
         "Back to previous view",
         "arrow-left",
         "back"
        ],
        [
         "Forward",
         "Forward to next view",
         "arrow-right",
         "forward"
        ],
        [
         "Pan",
         "Left button pans, Right button zooms\nx/y fixes axis, CTRL fixes aspect",
         "arrows",
         "pan"
        ],
        [
         "Zoom",
         "Zoom to rectangle\nx/y fixes axis, CTRL fixes aspect",
         "square-o",
         "zoom"
        ],
        [
         "Download",
         "Download plot",
         "floppy-o",
         "save_figure"
        ]
       ]
      }
     },
     "81dedaa69724452089a33f1de147dbc2": {
      "model_module": "@jupyter-widgets/base",
      "model_module_version": "1.2.0",
      "model_name": "LayoutModel",
      "state": {}
     },
     "81f4972937764099abb6c2e5535fe4f3": {
      "model_module": "@jupyter-widgets/base",
      "model_module_version": "1.2.0",
      "model_name": "LayoutModel",
      "state": {}
     },
     "834deac4a2294d2b9bfb68b198e8464e": {
      "model_module": "@jupyter-widgets/base",
      "model_module_version": "1.2.0",
      "model_name": "LayoutModel",
      "state": {}
     },
     "835cfb98de094885a503b9ead716693e": {
      "model_module": "@jupyter-widgets/controls",
      "model_module_version": "1.5.0",
      "model_name": "HBoxModel",
      "state": {
       "children": [
        "IPY_MODEL_a257bd94dd8c4814beae794f84c502d6",
        "IPY_MODEL_d1e7d37c2a85455ea0352e8df734fa54"
       ],
       "layout": "IPY_MODEL_43a912cf5f08419eba58ce0c3b649a65"
      }
     },
     "836b74f518db40f2967c33ae08a5643c": {
      "model_module": "@jupyter-widgets/base",
      "model_module_version": "1.2.0",
      "model_name": "LayoutModel",
      "state": {}
     },
     "83af641ad9ee4213b48cc4b7950e9b95": {
      "model_module": "jupyter-matplotlib",
      "model_module_version": "^0.7.4",
      "model_name": "ToolbarModel",
      "state": {
       "layout": "IPY_MODEL_01c8a8e931844cc2982a0e5880b8d7d1",
       "toolitems": [
        [
         "Home",
         "Reset original view",
         "home",
         "home"
        ],
        [
         "Back",
         "Back to previous view",
         "arrow-left",
         "back"
        ],
        [
         "Forward",
         "Forward to next view",
         "arrow-right",
         "forward"
        ],
        [
         "Pan",
         "Left button pans, Right button zooms\nx/y fixes axis, CTRL fixes aspect",
         "arrows",
         "pan"
        ],
        [
         "Zoom",
         "Zoom to rectangle\nx/y fixes axis, CTRL fixes aspect",
         "square-o",
         "zoom"
        ],
        [
         "Download",
         "Download plot",
         "floppy-o",
         "save_figure"
        ]
       ]
      }
     },
     "8489d94625e84ad089c6a7e78e88e6ed": {
      "model_module": "@jupyter-widgets/base",
      "model_module_version": "1.2.0",
      "model_name": "LayoutModel",
      "state": {}
     },
     "8489eccba3e94efbb00927e51db5aa7a": {
      "model_module": "@jupyter-widgets/base",
      "model_module_version": "1.2.0",
      "model_name": "LayoutModel",
      "state": {}
     },
     "853a46e5f3464e6e98761f625a6ee380": {
      "model_module": "@jupyter-widgets/controls",
      "model_module_version": "1.5.0",
      "model_name": "IntSliderModel",
      "state": {
       "layout": "IPY_MODEL_370d28a6d1a64a59ab8839a06a0e218b",
       "style": "IPY_MODEL_87992e7af29a4e72a7b5fc560f99761e"
      }
     },
     "85b8005e39e34e1dbf678f995e0f8c44": {
      "model_module": "@jupyter-widgets/base",
      "model_module_version": "1.2.0",
      "model_name": "LayoutModel",
      "state": {}
     },
     "85c262c16a88423eb958a1932ea78868": {
      "model_module": "@jupyter-widgets/base",
      "model_module_version": "1.2.0",
      "model_name": "LayoutModel",
      "state": {}
     },
     "85c6bb1290224465b175fa345aa5bf18": {
      "model_module": "@jupyter-widgets/controls",
      "model_module_version": "1.5.0",
      "model_name": "IntSliderModel",
      "state": {
       "layout": "IPY_MODEL_5d002aabf17542058693849c330dda3e",
       "style": "IPY_MODEL_8cae6d02143748ceb39c45033175d14d"
      }
     },
     "8634f6496aa2452aa5e8e1acb3d3d663": {
      "model_module": "@jupyter-widgets/controls",
      "model_module_version": "1.5.0",
      "model_name": "PlayModel",
      "state": {
       "description": "Press play",
       "interval": 50,
       "layout": "IPY_MODEL_7db7ae830f9549c9b4656ba906264f88",
       "style": "IPY_MODEL_98e596e185584e5eb873f21612af7c72"
      }
     },
     "867140d8c05a4612845142242aa618fd": {
      "model_module": "@jupyter-widgets/base",
      "model_module_version": "1.2.0",
      "model_name": "LayoutModel",
      "state": {}
     },
     "87992e7af29a4e72a7b5fc560f99761e": {
      "model_module": "@jupyter-widgets/controls",
      "model_module_version": "1.5.0",
      "model_name": "SliderStyleModel",
      "state": {
       "description_width": ""
      }
     },
     "8924958f01bd4b7582838fc717c66c75": {
      "model_module": "@jupyter-widgets/base",
      "model_module_version": "1.2.0",
      "model_name": "LayoutModel",
      "state": {}
     },
     "8957020a0be34822a2db227bc80ec1dd": {
      "model_module": "@jupyter-widgets/base",
      "model_module_version": "1.2.0",
      "model_name": "LayoutModel",
      "state": {}
     },
     "899b2593fdcc47a9af9661d958cc4527": {
      "model_module": "@jupyter-widgets/controls",
      "model_module_version": "1.5.0",
      "model_name": "DescriptionStyleModel",
      "state": {
       "description_width": ""
      }
     },
     "89b4f06eea5c40a5b46d0def079c863e": {
      "model_module": "jupyter-matplotlib",
      "model_module_version": "^0.7.4",
      "model_name": "ToolbarModel",
      "state": {
       "layout": "IPY_MODEL_dab51c3d54044bfaa563de4b474ed854",
       "toolitems": [
        [
         "Home",
         "Reset original view",
         "home",
         "home"
        ],
        [
         "Back",
         "Back to previous view",
         "arrow-left",
         "back"
        ],
        [
         "Forward",
         "Forward to next view",
         "arrow-right",
         "forward"
        ],
        [
         "Pan",
         "Left button pans, Right button zooms\nx/y fixes axis, CTRL fixes aspect",
         "arrows",
         "pan"
        ],
        [
         "Zoom",
         "Zoom to rectangle\nx/y fixes axis, CTRL fixes aspect",
         "square-o",
         "zoom"
        ],
        [
         "Download",
         "Download plot",
         "floppy-o",
         "save_figure"
        ]
       ]
      }
     },
     "8a3575bcb2294a58927146a1ed13235e": {
      "model_module": "@jupyter-widgets/base",
      "model_module_version": "1.2.0",
      "model_name": "LayoutModel",
      "state": {}
     },
     "8a95d3bfa6704a56a7ec3c70ae033b32": {
      "model_module": "@jupyter-widgets/controls",
      "model_module_version": "1.5.0",
      "model_name": "HBoxModel",
      "state": {
       "children": [
        "IPY_MODEL_1e882bf959f847a3a741606132f1e3e5",
        "IPY_MODEL_e1aa636e7bfb43428a67edec318a9710"
       ],
       "layout": "IPY_MODEL_836b74f518db40f2967c33ae08a5643c"
      }
     },
     "8af6e491a2754e579e82c5fda2db678f": {
      "model_module": "@jupyter-widgets/base",
      "model_module_version": "1.2.0",
      "model_name": "LayoutModel",
      "state": {}
     },
     "8b4ceb5961b64c17b81d0b040dee2e48": {
      "model_module": "@jupyter-widgets/controls",
      "model_module_version": "1.5.0",
      "model_name": "HBoxModel",
      "state": {
       "children": [
        "IPY_MODEL_5fa8b4c794c44dfc890f87eec7de9170",
        "IPY_MODEL_42e432f2d59142e68b6868c0ae9c8434"
       ],
       "layout": "IPY_MODEL_24892479ca7547179e3e23703bb7b49b"
      }
     },
     "8b7166d3b5a444b48d04965bd28b8ab7": {
      "model_module": "@jupyter-widgets/base",
      "model_module_version": "1.2.0",
      "model_name": "LayoutModel",
      "state": {}
     },
     "8b89f35d2e0f46c0ab5db3eadee86d71": {
      "model_module": "@jupyter-widgets/base",
      "model_module_version": "1.2.0",
      "model_name": "LayoutModel",
      "state": {}
     },
     "8b9e0b2e547c4c4f87d545eaa3c8f484": {
      "model_module": "@jupyter-widgets/controls",
      "model_module_version": "1.5.0",
      "model_name": "HBoxModel",
      "state": {
       "children": [
        "IPY_MODEL_2720f1662d994737aad40a41c8ddbf3c",
        "IPY_MODEL_0cf86d53fc8442eb8cc513eb1ec1c535"
       ],
       "layout": "IPY_MODEL_c1a4c664e4444c65a182281fec13a0b4"
      }
     },
     "8c458d667e22458dac79c0eb4b7f8858": {
      "model_module": "@jupyter-widgets/controls",
      "model_module_version": "1.5.0",
      "model_name": "LinkModel",
      "state": {
       "source": [
        "IPY_MODEL_45ac3c27f1bd488998986fca54b176c8",
        "value"
       ],
       "target": [
        "IPY_MODEL_93e5224d29f944b3a7ce45e99e40c7a4",
        "value"
       ]
      }
     },
     "8cae6d02143748ceb39c45033175d14d": {
      "model_module": "@jupyter-widgets/controls",
      "model_module_version": "1.5.0",
      "model_name": "SliderStyleModel",
      "state": {
       "description_width": ""
      }
     },
     "8cd432d0db204a2ebc58500e7062357d": {
      "model_module": "@jupyter-widgets/base",
      "model_module_version": "1.2.0",
      "model_name": "LayoutModel",
      "state": {}
     },
     "8e418bcf511a468c864b7033f9ec5bc0": {
      "model_module": "jupyter-matplotlib",
      "model_module_version": "^0.7.4",
      "model_name": "ToolbarModel",
      "state": {
       "layout": "IPY_MODEL_0c0c55f720f34d26afec15279963c989",
       "toolitems": [
        [
         "Home",
         "Reset original view",
         "home",
         "home"
        ],
        [
         "Back",
         "Back to previous view",
         "arrow-left",
         "back"
        ],
        [
         "Forward",
         "Forward to next view",
         "arrow-right",
         "forward"
        ],
        [
         "Pan",
         "Left button pans, Right button zooms\nx/y fixes axis, CTRL fixes aspect",
         "arrows",
         "pan"
        ],
        [
         "Zoom",
         "Zoom to rectangle\nx/y fixes axis, CTRL fixes aspect",
         "square-o",
         "zoom"
        ],
        [
         "Download",
         "Download plot",
         "floppy-o",
         "save_figure"
        ]
       ]
      }
     },
     "8e8e8c10c45f45beb499884945e6c210": {
      "model_module": "@jupyter-widgets/base",
      "model_module_version": "1.2.0",
      "model_name": "LayoutModel",
      "state": {}
     },
     "8ea9f1ca742a4db495883042a48f35ba": {
      "model_module": "@jupyter-widgets/controls",
      "model_module_version": "1.5.0",
      "model_name": "LinkModel",
      "state": {
       "source": [
        "IPY_MODEL_79e18d77535848e49c36f0098c1b13b5",
        "value"
       ],
       "target": [
        "IPY_MODEL_097e6ad6d6f241a39d211c56c8b4ce82",
        "value"
       ]
      }
     },
     "8eb417a50efa40a0ac737e0d0e0be574": {
      "model_module": "@jupyter-widgets/base",
      "model_module_version": "1.2.0",
      "model_name": "LayoutModel",
      "state": {}
     },
     "8f62a10960e84c95973a9f248f507bd9": {
      "model_module": "@jupyter-widgets/base",
      "model_module_version": "1.2.0",
      "model_name": "LayoutModel",
      "state": {}
     },
     "8f951f938dca462d85f37feadeae7255": {
      "model_module": "@jupyter-widgets/controls",
      "model_module_version": "1.5.0",
      "model_name": "LinkModel",
      "state": {
       "source": [
        "IPY_MODEL_bfd89226afba491ba7f03199a967768c",
        "value"
       ],
       "target": [
        "IPY_MODEL_5c7ba2894c6e40e0a2116f85be2b5bb7",
        "value"
       ]
      }
     },
     "8ff3c605ac02485d9201755d99c7706c": {
      "model_module": "@jupyter-widgets/controls",
      "model_module_version": "1.5.0",
      "model_name": "LinkModel",
      "state": {
       "source": [
        "IPY_MODEL_5fa8b4c794c44dfc890f87eec7de9170",
        "value"
       ],
       "target": [
        "IPY_MODEL_42e432f2d59142e68b6868c0ae9c8434",
        "value"
       ]
      }
     },
     "909c0aa5adaa4b9e93fcbc4597435da8": {
      "model_module": "@jupyter-widgets/base",
      "model_module_version": "1.2.0",
      "model_name": "LayoutModel",
      "state": {}
     },
     "909d7c8e196a44438f10b53a7f4e977e": {
      "model_module": "@jupyter-widgets/base",
      "model_module_version": "1.2.0",
      "model_name": "LayoutModel",
      "state": {}
     },
     "90cbc91015854b9c8e222b37414f6aea": {
      "model_module": "@jupyter-widgets/base",
      "model_module_version": "1.2.0",
      "model_name": "LayoutModel",
      "state": {}
     },
     "91f63e6ed05a4c01b680343a6b75622b": {
      "model_module": "@jupyter-widgets/controls",
      "model_module_version": "1.5.0",
      "model_name": "IntSliderModel",
      "state": {
       "layout": "IPY_MODEL_8b89f35d2e0f46c0ab5db3eadee86d71",
       "style": "IPY_MODEL_1b44fd26355844b2bb1d599d67a021af"
      }
     },
     "92037662f9914ddcaa7d81026245b29f": {
      "model_module": "jupyter-matplotlib",
      "model_module_version": "^0.7.4",
      "model_name": "ToolbarModel",
      "state": {
       "layout": "IPY_MODEL_b5e678d4a2e44a3d8e88aae15ed0b25b",
       "toolitems": [
        [
         "Home",
         "Reset original view",
         "home",
         "home"
        ],
        [
         "Back",
         "Back to previous view",
         "arrow-left",
         "back"
        ],
        [
         "Forward",
         "Forward to next view",
         "arrow-right",
         "forward"
        ],
        [
         "Pan",
         "Left button pans, Right button zooms\nx/y fixes axis, CTRL fixes aspect",
         "arrows",
         "pan"
        ],
        [
         "Zoom",
         "Zoom to rectangle\nx/y fixes axis, CTRL fixes aspect",
         "square-o",
         "zoom"
        ],
        [
         "Download",
         "Download plot",
         "floppy-o",
         "save_figure"
        ]
       ]
      }
     },
     "92c53a48a3534d409fba995602e61b91": {
      "model_module": "@jupyter-widgets/base",
      "model_module_version": "1.2.0",
      "model_name": "LayoutModel",
      "state": {}
     },
     "92cc8393464a4d58a035d883e8d32c92": {
      "model_module": "@jupyter-widgets/controls",
      "model_module_version": "1.5.0",
      "model_name": "DescriptionStyleModel",
      "state": {
       "description_width": ""
      }
     },
     "936fbd52c74f425e96183fecd0460b6a": {
      "model_module": "@jupyter-widgets/base",
      "model_module_version": "1.2.0",
      "model_name": "LayoutModel",
      "state": {}
     },
     "93d69176d3a0430191b661419b124479": {
      "model_module": "@jupyter-widgets/base",
      "model_module_version": "1.2.0",
      "model_name": "LayoutModel",
      "state": {}
     },
     "93e5224d29f944b3a7ce45e99e40c7a4": {
      "model_module": "@jupyter-widgets/controls",
      "model_module_version": "1.5.0",
      "model_name": "IntSliderModel",
      "state": {
       "layout": "IPY_MODEL_65728aea16774a79a526be2f5fda4d5c",
       "style": "IPY_MODEL_e7221c80702c4c8a914d2188fe7c3253"
      }
     },
     "9404862ff9184a439d3bcfdd736eacc3": {
      "model_module": "@jupyter-widgets/controls",
      "model_module_version": "1.5.0",
      "model_name": "DescriptionStyleModel",
      "state": {
       "description_width": ""
      }
     },
     "98e596e185584e5eb873f21612af7c72": {
      "model_module": "@jupyter-widgets/controls",
      "model_module_version": "1.5.0",
      "model_name": "DescriptionStyleModel",
      "state": {
       "description_width": ""
      }
     },
     "992258945beb498794226991d10f29cf": {
      "model_module": "@jupyter-widgets/base",
      "model_module_version": "1.2.0",
      "model_name": "LayoutModel",
      "state": {}
     },
     "996acd336c67472db367788a2b3d95af": {
      "model_module": "@jupyter-widgets/controls",
      "model_module_version": "1.5.0",
      "model_name": "HBoxModel",
      "state": {
       "children": [
        "IPY_MODEL_13e1bfd3de6f457fa518b796e8f5ffd3",
        "IPY_MODEL_a54237cbe0754405a5c73407074c6517"
       ],
       "layout": "IPY_MODEL_eefe08683bc04747a72ea66f93193670"
      }
     },
     "9a3b7095af6849028d81461f8b55a000": {
      "model_module": "jupyter-matplotlib",
      "model_module_version": "^0.7.4",
      "model_name": "ToolbarModel",
      "state": {
       "layout": "IPY_MODEL_8489d94625e84ad089c6a7e78e88e6ed",
       "toolitems": [
        [
         "Home",
         "Reset original view",
         "home",
         "home"
        ],
        [
         "Back",
         "Back to previous view",
         "arrow-left",
         "back"
        ],
        [
         "Forward",
         "Forward to next view",
         "arrow-right",
         "forward"
        ],
        [
         "Pan",
         "Left button pans, Right button zooms\nx/y fixes axis, CTRL fixes aspect",
         "arrows",
         "pan"
        ],
        [
         "Zoom",
         "Zoom to rectangle\nx/y fixes axis, CTRL fixes aspect",
         "square-o",
         "zoom"
        ],
        [
         "Download",
         "Download plot",
         "floppy-o",
         "save_figure"
        ]
       ]
      }
     },
     "9c494e0b49a3490787d315468e019f32": {
      "model_module": "@jupyter-widgets/base",
      "model_module_version": "1.2.0",
      "model_name": "LayoutModel",
      "state": {}
     },
     "9d6898ac63824197936de559cdf40042": {
      "model_module": "@jupyter-widgets/controls",
      "model_module_version": "1.5.0",
      "model_name": "LinkModel",
      "state": {
       "source": [
        "IPY_MODEL_053466caf13e478fa22e057ab226a744",
        "value"
       ],
       "target": [
        "IPY_MODEL_91f63e6ed05a4c01b680343a6b75622b",
        "value"
       ]
      }
     },
     "9df51995c2ef4a1f96fe83e640a26147": {
      "model_module": "@jupyter-widgets/base",
      "model_module_version": "1.2.0",
      "model_name": "LayoutModel",
      "state": {}
     },
     "9e16c1c7c0df405782d5218cb1a67d0f": {
      "model_module": "@jupyter-widgets/base",
      "model_module_version": "1.2.0",
      "model_name": "LayoutModel",
      "state": {}
     },
     "9ec709a669fb4acdbb5c0cc2433f9a52": {
      "model_module": "@jupyter-widgets/controls",
      "model_module_version": "1.5.0",
      "model_name": "DescriptionStyleModel",
      "state": {
       "description_width": ""
      }
     },
     "9eda1e1afb0e420083ba4280981f9b60": {
      "model_module": "jupyter-matplotlib",
      "model_module_version": "^0.7.4",
      "model_name": "ToolbarModel",
      "state": {
       "layout": "IPY_MODEL_a3de8b9c5199460482cf6200ad10dc78",
       "toolitems": [
        [
         "Home",
         "Reset original view",
         "home",
         "home"
        ],
        [
         "Back",
         "Back to previous view",
         "arrow-left",
         "back"
        ],
        [
         "Forward",
         "Forward to next view",
         "arrow-right",
         "forward"
        ],
        [
         "Pan",
         "Left button pans, Right button zooms\nx/y fixes axis, CTRL fixes aspect",
         "arrows",
         "pan"
        ],
        [
         "Zoom",
         "Zoom to rectangle\nx/y fixes axis, CTRL fixes aspect",
         "square-o",
         "zoom"
        ],
        [
         "Download",
         "Download plot",
         "floppy-o",
         "save_figure"
        ]
       ]
      }
     },
     "a02802fc9bf2434f85958c557f1b33a9": {
      "model_module": "jupyter-matplotlib",
      "model_module_version": "^0.7.4",
      "model_name": "ToolbarModel",
      "state": {
       "layout": "IPY_MODEL_85c262c16a88423eb958a1932ea78868",
       "toolitems": [
        [
         "Home",
         "Reset original view",
         "home",
         "home"
        ],
        [
         "Back",
         "Back to previous view",
         "arrow-left",
         "back"
        ],
        [
         "Forward",
         "Forward to next view",
         "arrow-right",
         "forward"
        ],
        [
         "Pan",
         "Left button pans, Right button zooms\nx/y fixes axis, CTRL fixes aspect",
         "arrows",
         "pan"
        ],
        [
         "Zoom",
         "Zoom to rectangle\nx/y fixes axis, CTRL fixes aspect",
         "square-o",
         "zoom"
        ],
        [
         "Download",
         "Download plot",
         "floppy-o",
         "save_figure"
        ]
       ]
      }
     },
     "a0a045e86d324556805f7b5e90056830": {
      "model_module": "@jupyter-widgets/controls",
      "model_module_version": "1.5.0",
      "model_name": "IntSliderModel",
      "state": {
       "layout": "IPY_MODEL_bfb9dff24db1468fb899d90a91632fde",
       "style": "IPY_MODEL_368da4d6358a42ca9008920b17e9c5c1"
      }
     },
     "a0b853d5ee8349bfa4b10f241093449c": {
      "model_module": "@jupyter-widgets/base",
      "model_module_version": "1.2.0",
      "model_name": "LayoutModel",
      "state": {}
     },
     "a172776c1ae5401f813c4e6dc218107e": {
      "model_module": "@jupyter-widgets/base",
      "model_module_version": "1.2.0",
      "model_name": "LayoutModel",
      "state": {}
     },
     "a1ad2d936de641e5a6cdb05be8832186": {
      "model_module": "@jupyter-widgets/base",
      "model_module_version": "1.2.0",
      "model_name": "LayoutModel",
      "state": {}
     },
     "a257bd94dd8c4814beae794f84c502d6": {
      "model_module": "@jupyter-widgets/controls",
      "model_module_version": "1.5.0",
      "model_name": "PlayModel",
      "state": {
       "description": "Press play",
       "interval": 50,
       "layout": "IPY_MODEL_75411feea50a42a0982c12716efd904e",
       "style": "IPY_MODEL_5d77c719c8d342e885ac6b0f6cd2cb53"
      }
     },
     "a2c63757bd554bc6ac613b65d2348a93": {
      "model_module": "@jupyter-widgets/controls",
      "model_module_version": "1.5.0",
      "model_name": "HBoxModel",
      "state": {
       "children": [
        "IPY_MODEL_c270da0ee453475d8b9501d7d66f0cf7",
        "IPY_MODEL_d439b8eb49dc448e9e2ce6db1e46e947"
       ],
       "layout": "IPY_MODEL_578974352b3f4887ae16ff7a47b3aca0"
      }
     },
     "a2ee069b15644c37a5f78bf914b4fab5": {
      "model_module": "@jupyter-widgets/controls",
      "model_module_version": "1.5.0",
      "model_name": "PlayModel",
      "state": {
       "description": "Press play",
       "interval": 50,
       "layout": "IPY_MODEL_e4e14d20ec1440ee8c7e9bf6515a547e",
       "style": "IPY_MODEL_6932913365f64ecd84d516aac0876518"
      }
     },
     "a3699e342e2c48949c399f492848f8ea": {
      "model_module": "jupyter-matplotlib",
      "model_module_version": "^0.7.4",
      "model_name": "ToolbarModel",
      "state": {
       "layout": "IPY_MODEL_8076763a780d4c5f8c06a46d01021d02",
       "toolitems": [
        [
         "Home",
         "Reset original view",
         "home",
         "home"
        ],
        [
         "Back",
         "Back to previous view",
         "arrow-left",
         "back"
        ],
        [
         "Forward",
         "Forward to next view",
         "arrow-right",
         "forward"
        ],
        [
         "Pan",
         "Left button pans, Right button zooms\nx/y fixes axis, CTRL fixes aspect",
         "arrows",
         "pan"
        ],
        [
         "Zoom",
         "Zoom to rectangle\nx/y fixes axis, CTRL fixes aspect",
         "square-o",
         "zoom"
        ],
        [
         "Download",
         "Download plot",
         "floppy-o",
         "save_figure"
        ]
       ]
      }
     },
     "a3de8b9c5199460482cf6200ad10dc78": {
      "model_module": "@jupyter-widgets/base",
      "model_module_version": "1.2.0",
      "model_name": "LayoutModel",
      "state": {}
     },
     "a420dcaa6afb4285bb68b7487ff93426": {
      "model_module": "@jupyter-widgets/base",
      "model_module_version": "1.2.0",
      "model_name": "LayoutModel",
      "state": {}
     },
     "a4b9095e930149e1a79e41cb148e1667": {
      "model_module": "@jupyter-widgets/base",
      "model_module_version": "1.2.0",
      "model_name": "LayoutModel",
      "state": {}
     },
     "a4e2225213f745fab6ceab4bb5c4afff": {
      "model_module": "@jupyter-widgets/controls",
      "model_module_version": "1.5.0",
      "model_name": "SliderStyleModel",
      "state": {
       "description_width": ""
      }
     },
     "a54237cbe0754405a5c73407074c6517": {
      "model_module": "@jupyter-widgets/controls",
      "model_module_version": "1.5.0",
      "model_name": "IntSliderModel",
      "state": {
       "layout": "IPY_MODEL_41e2b9a15bf14b96a7f89587243a3d14",
       "style": "IPY_MODEL_f2d4fd9c62d349f4afd7da2d5a1e3434"
      }
     },
     "a588bde6c137430da82454f6f9ec4c26": {
      "model_module": "@jupyter-widgets/controls",
      "model_module_version": "1.5.0",
      "model_name": "PlayModel",
      "state": {
       "description": "Press play",
       "interval": 50,
       "layout": "IPY_MODEL_3f8a7ca90cf44fe78820893e7c3f4df7",
       "style": "IPY_MODEL_9404862ff9184a439d3bcfdd736eacc3"
      }
     },
     "a80ab5200b04435cb7b4406855ad33cd": {
      "model_module": "@jupyter-widgets/base",
      "model_module_version": "1.2.0",
      "model_name": "LayoutModel",
      "state": {}
     },
     "a836679b6fce4e53953bbfc3534abb61": {
      "model_module": "@jupyter-widgets/base",
      "model_module_version": "1.2.0",
      "model_name": "LayoutModel",
      "state": {}
     },
     "a84bb8582d5e4d068f3e4cfa3f530c8f": {
      "model_module": "@jupyter-widgets/controls",
      "model_module_version": "1.5.0",
      "model_name": "IntSliderModel",
      "state": {
       "layout": "IPY_MODEL_a0b853d5ee8349bfa4b10f241093449c",
       "style": "IPY_MODEL_ed9b6911bcac4dcdb2f1d116943e0fdf"
      }
     },
     "a8aa53dbb10140f68e368dc33281b35a": {
      "model_module": "@jupyter-widgets/base",
      "model_module_version": "1.2.0",
      "model_name": "LayoutModel",
      "state": {}
     },
     "a8e7bff254ba4d1899cd06ab0dd472f6": {
      "model_module": "jupyter-matplotlib",
      "model_module_version": "^0.7.4",
      "model_name": "ToolbarModel",
      "state": {
       "layout": "IPY_MODEL_65247d03244c4eaeb76514b7bebfd1ec",
       "toolitems": [
        [
         "Home",
         "Reset original view",
         "home",
         "home"
        ],
        [
         "Back",
         "Back to previous view",
         "arrow-left",
         "back"
        ],
        [
         "Forward",
         "Forward to next view",
         "arrow-right",
         "forward"
        ],
        [
         "Pan",
         "Left button pans, Right button zooms\nx/y fixes axis, CTRL fixes aspect",
         "arrows",
         "pan"
        ],
        [
         "Zoom",
         "Zoom to rectangle\nx/y fixes axis, CTRL fixes aspect",
         "square-o",
         "zoom"
        ],
        [
         "Download",
         "Download plot",
         "floppy-o",
         "save_figure"
        ]
       ]
      }
     },
     "a914ae5f0592453da16b8c5beaa81ff2": {
      "model_module": "@jupyter-widgets/base",
      "model_module_version": "1.2.0",
      "model_name": "LayoutModel",
      "state": {}
     },
     "a963b36be38041fbb10a143a1aaffd77": {
      "model_module": "@jupyter-widgets/controls",
      "model_module_version": "1.5.0",
      "model_name": "LinkModel",
      "state": {
       "source": [
        "IPY_MODEL_6a9417469cde4d75906c3adaf1ca2282",
        "value"
       ],
       "target": [
        "IPY_MODEL_4c97d00babe04cb488f2a8984cf08279",
        "value"
       ]
      }
     },
     "a99a353211804bcabf7e659074f333eb": {
      "model_module": "@jupyter-widgets/controls",
      "model_module_version": "1.5.0",
      "model_name": "IntSliderModel",
      "state": {
       "layout": "IPY_MODEL_1ce50fd17778464eb08e2aebcf9aee98",
       "style": "IPY_MODEL_bff0a251129942a890661f3cc151073d"
      }
     },
     "a9ad422f40644958b06867d55851df9d": {
      "model_module": "@jupyter-widgets/base",
      "model_module_version": "1.2.0",
      "model_name": "LayoutModel",
      "state": {}
     },
     "a9ba75a2387344d9adff6749ed2725cb": {
      "model_module": "@jupyter-widgets/base",
      "model_module_version": "1.2.0",
      "model_name": "LayoutModel",
      "state": {}
     },
     "aa785c872dff4300a78ab084586d1fb2": {
      "model_module": "@jupyter-widgets/controls",
      "model_module_version": "1.5.0",
      "model_name": "HBoxModel",
      "state": {
       "children": [
        "IPY_MODEL_a588bde6c137430da82454f6f9ec4c26",
        "IPY_MODEL_5e8f20a71014461499d638a7135fc7e1"
       ],
       "layout": "IPY_MODEL_0a5ecefdc89e4f5ab4215068861d1772"
      }
     },
     "ab323910237e4cc7ace9a6bda120c3e3": {
      "model_module": "jupyter-matplotlib",
      "model_module_version": "^0.7.4",
      "model_name": "ToolbarModel",
      "state": {
       "layout": "IPY_MODEL_5d35ad3b0f85433596d827582a1e67e2",
       "toolitems": [
        [
         "Home",
         "Reset original view",
         "home",
         "home"
        ],
        [
         "Back",
         "Back to previous view",
         "arrow-left",
         "back"
        ],
        [
         "Forward",
         "Forward to next view",
         "arrow-right",
         "forward"
        ],
        [
         "Pan",
         "Left button pans, Right button zooms\nx/y fixes axis, CTRL fixes aspect",
         "arrows",
         "pan"
        ],
        [
         "Zoom",
         "Zoom to rectangle\nx/y fixes axis, CTRL fixes aspect",
         "square-o",
         "zoom"
        ],
        [
         "Download",
         "Download plot",
         "floppy-o",
         "save_figure"
        ]
       ]
      }
     },
     "ad2570e61dba4bbb8ff2e54d5017a481": {
      "model_module": "@jupyter-widgets/controls",
      "model_module_version": "1.5.0",
      "model_name": "HBoxModel",
      "state": {
       "children": [
        "IPY_MODEL_dcfa97a166bf4ecd8a9d08808f69095f",
        "IPY_MODEL_a0a045e86d324556805f7b5e90056830"
       ],
       "layout": "IPY_MODEL_1118cc2007ac448b86bd1aae98709c72"
      }
     },
     "aeef1e7ebd254f8e937f019ef494eee8": {
      "model_module": "@jupyter-widgets/base",
      "model_module_version": "1.2.0",
      "model_name": "LayoutModel",
      "state": {}
     },
     "afbdfd012c584bc292870978186cf670": {
      "model_module": "@jupyter-widgets/base",
      "model_module_version": "1.2.0",
      "model_name": "LayoutModel",
      "state": {}
     },
     "b07aebba42bf48a4a514848b918fe22d": {
      "model_module": "@jupyter-widgets/controls",
      "model_module_version": "1.5.0",
      "model_name": "HBoxModel",
      "state": {
       "children": [
        "IPY_MODEL_4ceb24c35f5f459aaff8a2b4f0035b5c",
        "IPY_MODEL_11cc83781fac464f95834c3c0580fc09"
       ],
       "layout": "IPY_MODEL_dae7efd6aa034406ba9c5119958727e8"
      }
     },
     "b0aeca02f2b94a97b0270f1b5dfa7c19": {
      "model_module": "@jupyter-widgets/base",
      "model_module_version": "1.2.0",
      "model_name": "LayoutModel",
      "state": {}
     },
     "b2775dc68da34750b1ec27e93856ff70": {
      "model_module": "jupyter-matplotlib",
      "model_module_version": "^0.7.4",
      "model_name": "ToolbarModel",
      "state": {
       "layout": "IPY_MODEL_8e8e8c10c45f45beb499884945e6c210",
       "toolitems": [
        [
         "Home",
         "Reset original view",
         "home",
         "home"
        ],
        [
         "Back",
         "Back to previous view",
         "arrow-left",
         "back"
        ],
        [
         "Forward",
         "Forward to next view",
         "arrow-right",
         "forward"
        ],
        [
         "Pan",
         "Left button pans, Right button zooms\nx/y fixes axis, CTRL fixes aspect",
         "arrows",
         "pan"
        ],
        [
         "Zoom",
         "Zoom to rectangle\nx/y fixes axis, CTRL fixes aspect",
         "square-o",
         "zoom"
        ],
        [
         "Download",
         "Download plot",
         "floppy-o",
         "save_figure"
        ]
       ]
      }
     },
     "b2fbdf969f0041ceb38df6c2660f45aa": {
      "model_module": "@jupyter-widgets/base",
      "model_module_version": "1.2.0",
      "model_name": "LayoutModel",
      "state": {}
     },
     "b320eda728684b0faa2dd07392de2b92": {
      "model_module": "jupyter-matplotlib",
      "model_module_version": "^0.7.4",
      "model_name": "ToolbarModel",
      "state": {
       "layout": "IPY_MODEL_2fe9e6e443604538948a130e930d447f",
       "toolitems": [
        [
         "Home",
         "Reset original view",
         "home",
         "home"
        ],
        [
         "Back",
         "Back to previous view",
         "arrow-left",
         "back"
        ],
        [
         "Forward",
         "Forward to next view",
         "arrow-right",
         "forward"
        ],
        [
         "Pan",
         "Left button pans, Right button zooms\nx/y fixes axis, CTRL fixes aspect",
         "arrows",
         "pan"
        ],
        [
         "Zoom",
         "Zoom to rectangle\nx/y fixes axis, CTRL fixes aspect",
         "square-o",
         "zoom"
        ],
        [
         "Download",
         "Download plot",
         "floppy-o",
         "save_figure"
        ]
       ]
      }
     },
     "b3ac37f30ba74fcbba770bc061bd33e1": {
      "model_module": "@jupyter-widgets/controls",
      "model_module_version": "1.5.0",
      "model_name": "LinkModel",
      "state": {
       "source": [
        "IPY_MODEL_436a362fbb464596a8d91078822fb1a5",
        "value"
       ],
       "target": [
        "IPY_MODEL_f8cda4ccf0f3446eb8ce345b59765d3e",
        "value"
       ]
      }
     },
     "b5e678d4a2e44a3d8e88aae15ed0b25b": {
      "model_module": "@jupyter-widgets/base",
      "model_module_version": "1.2.0",
      "model_name": "LayoutModel",
      "state": {}
     },
     "b7daab85070049629d4ed121eb94dda3": {
      "model_module": "@jupyter-widgets/controls",
      "model_module_version": "1.5.0",
      "model_name": "SliderStyleModel",
      "state": {
       "description_width": ""
      }
     },
     "b7f9413626e649c685a65b2709821117": {
      "model_module": "@jupyter-widgets/base",
      "model_module_version": "1.2.0",
      "model_name": "LayoutModel",
      "state": {}
     },
     "b82d9494542f4326b5c7cc20df99b07e": {
      "model_module": "@jupyter-widgets/base",
      "model_module_version": "1.2.0",
      "model_name": "LayoutModel",
      "state": {}
     },
     "b9b082e5a9c1409682bbb5417ea2faea": {
      "model_module": "@jupyter-widgets/base",
      "model_module_version": "1.2.0",
      "model_name": "LayoutModel",
      "state": {}
     },
     "b9e12268bf3b469a8efcca56c8c67448": {
      "model_module": "@jupyter-widgets/base",
      "model_module_version": "1.2.0",
      "model_name": "LayoutModel",
      "state": {}
     },
     "ba1ae8f051104674923b6c164ca1c5e5": {
      "model_module": "@jupyter-widgets/controls",
      "model_module_version": "1.5.0",
      "model_name": "HBoxModel",
      "state": {
       "children": [
        "IPY_MODEL_08e3199e985645d8b0617059d654c163",
        "IPY_MODEL_e681a291279a457ba37c3acf2400753d"
       ],
       "layout": "IPY_MODEL_7dcf797b45294d8fa8941035f3e19425"
      }
     },
     "ba420f2db3524836a058af82a71d6e41": {
      "model_module": "@jupyter-widgets/controls",
      "model_module_version": "1.5.0",
      "model_name": "IntSliderModel",
      "state": {
       "layout": "IPY_MODEL_d1fe4bc7cf724dcdb27cf570c4797087",
       "style": "IPY_MODEL_28b3f0cb82f443bd86157f2d44510fc0"
      }
     },
     "bc64f3dc7a854463a06e5aa1791fbd80": {
      "model_module": "@jupyter-widgets/controls",
      "model_module_version": "1.5.0",
      "model_name": "HBoxModel",
      "state": {
       "children": [
        "IPY_MODEL_2707d14e69e248cbb8a2bfb703073d0b",
        "IPY_MODEL_0120c9940ffc497caffe9d29f9358728"
       ],
       "layout": "IPY_MODEL_8f62a10960e84c95973a9f248f507bd9"
      }
     },
     "beb66b6154b24409b2c2e48cabd5f7ea": {
      "model_module": "jupyter-matplotlib",
      "model_module_version": "^0.7.4",
      "model_name": "ToolbarModel",
      "state": {
       "layout": "IPY_MODEL_8eb417a50efa40a0ac737e0d0e0be574",
       "toolitems": [
        [
         "Home",
         "Reset original view",
         "home",
         "home"
        ],
        [
         "Back",
         "Back to previous view",
         "arrow-left",
         "back"
        ],
        [
         "Forward",
         "Forward to next view",
         "arrow-right",
         "forward"
        ],
        [
         "Pan",
         "Left button pans, Right button zooms\nx/y fixes axis, CTRL fixes aspect",
         "arrows",
         "pan"
        ],
        [
         "Zoom",
         "Zoom to rectangle\nx/y fixes axis, CTRL fixes aspect",
         "square-o",
         "zoom"
        ],
        [
         "Download",
         "Download plot",
         "floppy-o",
         "save_figure"
        ]
       ]
      }
     },
     "bebfa6da4e1f48a8b7255465f542776d": {
      "model_module": "@jupyter-widgets/base",
      "model_module_version": "1.2.0",
      "model_name": "LayoutModel",
      "state": {}
     },
     "bee419a9e6644cd6908108f292fb4466": {
      "model_module": "jupyter-matplotlib",
      "model_module_version": "^0.7.4",
      "model_name": "ToolbarModel",
      "state": {
       "layout": "IPY_MODEL_b82d9494542f4326b5c7cc20df99b07e",
       "toolitems": [
        [
         "Home",
         "Reset original view",
         "home",
         "home"
        ],
        [
         "Back",
         "Back to previous view",
         "arrow-left",
         "back"
        ],
        [
         "Forward",
         "Forward to next view",
         "arrow-right",
         "forward"
        ],
        [
         "Pan",
         "Left button pans, Right button zooms\nx/y fixes axis, CTRL fixes aspect",
         "arrows",
         "pan"
        ],
        [
         "Zoom",
         "Zoom to rectangle\nx/y fixes axis, CTRL fixes aspect",
         "square-o",
         "zoom"
        ],
        [
         "Download",
         "Download plot",
         "floppy-o",
         "save_figure"
        ]
       ]
      }
     },
     "beef0ade483a46dbb06e7c6e6f6984f9": {
      "model_module": "@jupyter-widgets/base",
      "model_module_version": "1.2.0",
      "model_name": "LayoutModel",
      "state": {}
     },
     "bf03571854aa4e4fa8ce00ffb2e77750": {
      "model_module": "@jupyter-widgets/base",
      "model_module_version": "1.2.0",
      "model_name": "LayoutModel",
      "state": {}
     },
     "bf1fdfb0218343af9512b83fdae5a161": {
      "model_module": "@jupyter-widgets/base",
      "model_module_version": "1.2.0",
      "model_name": "LayoutModel",
      "state": {}
     },
     "bf9fe8f093bd4037bb23a0a95f82bea9": {
      "model_module": "@jupyter-widgets/controls",
      "model_module_version": "1.5.0",
      "model_name": "HBoxModel",
      "state": {
       "children": [
        "IPY_MODEL_a2ee069b15644c37a5f78bf914b4fab5",
        "IPY_MODEL_e69b12abf80b496b90d94690543be55f"
       ],
       "layout": "IPY_MODEL_81f4972937764099abb6c2e5535fe4f3"
      }
     },
     "bfb9dff24db1468fb899d90a91632fde": {
      "model_module": "@jupyter-widgets/base",
      "model_module_version": "1.2.0",
      "model_name": "LayoutModel",
      "state": {}
     },
     "bfd89226afba491ba7f03199a967768c": {
      "model_module": "@jupyter-widgets/controls",
      "model_module_version": "1.5.0",
      "model_name": "PlayModel",
      "state": {
       "description": "Press play",
       "interval": 20,
       "layout": "IPY_MODEL_909d7c8e196a44438f10b53a7f4e977e",
       "style": "IPY_MODEL_50dc9bbae3c04ff59643913101efdb79",
       "value": 100
      }
     },
     "bff0a251129942a890661f3cc151073d": {
      "model_module": "@jupyter-widgets/controls",
      "model_module_version": "1.5.0",
      "model_name": "SliderStyleModel",
      "state": {
       "description_width": ""
      }
     },
     "c04a0939fafd41b2b18adf07be0126cc": {
      "model_module": "@jupyter-widgets/base",
      "model_module_version": "1.2.0",
      "model_name": "LayoutModel",
      "state": {}
     },
     "c0b91a0485f84b5cbb1f0a113771ae88": {
      "model_module": "jupyter-matplotlib",
      "model_module_version": "^0.7.4",
      "model_name": "ToolbarModel",
      "state": {
       "layout": "IPY_MODEL_a172776c1ae5401f813c4e6dc218107e",
       "toolitems": [
        [
         "Home",
         "Reset original view",
         "home",
         "home"
        ],
        [
         "Back",
         "Back to previous view",
         "arrow-left",
         "back"
        ],
        [
         "Forward",
         "Forward to next view",
         "arrow-right",
         "forward"
        ],
        [
         "Pan",
         "Left button pans, Right button zooms\nx/y fixes axis, CTRL fixes aspect",
         "arrows",
         "pan"
        ],
        [
         "Zoom",
         "Zoom to rectangle\nx/y fixes axis, CTRL fixes aspect",
         "square-o",
         "zoom"
        ],
        [
         "Download",
         "Download plot",
         "floppy-o",
         "save_figure"
        ]
       ]
      }
     },
     "c1a4c664e4444c65a182281fec13a0b4": {
      "model_module": "@jupyter-widgets/base",
      "model_module_version": "1.2.0",
      "model_name": "LayoutModel",
      "state": {}
     },
     "c237dcb66d69406abe58a2797459efc9": {
      "model_module": "@jupyter-widgets/controls",
      "model_module_version": "1.5.0",
      "model_name": "PlayModel",
      "state": {
       "description": "Press play",
       "interval": 50,
       "layout": "IPY_MODEL_b2fbdf969f0041ceb38df6c2660f45aa",
       "style": "IPY_MODEL_fafa4c693ad440e68fb246a37bdf2ac0",
       "value": 100
      }
     },
     "c270da0ee453475d8b9501d7d66f0cf7": {
      "model_module": "@jupyter-widgets/controls",
      "model_module_version": "1.5.0",
      "model_name": "PlayModel",
      "state": {
       "description": "Press play",
       "interval": 50,
       "layout": "IPY_MODEL_b9b082e5a9c1409682bbb5417ea2faea",
       "style": "IPY_MODEL_409131f410cb4a10b7d5a0ab9415dee8"
      }
     },
     "c30cafa6703041f6aec6de1283f68c75": {
      "model_module": "@jupyter-widgets/base",
      "model_module_version": "1.2.0",
      "model_name": "LayoutModel",
      "state": {}
     },
     "c349985045c8451494bdcb0254153734": {
      "model_module": "@jupyter-widgets/controls",
      "model_module_version": "1.5.0",
      "model_name": "HBoxModel",
      "state": {
       "children": [
        "IPY_MODEL_0986d292b1a54ec1b4e796dbdbe4a5b6",
        "IPY_MODEL_2180c38546804c759104fe6b113994c8"
       ],
       "layout": "IPY_MODEL_dba04695b0104398be5425d43767dc30"
      }
     },
     "c368e0dc788d417aa33ff876ce92bfd4": {
      "model_module": "@jupyter-widgets/controls",
      "model_module_version": "1.5.0",
      "model_name": "DescriptionStyleModel",
      "state": {
       "description_width": ""
      }
     },
     "c41ce69362ca4aada6c55b18f243d4dc": {
      "model_module": "@jupyter-widgets/base",
      "model_module_version": "1.2.0",
      "model_name": "LayoutModel",
      "state": {}
     },
     "c44cc45199824b308dadf2be44bf6a51": {
      "model_module": "@jupyter-widgets/controls",
      "model_module_version": "1.5.0",
      "model_name": "LinkModel",
      "state": {
       "source": [
        "IPY_MODEL_a2ee069b15644c37a5f78bf914b4fab5",
        "value"
       ],
       "target": [
        "IPY_MODEL_e69b12abf80b496b90d94690543be55f",
        "value"
       ]
      }
     },
     "c67a072d81e74517875e63b4aeee203d": {
      "model_module": "@jupyter-widgets/base",
      "model_module_version": "1.2.0",
      "model_name": "LayoutModel",
      "state": {}
     },
     "c82de662fa8a4dbea57d662deca7c733": {
      "model_module": "@jupyter-widgets/controls",
      "model_module_version": "1.5.0",
      "model_name": "HBoxModel",
      "state": {
       "children": [
        "IPY_MODEL_48c7570050bf43369b31405d7cf9049d",
        "IPY_MODEL_a84bb8582d5e4d068f3e4cfa3f530c8f"
       ],
       "layout": "IPY_MODEL_54d4e1778f0c49da874009fb76245a63"
      }
     },
     "c8d5f1bcbad341dfbea62556226b808c": {
      "model_module": "@jupyter-widgets/controls",
      "model_module_version": "1.5.0",
      "model_name": "LinkModel",
      "state": {
       "source": [
        "IPY_MODEL_24aa611ac479416b9df125ec495a5321",
        "value"
       ],
       "target": [
        "IPY_MODEL_807c826e35644a3c92d33f67f51edc1b",
        "value"
       ]
      }
     },
     "c9c7288a64d84e38992c90a931a21f75": {
      "model_module": "@jupyter-widgets/controls",
      "model_module_version": "1.5.0",
      "model_name": "HBoxModel",
      "state": {
       "children": [
        "IPY_MODEL_4cfee3ddb89b4aa9bc6656b081acb499",
        "IPY_MODEL_4b9ffdbd41e84c19800f1de55caf7824"
       ],
       "layout": "IPY_MODEL_93d69176d3a0430191b661419b124479"
      }
     },
     "ca65aaff1d9047ecadddd70e6bae1b60": {
      "model_module": "@jupyter-widgets/base",
      "model_module_version": "1.2.0",
      "model_name": "LayoutModel",
      "state": {}
     },
     "cb107b6cf68e4f36901f4ce6bd8989ad": {
      "model_module": "@jupyter-widgets/base",
      "model_module_version": "1.2.0",
      "model_name": "LayoutModel",
      "state": {}
     },
     "cb4d1e7eac964de59e8a4d73d678511a": {
      "model_module": "@jupyter-widgets/base",
      "model_module_version": "1.2.0",
      "model_name": "LayoutModel",
      "state": {}
     },
     "ce4499f68ef34335b10453779f014de2": {
      "model_module": "@jupyter-widgets/base",
      "model_module_version": "1.2.0",
      "model_name": "LayoutModel",
      "state": {}
     },
     "d0748cbb31e54f74bd76ddd944be8cb2": {
      "model_module": "@jupyter-widgets/controls",
      "model_module_version": "1.5.0",
      "model_name": "DescriptionStyleModel",
      "state": {
       "description_width": ""
      }
     },
     "d121e147608e4161aab233fc846ad8ea": {
      "model_module": "@jupyter-widgets/base",
      "model_module_version": "1.2.0",
      "model_name": "LayoutModel",
      "state": {}
     },
     "d1b85a5ce85e4080b539b8b92ca4a5d9": {
      "model_module": "@jupyter-widgets/controls",
      "model_module_version": "1.5.0",
      "model_name": "PlayModel",
      "state": {
       "description": "Press play",
       "interval": 50,
       "layout": "IPY_MODEL_3405a997f579432eb816e1ee9c17f944",
       "style": "IPY_MODEL_9ec709a669fb4acdbb5c0cc2433f9a52"
      }
     },
     "d1e7968a560146d9b36afcdd10782abc": {
      "model_module": "@jupyter-widgets/base",
      "model_module_version": "1.2.0",
      "model_name": "LayoutModel",
      "state": {}
     },
     "d1e7d37c2a85455ea0352e8df734fa54": {
      "model_module": "@jupyter-widgets/controls",
      "model_module_version": "1.5.0",
      "model_name": "IntSliderModel",
      "state": {
       "layout": "IPY_MODEL_45761b895be546d594c36d4d17616fb0",
       "style": "IPY_MODEL_27f9b854795e4301aeec23bf11296279"
      }
     },
     "d1fe4bc7cf724dcdb27cf570c4797087": {
      "model_module": "@jupyter-widgets/base",
      "model_module_version": "1.2.0",
      "model_name": "LayoutModel",
      "state": {}
     },
     "d223d20460624adbb3177bff11414d65": {
      "model_module": "@jupyter-widgets/controls",
      "model_module_version": "1.5.0",
      "model_name": "DescriptionStyleModel",
      "state": {
       "description_width": ""
      }
     },
     "d3e4a7d34f61489397f3eac9eca7066d": {
      "model_module": "@jupyter-widgets/controls",
      "model_module_version": "1.5.0",
      "model_name": "DescriptionStyleModel",
      "state": {
       "description_width": ""
      }
     },
     "d439b8eb49dc448e9e2ce6db1e46e947": {
      "model_module": "@jupyter-widgets/controls",
      "model_module_version": "1.5.0",
      "model_name": "IntSliderModel",
      "state": {
       "layout": "IPY_MODEL_0f115505271f4baca849d483f81ae55d",
       "style": "IPY_MODEL_3b755f9a8e624b6d9ada6efdecbd7dda"
      }
     },
     "d6ad2c5adeed48788ff50209ae114631": {
      "model_module": "@jupyter-widgets/base",
      "model_module_version": "1.2.0",
      "model_name": "LayoutModel",
      "state": {}
     },
     "d737c735721b484399232b1344a4d6e0": {
      "model_module": "@jupyter-widgets/controls",
      "model_module_version": "1.5.0",
      "model_name": "SliderStyleModel",
      "state": {
       "description_width": ""
      }
     },
     "d73810e4b9d949ccba98463be731a701": {
      "model_module": "@jupyter-widgets/controls",
      "model_module_version": "1.5.0",
      "model_name": "DescriptionStyleModel",
      "state": {
       "description_width": ""
      }
     },
     "d86e8952c66a46b6b9e6d8c4220aed1f": {
      "model_module": "@jupyter-widgets/controls",
      "model_module_version": "1.5.0",
      "model_name": "HBoxModel",
      "state": {
       "children": [
        "IPY_MODEL_1240516e0b894c0f8f13f0e7fded7b34",
        "IPY_MODEL_6d84a42b09a7414a895a976dacd6a64c"
       ],
       "layout": "IPY_MODEL_992258945beb498794226991d10f29cf"
      }
     },
     "dab51c3d54044bfaa563de4b474ed854": {
      "model_module": "@jupyter-widgets/base",
      "model_module_version": "1.2.0",
      "model_name": "LayoutModel",
      "state": {}
     },
     "dae7efd6aa034406ba9c5119958727e8": {
      "model_module": "@jupyter-widgets/base",
      "model_module_version": "1.2.0",
      "model_name": "LayoutModel",
      "state": {}
     },
     "db65659aa3bd4149ad0ed2551124cdfd": {
      "model_module": "@jupyter-widgets/controls",
      "model_module_version": "1.5.0",
      "model_name": "HBoxModel",
      "state": {
       "children": [
        "IPY_MODEL_6a9417469cde4d75906c3adaf1ca2282",
        "IPY_MODEL_4c97d00babe04cb488f2a8984cf08279"
       ],
       "layout": "IPY_MODEL_3824cf71e38241aaa575c06d31f8d62f"
      }
     },
     "dba04695b0104398be5425d43767dc30": {
      "model_module": "@jupyter-widgets/base",
      "model_module_version": "1.2.0",
      "model_name": "LayoutModel",
      "state": {}
     },
     "dbad1e02d534421aa785a9d4a8cf821c": {
      "model_module": "@jupyter-widgets/base",
      "model_module_version": "1.2.0",
      "model_name": "LayoutModel",
      "state": {}
     },
     "dc72275fd51943bcac6e5cf41546dd76": {
      "model_module": "jupyter-matplotlib",
      "model_module_version": "^0.7.4",
      "model_name": "ToolbarModel",
      "state": {
       "layout": "IPY_MODEL_cb107b6cf68e4f36901f4ce6bd8989ad",
       "toolitems": [
        [
         "Home",
         "Reset original view",
         "home",
         "home"
        ],
        [
         "Back",
         "Back to previous view",
         "arrow-left",
         "back"
        ],
        [
         "Forward",
         "Forward to next view",
         "arrow-right",
         "forward"
        ],
        [
         "Pan",
         "Left button pans, Right button zooms\nx/y fixes axis, CTRL fixes aspect",
         "arrows",
         "pan"
        ],
        [
         "Zoom",
         "Zoom to rectangle\nx/y fixes axis, CTRL fixes aspect",
         "square-o",
         "zoom"
        ],
        [
         "Download",
         "Download plot",
         "floppy-o",
         "save_figure"
        ]
       ]
      }
     },
     "dcfa97a166bf4ecd8a9d08808f69095f": {
      "model_module": "@jupyter-widgets/controls",
      "model_module_version": "1.5.0",
      "model_name": "PlayModel",
      "state": {
       "description": "Press play",
       "interval": 20,
       "layout": "IPY_MODEL_c67a072d81e74517875e63b4aeee203d",
       "style": "IPY_MODEL_67d006612beb47c5ab597c63623e950d"
      }
     },
     "dd016ec79f274a06bbccd74cd531de23": {
      "model_module": "@jupyter-widgets/controls",
      "model_module_version": "1.5.0",
      "model_name": "LinkModel",
      "state": {
       "source": [
        "IPY_MODEL_8634f6496aa2452aa5e8e1acb3d3d663",
        "value"
       ],
       "target": [
        "IPY_MODEL_ba420f2db3524836a058af82a71d6e41",
        "value"
       ]
      }
     },
     "dd1058a522434b90baf3bc2760439f6b": {
      "model_module": "@jupyter-widgets/base",
      "model_module_version": "1.2.0",
      "model_name": "LayoutModel",
      "state": {}
     },
     "dd1d8766f5cd45cca92efa8be40f03f3": {
      "model_module": "@jupyter-widgets/base",
      "model_module_version": "1.2.0",
      "model_name": "LayoutModel",
      "state": {}
     },
     "dd9317af380943ac8c0efbd5491e8855": {
      "model_module": "@jupyter-widgets/base",
      "model_module_version": "1.2.0",
      "model_name": "LayoutModel",
      "state": {}
     },
     "de06165cb07b4fdd805bce7adbd0e508": {
      "model_module": "@jupyter-widgets/controls",
      "model_module_version": "1.5.0",
      "model_name": "DescriptionStyleModel",
      "state": {
       "description_width": ""
      }
     },
     "df92600215c54bfd9c68cfc05fa8828a": {
      "model_module": "jupyter-matplotlib",
      "model_module_version": "^0.7.4",
      "model_name": "ToolbarModel",
      "state": {
       "layout": "IPY_MODEL_fe86783e81b94281bb8929f27ec874c9",
       "toolitems": [
        [
         "Home",
         "Reset original view",
         "home",
         "home"
        ],
        [
         "Back",
         "Back to previous view",
         "arrow-left",
         "back"
        ],
        [
         "Forward",
         "Forward to next view",
         "arrow-right",
         "forward"
        ],
        [
         "Pan",
         "Left button pans, Right button zooms\nx/y fixes axis, CTRL fixes aspect",
         "arrows",
         "pan"
        ],
        [
         "Zoom",
         "Zoom to rectangle\nx/y fixes axis, CTRL fixes aspect",
         "square-o",
         "zoom"
        ],
        [
         "Download",
         "Download plot",
         "floppy-o",
         "save_figure"
        ]
       ]
      }
     },
     "e031197058a946cca53003e7709802e9": {
      "model_module": "@jupyter-widgets/controls",
      "model_module_version": "1.5.0",
      "model_name": "SliderStyleModel",
      "state": {
       "description_width": ""
      }
     },
     "e03ae5061dd14e70b39bb205b22d39d6": {
      "model_module": "jupyter-matplotlib",
      "model_module_version": "^0.7.4",
      "model_name": "ToolbarModel",
      "state": {
       "layout": "IPY_MODEL_8489eccba3e94efbb00927e51db5aa7a",
       "toolitems": [
        [
         "Home",
         "Reset original view",
         "home",
         "home"
        ],
        [
         "Back",
         "Back to previous view",
         "arrow-left",
         "back"
        ],
        [
         "Forward",
         "Forward to next view",
         "arrow-right",
         "forward"
        ],
        [
         "Pan",
         "Left button pans, Right button zooms\nx/y fixes axis, CTRL fixes aspect",
         "arrows",
         "pan"
        ],
        [
         "Zoom",
         "Zoom to rectangle\nx/y fixes axis, CTRL fixes aspect",
         "square-o",
         "zoom"
        ],
        [
         "Download",
         "Download plot",
         "floppy-o",
         "save_figure"
        ]
       ]
      }
     },
     "e08a242afd8645f0b1503aab2c28c640": {
      "model_module": "@jupyter-widgets/base",
      "model_module_version": "1.2.0",
      "model_name": "LayoutModel",
      "state": {}
     },
     "e107a1b07db84acab7293765984da276": {
      "model_module": "@jupyter-widgets/controls",
      "model_module_version": "1.5.0",
      "model_name": "LinkModel",
      "state": {
       "source": [
        "IPY_MODEL_2720f1662d994737aad40a41c8ddbf3c",
        "value"
       ],
       "target": [
        "IPY_MODEL_0cf86d53fc8442eb8cc513eb1ec1c535",
        "value"
       ]
      }
     },
     "e1555dd00aca485c8132e232c1fe93d4": {
      "model_module": "@jupyter-widgets/base",
      "model_module_version": "1.2.0",
      "model_name": "LayoutModel",
      "state": {}
     },
     "e1aa636e7bfb43428a67edec318a9710": {
      "model_module": "@jupyter-widgets/controls",
      "model_module_version": "1.5.0",
      "model_name": "IntSliderModel",
      "state": {
       "layout": "IPY_MODEL_dd1d8766f5cd45cca92efa8be40f03f3",
       "style": "IPY_MODEL_19e60f6936f74e05b840051dd9e5e243",
       "value": 100
      }
     },
     "e1aef09d15ef4287a45250d40fc88a2e": {
      "model_module": "@jupyter-widgets/base",
      "model_module_version": "1.2.0",
      "model_name": "LayoutModel",
      "state": {}
     },
     "e1b47d518f8a45bea057ae3f0316ce38": {
      "model_module": "@jupyter-widgets/controls",
      "model_module_version": "1.5.0",
      "model_name": "DescriptionStyleModel",
      "state": {
       "description_width": ""
      }
     },
     "e2fb36d79ea74962a42bf60a5fd4c640": {
      "model_module": "@jupyter-widgets/controls",
      "model_module_version": "1.5.0",
      "model_name": "HBoxModel",
      "state": {
       "children": [
        "IPY_MODEL_545608fb8f0a4d6aabe1a020745a4ba2",
        "IPY_MODEL_853a46e5f3464e6e98761f625a6ee380"
       ],
       "layout": "IPY_MODEL_ec96a15b45f749fe933af4e7d0e1f355"
      }
     },
     "e3ff2eecca65448d86d75e8b2a598a78": {
      "model_module": "@jupyter-widgets/controls",
      "model_module_version": "1.5.0",
      "model_name": "LinkModel",
      "state": {
       "source": [
        "IPY_MODEL_dcfa97a166bf4ecd8a9d08808f69095f",
        "value"
       ],
       "target": [
        "IPY_MODEL_a0a045e86d324556805f7b5e90056830",
        "value"
       ]
      }
     },
     "e45f43fdec8c415584cc5b8fc833a005": {
      "model_module": "@jupyter-widgets/controls",
      "model_module_version": "1.5.0",
      "model_name": "LinkModel",
      "state": {
       "source": [
        "IPY_MODEL_0986d292b1a54ec1b4e796dbdbe4a5b6",
        "value"
       ],
       "target": [
        "IPY_MODEL_2180c38546804c759104fe6b113994c8",
        "value"
       ]
      }
     },
     "e46338368c774262b1cfa32fe8e293e1": {
      "model_module": "@jupyter-widgets/controls",
      "model_module_version": "1.5.0",
      "model_name": "LinkModel",
      "state": {
       "source": [
        "IPY_MODEL_545608fb8f0a4d6aabe1a020745a4ba2",
        "value"
       ],
       "target": [
        "IPY_MODEL_853a46e5f3464e6e98761f625a6ee380",
        "value"
       ]
      }
     },
     "e4e14d20ec1440ee8c7e9bf6515a547e": {
      "model_module": "@jupyter-widgets/base",
      "model_module_version": "1.2.0",
      "model_name": "LayoutModel",
      "state": {}
     },
     "e6096518a5a6459da2f0c03268ee00bd": {
      "model_module": "@jupyter-widgets/base",
      "model_module_version": "1.2.0",
      "model_name": "LayoutModel",
      "state": {}
     },
     "e681a291279a457ba37c3acf2400753d": {
      "model_module": "@jupyter-widgets/controls",
      "model_module_version": "1.5.0",
      "model_name": "IntSliderModel",
      "state": {
       "layout": "IPY_MODEL_36ddbb17ec41403283af352427e1269a",
       "style": "IPY_MODEL_615e7282b34e4632802e579b40fa2361"
      }
     },
     "e69b12abf80b496b90d94690543be55f": {
      "model_module": "@jupyter-widgets/controls",
      "model_module_version": "1.5.0",
      "model_name": "IntSliderModel",
      "state": {
       "layout": "IPY_MODEL_49e25f3a71af4b3ca5dde65cd0ce2321",
       "style": "IPY_MODEL_3354db7c70b643e78a70f40cfabc55fb"
      }
     },
     "e7221c80702c4c8a914d2188fe7c3253": {
      "model_module": "@jupyter-widgets/controls",
      "model_module_version": "1.5.0",
      "model_name": "SliderStyleModel",
      "state": {
       "description_width": ""
      }
     },
     "e73dd95d746347c1a442b71a9659fd60": {
      "model_module": "@jupyter-widgets/base",
      "model_module_version": "1.2.0",
      "model_name": "LayoutModel",
      "state": {}
     },
     "e73e2fd585a5416cb36774fb00dc5033": {
      "model_module": "@jupyter-widgets/controls",
      "model_module_version": "1.5.0",
      "model_name": "LinkModel",
      "state": {
       "source": [
        "IPY_MODEL_d1b85a5ce85e4080b539b8b92ca4a5d9",
        "value"
       ],
       "target": [
        "IPY_MODEL_85c6bb1290224465b175fa345aa5bf18",
        "value"
       ]
      }
     },
     "e74e6f10b94e4b12ad35fdc5cb4de7b7": {
      "model_module": "@jupyter-widgets/base",
      "model_module_version": "1.2.0",
      "model_name": "LayoutModel",
      "state": {}
     },
     "e7e1448c91e84065a2752ce15e6e5abf": {
      "model_module": "@jupyter-widgets/base",
      "model_module_version": "1.2.0",
      "model_name": "LayoutModel",
      "state": {}
     },
     "e8227164f3224e959c5e907df3f6e726": {
      "model_module": "@jupyter-widgets/base",
      "model_module_version": "1.2.0",
      "model_name": "LayoutModel",
      "state": {}
     },
     "e9974a20559d44e7b3f9b833b621d31d": {
      "model_module": "@jupyter-widgets/controls",
      "model_module_version": "1.5.0",
      "model_name": "HBoxModel",
      "state": {
       "children": [
        "IPY_MODEL_120629ca433b4d989e8452abd398fb54",
        "IPY_MODEL_094a13f11463451086465ed7fbfc495e"
       ],
       "layout": "IPY_MODEL_8af6e491a2754e579e82c5fda2db678f"
      }
     },
     "ec96a15b45f749fe933af4e7d0e1f355": {
      "model_module": "@jupyter-widgets/base",
      "model_module_version": "1.2.0",
      "model_name": "LayoutModel",
      "state": {}
     },
     "ed7a41b48769474db68cd1239afeb07a": {
      "model_module": "@jupyter-widgets/base",
      "model_module_version": "1.2.0",
      "model_name": "LayoutModel",
      "state": {}
     },
     "ed9b6911bcac4dcdb2f1d116943e0fdf": {
      "model_module": "@jupyter-widgets/controls",
      "model_module_version": "1.5.0",
      "model_name": "SliderStyleModel",
      "state": {
       "description_width": ""
      }
     },
     "eefe08683bc04747a72ea66f93193670": {
      "model_module": "@jupyter-widgets/base",
      "model_module_version": "1.2.0",
      "model_name": "LayoutModel",
      "state": {}
     },
     "ef1a2578b54144babf531fc72ad6a166": {
      "model_module": "@jupyter-widgets/controls",
      "model_module_version": "1.5.0",
      "model_name": "HBoxModel",
      "state": {
       "children": [
        "IPY_MODEL_436a362fbb464596a8d91078822fb1a5",
        "IPY_MODEL_f8cda4ccf0f3446eb8ce345b59765d3e"
       ],
       "layout": "IPY_MODEL_628de36bc0b14ab7990cb96011fd973a"
      }
     },
     "ef3dfdc05aec457f9e22c41166b2ccc3": {
      "model_module": "@jupyter-widgets/controls",
      "model_module_version": "1.5.0",
      "model_name": "SliderStyleModel",
      "state": {
       "description_width": ""
      }
     },
     "f044713abe70436d9c13f4c90e9804bd": {
      "model_module": "@jupyter-widgets/base",
      "model_module_version": "1.2.0",
      "model_name": "LayoutModel",
      "state": {}
     },
     "f2d4fd9c62d349f4afd7da2d5a1e3434": {
      "model_module": "@jupyter-widgets/controls",
      "model_module_version": "1.5.0",
      "model_name": "SliderStyleModel",
      "state": {
       "description_width": ""
      }
     },
     "f53aac42bdd0440a8714c29048e11cf6": {
      "model_module": "@jupyter-widgets/base",
      "model_module_version": "1.2.0",
      "model_name": "LayoutModel",
      "state": {}
     },
     "f60696d9cd4f423d823e3535c466d149": {
      "model_module": "@jupyter-widgets/controls",
      "model_module_version": "1.5.0",
      "model_name": "HBoxModel",
      "state": {
       "children": [
        "IPY_MODEL_bfd89226afba491ba7f03199a967768c",
        "IPY_MODEL_5c7ba2894c6e40e0a2116f85be2b5bb7"
       ],
       "layout": "IPY_MODEL_29d240c4303f4acc9243a3f14d0d49cf"
      }
     },
     "f64f0bb8891841ddb4749ad59d0d7f1e": {
      "model_module": "@jupyter-widgets/base",
      "model_module_version": "1.2.0",
      "model_name": "LayoutModel",
      "state": {}
     },
     "f6a98e0790c44398ac21f4081dcf8f11": {
      "model_module": "@jupyter-widgets/controls",
      "model_module_version": "1.5.0",
      "model_name": "DescriptionStyleModel",
      "state": {
       "description_width": ""
      }
     },
     "f6bd546c47b34ebf97295881ee6b351e": {
      "model_module": "@jupyter-widgets/base",
      "model_module_version": "1.2.0",
      "model_name": "LayoutModel",
      "state": {}
     },
     "f8cda4ccf0f3446eb8ce345b59765d3e": {
      "model_module": "@jupyter-widgets/controls",
      "model_module_version": "1.5.0",
      "model_name": "IntSliderModel",
      "state": {
       "layout": "IPY_MODEL_1dff181d228047edae4f58e30d5cfd91",
       "style": "IPY_MODEL_704305711b53494ab9c16ee88a45b2a8",
       "value": 100
      }
     },
     "f94774fda3f04397ad8acbf3c7ade4f8": {
      "model_module": "@jupyter-widgets/base",
      "model_module_version": "1.2.0",
      "model_name": "LayoutModel",
      "state": {}
     },
     "fa06edbde4f148b09156b2993043cb8e": {
      "model_module": "@jupyter-widgets/base",
      "model_module_version": "1.2.0",
      "model_name": "LayoutModel",
      "state": {}
     },
     "fadcd63c39aa413bb2b3366566c7d54b": {
      "model_module": "@jupyter-widgets/base",
      "model_module_version": "1.2.0",
      "model_name": "LayoutModel",
      "state": {}
     },
     "fafa4c693ad440e68fb246a37bdf2ac0": {
      "model_module": "@jupyter-widgets/controls",
      "model_module_version": "1.5.0",
      "model_name": "DescriptionStyleModel",
      "state": {
       "description_width": ""
      }
     },
     "fbc592c49034480d8ee9c6b58e53d2f2": {
      "model_module": "@jupyter-widgets/base",
      "model_module_version": "1.2.0",
      "model_name": "LayoutModel",
      "state": {}
     },
     "fc12b634ae9a412ab384d4b6a18e883c": {
      "model_module": "@jupyter-widgets/base",
      "model_module_version": "1.2.0",
      "model_name": "LayoutModel",
      "state": {}
     },
     "fd260778e174425c9a9528dee3d7e8ec": {
      "model_module": "@jupyter-widgets/base",
      "model_module_version": "1.2.0",
      "model_name": "LayoutModel",
      "state": {}
     },
     "fd8c8505adb541208ea5af580a347f34": {
      "model_module": "@jupyter-widgets/base",
      "model_module_version": "1.2.0",
      "model_name": "LayoutModel",
      "state": {}
     },
     "fe1a3441c51e449d9035306de62b13d5": {
      "model_module": "@jupyter-widgets/controls",
      "model_module_version": "1.5.0",
      "model_name": "LinkModel",
      "state": {
       "source": [
        "IPY_MODEL_a588bde6c137430da82454f6f9ec4c26",
        "value"
       ],
       "target": [
        "IPY_MODEL_5e8f20a71014461499d638a7135fc7e1",
        "value"
       ]
      }
     },
     "fe35a2c3ea6642408f247e14e0e4969c": {
      "model_module": "jupyter-matplotlib",
      "model_module_version": "^0.7.4",
      "model_name": "ToolbarModel",
      "state": {
       "layout": "IPY_MODEL_0a038f5aeece4a95a4e688e5134a420a",
       "toolitems": [
        [
         "Home",
         "Reset original view",
         "home",
         "home"
        ],
        [
         "Back",
         "Back to previous view",
         "arrow-left",
         "back"
        ],
        [
         "Forward",
         "Forward to next view",
         "arrow-right",
         "forward"
        ],
        [
         "Pan",
         "Left button pans, Right button zooms\nx/y fixes axis, CTRL fixes aspect",
         "arrows",
         "pan"
        ],
        [
         "Zoom",
         "Zoom to rectangle\nx/y fixes axis, CTRL fixes aspect",
         "square-o",
         "zoom"
        ],
        [
         "Download",
         "Download plot",
         "floppy-o",
         "save_figure"
        ]
       ]
      }
     },
     "fe86783e81b94281bb8929f27ec874c9": {
      "model_module": "@jupyter-widgets/base",
      "model_module_version": "1.2.0",
      "model_name": "LayoutModel",
      "state": {}
     },
     "ff27a1b7a6f242d98c57f2767127a1f5": {
      "model_module": "@jupyter-widgets/base",
      "model_module_version": "1.2.0",
      "model_name": "LayoutModel",
      "state": {}
     }
    },
    "version_major": 2,
    "version_minor": 0
   }
  }
 },
 "nbformat": 4,
 "nbformat_minor": 4
}
