{
 "cells": [
  {
   "cell_type": "markdown",
   "metadata": {
    "slideshow": {
     "slide_type": "-"
    }
   },
   "source": [
    "# Compressed Sesing Reconcstruction\n",
    "## Introduction\n",
    "This notebook shows basic examples for compressed sensing reconstruction problems with different algorithms.\n",
    "\n",
    "## Basic reconstruction idea with norm relaxation\n",
    "\n",
    "Assum the basic $l_0$ minimzation problem from CS:\n",
    "\n",
    "$$\\min_{\\mathbf{x}\\in\\mathbb{R}}\\lVert \\mathbf{x} \\rVert_0\\quad\\mathrm{s.t.}\\quad \\lVert \\mathbf{y}-\\mathbf{A}\\mathbf{x}\\rVert < \\epsilon$$\n",
    "\n",
    "Then, we can relax the $l_0$ \"norm\" to another norm like the convex $l_1$ norm:\n",
    "\n",
    "$$\\min_{\\mathbf{x}\\in\\mathbb{R}}\\lVert \\mathbf{x} \\rVert_1\\quad\\mathrm{s.t.}\\quad \\lVert \\mathbf{y}-\\mathbf{A}\\mathbf{x}\\rVert < \\epsilon$$\n",
    "\n",
    "In the noiseless case, the constraint simplifies to $\\mathbf{A}\\mathbf{x}=\\mathbf{y}$. Thus, the solution is at the intersection of the hyperplanes defined by the equation system and the scales unit sphere in the chosen norm. The following code illustrates this with a 2D example. Feasible $\\mathbf{x}$ that solve $\\mathbf{A}\\mathbf{x}=\\mathbf{y}$ are on the blue line. This line then touches the scaled unit sphere (green) of different norms at different points (red). Note, that it only leads to a sparse solution for the $l_1$ norm."
   ]
  },
  {
   "cell_type": "code",
   "execution_count": 1,
   "metadata": {
    "hide_input": false,
    "scrolled": false,
    "slideshow": {
     "slide_type": "-"
    }
   },
   "outputs": [
    {
     "data": {
      "application/vnd.jupyter.widget-view+json": {
       "model_id": "f494ef3bfc8344f79d54adcb8c2c1caf",
       "version_major": 2,
       "version_minor": 0
      },
      "text/plain": [
       "Canvas(toolbar=Toolbar(toolitems=[('Home', 'Reset original view', 'home', 'home'), ('Back', 'Back to previous …"
      ]
     },
     "metadata": {},
     "output_type": "display_data"
    },
    {
     "data": {
      "application/vnd.jupyter.widget-view+json": {
       "model_id": "321d87cb435048dea350a7139b3be4fa",
       "version_major": 2,
       "version_minor": 0
      },
      "text/plain": [
       "HBox(children=(Play(value=0, description='Press play', interval=50), IntSlider(value=0)))"
      ]
     },
     "metadata": {},
     "output_type": "display_data"
    }
   ],
   "source": [
    "%matplotlib widget\n",
    "import ipywidgets as widgets\n",
    "from ipywidgets import interact\n",
    "import matplotlib.pyplot as plt\n",
    "from matplotlib.patches import Circle, Rectangle\n",
    "from numpy import linspace\n",
    "from math import sqrt\n",
    "\n",
    "def scale_plot_size(factor=1.5):\n",
    "    import matplotlib as mpl\n",
    "    default_dpi = mpl.rcParamsDefault['figure.dpi']\n",
    "    mpl.rcParams['figure.dpi'] = default_dpi*factor\n",
    "\n",
    "scale_plot_size(0.8)\n",
    "    \n",
    "fig,axs = plt.subplots(1, 4, sharey=True)\n",
    "fig.suptitle(\"Illustration of norm effects on the solution\")\n",
    "fig.set_figwidth(12)\n",
    "fig.set_figheight(3)\n",
    "#fig.set_tight_layout(True)\n",
    "fig.canvas.toolbar_visible = False\n",
    "fig.canvas.header_visible = False\n",
    "fig.canvas.footer_visible = False\n",
    "fig.canvas.resizable = False\n",
    "\n",
    "anno_list=[]\n",
    "lines_list=[]\n",
    "sp_space=[]\n",
    "\n",
    "title_list=('$l_0$ norm', '$l_1$ norm', '$l_2$ norm', '$l_\\infty$ norm')\n",
    "pnt_list=((0,0.5),(0,0.5),(1/5,2/5),(1/3,1/3))\n",
    "annos=('(0,0.5)','(0,0.5)','(1/5,2/5)','(1/3,1/3)')\n",
    "\n",
    "x1 = linspace(-1,1,10)\n",
    "\n",
    "sp_space.append(linspace(0.05,0.5,100))\n",
    "sp_space.append(linspace(0.05,0.5,100))\n",
    "sp_space.append(linspace(0.05,1/sqrt(5),100))\n",
    "sp_space.append(linspace(0.05,1/3,100))\n",
    "\n",
    "axs[0].set_ylabel('$x_2$')\n",
    "zero_norm = axs[0].plot([0,0],[0, 0],'g-',[0, 0],[0,0],'g-')\n",
    "\n",
    "for i in range(4):    \n",
    "    axs[i].plot(x1,(1-x1)/2)\n",
    "    axs[i].set_xlim((-1,1))\n",
    "    axs[i].set_ylim((-1,1))\n",
    "    axs[i].set_aspect('equal')\n",
    "    axs[i].set_xlabel('$x_1$')\n",
    "    axs[i].set_title(title_list[i])\n",
    "    axs[i].grid(True)\n",
    "    \n",
    "    tx,ty=zip(pnt_list[i])\n",
    "    lines_list.append(axs[i].plot(tx,ty,'rs'))\n",
    "    lines_list[i][0].set_marker(' ')\n",
    "\n",
    "    dp = tuple(map(sum, zip(pnt_list[i], (0.05,0.05))))\n",
    "    anno_list.append(axs[i].annotate(annos[i],dp))\n",
    "    anno_list[i].set_visible(False)      \n",
    "\n",
    "def update(change):\n",
    "    zero_norm[0].set_data([-sp_space[0][change.new], sp_space[0][change.new]],[0, 0])\n",
    "    zero_norm[1].set_data([0, 0],[-sp_space[0][change.new], sp_space[0][change.new]])\n",
    "    \n",
    "    blen=sqrt(sp_space[0][change.new]**2+sp_space[0][change.new]**2)\n",
    "    axs[1].patches = []\n",
    "    axs[1].add_patch(Rectangle((0,-sp_space[0][change.new]),blen,blen,45,color='g',alpha=0.1))\n",
    "    \n",
    "    axs[2].patches = []\n",
    "    axs[2].add_patch(Circle((0,0),sp_space[2][change.new],color='g',alpha=0.1))\n",
    "    \n",
    "    axs[3].patches = []\n",
    "    axs[3].add_patch(Rectangle((-sp_space[3][change.new],-sp_space[3][change.new]),2*sp_space[3][change.new],2*sp_space[3][change.new],0,color='g',alpha=0.1))   \n",
    "    \n",
    "    if change.new > 95:                      \n",
    "        for i in range(4):\n",
    "            lines_list[i][0].set_marker('s')\n",
    "            anno_list[i].set_visible(True)\n",
    "    else:\n",
    "        for i in range(4):\n",
    "            lines_list[i][0].set_marker(' ')\n",
    "            anno_list[i].set_visible(False)\n",
    "    \n",
    "play = widgets.Play(\n",
    "    interval=50,\n",
    "    value=0,\n",
    "    min=0,\n",
    "    max=100,\n",
    "    step=1,\n",
    "    description=\"Press play\",\n",
    "    disabled=False\n",
    ")\n",
    "play.observe(update, 'value')\n",
    "\n",
    "slider = widgets.IntSlider()\n",
    "widgets.jslink((play, 'value'), (slider, 'value'))\n",
    "widgets.HBox([play, slider])"
   ]
  },
  {
   "cell_type": "markdown",
   "metadata": {},
   "source": [
    "## Reconstruction Example\n",
    "We now look at asimple example to showcase reconstruction algorithms"
   ]
  },
  {
   "cell_type": "code",
   "execution_count": 2,
   "metadata": {},
   "outputs": [
    {
     "data": {
      "application/vnd.jupyter.widget-view+json": {
       "model_id": "61b1649ac495490db62540898d285eff",
       "version_major": 2,
       "version_minor": 0
      },
      "text/plain": [
       "Canvas(toolbar=Toolbar(toolitems=[('Home', 'Reset original view', 'home', 'home'), ('Back', 'Back to previous …"
      ]
     },
     "metadata": {},
     "output_type": "display_data"
    },
    {
     "data": {
      "text/plain": [
       "Text(0.5, 1, '$\\\\mathbf{y}$')"
      ]
     },
     "execution_count": 2,
     "metadata": {},
     "output_type": "execute_result"
    }
   ],
   "source": [
    "import ipywidgets as widgets\n",
    "from ipywidgets import interact\n",
    "import matplotlib.pyplot as plt\n",
    "\n",
    "import numpy.linalg as npl\n",
    "import numpy.random as npr\n",
    "import numpy as np\n",
    "\n",
    "import fastmat as fm\n",
    "import fastmat.algorithms as fma\n",
    "\n",
    "# sample number\n",
    "m = 25 \n",
    "\n",
    "# sample dimension\n",
    "n = 100\n",
    "\n",
    "# sparsity\n",
    "K = 5\n",
    "\n",
    "# noise level\n",
    "sigma = 1e-3\n",
    "\n",
    "# create the ground truth\n",
    "x = np.zeros(n)\n",
    "x[npr.choice(range(n), K, replace=0)] = 1 #npr.randn(K)\n",
    "#x = np.append(np.random.rand(K), np.zeros(n-K))\n",
    "\n",
    "# Random subsampling matrix\n",
    "A = npr.randn(m,n)/np.sqrt(m)\n",
    "\n",
    "## Generate response using Gaussian noise, and fit sparse linear models\n",
    "noise = np.sqrt(sigma) * npr.randn(m)\n",
    "y = np.dot(A,x) + noise\n",
    "\n",
    "fig, (ax1,ax2,ax3) = plt.subplots(1,3)\n",
    "fig.canvas.toolbar_visible = False\n",
    "fig.canvas.header_visible = False\n",
    "fig.canvas.footer_visible = False\n",
    "fig.canvas.resizable = False\n",
    "fig.set_figwidth(12)\n",
    "fig.tight_layout()\n",
    "ax1.stem(x,use_line_collection=True)\n",
    "ax1.set_title('$\\mathbf{x}$')\n",
    "ax2.stem(np.dot(A,x),use_line_collection=True)\n",
    "ax2.set_title('$\\mathbf{A}\\mathbf{x}$')\n",
    "ax3.stem(y,use_line_collection=True)\n",
    "ax3.set_title('$\\mathbf{y}$')"
   ]
  },
  {
   "cell_type": "markdown",
   "metadata": {},
   "source": [
    "## Convex Relaxation\n",
    "### BPDN / LASSO"
   ]
  },
  {
   "cell_type": "code",
   "execution_count": 3,
   "metadata": {
    "scrolled": false
   },
   "outputs": [
    {
     "data": {
      "application/vnd.jupyter.widget-view+json": {
       "model_id": "8e1f0a354acb4078b84205efa2c4d897",
       "version_major": 2,
       "version_minor": 0
      },
      "text/plain": [
       "Canvas(toolbar=Toolbar(toolitems=[('Home', 'Reset original view', 'home', 'home'), ('Back', 'Back to previous …"
      ]
     },
     "metadata": {},
     "output_type": "display_data"
    },
    {
     "data": {
      "application/vnd.jupyter.widget-view+json": {
       "model_id": "fcd60d3c3e3645d7acbfd2387c0c88dc",
       "version_major": 2,
       "version_minor": 0
      },
      "text/plain": [
       "interactive(children=(IntSlider(value=0, description='$\\\\lambda$-index', max=71), Output()), _dom_classes=('wi…"
      ]
     },
     "metadata": {},
     "output_type": "display_data"
    },
    {
     "data": {
      "text/plain": [
       "<function __main__.draw_result(ind)>"
      ]
     },
     "execution_count": 3,
     "metadata": {},
     "output_type": "execute_result"
    }
   ],
   "source": [
    "%matplotlib widget\n",
    "from pyprimal import CompressedSensing\n",
    "\n",
    "solver = CompressedSensing(A, y)\n",
    "solver.train()\n",
    "result = solver.coef()\n",
    "\n",
    "fig, (ax1,ax2) = plt.subplots(1,2)\n",
    "fig.canvas.toolbar_visible = False\n",
    "fig.canvas.header_visible = False\n",
    "fig.canvas.footer_visible = True\n",
    "fig.canvas.resizable = False\n",
    "fig.suptitle('Reconstruction with variable $\\lambda$')\n",
    "fig.set_figwidth(12)\n",
    "ax1.stem(x,use_line_collection=True)\n",
    "for a in x.nonzero()[0]:\n",
    "    ax1.annotate(str(a),(a-1.5,1.012))\n",
    "ax2.set_title(\"$\\lambda=\" + str(result['lambda_list'][0]) + \"$\")\n",
    "\n",
    "def draw_result(ind):    \n",
    "    ax2.clear()\n",
    "    ax2.set_title(\"$\\lambda=\" + str(result['lambda_list'][ind]) + \"$\")    \n",
    "    ax2.stem(result['theta_list'][ind],use_line_collection=True)\n",
    "    \n",
    "interact(draw_result, ind = widgets.IntSlider(description='$\\lambda$-index',\n",
    "                                              value=0,\n",
    "                                              min=0,\n",
    "                                              max=len(result['theta_list'])-1,\n",
    "                                              step=1))"
   ]
  },
  {
   "cell_type": "markdown",
   "metadata": {},
   "source": [
    "### Dantzig selector"
   ]
  },
  {
   "cell_type": "code",
   "execution_count": 4,
   "metadata": {},
   "outputs": [
    {
     "data": {
      "application/vnd.jupyter.widget-view+json": {
       "model_id": "03231cea36f844ba873d2e16dd6b6e44",
       "version_major": 2,
       "version_minor": 0
      },
      "text/plain": [
       "Canvas(toolbar=Toolbar(toolitems=[('Home', 'Reset original view', 'home', 'home'), ('Back', 'Back to previous …"
      ]
     },
     "metadata": {},
     "output_type": "display_data"
    },
    {
     "data": {
      "application/vnd.jupyter.widget-view+json": {
       "model_id": "e28d29b6c52f4d74a487e8692a3aaf37",
       "version_major": 2,
       "version_minor": 0
      },
      "text/plain": [
       "interactive(children=(IntSlider(value=0, description='$\\\\lambda$-index', max=83), Output()), _dom_classes=('wi…"
      ]
     },
     "metadata": {},
     "output_type": "display_data"
    },
    {
     "data": {
      "text/plain": [
       "<function __main__.draw_result(ind)>"
      ]
     },
     "execution_count": 4,
     "metadata": {},
     "output_type": "execute_result"
    }
   ],
   "source": [
    "%matplotlib widget\n",
    "from pyprimal import Dantzig\n",
    "\n",
    "solver = Dantzig(A, y)\n",
    "solver.train()\n",
    "result = solver.coef()\n",
    "\n",
    "fig, (ax1,ax2) = plt.subplots(1,2)\n",
    "fig.canvas.toolbar_visible = False\n",
    "fig.canvas.header_visible = False\n",
    "fig.canvas.footer_visible = True\n",
    "fig.canvas.resizable = False\n",
    "fig.suptitle('Reconstruction with variable $\\lambda$')\n",
    "fig.set_figwidth(12)\n",
    "ax1.stem(x,use_line_collection=True)\n",
    "for a in x.nonzero()[0]:\n",
    "    ax1.annotate(str(a),(a-1.5,1.012))\n",
    "ax2.set_title(\"$\\lambda=\" + str(result['lambda_list'][0]) + \"$\")\n",
    "\n",
    "def draw_result(ind):    \n",
    "    ax2.clear()\n",
    "    ax2.set_title(\"$\\lambda=\" + str(result['lambda_list'][ind]) + \"$\")    \n",
    "    ax2.stem(result['theta_list'][ind],use_line_collection=True)\n",
    "    \n",
    "interact(draw_result, ind = widgets.IntSlider(description='$\\lambda$-index',\n",
    "                                              value=0,\n",
    "                                              min=0,\n",
    "                                              max=len(result['theta_list'])-1,\n",
    "                                              step=1))\n"
   ]
  },
  {
   "cell_type": "markdown",
   "metadata": {},
   "source": [
    "### Elastic Net"
   ]
  },
  {
   "cell_type": "code",
   "execution_count": null,
   "metadata": {},
   "outputs": [],
   "source": []
  },
  {
   "cell_type": "markdown",
   "metadata": {},
   "source": [
    "## Iterative Thresholding\n",
    "### Hard Thresholding"
   ]
  },
  {
   "cell_type": "code",
   "execution_count": null,
   "metadata": {},
   "outputs": [],
   "source": []
  },
  {
   "cell_type": "markdown",
   "metadata": {},
   "source": [
    "### Soft Thresholding"
   ]
  },
  {
   "cell_type": "code",
   "execution_count": 5,
   "metadata": {},
   "outputs": [
    {
     "data": {
      "application/vnd.jupyter.widget-view+json": {
       "model_id": "0b3ca5642f394490bbc8ff0c208ea915",
       "version_major": 2,
       "version_minor": 0
      },
      "text/plain": [
       "Canvas(toolbar=Toolbar(toolitems=[('Home', 'Reset original view', 'home', 'home'), ('Back', 'Back to previous …"
      ]
     },
     "metadata": {},
     "output_type": "display_data"
    },
    {
     "data": {
      "application/vnd.jupyter.widget-view+json": {
       "model_id": "31d6c73b0fb34d9ebd85037c8d66600a",
       "version_major": 2,
       "version_minor": 0
      },
      "text/plain": [
       "interactive(children=(FloatSlider(value=0.01, description='$\\\\alpha$', max=2.0, step=0.001), Output()), _dom_c…"
      ]
     },
     "metadata": {},
     "output_type": "display_data"
    },
    {
     "data": {
      "text/plain": [
       "<function __main__.draw_result(ind)>"
      ]
     },
     "execution_count": 5,
     "metadata": {},
     "output_type": "execute_result"
    }
   ],
   "source": [
    "%matplotlib widget\n",
    "A_fm=fm.Matrix(A)\n",
    "ista = fma.ISTA(A_fm, numLambda = 0.01, numMaxSteps = 1000)\n",
    "x_tilde = ista.process(y)\n",
    "\n",
    "fig, (ax1,ax2) = plt.subplots(1,2)\n",
    "fig.canvas.toolbar_visible = False\n",
    "fig.canvas.header_visible = False\n",
    "fig.canvas.footer_visible = True\n",
    "fig.canvas.resizable = False\n",
    "fig.suptitle('Reconstruction over different $\\\\alpha$')\n",
    "fig.set_figwidth(12)\n",
    "ax1.stem(x,use_line_collection=True)\n",
    "for a in x.nonzero()[0]:\n",
    "    ax1.annotate(str(a),(a-1.5,1.012))\n",
    "ax2.set_title('$\\\\alpha$')\n",
    "\n",
    "def draw_result(ind):    \n",
    "    ax2.clear()\n",
    "    ax2.set_title('$\\\\alpha=' + str(ind) + '$')\n",
    "    ista = fma.ISTA(A_fm, numLambda = ind, numMaxSteps = 1000)\n",
    "    x_tilde = ista.process(y)\n",
    "    ax2.stem(x_tilde,use_line_collection=True)\n",
    "    \n",
    "interact(draw_result, ind = widgets.FloatSlider(description='$\\\\alpha$',\n",
    "                                              value=0.01,\n",
    "                                              min=0,\n",
    "                                              max=2,\n",
    "                                              step=.001))\n",
    "\n"
   ]
  },
  {
   "cell_type": "markdown",
   "metadata": {},
   "source": [
    "## Greedy Algorithms\n",
    "### OMP"
   ]
  },
  {
   "cell_type": "code",
   "execution_count": 6,
   "metadata": {
    "scrolled": false
   },
   "outputs": [
    {
     "data": {
      "application/vnd.jupyter.widget-view+json": {
       "model_id": "ec90ff4da1c24af7aa2d87ed2b23eb93",
       "version_major": 2,
       "version_minor": 0
      },
      "text/plain": [
       "Canvas(toolbar=Toolbar(toolitems=[('Home', 'Reset original view', 'home', 'home'), ('Back', 'Back to previous …"
      ]
     },
     "metadata": {},
     "output_type": "display_data"
    },
    {
     "data": {
      "application/vnd.jupyter.widget-view+json": {
       "model_id": "3ad834d347124a19a48b0d5267eb5780",
       "version_major": 2,
       "version_minor": 0
      },
      "text/plain": [
       "interactive(children=(IntSlider(value=1, description='$K$', min=1), Output()), _dom_classes=('widget-interact'…"
      ]
     },
     "metadata": {},
     "output_type": "display_data"
    },
    {
     "data": {
      "text/plain": [
       "<function __main__.draw_result(ind)>"
      ]
     },
     "execution_count": 6,
     "metadata": {},
     "output_type": "execute_result"
    }
   ],
   "source": [
    "# reconstruct it\n",
    "A_fm=fm.Matrix(A)\n",
    "omp = fma.OMP(A_fm, numMaxSteps=1)\n",
    "x_tilde = omp.process(y)\n",
    "\n",
    "fig, (ax1,ax2) = plt.subplots(1,2)\n",
    "fig.canvas.toolbar_visible = False\n",
    "fig.canvas.header_visible = False\n",
    "fig.canvas.footer_visible = True\n",
    "fig.canvas.resizable = False\n",
    "fig.suptitle('Reconstruction over different $\\\\alpha$')\n",
    "fig.set_figwidth(12)\n",
    "ax1.stem(x,use_line_collection=True)\n",
    "for a in x.nonzero()[0]:\n",
    "    ax1.annotate(str(a),(a-1.5,1.012))\n",
    "ax2.set_title('$K='+str(K)+'$')\n",
    "\n",
    "def draw_result(ind):    \n",
    "    ax2.clear()\n",
    "    ax2.set_title('$K=' + str(ind) + '$')\n",
    "    omp = fma.OMP(A_fm, numMaxSteps=ind)\n",
    "    x_tilde = omp.process(y)\n",
    "    ax2.stem(x_tilde,use_line_collection=True)\n",
    "        \n",
    "interact(draw_result, ind = widgets.IntSlider(description='$K$',\n",
    "                                              value=1,\n",
    "                                              min=1,\n",
    "                                              max=n,\n",
    "                                              step=1))\n"
   ]
  },
  {
   "cell_type": "code",
   "execution_count": null,
   "metadata": {},
   "outputs": [],
   "source": []
  }
 ],
 "metadata": {
  "kernelspec": {
   "display_name": "Python 3",
   "language": "python",
   "name": "python3"
  },
  "language_info": {
   "codemirror_mode": {
    "name": "ipython",
    "version": 3
   },
   "file_extension": ".py",
   "mimetype": "text/x-python",
   "name": "python",
   "nbconvert_exporter": "python",
   "pygments_lexer": "ipython3",
   "version": "3.8.5"
  }
 },
 "nbformat": 4,
 "nbformat_minor": 4
}
